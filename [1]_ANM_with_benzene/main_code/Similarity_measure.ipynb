{
 "cells": [
  {
   "cell_type": "code",
   "execution_count": 1,
   "metadata": {},
   "outputs": [],
   "source": [
    "from sklearn.linear_model import Ridge\n",
    "from sklearn.kernel_ridge import KernelRidge\n",
    "from sklearn.model_selection import cross_val_score, KFold, GridSearchCV, train_test_split\n",
    "from sklearn.metrics import mean_squared_error, mean_absolute_error\n",
    "import warnings\n",
    "import numpy as np\n",
    "import pandas as pd\n",
    "from IPython.display import display\n",
    "import copy\n",
    "\n",
    "import sys\n",
    "sys.path.append('../Data')"
   ]
  },
  {
   "attachments": {},
   "cell_type": "markdown",
   "metadata": {},
   "source": [
    "## Load Dataset ##"
   ]
  },
  {
   "cell_type": "code",
   "execution_count": 3,
   "metadata": {},
   "outputs": [],
   "source": [
    "# Load Data\n",
    "\n",
    "# Load Data\n",
    "\n",
    "X = pd.read_csv('../Data/Benzene Training Data/[Benz] ANM_X.csv')\n",
    "X_lexi = pd.read_csv('../Data/Benzene Training Data/[Benz] ANM_X_lexi.csv')\n",
    "X_lexi_nd = pd.read_csv('../Data/Benzene Training Data/[Benz] ANM_X_lexi_nd.csv')\n",
    "X_sorted = pd.read_csv('../Data/Benzene Training Data/[Benz] ANM_X_sorted.csv')\n",
    "X_coulomb = pd.read_csv('../Data/Benzene Training Data/[Benz] ANM_X_coulomb.csv')\n",
    "\n",
    "inv_dist_X = pd.read_csv('../Data/Benzene Training Data/[Benz] inv_dist_X.csv')\n",
    "inv_dist_X_lexi = pd.read_csv('../Data/Benzene Training Data/[Benz] inv_dist_X_lexi.csv')\n",
    "inv_dist_X_lexi_nd = pd.read_csv('../Data/Benzene Training Data/[Benz] inv_dist_X_lexi_nd.csv')\n",
    "inv_dist_X_sorted = pd.read_csv('../Data/Benzene Training Data/[Benz] inv_dist_X_sorted.csv')\n",
    "inv_dist_X_coulomb = pd.read_csv('../Data/Benzene Training Data/[Benz] inv_dist_X_coulomb.csv')\n",
    "\n",
    "rand_X = pd.read_csv('../Data/Benzene Training Data/[Benz] rand_X.csv')\n",
    "rand_X_lexi = pd.read_csv('../Data/Benzene Training Data/[Benz] rand_X_lexi.csv')\n",
    "rand_X_lexi_nd = pd.read_csv('../Data/Benzene Training Data/[Benz] rand_X_lexi_nd.csv')\n",
    "rand_X_sorted = pd.read_csv('../Data/Benzene Training Data/[Benz] rand_X_sorted.csv')\n",
    "rand_X_coulomb = pd.read_csv('../Data/Benzene Training Data/[Benz] rand_X_coulomb.csv')\n",
    "\n",
    "y_energy = pd.read_csv(\"../Data/Benzene Training Data/[Benz] y_energy.csv\")\n",
    "y_elec = pd.read_csv(\"../Data/Benzene Training Data/[Benz] y_elec.csv\")\n",
    "y_delta_elec = pd.read_csv(\"../Data/Benzene Training Data/[Benz] y_delta_elec.csv\")\n",
    "y_delta_energy = pd.read_csv(\"../Data/Benzene Training Data/[Benz] y_delta_energy.csv\")"
   ]
  },
  {
   "attachments": {},
   "cell_type": "markdown",
   "metadata": {},
   "source": [
    "## Define Kernel ##"
   ]
  },
  {
   "cell_type": "code",
   "execution_count": 4,
   "metadata": {},
   "outputs": [],
   "source": [
    "def extended_gaussian_kernel(x, y, params):\n",
    "    \"\"\"\n",
    "    Calculates the similarity between two vectors using an extended gaussian kernel.\n",
    "    The kernel takes into account distance between vectors, norm difference, and angular difference\n",
    "\n",
    "    Args:\n",
    "        x (numpy.ndarray): Input vector x.\n",
    "        y (numpy.ndarray): Input vector y.\n",
    "        params (dict): Dictionary of hyperparameters:\n",
    "        - gamma (float): Hyperparameter for the distance term.\n",
    "        - epsilon (float): Hyperparameter for the norm difference term.\n",
    "        - beta (float): Hyperparameter for the angular difference term.\n",
    "\n",
    "    Returns:\n",
    "        float: Similarity value between the input vectors.\n",
    "    \"\"\"\n",
    "    \n",
    "    gamma = params['gamma']\n",
    "    epsilon = params['epsilon']\n",
    "    beta = params['beta']\n",
    "\n",
    "    x_norm = np.linalg.norm(x)\n",
    "    y_norm = np.linalg.norm(y)\n",
    "    cos_theta = np.dot(x, y) / (x_norm * y_norm)\n",
    "    distance = np.linalg.norm(x - y)\n",
    "    \n",
    "    phi = np.exp(-gamma * (distance**2)/2 - epsilon * (x_norm - y_norm)**2 - beta * (1 - cos_theta**2))\n",
    "    return phi\n"
   ]
  },
  {
   "attachments": {},
   "cell_type": "markdown",
   "metadata": {},
   "source": [
    "## Build Model ##"
   ]
  },
  {
   "attachments": {},
   "cell_type": "markdown",
   "metadata": {},
   "source": [
    "### Extended Gaussian Kernel ###"
   ]
  },
  {
   "cell_type": "code",
   "execution_count": 5,
   "metadata": {},
   "outputs": [],
   "source": [
    "def create_similarity_matrix(X_ref, X_query, similarity_kernel, params):\n",
    "    \"\"\"\n",
    "    Create a similarity matrix using a specified similarity kernel.\n",
    "\n",
    "    Args:\n",
    "        X_ref (numpy.ndarray): Reference training examples.\n",
    "        X_quary (numpy.ndarray): Query input data to be compared with X_ref\n",
    "        similarity_kernel (function): Function to calculate similarity between two vectors.\n",
    "        params (dict): Dictionary of hyperparameters for the similarity kernel.\n",
    "\n",
    "    Returns:\n",
    "        numpy.ndarray: Similarity matrix\n",
    "    \"\"\"\n",
    "    \n",
    "    similarity_matrix = np.zeros((X_query.shape[0], X_ref.shape[0]))\n",
    "    for i in range(X_query.shape[0]):\n",
    "        for j in range(X_ref.shape[0]):\n",
    "            similarity_matrix[i, j] = similarity_kernel(X_query[i], X_ref[j], params)\n",
    "\n",
    "    return similarity_matrix"
   ]
  },
  {
   "cell_type": "code",
   "execution_count": 10,
   "metadata": {},
   "outputs": [
    {
     "name": "stdout",
     "output_type": "stream",
     "text": [
      "Fold 1: RMSE = 0.09636527369718939\n",
      "Fold 2: RMSE = 0.05760249223454532\n",
      "Fold 3: RMSE = 0.03285866912213284\n",
      "Average RMSE across all folds: 0.06227547835128919\n"
     ]
    }
   ],
   "source": [
    "# Convert data to numpy arrays\n",
    "X_train = rand_X.to_numpy()\n",
    "y_train = y_delta_energy.to_numpy()\n",
    "\n",
    "# Define the hyperparameters for the specialized kernel\n",
    "params = {'gamma': 4e-10, 'epsilon': 0.0004, 'beta': 2.333333333333333e-07, 'alpha': 1e-15}\n",
    "alpha = params['alpha']\n",
    "\n",
    "similarity_matrix = create_similarity_matrix(X_train, X_train, extended_gaussian_kernel, params)\n",
    "\n",
    "# Create an instance of KernelRidge with your specialized kernel\n",
    "krr_model = KernelRidge(kernel='precomputed', alpha=alpha)\n",
    "\n",
    "# Create a KFold object for 5-fold cross-validation\n",
    "kf = KFold(n_splits=3, shuffle=True, random_state=42)\n",
    "\n",
    "# Perform cross-validation and get the mean R^2 score\n",
    "mse_scores = cross_val_score(krr_model, similarity_matrix, y_train, scoring='neg_mean_squared_error', cv=kf)\n",
    "rmse_scores = np.sqrt(-mse_scores)\n",
    "\n",
    "# Calculate the average error across all folds\n",
    "avg_rmse = rmse_scores.mean()\n",
    "\n",
    "# Print the mean squared error for each fold\n",
    "for fold, rmse in enumerate(rmse_scores):\n",
    "    print(f\"Fold {fold+1}: RMSE = {rmse}\")\n",
    "\n",
    "# Print the average mean squared error\n",
    "print(f\"Average RMSE across all folds: {avg_rmse}\")"
   ]
  },
  {
   "cell_type": "code",
   "execution_count": 45,
   "metadata": {},
   "outputs": [
    {
     "name": "stdout",
     "output_type": "stream",
     "text": [
      "(13, 13)\n",
      "(13, 13)\n",
      "(4, 13)\n"
     ]
    }
   ],
   "source": [
    "X_train, X_val, y_train, y_val = train_test_split(X, y_delta_energy, test_size=0.2, shuffle=True, random_state=42)\n",
    "X_train = X_train.to_numpy()\n",
    "y_train = y_train.to_numpy()\n",
    "X_val = X_val.to_numpy()\n",
    "y_val = y_val.to_numpy()\n",
    "\n",
    "params = {'gamma': 4e-10, 'epsilon': 0.0004, 'beta': 2.333333333333333e-07, 'alpha': 1e-15}\n",
    "alpha = params['alpha']\n",
    "krr_model = KernelRidge(kernel='precomputed', alpha=alpha)\n",
    "\n",
    "similarity_matrix = create_similarity_matrix(X_train, X_train, extended_gaussian_kernel, params)\n",
    "\n",
    "print(similarity_matrix.shape)\n",
    "print(similarity_matrix.shape)\n",
    "krr_model.fit(similarity_matrix, y_train)\n",
    "\n",
    "prediction_matrix = create_similarity_matrix(X_train, X_val, extended_gaussian_kernel, params)\n",
    "print(prediction_matrix.shape)\n",
    "y_pred = krr_model.predict(prediction_matrix)"
   ]
  },
  {
   "attachments": {},
   "cell_type": "markdown",
   "metadata": {},
   "source": [
    "### Normal Gaussian Kernel ###"
   ]
  },
  {
   "cell_type": "code",
   "execution_count": 47,
   "metadata": {},
   "outputs": [
    {
     "name": "stdout",
     "output_type": "stream",
     "text": [
      "Polynomial KRR:\n",
      "Fold 1: RMSE = 1.1309596512752718\n",
      "Fold 2: RMSE = 0.27686803695643736\n",
      "Fold 3: RMSE = 2.3547244961042795\n",
      "Fold 4: RMSE = 1.7673938591789542\n",
      "Fold 5: RMSE = 1.4629843706649392\n",
      "Average MSE across all folds: 1.3985860828359764\n"
     ]
    }
   ],
   "source": [
    "X_train = X.to_numpy()\n",
    "y_train = y_delta_energy.to_numpy()\n",
    "\n",
    "params = {'alpha': 1.5306122448979593e-09, 'gamma': 2.2857142857142856e-06, 'kernel': 'rbf'}\n",
    "KRR_model = KernelRidge(**params)\n",
    "\n",
    "k_fold = KFold(n_splits=5, shuffle=True, random_state=42)\n",
    "mse_scores = cross_val_score(KRR_model, X_train, y_train, scoring='neg_mean_squared_error', cv=k_fold)\n",
    "rmse_scores = np.sqrt(-mse_scores)\n",
    "\n",
    "# Calculate the average error across all folds\n",
    "avg_rmse = rmse_scores.mean()\n",
    "\n",
    "# Print the mean squared error for each fold\n",
    "print(\"Polynomial KRR:\")\n",
    "for fold, rmse in enumerate(rmse_scores):\n",
    "    print(f\"Fold {fold+1}: RMSE = {rmse}\")\n",
    "\n",
    "# Print the average mean squared error\n",
    "print(f\"Average MSE across all folds: {avg_rmse}\")"
   ]
  }
 ],
 "metadata": {
  "kernelspec": {
   "display_name": "Python 3",
   "language": "python",
   "name": "python3"
  },
  "language_info": {
   "codemirror_mode": {
    "name": "ipython",
    "version": 3
   },
   "file_extension": ".py",
   "mimetype": "text/x-python",
   "name": "python",
   "nbconvert_exporter": "python",
   "pygments_lexer": "ipython3",
   "version": "3.10.6"
  },
  "orig_nbformat": 4
 },
 "nbformat": 4,
 "nbformat_minor": 2
}
