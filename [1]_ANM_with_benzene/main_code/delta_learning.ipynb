{
 "cells": [
  {
   "cell_type": "code",
   "execution_count": 1,
   "metadata": {},
   "outputs": [],
   "source": [
    "import sys\n",
    "sys.path.append('../..')\n",
    "sys.path.append('../data')\n",
    "sys.path.append('../../helper_code')\n",
    "\n",
    "from sklearn.linear_model import Ridge\n",
    "from sklearn.kernel_ridge import KernelRidge\n",
    "from sklearn.model_selection import cross_val_score, KFold, GridSearchCV, train_test_split\n",
    "from sklearn.metrics import mean_squared_error\n",
    "import warnings\n",
    "import numpy as np\n",
    "import pandas as pd\n",
    "from IPython.display import display\n",
    "import copy\n",
    "\n",
    "from helper_code.custom_kernel import *"
   ]
  },
  {
   "cell_type": "code",
   "execution_count": 27,
   "metadata": {},
   "outputs": [],
   "source": [
    "# Load Data\n",
    "\n",
    "X = pd.read_csv('../data/benzene_training_data/[Benz] ANM_X.csv')\n",
    "X_inv = pd.read_csv('../data/benzene_training_data/[Benz] ANM_X_inv.csv')\n",
    "X_lexi = pd.read_csv('../data/benzene_training_data/[Benz] ANM_X_lexi.csv')\n",
    "X_lexi_nd = pd.read_csv('../data/benzene_training_data/[Benz] ANM_X_lexi_nd.csv')\n",
    "X_sorted = pd.read_csv('../data/benzene_training_data/[Benz] ANM_X_sorted.csv')\n",
    "X_coulomb = pd.read_csv('../data/benzene_training_data/[Benz] ANM_X_coulomb.csv')\n",
    "\n",
    "X_square_eig = pd.read_csv(\"../data/benzene_training_data/[Benz] ANM_X_square_eig.csv\")\n",
    "X_inv_square_eig = pd.read_csv(\"../data/benzene_training_data/[Benz] ANM_X_inv_square_eig.csv\")\n",
    "X_lexi_square_eig = pd.read_csv(\"../data/benzene_training_data/[Benz] ANM_X_lexi_square_eig.csv\")\n",
    "X_lexi_inv_square_eig = pd.read_csv(\"../data/benzene_training_data/[Benz] ANM_X_lexi_inv_square_eig.csv\")\n",
    "\n",
    "inv_dist_X = pd.read_csv('../data/benzene_training_data/[Benz] inv_dist_X.csv')\n",
    "inv_dist_X_lexi = pd.read_csv('../data/benzene_training_data/[Benz] inv_dist_X_lexi.csv')\n",
    "inv_dist_X_lexi_nd = pd.read_csv('../data/benzene_training_data/[Benz] inv_dist_X_lexi_nd.csv')\n",
    "inv_dist_X_sorted = pd.read_csv('../data/benzene_training_data/[Benz] inv_dist_X_sorted.csv')\n",
    "inv_dist_X_coulomb = pd.read_csv('../data/benzene_training_data/[Benz] inv_dist_X_coulomb.csv')\n",
    "\n",
    "rand_X = pd.read_csv('../data/benzene_training_data/[Benz] rand_X.csv')\n",
    "rand_X_lexi = pd.read_csv('../data/benzene_training_data/[Benz] rand_X_lexi.csv')\n",
    "rand_X_lexi_nd = pd.read_csv('../data/benzene_training_data/[Benz] rand_X_lexi_nd.csv')\n",
    "rand_X_sorted = pd.read_csv('../data/benzene_training_data/[Benz] rand_X_sorted.csv')\n",
    "rand_X_coulomb = pd.read_csv('../data/benzene_training_data/[Benz] rand_X_coulomb.csv')\n",
    "\n",
    "y_energy = pd.read_csv(\"../data/benzene_training_data/[Benz] y_energy.csv\")\n",
    "y_elec = pd.read_csv(\"../data/benzene_training_data/[Benz] y_elec.csv\")\n",
    "y_delta_elec = pd.read_csv(\"../data/benzene_training_data/[Benz] y_delta_elec.csv\")\n",
    "y_delta_energy = pd.read_csv(\"../data/benzene_training_data/[Benz] y_delta_energy.csv\")\n",
    "\n",
    "y_delta_delta = pd.read_csv(\"../data/benzene_training_data/[Benz] y_delta_delta_ANM.csv\")"
   ]
  },
  {
   "attachments": {},
   "cell_type": "markdown",
   "metadata": {},
   "source": [
    "## Build Model ##"
   ]
  },
  {
   "cell_type": "code",
   "execution_count": 37,
   "metadata": {},
   "outputs": [
    {
     "name": "stdout",
     "output_type": "stream",
     "text": [
      "Fold 1: RMSE = 0.013659913511825068\n",
      "Fold 2: RMSE = 0.019794693132416878\n",
      "Fold 3: RMSE = 0.02305659778442661\n",
      "Fold 4: RMSE = 0.032870120712496925\n",
      "Fold 5: RMSE = 0.0194987129365835\n",
      "Average RMSE across all folds: 0.0217760076155498\n"
     ]
    }
   ],
   "source": [
    "params = {'alpha': 2.612244897959184e-05, 'gamma': 2.9693877551020406e-07, 'kernel': 'rbf'}\n",
    "KRR_model = KernelRidge(**params)\n",
    "\n",
    "with warnings.catch_warnings():\n",
    "    warnings.filterwarnings(\"ignore\")\n",
    "    k_fold = KFold(n_splits=5, shuffle=True, random_state=10)\n",
    "    mse_scores = cross_val_score(KRR_model, X_lexi_inv_square_eig, y_delta_delta, scoring='neg_mean_squared_error', cv=k_fold)\n",
    "    rmse_scores = np.sqrt(-mse_scores)\n",
    "    avg_rmse = rmse_scores.mean()\n",
    "\n",
    "for fold, rmse in enumerate(rmse_scores):\n",
    "    print(f\"Fold {fold+1}: RMSE = {rmse}\")\n",
    "print(f\"Average RMSE across all folds: {avg_rmse}\")"
   ]
  },
  {
   "cell_type": "code",
   "execution_count": 38,
   "metadata": {},
   "outputs": [
    {
     "name": "stdout",
     "output_type": "stream",
     "text": [
      "Fold 1: RMSE = 0.011576159345341187\n",
      "Fold 2: RMSE = 0.027770892920602187\n",
      "Fold 3: RMSE = 0.02140169570467881\n",
      "Average RMSE across all folds: 0.02024958265687406\n"
     ]
    }
   ],
   "source": [
    "X_train = X_lexi_inv_square_eig.to_numpy()\n",
    "y_train = y_delta_delta.to_numpy()\n",
    "\n",
    "params = {'gamma': 2.3e-08, 'epsilon': 5e-13, 'beta': 9.25e-07, 'alpha': 3.85e-08}\n",
    "alpha = params['alpha']\n",
    "\n",
    "similarity_matrix = create_similarity_matrix(X_train, X_train, extended_gaussian_kernel, params)\n",
    "krr_model = KernelRidge(kernel='precomputed', alpha=alpha)\n",
    "kf = KFold(n_splits=3, shuffle=True, random_state=10)\n",
    "mse_scores = cross_val_score(krr_model, similarity_matrix, y_train, scoring='neg_mean_squared_error', cv=kf)\n",
    "rmse_scores = np.sqrt(-mse_scores)\n",
    "avg_rmse = rmse_scores.mean()\n",
    "\n",
    "for fold, rmse in enumerate(rmse_scores):\n",
    "    print(f\"Fold {fold+1}: RMSE = {rmse}\")\n",
    "print(f\"Average RMSE across all folds: {avg_rmse}\")"
   ]
  },
  {
   "attachments": {},
   "cell_type": "markdown",
   "metadata": {},
   "source": [
    "## Parameter Tuning ##"
   ]
  },
  {
   "cell_type": "code",
   "execution_count": 33,
   "metadata": {},
   "outputs": [
    {
     "name": "stdout",
     "output_type": "stream",
     "text": [
      "Best Hyperparameters: {'alpha': 2.3299518105153718e-05, 'gamma': 2.6826957952797275e-07, 'kernel': 'rbf'}\n",
      "Best Root Mean Squared Error: 0.023302100364139308\n"
     ]
    }
   ],
   "source": [
    "param_grid = {\n",
    "    'alpha': np.logspace(np.log10(1e-8), np.log10(1e-3), num=50),  # Regularization parameter controlling the L2 regularization term\n",
    "    'gamma': np.logspace(np.log10(1e-8), np.log10(1e-3), num=50),  # Parameter for the Gaussian kernel, controlling the width of the kernel\n",
    "    'kernel': ['rbf'],  # Specifies the kernel function to be used, in this case, the Gaussian (RBF) kernel\n",
    "}\n",
    "\n",
    "gaussian_KRR = KernelRidge()\n",
    "\n",
    "k_fold = KFold(n_splits=5, shuffle=True, random_state=42)\n",
    "\n",
    "with warnings.catch_warnings():\n",
    "    warnings.filterwarnings(\"ignore\")\n",
    "    grid_search = GridSearchCV(gaussian_KRR, param_grid, scoring='neg_mean_squared_error', cv=k_fold)\n",
    "    grid_search.fit(X_lexi_inv_square_eig, y_delta_delta)\n",
    "\n",
    "best_params = grid_search.best_params_\n",
    "best_score = np.sqrt(-grid_search.best_score_)\n",
    "\n",
    "# Print the best hyperparameters and score\n",
    "print(\"Best Hyperparameters:\", best_params)\n",
    "print(\"Best Root Mean Squared Error:\", best_score)"
   ]
  },
  {
   "cell_type": "code",
   "execution_count": 34,
   "metadata": {},
   "outputs": [
    {
     "name": "stdout",
     "output_type": "stream",
     "text": [
      "Best Hyperparameters: {'alpha': 2.6826957952797274e-05, 'gamma': 2.94705170255181e-07, 'kernel': 'rbf'}\n",
      "Best Root Mean Squared Error: 0.023299825360907887\n"
     ]
    }
   ],
   "source": [
    "param_grid = {\n",
    "    'alpha': np.logspace(np.log10(1e-6), np.log10(1e-4), num=50),  # Regularization parameter controlling the L2 regularization term\n",
    "    'gamma': np.logspace(np.log10(1e-8), np.log10(1e-6), num=50),  # Parameter for the Gaussian kernel, controlling the width of the kernel\n",
    "    'kernel': ['rbf'],  # Specifies the kernel function to be used, in this case, the Gaussian (RBF) kernel\n",
    "}\n",
    "\n",
    "gaussian_KRR = KernelRidge()\n",
    "\n",
    "k_fold = KFold(n_splits=5, shuffle=True, random_state=42)\n",
    "\n",
    "with warnings.catch_warnings():\n",
    "    warnings.filterwarnings(\"ignore\")\n",
    "    grid_search = GridSearchCV(gaussian_KRR, param_grid, scoring='neg_mean_squared_error', cv=k_fold)\n",
    "    grid_search.fit(X_lexi_inv_square_eig, y_delta_delta)\n",
    "\n",
    "best_params = grid_search.best_params_\n",
    "best_score = np.sqrt(-grid_search.best_score_)\n",
    "\n",
    "# Print the best hyperparameters and score\n",
    "print(\"Best Hyperparameters:\", best_params)\n",
    "print(\"Best Root Mean Squared Error:\", best_score)"
   ]
  },
  {
   "cell_type": "code",
   "execution_count": 35,
   "metadata": {},
   "outputs": [
    {
     "name": "stdout",
     "output_type": "stream",
     "text": [
      "Best Hyperparameters: {'alpha': 2.6326530612244903e-05, 'gamma': 2.959183673469388e-07, 'kernel': 'rbf'}\n",
      "Best Root Mean Squared Error: 0.023299202753581882\n"
     ]
    }
   ],
   "source": [
    "param_grid = {\n",
    "    'alpha': np.linspace(1e-5, 5e-5, num=50),  # Regularization parameter controlling the L2 regularization term\n",
    "    'gamma': np.linspace(1e-7, 5e-7, num=50),  # Parameter for the Gaussian kernel, controlling the width of the kernel\n",
    "    'kernel': ['rbf'],  # Specifies the kernel function to be used, in this case, the Gaussian (RBF) kernel\n",
    "}\n",
    "\n",
    "gaussian_KRR = KernelRidge()\n",
    "\n",
    "k_fold = KFold(n_splits=5, shuffle=True, random_state=42)\n",
    "\n",
    "with warnings.catch_warnings():\n",
    "    warnings.filterwarnings(\"ignore\")\n",
    "    grid_search = GridSearchCV(gaussian_KRR, param_grid, scoring='neg_mean_squared_error', cv=k_fold)\n",
    "    grid_search.fit(X_lexi_inv_square_eig, y_delta_delta)\n",
    "\n",
    "best_params = grid_search.best_params_\n",
    "best_score = np.sqrt(-grid_search.best_score_)\n",
    "\n",
    "# Print the best hyperparameters and score\n",
    "print(\"Best Hyperparameters:\", best_params)\n",
    "print(\"Best Root Mean Squared Error:\", best_score)"
   ]
  },
  {
   "cell_type": "code",
   "execution_count": 36,
   "metadata": {},
   "outputs": [
    {
     "name": "stdout",
     "output_type": "stream",
     "text": [
      "Best Hyperparameters: {'alpha': 2.612244897959184e-05, 'gamma': 2.9693877551020406e-07, 'kernel': 'rbf'}\n",
      "Best Root Mean Squared Error: 0.023299125797369036\n"
     ]
    }
   ],
   "source": [
    "param_grid = {\n",
    "    'alpha': np.linspace(2e-5, 3e-5, num=50),  # Regularization parameter controlling the L2 regularization term\n",
    "    'gamma': np.linspace(2.5e-7, 3.5e-7, num=50),  # Parameter for the Gaussian kernel, controlling the width of the kernel\n",
    "    'kernel': ['rbf'],  # Specifies the kernel function to be used, in this case, the Gaussian (RBF) kernel\n",
    "}\n",
    "\n",
    "gaussian_KRR = KernelRidge()\n",
    "\n",
    "k_fold = KFold(n_splits=5, shuffle=True, random_state=42)\n",
    "\n",
    "with warnings.catch_warnings():\n",
    "    warnings.filterwarnings(\"ignore\")\n",
    "    grid_search = GridSearchCV(gaussian_KRR, param_grid, scoring='neg_mean_squared_error', cv=k_fold)\n",
    "    grid_search.fit(X_lexi_inv_square_eig, y_delta_delta)\n",
    "\n",
    "best_params = grid_search.best_params_\n",
    "best_score = np.sqrt(-grid_search.best_score_)\n",
    "\n",
    "# Print the best hyperparameters and score\n",
    "print(\"Best Hyperparameters:\", best_params)\n",
    "print(\"Best Root Mean Squared Error:\", best_score)"
   ]
  }
 ],
 "metadata": {
  "kernelspec": {
   "display_name": "Python 3",
   "language": "python",
   "name": "python3"
  },
  "language_info": {
   "codemirror_mode": {
    "name": "ipython",
    "version": 3
   },
   "file_extension": ".py",
   "mimetype": "text/x-python",
   "name": "python",
   "nbconvert_exporter": "python",
   "pygments_lexer": "ipython3",
   "version": "3.10.6"
  },
  "orig_nbformat": 4
 },
 "nbformat": 4,
 "nbformat_minor": 2
}
