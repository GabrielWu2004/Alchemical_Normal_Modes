{
 "cells": [
  {
   "cell_type": "code",
   "execution_count": 3,
   "metadata": {},
   "outputs": [],
   "source": [
    "import sys\n",
    "sys.path.append('../..')\n",
    "sys.path.append('../data')\n",
    "sys.path.append('../../helper_code')\n",
    "\n",
    "from sklearn.linear_model import Ridge\n",
    "from sklearn.kernel_ridge import KernelRidge\n",
    "from sklearn.model_selection import cross_val_score, KFold, GridSearchCV, train_test_split\n",
    "from sklearn.metrics import mean_squared_error\n",
    "import warnings\n",
    "import numpy as np\n",
    "import pandas as pd\n",
    "from IPython.display import display\n",
    "import copy\n",
    "\n",
    "from helper_code.custom_kernel import *"
   ]
  },
  {
   "cell_type": "code",
   "execution_count": 15,
   "metadata": {},
   "outputs": [],
   "source": [
    "# Load Data\n",
    "\n",
    "X = pd.read_csv('../data/benzene_training_data/[Benz] ANM_X.csv')\n",
    "X_inv = pd.read_csv('../data/benzene_training_data/[Benz] ANM_X_inv.csv')\n",
    "X_lexi = pd.read_csv('../data/benzene_training_data/[Benz] ANM_X_lexi.csv')\n",
    "X_lexi_nd = pd.read_csv('../data/benzene_training_data/[Benz] ANM_X_lexi_nd.csv')\n",
    "X_sorted = pd.read_csv('../data/benzene_training_data/[Benz] ANM_X_sorted.csv')\n",
    "X_coulomb = pd.read_csv('../data/benzene_training_data/[Benz] ANM_X_coulomb.csv')\n",
    "\n",
    "X_square_eig = pd.read_csv(\"../data/benzene_training_data/[Benz] ANM_X_square_eig.csv\")\n",
    "X_inv_square_eig = pd.read_csv(\"../data/benzene_training_data/[Benz] ANM_X_inv_square_eig.csv\")\n",
    "X_lexi_square_eig = pd.read_csv(\"../data/benzene_training_data/[Benz] ANM_X_lexi_square_eig.csv\")\n",
    "X_inv_lexi_square_eig = pd.read_csv(\"../data/benzene_training_data/[Benz] ANM_X_lexi_inv_square_eig.csv\")\n",
    "\n",
    "inv_dist_X = pd.read_csv('../data/benzene_training_data/[Benz] inv_dist_X.csv')\n",
    "inv_dist_X_lexi = pd.read_csv('../data/benzene_training_data/[Benz] inv_dist_X_lexi.csv')\n",
    "inv_dist_X_lexi_nd = pd.read_csv('../data/benzene_training_data/[Benz] inv_dist_X_lexi_nd.csv')\n",
    "inv_dist_X_sorted = pd.read_csv('../data/benzene_training_data/[Benz] inv_dist_X_sorted.csv')\n",
    "inv_dist_X_coulomb = pd.read_csv('../data/benzene_training_data/[Benz] inv_dist_X_coulomb.csv')\n",
    "\n",
    "rand_X = pd.read_csv('../data/benzene_training_data/[Benz] rand_X.csv')\n",
    "rand_X_lexi = pd.read_csv('../data/benzene_training_data/[Benz] rand_X_lexi.csv')\n",
    "rand_X_lexi_nd = pd.read_csv('../data/benzene_training_data/[Benz] rand_X_lexi_nd.csv')\n",
    "rand_X_sorted = pd.read_csv('../data/benzene_training_data/[Benz] rand_X_sorted.csv')\n",
    "rand_X_coulomb = pd.read_csv('../data/benzene_training_data/[Benz] rand_X_coulomb.csv')\n",
    "\n",
    "y_energy = pd.read_csv(\"../data/benzene_training_data/[Benz] y_energy.csv\")\n",
    "y_elec = pd.read_csv(\"../data/benzene_training_data/[Benz] y_elec.csv\")\n",
    "y_delta_elec = pd.read_csv(\"../data/benzene_training_data/[Benz] y_delta_elec.csv\")\n",
    "y_delta_energy = pd.read_csv(\"../data/benzene_training_data/[Benz] y_delta_energy.csv\")"
   ]
  },
  {
   "attachments": {},
   "cell_type": "markdown",
   "metadata": {},
   "source": [
    "## Baseline ##"
   ]
  },
  {
   "cell_type": "code",
   "execution_count": 20,
   "metadata": {},
   "outputs": [
    {
     "name": "stdout",
     "output_type": "stream",
     "text": [
      "Fold 1: RMSE = 0.025826652261224\n",
      "Fold 2: RMSE = 0.0643194896008388\n",
      "Fold 3: RMSE = 0.026773393747848515\n",
      "Average RMSE across all folds: 0.0389731785366371\n"
     ]
    }
   ],
   "source": [
    "# Gaussian_lexi_nd\n",
    "\n",
    "params = {'alpha': 3.755102040816326e-08, 'gamma': 1.7346938775510206e-06, 'kernel': 'rbf'}\n",
    "KRR_model = KernelRidge(**params)\n",
    "\n",
    "k_fold = KFold(n_splits=3, shuffle=True, random_state=10)\n",
    "mse_scores = cross_val_score(KRR_model, X_lexi_nd, y_delta_energy, scoring='neg_mean_squared_error', cv=k_fold)\n",
    "rmse_scores = np.sqrt(-mse_scores)\n",
    "\n",
    "# Calculate the average error across all folds\n",
    "avg_rmse = rmse_scores.mean()\n",
    "\n",
    "# Print the mean squared error for each fold\n",
    "for fold, rmse in enumerate(rmse_scores):\n",
    "    print(f\"Fold {fold+1}: RMSE = {rmse}\")\n",
    "\n",
    "# Print the average mean squared error\n",
    "print(f\"Average RMSE across all folds: {avg_rmse}\")"
   ]
  },
  {
   "cell_type": "code",
   "execution_count": 21,
   "metadata": {},
   "outputs": [
    {
     "name": "stdout",
     "output_type": "stream",
     "text": [
      "Fold 1: RMSE = 0.16305168598114503\n",
      "Fold 2: RMSE = 0.20023935344664778\n",
      "Fold 3: RMSE = 0.0513143171702022\n",
      "Average RMSE across all folds: 0.13820178553266502\n"
     ]
    }
   ],
   "source": [
    "# Gaussian_sorted\n",
    "\n",
    "params = {'alpha': 1.5306122448979593e-9, 'gamma': 2.2857142857142856e-06, 'kernel': 'rbf'}\n",
    "KRR_model = KernelRidge(**params)\n",
    "\n",
    "k_fold = KFold(n_splits=3, shuffle=True, random_state=10)\n",
    "mse_scores = cross_val_score(KRR_model, X_sorted, y_delta_energy, scoring='neg_mean_squared_error', cv=k_fold)\n",
    "rmse_scores = np.sqrt(-mse_scores)\n",
    "\n",
    "# Calculate the average error across all folds\n",
    "avg_rmse = rmse_scores.mean()\n",
    "\n",
    "# Print the mean squared error for each fold\n",
    "for fold, rmse in enumerate(rmse_scores):\n",
    "    print(f\"Fold {fold+1}: RMSE = {rmse}\")\n",
    "\n",
    "# Print the average mean squared error\n",
    "print(f\"Average RMSE across all folds: {avg_rmse}\")"
   ]
  },
  {
   "attachments": {},
   "cell_type": "markdown",
   "metadata": {},
   "source": [
    "## Extended Gaussian Kernel ##"
   ]
  },
  {
   "cell_type": "code",
   "execution_count": 18,
   "metadata": {},
   "outputs": [
    {
     "name": "stdout",
     "output_type": "stream",
     "text": [
      "Fold 1: RMSE = 0.058221697528805495\n",
      "Fold 2: RMSE = 0.048039677040585295\n",
      "Fold 3: RMSE = 0.021127748578803913\n",
      "Average RMSE across all folds: 0.042463041049398235\n"
     ]
    }
   ],
   "source": [
    "X_train = X_lexi.to_numpy()\n",
    "y_train = y_delta_energy.to_numpy()\n",
    "\n",
    "params = {'gamma': 4e-10, 'epsilon': 0.0004, 'beta': 2.333333333333333e-07, 'alpha': 1e-15}\n",
    "alpha = params['alpha']\n",
    "\n",
    "similarity_matrix = create_similarity_matrix(X_train, X_train, extended_gaussian_kernel, params)\n",
    "krr_model = KernelRidge(kernel='precomputed', alpha=alpha)\n",
    "kf = KFold(n_splits=3, shuffle=True, random_state=42)\n",
    "mse_scores = cross_val_score(krr_model, similarity_matrix, y_train, scoring='neg_mean_squared_error', cv=kf)\n",
    "rmse_scores = np.sqrt(-mse_scores)\n",
    "avg_rmse = rmse_scores.mean()\n",
    "\n",
    "for fold, rmse in enumerate(rmse_scores):\n",
    "    print(f\"Fold {fold+1}: RMSE = {rmse}\")\n",
    "print(f\"Average RMSE across all folds: {avg_rmse}\")"
   ]
  },
  {
   "attachments": {},
   "cell_type": "markdown",
   "metadata": {},
   "source": [
    "## Coefficient Squared Eig ##"
   ]
  },
  {
   "cell_type": "code",
   "execution_count": 35,
   "metadata": {},
   "outputs": [
    {
     "name": "stdout",
     "output_type": "stream",
     "text": [
      "Fold 1: RMSE = 0.025261290033164404\n",
      "Fold 2: RMSE = 0.025361129584760507\n",
      "Average RMSE across all folds: 0.025311209808962454\n"
     ]
    }
   ],
   "source": [
    "params = {'alpha': 3.346938775510204e-16, 'gamma': 2.7142857142857142e-12, 'kernel': 'rbf'}\n",
    "KRR_model = KernelRidge(**params)\n",
    "\n",
    "with warnings.catch_warnings():\n",
    "    warnings.filterwarnings(\"ignore\")\n",
    "    k_fold = KFold(n_splits=2, shuffle=True, random_state=10)\n",
    "    mse_scores = cross_val_score(KRR_model, X_inv_lexi_square_eig, y_delta_energy, scoring='neg_mean_squared_error', cv=k_fold)\n",
    "    rmse_scores = np.sqrt(-mse_scores)\n",
    "    avg_rmse = rmse_scores.mean()\n",
    "\n",
    "for fold, rmse in enumerate(rmse_scores):\n",
    "    print(f\"Fold {fold+1}: RMSE = {rmse}\")\n",
    "print(f\"Average RMSE across all folds: {avg_rmse}\")"
   ]
  },
  {
   "cell_type": "code",
   "execution_count": 26,
   "metadata": {},
   "outputs": [
    {
     "name": "stdout",
     "output_type": "stream",
     "text": [
      "Fold 1: RMSE = 3.7189258847626396\n",
      "Fold 2: RMSE = 16.20253409700828\n",
      "Fold 3: RMSE = 3.4900591142142474\n",
      "Average RMSE across all folds: 7.803839698661722\n"
     ]
    }
   ],
   "source": [
    "X_train = X_inv_lexi_square_eig.to_numpy()\n",
    "y_train = y_delta_energy.to_numpy()\n",
    "\n",
    "params = {'gamma': 4e-10, 'epsilon': 0.0004, 'beta': 2.333333333333333e-07, 'alpha': 1e-15}\n",
    "alpha = params['alpha']\n",
    "\n",
    "similarity_matrix = create_similarity_matrix(X_train, X_train, extended_gaussian_kernel, params)\n",
    "krr_model = KernelRidge(kernel='precomputed', alpha=alpha)\n",
    "kf = KFold(n_splits=3, shuffle=True, random_state=42)\n",
    "mse_scores = cross_val_score(krr_model, similarity_matrix, y_train, scoring='neg_mean_squared_error', cv=kf)\n",
    "rmse_scores = np.sqrt(-mse_scores)\n",
    "avg_rmse = rmse_scores.mean()\n",
    "\n",
    "for fold, rmse in enumerate(rmse_scores):\n",
    "    print(f\"Fold {fold+1}: RMSE = {rmse}\")\n",
    "print(f\"Average RMSE across all folds: {avg_rmse}\")"
   ]
  }
 ],
 "metadata": {
  "kernelspec": {
   "display_name": "Python 3",
   "language": "python",
   "name": "python3"
  },
  "language_info": {
   "codemirror_mode": {
    "name": "ipython",
    "version": 3
   },
   "file_extension": ".py",
   "mimetype": "text/x-python",
   "name": "python",
   "nbconvert_exporter": "python",
   "pygments_lexer": "ipython3",
   "version": "3.10.6"
  },
  "orig_nbformat": 4
 },
 "nbformat": 4,
 "nbformat_minor": 2
}
