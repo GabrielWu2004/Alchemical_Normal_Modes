{
 "cells": [
  {
   "cell_type": "code",
   "execution_count": null,
   "metadata": {},
   "outputs": [],
   "source": [
    "from sklearn.linear_model import Ridge\n",
    "from sklearn.kernel_ridge import KernelRidge\n",
    "from sklearn.model_selection import cross_val_score, KFold, GridSearchCV, train_test_split\n",
    "from sklearn.metrics import mean_squared_error\n",
    "import warnings\n",
    "import numpy as np\n",
    "import pandas as pd\n",
    "from IPython.display import display\n",
    "import copy\n",
    "\n",
    "import sys\n",
    "sys.path.append('../Data')"
   ]
  },
  {
   "cell_type": "code",
   "execution_count": null,
   "metadata": {},
   "outputs": [],
   "source": [
    "# Load Data\n",
    "\n",
    "X = pd.read_csv('../Data/Benzene Training Data/[Benz] ANM_X.csv')\n",
    "X_lexi = pd.read_csv('../Data/Benzene Training Data/[Benz] ANM_X_lexi.csv')\n",
    "X_lexi_nd = pd.read_csv('../Data/Benzene Training Data/[Benz] ANM_X_lexi_nd.csv')\n",
    "X_sorted = pd.read_csv('../Data/Benzene Training Data/[Benz] ANM_X_sorted.csv')\n",
    "X_coulomb = pd.read_csv('../Data/Benzene Training Data/[Benz] ANM_X_coulomb.csv')\n",
    "\n",
    "inv_dist_X = pd.read_csv('../Data/Benzene Training Data/[Benz] inv_dist_X.csv')\n",
    "inv_dist_X_lexi = pd.read_csv('../Data/Benzene Training Data/[Benz] inv_dist_X_lexi.csv')\n",
    "inv_dist_X_lexi_nd = pd.read_csv('../Data/Benzene Training Data/[Benz] inv_dist_X_lexi_nd.csv')\n",
    "inv_dist_X_sorted = pd.read_csv('../Data/Benzene Training Data/[Benz] inv_dist_X_sorted.csv')\n",
    "inv_dist_X_coulomb = pd.read_csv('../Data/Benzene Training Data/[Benz] inv_dist_X_coulomb.csv')\n",
    "\n",
    "rand_X = pd.read_csv('../Data/Benzene Training Data/[Benz] rand_X.csv')\n",
    "rand_X_lexi = pd.read_csv('../Data/Benzene Training Data/[Benz] rand_X_lexi.csv')\n",
    "rand_X_lexi_nd = pd.read_csv('../Data/Benzene Training Data/[Benz] rand_X_lexi_nd.csv')\n",
    "rand_X_sorted = pd.read_csv('../Data/Benzene Training Data/[Benz] rand_X_sorted.csv')\n",
    "rand_X_coulomb = pd.read_csv('../Data/Benzene Training Data/[Benz] rand_X_coulomb.csv')\n",
    "\n",
    "y_energy = pd.read_csv(\"../Data/Benzene Training Data/[Benz] y_energy.csv\")\n",
    "y_elec = pd.read_csv(\"../Data/Benzene Training Data/[Benz] y_elec.csv\")\n",
    "y_delta_elec = pd.read_csv(\"../Data/Benzene Training Data/[Benz] y_delta_elec.csv\")\n",
    "y_delta_energy = pd.read_csv(\"../Data/Benzene Training Data/[Benz] y_delta_energy.csv\")"
   ]
  },
  {
   "cell_type": "code",
   "execution_count": null,
   "metadata": {},
   "outputs": [],
   "source": []
  }
 ],
 "metadata": {
  "language_info": {
   "name": "python"
  },
  "orig_nbformat": 4
 },
 "nbformat": 4,
 "nbformat_minor": 2
}
