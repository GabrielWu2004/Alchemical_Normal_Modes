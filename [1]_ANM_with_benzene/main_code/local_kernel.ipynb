{
 "cells": [
  {
   "cell_type": "code",
   "execution_count": 2,
   "metadata": {},
   "outputs": [],
   "source": [
    "import sys\n",
    "sys.path.append('../..')\n",
    "sys.path.append('../data')\n",
    "sys.path.append('../../helper_code')\n",
    "\n",
    "from sklearn.kernel_ridge import KernelRidge\n",
    "from helper_code.QML_KernelRidge import KRR_local, KRR_global\n",
    "from sklearn.model_selection import cross_val_score, KFold, train_test_split\n",
    "from sklearn.metrics import mean_absolute_error\n",
    "import warnings\n",
    "import numpy as np\n",
    "import pandas as pd\n",
    "from IPython.display import display\n",
    "from hyperopt import fmin, tpe, hp, STATUS_OK, Trials\n",
    "from helper_code.util import evaluate_performance_local, evaluate_performance, evaluate_performance_global"
   ]
  },
  {
   "cell_type": "markdown",
   "metadata": {},
   "source": [
    "## Get data ##"
   ]
  },
  {
   "cell_type": "code",
   "execution_count": 48,
   "metadata": {},
   "outputs": [
    {
     "name": "stdout",
     "output_type": "stream",
     "text": [
      "(17, 6)\n",
      "(6, 6)\n"
     ]
    }
   ],
   "source": [
    "CSE = pd.read_csv(\"../data/benzene_training_data/[Benz] ANM_X_lexi_square_eig.csv\")\n",
    "CSE = CSE.values / 10\n",
    "Q = np.loadtxt(\"CCS_basis/ANM_basis.txt\")\n",
    "print(CSE.shape)\n",
    "print(Q.shape)\n"
   ]
  },
  {
   "cell_type": "code",
   "execution_count": 49,
   "metadata": {},
   "outputs": [
    {
     "name": "stdout",
     "output_type": "stream",
     "text": [
      "(17, 6, 6)\n"
     ]
    }
   ],
   "source": [
    "CSE = CSE[:, np.newaxis, :]\n",
    "CSE_local = CSE * Q\n",
    "print(CSE_local.shape)"
   ]
  },
  {
   "cell_type": "code",
   "execution_count": 62,
   "metadata": {},
   "outputs": [],
   "source": [
    "energy = pd.read_csv(\"../data/benzene_training_data/[Benz] y_delta_delta_ANM.csv\").to_numpy()\n",
    "raw_data = np.load(\"../data/benzene_raw_data/Benzene_BNdoping_PBE0_pcX2_opt.npz\", allow_pickle=True)\n",
    "charges = raw_data['charges'][:, :6]"
   ]
  },
  {
   "cell_type": "code",
   "execution_count": 63,
   "metadata": {},
   "outputs": [
    {
     "name": "stdout",
     "output_type": "stream",
     "text": [
      "[[7 5 6 6 6 6]\n",
      " [7 6 5 6 6 6]\n",
      " [7 6 6 5 6 6]\n",
      " [7 7 5 5 6 6]\n",
      " [7 7 5 6 5 6]\n",
      " [7 7 5 6 6 5]\n",
      " [7 7 6 5 5 6]\n",
      " [7 5 7 6 6 5]\n",
      " [7 5 7 6 5 6]\n",
      " [7 6 7 5 5 6]\n",
      " [7 6 7 5 6 5]\n",
      " [5 7 5 6 7 6]\n",
      " [7 6 6 7 5 5]\n",
      " [5 7 6 5 7 6]\n",
      " [7 7 7 5 5 5]\n",
      " [7 7 5 7 5 5]\n",
      " [7 5 7 5 7 5]]\n"
     ]
    }
   ],
   "source": [
    "print(charges)"
   ]
  },
  {
   "cell_type": "code",
   "execution_count": 66,
   "metadata": {},
   "outputs": [
    {
     "name": "stdout",
     "output_type": "stream",
     "text": [
      "(17, 6, 6)\n"
     ]
    }
   ],
   "source": [
    "print(CSE_local.shape)"
   ]
  },
  {
   "cell_type": "markdown",
   "metadata": {},
   "source": [
    "## Train Model ##"
   ]
  },
  {
   "cell_type": "code",
   "execution_count": 81,
   "metadata": {},
   "outputs": [
    {
     "name": "stdout",
     "output_type": "stream",
     "text": [
      "fold 1: mae = 0.07036990606332455\n",
      "fold 2: mae = 0.061044370849836826\n",
      "Average mae: 0.06570713845658069\n"
     ]
    }
   ],
   "source": [
    "# lambda: regularization\n",
    "# length: kernel length\n",
    "\n",
    "X = CSE_local\n",
    "y = energy\n",
    "Q = charges\n",
    "\n",
    "params = {'lambda': 0.9572029983630527, 'length': 8.549964763049411, 'kernel': 'rbf'}\n",
    "mae_scores = []\n",
    "\n",
    "kfold = KFold(n_splits=2, shuffle=True, random_state=10)\n",
    "for fold, (train_index, test_index) in enumerate(kfold.split(X)):\n",
    "    X_train, X_test = X[train_index], X[test_index]\n",
    "    y_train, y_test = y[train_index], y[test_index]\n",
    "    Q_train, Q_test = Q[train_index], Q[test_index]\n",
    "    preds = KRR_local(X_train, Q_train, y_train, X_test, Q_test, best_params=params, kernel='gaussian')\n",
    "    score = mean_absolute_error(preds.reshape(-1, 1), y_test)\n",
    "    mae_scores.append(score)\n",
    "    print(f\"fold {fold+1}: mae = {score}\")\n",
    "\n",
    "print(f\"Average mae: {np.array(mae_scores).mean()}\")"
   ]
  },
  {
   "cell_type": "markdown",
   "metadata": {},
   "source": [
    "## Tuning ##"
   ]
  },
  {
   "cell_type": "code",
   "execution_count": 74,
   "metadata": {},
   "outputs": [
    {
     "name": "stdout",
     "output_type": "stream",
     "text": [
      "  2%|▏         | 9/500 [00:00<00:05, 86.07trial/s, best loss: 0.09885241818343252]"
     ]
    },
    {
     "name": "stdout",
     "output_type": "stream",
     "text": [
      "100%|██████████| 500/500 [00:04<00:00, 124.23trial/s, best loss: 0.08685913833692871]\n",
      "Best hyperparameters: {'lambda': 0.6764886969726669, 'length': 7.3844636120610465}\n",
      "Loss: 0.08685913833692871\n"
     ]
    }
   ],
   "source": [
    "X = CSE_local\n",
    "y = energy\n",
    "Q = charges\n",
    "\n",
    "def objective(params):\n",
    "    mae_scores = []\n",
    "    kfold = KFold(n_splits=2, shuffle=True, random_state=42)\n",
    "    for fold, (train_index, test_index) in enumerate(kfold.split(X)):\n",
    "        X_train, X_test = X[train_index], X[test_index]\n",
    "        y_train, y_test = y[train_index], y[test_index]\n",
    "        Q_train, Q_test = Q[train_index], Q[test_index]\n",
    "        preds = KRR_local(X_train, Q_train, y_train, X_test, Q_test, best_params=params, kernel='gaussian')\n",
    "        if type(preds) is str:\n",
    "            return np.inf\n",
    "        score = mean_absolute_error(preds.reshape(-1, 1), y_test)\n",
    "        mae_scores.append(score)\n",
    "    return np.array(mae_scores).mean()\n",
    "\n",
    "space = {\n",
    "    'lambda': hp.loguniform('lambda', -30, 0), \n",
    "    'length': hp.loguniform('length', -2, 2)\n",
    "}\n",
    "\n",
    "trials = Trials()\n",
    "with warnings.catch_warnings():\n",
    "    warnings.filterwarnings('ignore')\n",
    "    best = fmin(fn=objective,\n",
    "                space=space,\n",
    "                algo=tpe.suggest, # tree parzen estimator\n",
    "                max_evals=500,\n",
    "                trials=trials)\n",
    "\n",
    "print(\"Best hyperparameters:\", best)\n",
    "print(\"Loss:\", trials.best_trial['result']['loss'])"
   ]
  }
 ],
 "metadata": {
  "kernelspec": {
   "display_name": "Python 3",
   "language": "python",
   "name": "python3"
  },
  "language_info": {
   "codemirror_mode": {
    "name": "ipython",
    "version": 3
   },
   "file_extension": ".py",
   "mimetype": "text/x-python",
   "name": "python",
   "nbconvert_exporter": "python",
   "pygments_lexer": "ipython3",
   "version": "3.10.6"
  },
  "orig_nbformat": 4
 },
 "nbformat": 4,
 "nbformat_minor": 2
}
