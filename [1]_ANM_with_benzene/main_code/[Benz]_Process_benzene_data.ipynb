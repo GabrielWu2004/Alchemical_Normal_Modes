{
 "cells": [
  {
   "cell_type": "code",
   "execution_count": 2,
   "metadata": {},
   "outputs": [],
   "source": [
    "import sys\n",
    "sys.path.append('../..')\n",
    "sys.path.append('../../APDFT')\n",
    "sys.path.append('../../helper_code')\n",
    "sys.path.append('../data')\n",
    "\n",
    "import pickle\n",
    "from pyscf import gto, scf, dft, cc\n",
    "import numpy as np\n",
    "import pandas as pd\n",
    "import matplotlib.pyplot as plt\n",
    "import matplotlib.ticker as ticker\n",
    "import basis_set_exchange as bse\n",
    "from APDFT.FcMole import *\n",
    "import os\n",
    "import ast\n",
    "from copy import deepcopy\n",
    "from IPython.display import display\n",
    "from helper_code.data_processing import *\n",
    "\n",
    "\n",
    "%load_ext autoreload\n",
    "%autoreload 2\n",
    "from APDFT.AP_class import APDFT_perturbator as AP"
   ]
  },
  {
   "attachments": {},
   "cell_type": "markdown",
   "metadata": {},
   "source": [
    "## DFT, Hessian, ANM ##\n",
    "\n",
    "No need to run these cells if Hessian is already calculated"
   ]
  },
  {
   "cell_type": "code",
   "execution_count": 2,
   "metadata": {},
   "outputs": [],
   "source": [
    "# Specify the atomic coordinates of benzene molecule (the reference molecule for ANM calculations)\n",
    "\n",
    "benz_atom=\"\"\"\n",
    "C        1.71265808       0.13276268       0.00006550\n",
    "C        3.09975708       0.13269330       0.00049236\n",
    "C        3.79340809       1.33390518      -0.00006494\n",
    "C        3.09987779       2.53518655      -0.00105701\n",
    "C        1.71277873       2.53525598      -0.00147341\n",
    "C        1.01912772       1.33404402      -0.00091748\n",
    "H        1.17120884      -0.80500514       0.00050085\n",
    "H        3.64111213      -0.80512867       0.00125839\n",
    "H        4.87626010       1.33385102       0.00026564\n",
    "H        3.64132705       3.47295440      -0.00149649\n",
    "H        1.17142366       3.47307800      -0.00223754\n",
    "H       -0.06372432       1.33409819      -0.00124687\n",
    "\"\"\""
   ]
  },
  {
   "cell_type": "code",
   "execution_count": 3,
   "metadata": {},
   "outputs": [],
   "source": [
    "basis_pcx2={\"H\":\"pc-2\",'C':bse.get_basis(\"pcX-2\",fmt=\"nwchem\",elements=[6])\\\n",
    "           ,'N':bse.get_basis(\"pcX-2\",fmt=\"nwchem\",elements=[7])\\\n",
    "           ,'O':bse.get_basis(\"pcX-2\",fmt=\"nwchem\",elements=[8])}"
   ]
  },
  {
   "cell_type": "code",
   "execution_count": 4,
   "metadata": {},
   "outputs": [
    {
     "name": "stdout",
     "output_type": "stream",
     "text": [
      "converged SCF energy = -232.053033860332\n",
      "Total energy: -232.0530338603313\n",
      "Electronic energy (electronic energy, nuclear repulsion energy): (-436.54061530520573, 279.7181026946837)\n"
     ]
    }
   ],
   "source": [
    "mol = gto.M(atom=benz_atom, basis=basis_pcx2, unit='Angstrom')\n",
    "# run DFT calculation\n",
    "mol_DFT = scf.RKS(mol)\n",
    "mol_DFT.xc = \"PBE0\" # specify the exchange-correlation functional used for DFT\n",
    "mol_DFT.kernel(verbose=False) # run self-consistent field calculation\n",
    "mol_total_energy = mol_DFT.energy_tot()\n",
    "mol_electronic_energy = mol_DFT.energy_elec()\n",
    "print(\"Total energy:\", mol_total_energy)\n",
    "print(\"Electronic energy (electronic energy, nuclear repulsion energy):\", mol_electronic_energy) "
   ]
  },
  {
   "cell_type": "code",
   "execution_count": 3,
   "metadata": {},
   "outputs": [
    {
     "name": "stdout",
     "output_type": "stream",
     "text": [
      "(6,)\n",
      "(6, 6)\n"
     ]
    }
   ],
   "source": [
    "grad_and_hessian = np.load(\"../data/benzene_raw_data/benzene_correct_hessian.npz\", allow_pickle=True)\n",
    "g, H = grad_and_hessian['g'], grad_and_hessian['H']\n",
    "print(g.shape)\n",
    "print(H.shape)"
   ]
  },
  {
   "cell_type": "code",
   "execution_count": 4,
   "metadata": {},
   "outputs": [
    {
     "name": "stdout",
     "output_type": "stream",
     "text": [
      "[-1.96476956 -3.46253538 -3.28728604 -3.28729005 -3.39061277 -3.39061371]\n"
     ]
    },
    {
     "data": {
      "text/html": [
       "<div>\n",
       "<style scoped>\n",
       "    .dataframe tbody tr th:only-of-type {\n",
       "        vertical-align: middle;\n",
       "    }\n",
       "\n",
       "    .dataframe tbody tr th {\n",
       "        vertical-align: top;\n",
       "    }\n",
       "\n",
       "    .dataframe thead th {\n",
       "        text-align: right;\n",
       "    }\n",
       "</style>\n",
       "<table border=\"1\" class=\"dataframe\">\n",
       "  <thead>\n",
       "    <tr style=\"text-align: right;\">\n",
       "      <th></th>\n",
       "      <th>0</th>\n",
       "      <th>1</th>\n",
       "      <th>2</th>\n",
       "      <th>3</th>\n",
       "      <th>4</th>\n",
       "      <th>5</th>\n",
       "    </tr>\n",
       "  </thead>\n",
       "  <tbody>\n",
       "    <tr>\n",
       "      <th>0</th>\n",
       "      <td>-3.130517</td>\n",
       "      <td>0.266849</td>\n",
       "      <td>0.208433</td>\n",
       "      <td>0.215186</td>\n",
       "      <td>0.208432</td>\n",
       "      <td>0.266848</td>\n",
       "    </tr>\n",
       "    <tr>\n",
       "      <th>1</th>\n",
       "      <td>0.266849</td>\n",
       "      <td>-3.130517</td>\n",
       "      <td>0.266848</td>\n",
       "      <td>0.208432</td>\n",
       "      <td>0.215186</td>\n",
       "      <td>0.208433</td>\n",
       "    </tr>\n",
       "    <tr>\n",
       "      <th>2</th>\n",
       "      <td>0.208433</td>\n",
       "      <td>0.266848</td>\n",
       "      <td>-3.130519</td>\n",
       "      <td>0.266848</td>\n",
       "      <td>0.208433</td>\n",
       "      <td>0.215186</td>\n",
       "    </tr>\n",
       "    <tr>\n",
       "      <th>3</th>\n",
       "      <td>0.215186</td>\n",
       "      <td>0.208432</td>\n",
       "      <td>0.266848</td>\n",
       "      <td>-3.130517</td>\n",
       "      <td>0.266849</td>\n",
       "      <td>0.208433</td>\n",
       "    </tr>\n",
       "    <tr>\n",
       "      <th>4</th>\n",
       "      <td>0.208432</td>\n",
       "      <td>0.215186</td>\n",
       "      <td>0.208433</td>\n",
       "      <td>0.266849</td>\n",
       "      <td>-3.130517</td>\n",
       "      <td>0.266848</td>\n",
       "    </tr>\n",
       "    <tr>\n",
       "      <th>5</th>\n",
       "      <td>0.266848</td>\n",
       "      <td>0.208433</td>\n",
       "      <td>0.215186</td>\n",
       "      <td>0.208433</td>\n",
       "      <td>0.266848</td>\n",
       "      <td>-3.130519</td>\n",
       "    </tr>\n",
       "  </tbody>\n",
       "</table>\n",
       "</div>"
      ],
      "text/plain": [
       "          0         1         2         3         4         5\n",
       "0 -3.130517  0.266849  0.208433  0.215186  0.208432  0.266848\n",
       "1  0.266849 -3.130517  0.266848  0.208432  0.215186  0.208433\n",
       "2  0.208433  0.266848 -3.130519  0.266848  0.208433  0.215186\n",
       "3  0.215186  0.208432  0.266848 -3.130517  0.266849  0.208433\n",
       "4  0.208432  0.215186  0.208433  0.266849 -3.130517  0.266848\n",
       "5  0.266848  0.208433  0.215186  0.208433  0.266848 -3.130519"
      ]
     },
     "metadata": {},
     "output_type": "display_data"
    },
    {
     "data": {
      "text/html": [
       "<div>\n",
       "<style scoped>\n",
       "    .dataframe tbody tr th:only-of-type {\n",
       "        vertical-align: middle;\n",
       "    }\n",
       "\n",
       "    .dataframe tbody tr th {\n",
       "        vertical-align: top;\n",
       "    }\n",
       "\n",
       "    .dataframe thead th {\n",
       "        text-align: right;\n",
       "    }\n",
       "</style>\n",
       "<table border=\"1\" class=\"dataframe\">\n",
       "  <thead>\n",
       "    <tr style=\"text-align: right;\">\n",
       "      <th></th>\n",
       "      <th>0</th>\n",
       "      <th>1</th>\n",
       "      <th>2</th>\n",
       "      <th>3</th>\n",
       "      <th>4</th>\n",
       "      <th>5</th>\n",
       "    </tr>\n",
       "  </thead>\n",
       "  <tbody>\n",
       "    <tr>\n",
       "      <th>0</th>\n",
       "      <td>-0.408249</td>\n",
       "      <td>0.408248</td>\n",
       "      <td>0.499761</td>\n",
       "      <td>-0.289089</td>\n",
       "      <td>0.499846</td>\n",
       "      <td>-0.288941</td>\n",
       "    </tr>\n",
       "    <tr>\n",
       "      <th>1</th>\n",
       "      <td>-0.408249</td>\n",
       "      <td>-0.408248</td>\n",
       "      <td>0.500239</td>\n",
       "      <td>0.288261</td>\n",
       "      <td>-0.500154</td>\n",
       "      <td>-0.288409</td>\n",
       "    </tr>\n",
       "    <tr>\n",
       "      <th>2</th>\n",
       "      <td>-0.408248</td>\n",
       "      <td>0.408249</td>\n",
       "      <td>0.000478</td>\n",
       "      <td>0.577350</td>\n",
       "      <td>0.000307</td>\n",
       "      <td>0.577351</td>\n",
       "    </tr>\n",
       "    <tr>\n",
       "      <th>3</th>\n",
       "      <td>-0.408249</td>\n",
       "      <td>-0.408248</td>\n",
       "      <td>-0.499761</td>\n",
       "      <td>0.289089</td>\n",
       "      <td>0.499846</td>\n",
       "      <td>-0.288941</td>\n",
       "    </tr>\n",
       "    <tr>\n",
       "      <th>4</th>\n",
       "      <td>-0.408249</td>\n",
       "      <td>0.408248</td>\n",
       "      <td>-0.500239</td>\n",
       "      <td>-0.288261</td>\n",
       "      <td>-0.500153</td>\n",
       "      <td>-0.288409</td>\n",
       "    </tr>\n",
       "    <tr>\n",
       "      <th>5</th>\n",
       "      <td>-0.408248</td>\n",
       "      <td>-0.408249</td>\n",
       "      <td>-0.000478</td>\n",
       "      <td>-0.577350</td>\n",
       "      <td>0.000307</td>\n",
       "      <td>0.577350</td>\n",
       "    </tr>\n",
       "  </tbody>\n",
       "</table>\n",
       "</div>"
      ],
      "text/plain": [
       "          0         1         2         3         4         5\n",
       "0 -0.408249  0.408248  0.499761 -0.289089  0.499846 -0.288941\n",
       "1 -0.408249 -0.408248  0.500239  0.288261 -0.500154 -0.288409\n",
       "2 -0.408248  0.408249  0.000478  0.577350  0.000307  0.577351\n",
       "3 -0.408249 -0.408248 -0.499761  0.289089  0.499846 -0.288941\n",
       "4 -0.408249  0.408248 -0.500239 -0.288261 -0.500153 -0.288409\n",
       "5 -0.408248 -0.408249 -0.000478 -0.577350  0.000307  0.577350"
      ]
     },
     "metadata": {},
     "output_type": "display_data"
    }
   ],
   "source": [
    "Q_eig_val, Q = np.linalg.eig(H)\n",
    "np.savetxt('CCS_basis/ANM_basis.txt', Q)\n",
    "H_df = pd.DataFrame(H)\n",
    "Q_df = pd.DataFrame(Q)\n",
    "print(Q_eig_val)\n",
    "display(H_df)\n",
    "display(Q_df)"
   ]
  },
  {
   "cell_type": "markdown",
   "metadata": {},
   "source": [
    "## Load Data ##"
   ]
  },
  {
   "cell_type": "code",
   "execution_count": 5,
   "metadata": {},
   "outputs": [
    {
     "name": "stdout",
     "output_type": "stream",
     "text": [
      "['charges', 'coords', 'elements', 'energies']\n"
     ]
    }
   ],
   "source": [
    "energy_data = np.load(\"../data/benzene_raw_data/Benzene_BNdoping_PBE0_pcX2_correct.npz\", allow_pickle=True)\n",
    "all_keys = list(energy_data.keys())\n",
    "print(all_keys)"
   ]
  },
  {
   "cell_type": "code",
   "execution_count": 6,
   "metadata": {},
   "outputs": [
    {
     "data": {
      "text/html": [
       "<div>\n",
       "<style scoped>\n",
       "    .dataframe tbody tr th:only-of-type {\n",
       "        vertical-align: middle;\n",
       "    }\n",
       "\n",
       "    .dataframe tbody tr th {\n",
       "        vertical-align: top;\n",
       "    }\n",
       "\n",
       "    .dataframe thead th {\n",
       "        text-align: right;\n",
       "    }\n",
       "</style>\n",
       "<table border=\"1\" class=\"dataframe\">\n",
       "  <thead>\n",
       "    <tr style=\"text-align: right;\">\n",
       "      <th></th>\n",
       "      <th>charges</th>\n",
       "      <th>total energy</th>\n",
       "      <th>delta total energy</th>\n",
       "      <th>dx</th>\n",
       "      <th>APDFT2</th>\n",
       "      <th>DD e_tot</th>\n",
       "      <th>DD e_tot (kcal/mol)</th>\n",
       "    </tr>\n",
       "  </thead>\n",
       "  <tbody>\n",
       "    <tr>\n",
       "      <th>0</th>\n",
       "      <td>[7, 5, 6, 6, 6, 6, 1, 1, 1, 1, 1, 1]</td>\n",
       "      <td>-235.451648</td>\n",
       "      <td>3.398614</td>\n",
       "      <td>[1, -1, 0, 0, 0, 0]</td>\n",
       "      <td>-235.4504</td>\n",
       "      <td>0.001247</td>\n",
       "      <td>0.78259</td>\n",
       "    </tr>\n",
       "    <tr>\n",
       "      <th>1</th>\n",
       "      <td>[7, 6, 5, 6, 6, 6, 1, 1, 1, 1, 1, 1]</td>\n",
       "      <td>-235.394261</td>\n",
       "      <td>3.341228</td>\n",
       "      <td>[1, 0, -1, 0, 0, 0]</td>\n",
       "      <td>-235.39198</td>\n",
       "      <td>0.002282</td>\n",
       "      <td>1.431932</td>\n",
       "    </tr>\n",
       "    <tr>\n",
       "      <th>2</th>\n",
       "      <td>[7, 6, 6, 5, 6, 6, 1, 1, 1, 1, 1, 1]</td>\n",
       "      <td>-235.401935</td>\n",
       "      <td>3.348901</td>\n",
       "      <td>[1, 0, 0, -1, 0, 0]</td>\n",
       "      <td>-235.398737</td>\n",
       "      <td>0.003198</td>\n",
       "      <td>2.007018</td>\n",
       "    </tr>\n",
       "  </tbody>\n",
       "</table>\n",
       "</div>"
      ],
      "text/plain": [
       "                                charges  total energy  delta total energy   \n",
       "0  [7, 5, 6, 6, 6, 6, 1, 1, 1, 1, 1, 1]   -235.451648            3.398614  \\\n",
       "1  [7, 6, 5, 6, 6, 6, 1, 1, 1, 1, 1, 1]   -235.394261            3.341228   \n",
       "2  [7, 6, 6, 5, 6, 6, 1, 1, 1, 1, 1, 1]   -235.401935            3.348901   \n",
       "\n",
       "                    dx      APDFT2  DD e_tot DD e_tot (kcal/mol)  \n",
       "0  [1, -1, 0, 0, 0, 0]   -235.4504  0.001247             0.78259  \n",
       "1  [1, 0, -1, 0, 0, 0]  -235.39198  0.002282            1.431932  \n",
       "2  [1, 0, 0, -1, 0, 0] -235.398737  0.003198            2.007018  "
      ]
     },
     "metadata": {},
     "output_type": "display_data"
    }
   ],
   "source": [
    "charges, total_energy = energy_data['charges'], energy_data['energies']\n",
    "columns = ['charges', 'total energy']\n",
    "benzene_energy_data = pd.DataFrame(columns=columns)\n",
    "benzene_energy_data['charges'] = charges.tolist()\n",
    "benzene_energy_data['total energy'] = total_energy.tolist()\n",
    "\n",
    "BENZ_REFERENCE_ENERGY = -232.053033860332 # mol_total_energy\n",
    "benzene_energy_data['delta total energy'] = benzene_energy_data['total energy'].apply(lambda x: BENZ_REFERENCE_ENERGY-x)\n",
    "\n",
    "benzene_energy_data['dx'] = None\n",
    "benzene_energy_data['APDFT2'] = None\n",
    "benzene_energy_data['DD e_tot'] = None\n",
    "benzene_energy_data['DD e_tot (kcal/mol)'] = None\n",
    "HA_TO_KCAL = 627.5096080305927\n",
    "for index, row in benzene_energy_data.iterrows():\n",
    "    ref_charge = np.array([6, 6, 6, 6, 6, 6])\n",
    "    dx = np.array(row['charges'][:6]) - ref_charge\n",
    "    apdft2 = BENZ_REFERENCE_ENERGY + dx.dot(g) + 0.5*np.einsum('i,ij,j', dx, H ,dx)\n",
    "    target_energy = benzene_energy_data.at[index, 'total energy']\n",
    "    benzene_energy_data.at[index, 'dx'] = dx\n",
    "    benzene_energy_data.at[index, 'APDFT2'] = apdft2\n",
    "    benzene_energy_data.at[index, 'DD e_tot'] = apdft2 - target_energy\n",
    "    benzene_energy_data.at[index, 'DD e_tot (kcal/mol)'] = benzene_energy_data.at[index, 'DD e_tot'] * HA_TO_KCAL\n",
    "\n",
    "display(benzene_energy_data.head(3))"
   ]
  },
  {
   "cell_type": "code",
   "execution_count": 2,
   "metadata": {},
   "outputs": [
    {
     "ename": "ImportError",
     "evalue": "cannot import name 'get_local_kernel_mbdf' from 'qml.kernels' (/home/gabrielwu2004/.local/lib/python3.10/site-packages/qml/kernels.py)",
     "output_type": "error",
     "traceback": [
      "\u001b[0;31m---------------------------------------------------------------------------\u001b[0m",
      "\u001b[0;31mImportError\u001b[0m                               Traceback (most recent call last)",
      "Cell \u001b[0;32mIn[2], line 1\u001b[0m\n\u001b[0;32m----> 1\u001b[0m \u001b[39mfrom\u001b[39;00m \u001b[39mqml\u001b[39;00m\u001b[39m.\u001b[39;00m\u001b[39mkernels\u001b[39;00m \u001b[39mimport\u001b[39;00m get_local_kernel_mbdf\n",
      "\u001b[0;31mImportError\u001b[0m: cannot import name 'get_local_kernel_mbdf' from 'qml.kernels' (/home/gabrielwu2004/.local/lib/python3.10/site-packages/qml/kernels.py)"
     ]
    }
   ],
   "source": [
    "from qml.kernels import get_local_kernel_mbdf"
   ]
  },
  {
   "cell_type": "code",
   "execution_count": 1,
   "metadata": {},
   "outputs": [
    {
     "ename": "ImportError",
     "evalue": "cannot import name 'extended_gaussian_kernel' from 'qml.kernels' (/home/gabrielwu2004/.local/lib/python3.10/site-packages/qml/kernels.py)",
     "output_type": "error",
     "traceback": [
      "\u001b[0;31m---------------------------------------------------------------------------\u001b[0m",
      "\u001b[0;31mImportError\u001b[0m                               Traceback (most recent call last)",
      "Cell \u001b[0;32mIn[1], line 1\u001b[0m\n\u001b[0;32m----> 1\u001b[0m \u001b[39mfrom\u001b[39;00m \u001b[39mqml\u001b[39;00m\u001b[39m.\u001b[39;00m\u001b[39mkernels\u001b[39;00m \u001b[39mimport\u001b[39;00m extended_gaussian_kernel\n",
      "\u001b[0;31mImportError\u001b[0m: cannot import name 'extended_gaussian_kernel' from 'qml.kernels' (/home/gabrielwu2004/.local/lib/python3.10/site-packages/qml/kernels.py)"
     ]
    }
   ],
   "source": [
    "from qml.kernels import \n"
   ]
  },
  {
   "cell_type": "code",
   "execution_count": 7,
   "metadata": {},
   "outputs": [
    {
     "name": "stdout",
     "output_type": "stream",
     "text": [
      "7.23853427807126\n",
      "12.705716653144094\n"
     ]
    },
    {
     "data": {
      "image/png": "[encoded data removed]",
      "text/plain": [
       "<Figure size 640x480 with 1 Axes>"
      ]
     },
     "metadata": {},
     "output_type": "display_data"
    }
   ],
   "source": [
    "print(np.array(benzene_energy_data['DD e_tot (kcal/mol)'].mean()))\n",
    "print(np.array(benzene_energy_data['DD e_tot (kcal/mol)'].std()))\n",
    "plt.hist(benzene_energy_data['DD e_tot (kcal/mol)'].tolist(), bins=50, edgecolor='black')\n",
    "plt.show()"
   ]
  },
  {
   "attachments": {},
   "cell_type": "markdown",
   "metadata": {},
   "source": [
    "## ANM Representation ##"
   ]
  },
  {
   "cell_type": "code",
   "execution_count": 8,
   "metadata": {},
   "outputs": [],
   "source": [
    "benzene_energy_data['dx_lexi'] = benzene_energy_data['dx'].apply(\n",
    "    lambda arr: lexi_transformation(arr))\n",
    "\n",
    "benzene_energy_data['c'] = benzene_energy_data['dx'].apply(\n",
    "    lambda arr: (np.array(arr).reshape(1, 6) @ Q).reshape(6,).tolist()) # column vector view: c = Q_inv @ dx\n",
    "\n",
    "benzene_energy_data['c_lexi'] = benzene_energy_data['dx_lexi'].apply(\n",
    "    lambda arr: (np.array(arr).reshape(1, 6) @ Q).reshape(6,).tolist())\n",
    "\n",
    "benzene_energy_data['CE'] = benzene_energy_data['c'].apply(\n",
    "    lambda arr: compute_lambda_c(arr, Q_eig_val))\n",
    "\n",
    "benzene_energy_data['CE_lexi'] = benzene_energy_data['c_lexi'].apply(\n",
    "    lambda arr: compute_lambda_c(arr, Q_eig_val))\n",
    "\n",
    "benzene_energy_data['CSE'] = benzene_energy_data['c'].apply(\n",
    "    lambda arr: compute_lambda_c_square(arr, Q_eig_val))\n",
    "\n",
    "benzene_energy_data['CSE_lexi'] = benzene_energy_data['c_lexi'].apply(\n",
    "    lambda arr: compute_lambda_c_square(arr, Q_eig_val))\n"
   ]
  },
  {
   "cell_type": "code",
   "execution_count": 9,
   "metadata": {},
   "outputs": [
    {
     "name": "stdout",
     "output_type": "stream",
     "text": [
      "2.246498111850073\n",
      "3.606542192026685\n"
     ]
    },
    {
     "data": {
      "image/png": "[encoded data removed]",
      "text/plain": [
       "<Figure size 640x480 with 1 Axes>"
      ]
     },
     "metadata": {},
     "output_type": "display_data"
    }
   ],
   "source": [
    "C = np.vstack(benzene_energy_data['CSE_lexi'].tolist()).flatten()\n",
    "print(C.mean())\n",
    "print(C.std())\n",
    "plt.hist(C, bins=50, edgecolor='black')\n",
    "plt.show()"
   ]
  },
  {
   "attachments": {},
   "cell_type": "markdown",
   "metadata": {},
   "source": [
    "## Export Training Data ##"
   ]
  },
  {
   "cell_type": "code",
   "execution_count": 10,
   "metadata": {},
   "outputs": [],
   "source": [
    "datasets = ['c', 'c_lexi', 'CE', 'CE_lexi', 'CSE', 'CSE_lexi']\n",
    "columns = [f\"coord{i}\" for i in range(6)]\n",
    "\n",
    "dataset_dict = {}\n",
    "for data in datasets:\n",
    "    dataset_dict[data] = pd.DataFrame(columns=columns)\n",
    "    for i in range(6):\n",
    "        dataset_dict[data][f\"coord{i}\"] = benzene_energy_data[data].apply(lambda arr: arr[i])\n",
    "\n",
    "for key, dataframe in dataset_dict.items():\n",
    "    dataframe.to_csv(f'../data/benzene_training_data/[Benz]_{key}.csv', index=False)"
   ]
  },
  {
   "cell_type": "code",
   "execution_count": 11,
   "metadata": {},
   "outputs": [],
   "source": [
    "benzene_energy_data['DD e_tot (kcal/mol)'].to_csv('../data/benzene_training_data/DD_e_tot (kcal).csv', index=False)"
   ]
  }
 ],
 "metadata": {
  "kernelspec": {
   "display_name": "Python 3",
   "language": "python",
   "name": "python3"
  },
  "language_info": {
   "codemirror_mode": {
    "name": "ipython",
    "version": 3
   },
   "file_extension": ".py",
   "mimetype": "text/x-python",
   "name": "python",
   "nbconvert_exporter": "python",
   "pygments_lexer": "ipython3",
   "version": "3.10.12"
  },
  "orig_nbformat": 4
 },
 "nbformat": 4,
 "nbformat_minor": 2
}
