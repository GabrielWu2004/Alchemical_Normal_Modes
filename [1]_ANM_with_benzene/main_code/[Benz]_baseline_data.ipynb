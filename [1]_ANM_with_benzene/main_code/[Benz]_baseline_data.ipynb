{
 "cells": [
  {
   "cell_type": "code",
   "execution_count": 2,
   "metadata": {},
   "outputs": [],
   "source": [
    "import sys\n",
    "sys.path.append('../..')\n",
    "sys.path.append('../../APDFT')\n",
    "sys.path.append('../../helper_code')\n",
    "sys.path.append('../data')\n",
    "\n",
    "import numpy as np\n",
    "from qml.representations import generate_coulomb_matrix, generate_fchl_acsf, generate_bob\n",
    "from helper_code.util import charge_arr_to_str\n",
    "from ase import Atoms\n",
    "from ase.io import write\n",
    "from helper_code.MBDF import generate_mbdf"
   ]
  },
  {
   "cell_type": "code",
   "execution_count": 3,
   "metadata": {},
   "outputs": [],
   "source": [
    "benz_energy_data = np.load(\"../data/benzene_raw_data/Benzene_BNdoping_PBE0_pcX2_correct.npz\", allow_pickle=True)\n",
    "charges, total_energy = benz_energy_data['charges'], benz_energy_data['energies']\n",
    "coords = benz_energy_data['coords']"
   ]
  },
  {
   "cell_type": "code",
   "execution_count": 10,
   "metadata": {},
   "outputs": [
    {
     "name": "stdout",
     "output_type": "stream",
     "text": [
      "(17, 12)\n"
     ]
    }
   ],
   "source": [
    "print(charges.shape)"
   ]
  },
  {
   "cell_type": "code",
   "execution_count": 12,
   "metadata": {},
   "outputs": [],
   "source": [
    "mbdf = generate_mbdf(charges, coords, local=True)"
   ]
  },
  {
   "cell_type": "code",
   "execution_count": 13,
   "metadata": {},
   "outputs": [
    {
     "name": "stdout",
     "output_type": "stream",
     "text": [
      "(17, 12, 6)\n"
     ]
    }
   ],
   "source": [
    "print(mbdf.shape) # (17, 12, 6)"
   ]
  },
  {
   "cell_type": "code",
   "execution_count": 17,
   "metadata": {},
   "outputs": [],
   "source": [
    "mbdf_flatten = mbdf.reshape((mbdf.shape[0], -1))\n",
    "np.savetxt(\"../data/benzene_training_data/MBDF.csv\", mbdf_flatten, delimiter=',')"
   ]
  },
  {
   "cell_type": "code",
   "execution_count": 4,
   "metadata": {},
   "outputs": [],
   "source": [
    "fchl = np.array([generate_fchl_acsf(q, r, elements = np.unique(np.concatenate(charges)), pad=12) for q,r in zip(charges,coords)])"
   ]
  },
  {
   "cell_type": "code",
   "execution_count": 6,
   "metadata": {},
   "outputs": [],
   "source": [
    "fchl_flatten = fchl.reshape((fchl.shape[0], -1))\n",
    "np.savetxt(\"../data/benzene_training_data/FCHL.csv\", fchl_flatten, delimiter=',')"
   ]
  },
  {
   "cell_type": "code",
   "execution_count": 7,
   "metadata": {},
   "outputs": [
    {
     "name": "stdout",
     "output_type": "stream",
     "text": [
      "(17, 5952)\n"
     ]
    }
   ],
   "source": [
    "print(fchl_flatten.shape)"
   ]
  },
  {
   "cell_type": "code",
   "execution_count": 8,
   "metadata": {},
   "outputs": [
    {
     "name": "stdout",
     "output_type": "stream",
     "text": [
      "(17, 12, 496)\n"
     ]
    }
   ],
   "source": [
    "print(fchl.shape) # (17, 12, 496)"
   ]
  }
 ],
 "metadata": {
  "kernelspec": {
   "display_name": "Python 3",
   "language": "python",
   "name": "python3"
  },
  "language_info": {
   "codemirror_mode": {
    "name": "ipython",
    "version": 3
   },
   "file_extension": ".py",
   "mimetype": "text/x-python",
   "name": "python",
   "nbconvert_exporter": "python",
   "pygments_lexer": "ipython3",
   "version": "3.10.6"
  },
  "orig_nbformat": 4
 },
 "nbformat": 4,
 "nbformat_minor": 2
}
