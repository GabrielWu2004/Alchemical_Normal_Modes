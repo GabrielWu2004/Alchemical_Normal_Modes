{
 "cells": [
  {
   "cell_type": "code",
   "execution_count": 5,
   "metadata": {},
   "outputs": [],
   "source": [
    "import sys\n",
    "sys.path.append('../..')\n",
    "sys.path.append('../data')\n",
    "sys.path.append('../../helper_code')\n",
    "\n",
    "from sklearn.linear_model import Ridge\n",
    "from sklearn.kernel_ridge import KernelRidge\n",
    "from sklearn.model_selection import cross_val_score, KFold, GridSearchCV, train_test_split\n",
    "from sklearn.metrics import mean_squared_error\n",
    "import warnings\n",
    "import numpy as np\n",
    "import pandas as pd\n",
    "from IPython.display import display\n",
    "import copy\n",
    "from hyperopt import fmin, tpe, hp, STATUS_OK, Trials\n",
    "\n",
    "from helper_code.custom_kernel import extended_gaussian_kernel_nb, create_similarity_matrix_nb"
   ]
  },
  {
   "cell_type": "code",
   "execution_count": 2,
   "metadata": {},
   "outputs": [],
   "source": [
    "from qml.kernels import extended_gaussian_kernel"
   ]
  },
  {
   "cell_type": "code",
   "execution_count": 3,
   "metadata": {},
   "outputs": [],
   "source": [
    "# Load Data\n",
    "\n",
    "input_dataset = ['c', 'c_lexi', 'CE', 'CE_lexi', 'CSE', 'CSE_lexi']\n",
    "dataset_dict = {}\n",
    "\n",
    "for data in input_dataset:\n",
    "    dataset_dict[data] = pd.read_csv(f'../data/benzene_training_data/[Benz]_{data}.csv')\n",
    "delta_delta_total_energy = pd.read_csv('../data/benzene_training_data/DD_e_tot (kcal).csv')"
   ]
  },
  {
   "cell_type": "markdown",
   "metadata": {},
   "source": [
    "## CE with Gaussian Kernel ##"
   ]
  },
  {
   "cell_type": "code",
   "execution_count": 32,
   "metadata": {},
   "outputs": [
    {
     "name": "stdout",
     "output_type": "stream",
     "text": [
      "fold 0: mae = 13.569546257790307\n",
      "fold 1: mae = 11.808140145717271\n",
      "Average mae: 12.688843201753789\n"
     ]
    }
   ],
   "source": [
    "X_train = dataset_dict['CE'].to_numpy()\n",
    "y_train = delta_delta_total_energy\n",
    "\n",
    "params = {'alpha': 0.917371219009574, 'gamma': 0.01125777771448475}\n",
    "model = KernelRidge(**params)\n",
    "\n",
    "k_fold = KFold(n_splits=2, shuffle=True, random_state=42)\n",
    "neg_mae_scores = cross_val_score(model, X_train, y_train, scoring='neg_mean_absolute_error', cv=k_fold)\n",
    "mae_scores = -neg_mae_scores\n",
    "mean_mae = mae_scores.mean()\n",
    "\n",
    "for fold, score in enumerate(mae_scores):\n",
    "    print(f\"fold {fold}: mae = {score}\")\n",
    "\n",
    "print(f\"Average mae: {mean_mae}\")"
   ]
  },
  {
   "cell_type": "code",
   "execution_count": 31,
   "metadata": {},
   "outputs": [
    {
     "name": "stdout",
     "output_type": "stream",
     "text": [
      "100%|██████████| 1000/1000 [00:14<00:00, 67.39trial/s, best loss: 8.284366294970386]\n",
      "Best hyperparameters: {'alpha': 0.917371219009574, 'gamma': 0.01125777771448475}\n",
      "Loss: 8.284366294970386\n"
     ]
    }
   ],
   "source": [
    "X_train = dataset_dict['CE'].to_numpy()\n",
    "y_train = delta_delta_total_energy\n",
    "\n",
    "def objective(params):\n",
    "    params['kernel'] = 'rbf'\n",
    "    model = KernelRidge(**params)\n",
    "    neg_mae_scores = cross_val_score(model, X_train, y_train, scoring='neg_mean_absolute_error', cv=2)\n",
    "    return {'loss': -neg_mae_scores.mean(), 'status': STATUS_OK}\n",
    "\n",
    "space = {\n",
    "    'alpha': hp.loguniform('alpha', -30, 0),\n",
    "    'gamma': hp.loguniform('gamma', -30, 0),\n",
    "}\n",
    "\n",
    "trials = Trials()\n",
    "with warnings.catch_warnings():\n",
    "    warnings.filterwarnings('ignore')\n",
    "    best = fmin(fn=objective,\n",
    "                space=space,\n",
    "                algo=tpe.suggest, # tree parzen estimator\n",
    "                max_evals=1000,\n",
    "                trials=trials)\n",
    "\n",
    "print(\"Best hyperparameters:\", best)\n",
    "print(\"Loss:\", trials.best_trial['result']['loss'])"
   ]
  },
  {
   "cell_type": "markdown",
   "metadata": {},
   "source": [
    "## CSE with Gaussian Kernel ##"
   ]
  },
  {
   "cell_type": "markdown",
   "metadata": {},
   "source": [
    "### No Lexi ###"
   ]
  },
  {
   "cell_type": "code",
   "execution_count": 29,
   "metadata": {},
   "outputs": [
    {
     "name": "stdout",
     "output_type": "stream",
     "text": [
      "fold 0: mae = 6.297467628133976\n",
      "fold 1: mae = 9.962673234588138\n",
      "Average mae: 8.130070431361057\n"
     ]
    }
   ],
   "source": [
    "X_train = dataset_dict['CSE'].to_numpy()\n",
    "y_train = delta_delta_total_energy\n",
    "\n",
    "params = {'alpha': 1.3071058074112173e-10, 'gamma': 1.901449554067671e-12}\n",
    "model = KernelRidge(**params)\n",
    "\n",
    "k_fold = KFold(n_splits=2, shuffle=True, random_state=42)\n",
    "neg_mae_scores = cross_val_score(model, X_train, y_train, scoring='neg_mean_absolute_error', cv=k_fold)\n",
    "mae_scores = -neg_mae_scores\n",
    "mean_mae = mae_scores.mean()\n",
    "\n",
    "for fold, score in enumerate(mae_scores):\n",
    "    print(f\"fold {fold}: mae = {score}\")\n",
    "\n",
    "print(f\"Average mae: {mean_mae}\")"
   ]
  },
  {
   "cell_type": "code",
   "execution_count": 16,
   "metadata": {},
   "outputs": [
    {
     "name": "stdout",
     "output_type": "stream",
     "text": [
      "  0%|          | 0/1000 [00:00<?, ?trial/s, best loss=?]"
     ]
    },
    {
     "name": "stdout",
     "output_type": "stream",
     "text": [
      "100%|██████████| 1000/1000 [00:14<00:00, 67.72trial/s, best loss: 6.024975570839132]\n",
      "Best hyperparameters: {'alpha': 1.3071058074112173e-10, 'gamma': 1.901449554067671e-12}\n",
      "Loss: 6.024975570839132\n"
     ]
    }
   ],
   "source": [
    "X_train = dataset_dict['CSE'].to_numpy()\n",
    "y_train = delta_delta_total_energy\n",
    "\n",
    "def objective(params):\n",
    "    params['kernel'] = 'rbf'\n",
    "    model = KernelRidge(**params)\n",
    "    neg_mae_scores = cross_val_score(model, X_train, y_train, scoring='neg_mean_absolute_error', cv=2)\n",
    "    return {'loss': -neg_mae_scores.mean(), 'status': STATUS_OK}\n",
    "\n",
    "space = {\n",
    "    'alpha': hp.loguniform('alpha', -30, 0),\n",
    "    'gamma': hp.loguniform('gamma', -30, 0),\n",
    "}\n",
    "\n",
    "trials = Trials()\n",
    "with warnings.catch_warnings():\n",
    "    warnings.filterwarnings('ignore')\n",
    "    best = fmin(fn=objective,\n",
    "                space=space,\n",
    "                algo=tpe.suggest, # tree parzen estimator\n",
    "                max_evals=1000,\n",
    "                trials=trials)\n",
    "\n",
    "print(\"Best hyperparameters:\", best)\n",
    "print(\"Loss:\", trials.best_trial['result']['loss'])"
   ]
  },
  {
   "cell_type": "markdown",
   "metadata": {},
   "source": [
    "### With Lexi ###"
   ]
  },
  {
   "cell_type": "code",
   "execution_count": 28,
   "metadata": {},
   "outputs": [
    {
     "name": "stdout",
     "output_type": "stream",
     "text": [
      "fold 0: mae = 8.140659412143084\n",
      "fold 1: mae = 7.8082439788997124\n",
      "Average mae: 7.974451695521398\n"
     ]
    }
   ],
   "source": [
    "X_train = dataset_dict['CSE_lexi'].to_numpy()\n",
    "y_train = delta_delta_total_energy\n",
    "\n",
    "params = {'alpha': 1.383001658053961e-06, 'gamma': 1.2488389145686083e-08}\n",
    "model = KernelRidge(**params)\n",
    "\n",
    "k_fold = KFold(n_splits=2, shuffle=True, random_state=42)\n",
    "neg_mae_scores = cross_val_score(model, X_train, y_train, scoring='neg_mean_absolute_error', cv=k_fold)\n",
    "mae_scores = -neg_mae_scores\n",
    "mean_mae = mae_scores.mean()\n",
    "\n",
    "for fold, score in enumerate(mae_scores):\n",
    "    print(f\"fold {fold}: mae = {score}\")\n",
    "\n",
    "print(f\"Average mae: {mean_mae}\")"
   ]
  },
  {
   "cell_type": "code",
   "execution_count": 21,
   "metadata": {},
   "outputs": [
    {
     "name": "stdout",
     "output_type": "stream",
     "text": [
      "100%|██████████| 1000/1000 [00:15<00:00, 65.95trial/s, best loss: 6.613715481690605]\n",
      "Best hyperparameters: {'alpha': 1.383001658053961e-06, 'gamma': 1.2488389145686083e-08}\n",
      "Loss: 6.613715481690605\n"
     ]
    }
   ],
   "source": [
    "X_train = dataset_dict['CSE_lexi'].to_numpy()\n",
    "y_train = delta_delta_total_energy\n",
    "\n",
    "def objective(params):\n",
    "    params['kernel'] = 'rbf'\n",
    "    model = KernelRidge(**params)\n",
    "    neg_mae_scores = cross_val_score(model, X_train, y_train, scoring='neg_mean_absolute_error', cv=2)\n",
    "    return {'loss': -neg_mae_scores.mean(), 'status': STATUS_OK}\n",
    "\n",
    "space = {\n",
    "    'alpha': hp.loguniform('alpha', -30, 0),\n",
    "    'gamma': hp.loguniform('gamma', -30, 0),\n",
    "}\n",
    "\n",
    "trials = Trials()\n",
    "with warnings.catch_warnings():\n",
    "    warnings.filterwarnings('ignore')\n",
    "    best = fmin(fn=objective,\n",
    "                space=space,\n",
    "                algo=tpe.suggest, # tree parzen estimator\n",
    "                max_evals=1000,\n",
    "                trials=trials)\n",
    "\n",
    "print(\"Best hyperparameters:\", best)\n",
    "print(\"Loss:\", trials.best_trial['result']['loss'])"
   ]
  },
  {
   "cell_type": "markdown",
   "metadata": {},
   "source": [
    "## Extended Gaussian ##"
   ]
  },
  {
   "cell_type": "markdown",
   "metadata": {},
   "source": [
    "### QML Version ###"
   ]
  },
  {
   "cell_type": "code",
   "execution_count": 16,
   "metadata": {},
   "outputs": [
    {
     "name": "stdout",
     "output_type": "stream",
     "text": [
      "Fold 1: MAE = 5.612419153425771\n",
      "Fold 2: MAE = 12.685293747081648\n",
      "Average MAE across all folds: 9.14885645025371\n"
     ]
    }
   ],
   "source": [
    "X_train = dataset_dict['CSE_lexi'].to_numpy()\n",
    "y_train = delta_delta_total_energy.to_numpy()\n",
    "\n",
    "params = {'alpha': 0.01829321042152034, 'beta': 2.001536698758208, 'epsilon': 8.078367543282445e-10, 'gamma': 0.0010846659947661222}\n",
    "beta = params['beta']\n",
    "epsilon = params['epsilon']\n",
    "gamma = params['gamma']\n",
    "alpha = params['alpha']\n",
    "\n",
    "similarity_matrix = extended_gaussian_kernel(X_train, X_train, gamma, epsilon, beta)\n",
    "krr_model = KernelRidge(kernel='precomputed', alpha=alpha)\n",
    "\n",
    "with warnings.catch_warnings():\n",
    "    warnings.filterwarnings('ignore')\n",
    "    neg_mae = cross_val_score(krr_model, similarity_matrix, y_train, scoring='neg_mean_absolute_error', cv=2)\n",
    "    mae_scores = -neg_mae\n",
    "    avg_mae = mae_scores.mean()\n",
    "\n",
    "for fold, mae in enumerate(mae_scores):\n",
    "    print(f\"Fold {fold+1}: MAE = {mae}\")\n",
    "print(f\"Average MAE across all folds: {avg_mae}\")"
   ]
  },
  {
   "cell_type": "code",
   "execution_count": 12,
   "metadata": {},
   "outputs": [
    {
     "name": "stdout",
     "output_type": "stream",
     "text": [
      "  3%|▎         | 9/300 [00:00<00:08, 34.53trial/s, best loss: 9.93077858509165]  "
     ]
    },
    {
     "name": "stdout",
     "output_type": "stream",
     "text": [
      "100%|██████████| 300/300 [00:16<00:00, 18.49trial/s, best loss: 9.14885645025371] \n",
      "CSE_lexi, Extended Gaussian\n",
      "Best hyperparameters: {'alpha': 0.01829321042152034, 'beta': 2.001536698758208, 'epsilon': 8.078367543282445e-10, 'gamma': 0.0010846659947661222}\n",
      "Loss: 9.14885645025371\n"
     ]
    }
   ],
   "source": [
    "X_train = dataset_dict['CSE_lexi'].to_numpy()\n",
    "y_train = delta_delta_total_energy.to_numpy()\n",
    "\n",
    "def objective(params):\n",
    "    beta = params['beta']\n",
    "    epsilon = params['epsilon']\n",
    "    gamma = params['gamma']\n",
    "    alpha = params['alpha']\n",
    "    similarity_matrix = extended_gaussian_kernel(X_train, X_train, gamma, epsilon, beta)\n",
    "    krr_model = KernelRidge(kernel='precomputed', alpha=alpha)\n",
    "    neg_mae_scores = cross_val_score(krr_model, similarity_matrix, y_train, scoring='neg_mean_absolute_error', cv=2)\n",
    "    return {'loss': -neg_mae_scores.mean(), 'status': STATUS_OK}\n",
    "\n",
    "param_space = {\n",
    "    'gamma': hp.loguniform('gamma', -30, 2),\n",
    "    'epsilon': hp.loguniform('epsilon', -30, 2), \n",
    "    'beta': hp.loguniform('beta', -30, 2), \n",
    "    'alpha': hp.loguniform('alpha', -30, 2) \n",
    "}\n",
    "\n",
    "trials = Trials()\n",
    "with warnings.catch_warnings():\n",
    "    warnings.filterwarnings('ignore')\n",
    "    best = fmin(fn=objective,\n",
    "                space=param_space,\n",
    "                algo=tpe.suggest, # tree parzen estimator\n",
    "                max_evals=300,\n",
    "                trials=trials)\n",
    "    \n",
    "print(\"CSE_lexi, Extended Gaussian\")\n",
    "print(\"Best hyperparameters:\", best)\n",
    "print(\"Loss:\", trials.best_trial['result']['loss'])"
   ]
  },
  {
   "cell_type": "markdown",
   "metadata": {},
   "source": [
    "### Original ###"
   ]
  },
  {
   "cell_type": "code",
   "execution_count": 19,
   "metadata": {},
   "outputs": [
    {
     "name": "stdout",
     "output_type": "stream",
     "text": [
      "Fold 1: MAE = 4.425521169940794\n",
      "Fold 2: MAE = 8.890728097994797\n",
      "Average MAE across all folds: 6.6581246339677955\n"
     ]
    }
   ],
   "source": [
    "X_train = dataset_dict['CSE_lexi'].to_numpy()\n",
    "y_train = delta_delta_total_energy.to_numpy()\n",
    "\n",
    "params = {'alpha': 0.00015236682100382314, 'beta': 2.908625756878312e-06, 'epsilon': 1.7774464170187634e-09, 'gamma': 1.3300690162853116e-12}\n",
    "beta = params['beta']\n",
    "epsilon = params['epsilon']\n",
    "gamma = params['gamma']\n",
    "alpha = params['alpha']\n",
    "\n",
    "similarity_matrix = create_similarity_matrix_nb(X_train, X_train, extended_gaussian_kernel_nb, beta, epsilon, gamma)\n",
    "krr_model = KernelRidge(kernel='precomputed', alpha=alpha)\n",
    "\n",
    "with warnings.catch_warnings():\n",
    "    warnings.filterwarnings('ignore')\n",
    "    neg_mae = cross_val_score(krr_model, similarity_matrix, y_train, scoring='neg_mean_absolute_error', cv=2)\n",
    "    mae_scores = -neg_mae\n",
    "    avg_mae = mae_scores.mean()\n",
    "\n",
    "for fold, mae in enumerate(mae_scores):\n",
    "    print(f\"Fold {fold+1}: MAE = {mae}\")\n",
    "print(f\"Average MAE across all folds: {avg_mae}\")"
   ]
  },
  {
   "cell_type": "code",
   "execution_count": 18,
   "metadata": {},
   "outputs": [
    {
     "name": "stdout",
     "output_type": "stream",
     "text": [
      "  2%|▏         | 5/300 [00:00<00:07, 40.97trial/s, best loss: 10.82017272214434]"
     ]
    },
    {
     "name": "stdout",
     "output_type": "stream",
     "text": [
      "100%|██████████| 300/300 [00:22<00:00, 13.62trial/s, best loss: 8.592090444906319]\n",
      "CSE_lexi, Extended Gaussian\n",
      "Best hyperparameters: {'alpha': 0.05019958885046655, 'beta': 0.00024549575430792583, 'epsilon': 1.975582471883263e-12, 'gamma': 1.9493584646253573e-13}\n",
      "Loss: 8.592090444906319\n"
     ]
    }
   ],
   "source": [
    "X_train = dataset_dict['CSE_lexi'].to_numpy()\n",
    "y_train = delta_delta_total_energy.to_numpy()\n",
    "\n",
    "def objective(params):\n",
    "    beta = params['beta']\n",
    "    epsilon = params['epsilon']\n",
    "    gamma = params['gamma']\n",
    "    alpha = params['alpha']\n",
    "    similarity_matrix = create_similarity_matrix_nb(X_train, X_train, extended_gaussian_kernel_nb, beta, epsilon, gamma)\n",
    "    krr_model = KernelRidge(kernel='precomputed', alpha=alpha)\n",
    "    neg_mae_scores = cross_val_score(krr_model, similarity_matrix, y_train, scoring='neg_mean_absolute_error', cv=5)\n",
    "    return {'loss': -neg_mae_scores.mean(), 'status': STATUS_OK}\n",
    "\n",
    "param_space = {\n",
    "    'gamma': hp.loguniform('gamma', -30, 2),\n",
    "    'epsilon': hp.loguniform('epsilon', -30, 2), \n",
    "    'beta': hp.loguniform('beta', -30, 2), \n",
    "    'alpha': hp.loguniform('alpha', -30, 2) \n",
    "}\n",
    "\n",
    "trials = Trials()\n",
    "with warnings.catch_warnings():\n",
    "    warnings.filterwarnings('ignore')\n",
    "    best = fmin(fn=objective,\n",
    "                space=param_space,\n",
    "                algo=tpe.suggest, # tree parzen estimator\n",
    "                max_evals=300,\n",
    "                trials=trials)\n",
    "\n",
    "print(\"CSE_lexi, Extended Gaussian\")\n",
    "print(\"Best hyperparameters:\", best)\n",
    "print(\"Loss:\", trials.best_trial['result']['loss'])"
   ]
  }
 ],
 "metadata": {
  "kernelspec": {
   "display_name": "Python 3",
   "language": "python",
   "name": "python3"
  },
  "language_info": {
   "codemirror_mode": {
    "name": "ipython",
    "version": 3
   },
   "file_extension": ".py",
   "mimetype": "text/x-python",
   "name": "python",
   "nbconvert_exporter": "python",
   "pygments_lexer": "ipython3",
   "version": "3.10.9"
  },
  "orig_nbformat": 4
 },
 "nbformat": 4,
 "nbformat_minor": 2
}
