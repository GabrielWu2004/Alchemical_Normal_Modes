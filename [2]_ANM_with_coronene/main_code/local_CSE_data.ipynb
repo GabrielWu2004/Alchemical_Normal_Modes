{
 "cells": [
  {
   "cell_type": "code",
   "execution_count": 3,
   "metadata": {},
   "outputs": [],
   "source": [
    "import sys\n",
    "sys.path.append('../..')\n",
    "sys.path.append('../data')\n",
    "sys.path.append('../../helper_code')\n",
    "\n",
    "import numpy as np\n",
    "import pandas as pd"
   ]
  },
  {
   "cell_type": "code",
   "execution_count": 4,
   "metadata": {},
   "outputs": [
    {
     "name": "stdout",
     "output_type": "stream",
     "text": [
      "(2400, 24)\n",
      "(24, 24)\n"
     ]
    }
   ],
   "source": [
    "CSE = pd.read_csv(\"../data/coronene_training_data/CSE_lexi.csv\").values\n",
    "hessian_data = np.load(\"coronene_pbe0_pcX2_hessian.npz\", allow_pickle=True)\n",
    "H = hessian_data['H']\n",
    "Q = np.linalg.eig(H)[1]\n",
    "print(CSE.shape)\n",
    "print(Q.shape)\n"
   ]
  },
  {
   "cell_type": "code",
   "execution_count": 5,
   "metadata": {},
   "outputs": [
    {
     "name": "stdout",
     "output_type": "stream",
     "text": [
      "(2400, 24, 24)\n"
     ]
    }
   ],
   "source": [
    "CSE = CSE[:, np.newaxis, :]\n",
    "CSE_local = CSE * Q\n",
    "print(CSE_local.shape)"
   ]
  },
  {
   "cell_type": "code",
   "execution_count": 7,
   "metadata": {},
   "outputs": [],
   "source": [
    "CSE_flatten = CSE_local.reshape((CSE.shape[0], -1))\n",
    "np.savetxt(\"../data/coronene_training_data/CSE_local.csv\", CSE_flatten, delimiter=',')"
   ]
  }
 ],
 "metadata": {
  "kernelspec": {
   "display_name": "Python 3",
   "language": "python",
   "name": "python3"
  },
  "language_info": {
   "codemirror_mode": {
    "name": "ipython",
    "version": 3
   },
   "file_extension": ".py",
   "mimetype": "text/x-python",
   "name": "python",
   "nbconvert_exporter": "python",
   "pygments_lexer": "ipython3",
   "version": "3.10.6"
  },
  "orig_nbformat": 4
 },
 "nbformat": 4,
 "nbformat_minor": 2
}
