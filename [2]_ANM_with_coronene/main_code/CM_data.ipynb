{
 "cells": [
  {
   "cell_type": "code",
   "execution_count": 1,
   "metadata": {},
   "outputs": [],
   "source": [
    "import sys\n",
    "sys.path.append('../..')\n",
    "sys.path.append('../../APDFT')\n",
    "sys.path.append('../../helper_code')\n",
    "sys.path.append('../data')\n",
    "\n",
    "import pickle\n",
    "from pyscf import gto, scf, dft, cc\n",
    "from ase import Atoms\n",
    "import numpy as np\n",
    "import pandas as pd\n",
    "import pyscf\n",
    "import matplotlib.pyplot as plt\n",
    "import matplotlib.ticker as ticker\n",
    "import basis_set_exchange as bse\n",
    "from APDFT.FcMole import *\n",
    "import os\n",
    "import ast\n",
    "from copy import deepcopy\n",
    "from IPython.display import display\n",
    "from helper_code.data_processing import *\n",
    "import qml\n",
    "from helper_code.util import charge_arr_to_str\n",
    "from ase import Atoms\n",
    "from ase.io import write\n",
    "\n",
    "%load_ext autoreload\n",
    "%autoreload 2\n",
    "from APDFT.AP_class import APDFT_perturbator as AP"
   ]
  },
  {
   "cell_type": "code",
   "execution_count": 2,
   "metadata": {},
   "outputs": [
    {
     "data": {
      "text/html": [
       "<div>\n",
       "<style scoped>\n",
       "    .dataframe tbody tr th:only-of-type {\n",
       "        vertical-align: middle;\n",
       "    }\n",
       "\n",
       "    .dataframe tbody tr th {\n",
       "        vertical-align: top;\n",
       "    }\n",
       "\n",
       "    .dataframe thead th {\n",
       "        text-align: right;\n",
       "    }\n",
       "</style>\n",
       "<table border=\"1\" class=\"dataframe\">\n",
       "  <thead>\n",
       "    <tr style=\"text-align: right;\">\n",
       "      <th></th>\n",
       "      <th>charges</th>\n",
       "      <th>total energy</th>\n",
       "      <th>delta total energy</th>\n",
       "    </tr>\n",
       "  </thead>\n",
       "  <tbody>\n",
       "    <tr>\n",
       "      <th>0</th>\n",
       "      <td>[7, 5, 5, 5, 5, 7, 5, 7, 5, 5, 7, 7, 5, 7, 6, ...</td>\n",
       "      <td>-946.036986</td>\n",
       "      <td>36.315051</td>\n",
       "    </tr>\n",
       "    <tr>\n",
       "      <th>1</th>\n",
       "      <td>[6, 5, 7, 6, 6, 6, 6, 6, 6, 6, 5, 7, 6, 5, 7, ...</td>\n",
       "      <td>-929.442623</td>\n",
       "      <td>19.720687</td>\n",
       "    </tr>\n",
       "    <tr>\n",
       "      <th>2</th>\n",
       "      <td>[6, 5, 7, 5, 5, 5, 7, 5, 5, 6, 5, 7, 7, 5, 6, ...</td>\n",
       "      <td>-942.508112</td>\n",
       "      <td>32.786177</td>\n",
       "    </tr>\n",
       "  </tbody>\n",
       "</table>\n",
       "</div>"
      ],
      "text/plain": [
       "                                             charges  total energy   \n",
       "0  [7, 5, 5, 5, 5, 7, 5, 7, 5, 5, 7, 7, 5, 7, 6, ...   -946.036986  \\\n",
       "1  [6, 5, 7, 6, 6, 6, 6, 6, 6, 6, 5, 7, 6, 5, 7, ...   -929.442623   \n",
       "2  [6, 5, 7, 5, 5, 5, 7, 5, 5, 6, 5, 7, 7, 5, 6, ...   -942.508112   \n",
       "\n",
       "   delta total energy  \n",
       "0           36.315051  \n",
       "1           19.720687  \n",
       "2           32.786177  "
      ]
     },
     "metadata": {},
     "output_type": "display_data"
    }
   ],
   "source": [
    "coronene_energy_raw_data = np.load(\"../data/coronene_raw_data/coronene_mutants_pbe0_pcx2.npz\", allow_pickle=True)\n",
    "charges, total_energy = coronene_energy_raw_data['charges'], coronene_energy_raw_data['energies']\n",
    "\n",
    "columns = ['charges', 'total energy']\n",
    "coronene_energy_data = pd.DataFrame(columns=columns)\n",
    "coronene_energy_data['charges'] = charges.tolist()\n",
    "coronene_energy_data['total energy'] = total_energy.tolist()\n",
    "\n",
    "CORONENE_REF_ENERGY = -909.721935153841\n",
    "coronene_energy_data['delta total energy'] = coronene_energy_data['total energy'].apply(lambda x: CORONENE_REF_ENERGY-x)\n",
    "\n",
    "display(coronene_energy_data.head(3))"
   ]
  },
  {
   "cell_type": "code",
   "execution_count": 3,
   "metadata": {},
   "outputs": [],
   "source": [
    "xyz_file = '../data/coronene_raw_data/coronene_opt_pbe0_pcX2.xyz'\n",
    "with open(xyz_file, 'r') as f:\n",
    "    lines = f.readlines()[2:]  # Skip the first two lines (atom count and comment)\n",
    "    atoms = [line.split() for line in lines]\n",
    "\n",
    "# Extract atomic symbols and coordinates\n",
    "symbols = [atom[0] for atom in atoms]\n",
    "all_atoms_coord = [[float(atom[1]), float(atom[2]), float(atom[3])] for atom in atoms]"
   ]
  },
  {
   "cell_type": "code",
   "execution_count": 4,
   "metadata": {},
   "outputs": [
    {
     "ename": "AttributeError",
     "evalue": "'str' object has no attribute 'tolist'",
     "output_type": "error",
     "traceback": [
      "\u001b[0;31m---------------------------------------------------------------------------\u001b[0m",
      "\u001b[0;31mAttributeError\u001b[0m                            Traceback (most recent call last)",
      "Cell \u001b[0;32mIn[4], line 2\u001b[0m\n\u001b[1;32m      1\u001b[0m sample_charge_arr \u001b[39m=\u001b[39m coronene_energy_data[\u001b[39m'\u001b[39m\u001b[39mcharges\u001b[39m\u001b[39m'\u001b[39m][\u001b[39m0\u001b[39m]\n\u001b[0;32m----> 2\u001b[0m compressed_str \u001b[39m=\u001b[39m charge_arr_to_str(sample_charge_arr)\n\u001b[1;32m      3\u001b[0m ase_mol \u001b[39m=\u001b[39m Atoms(symbol\u001b[39m=\u001b[39mcompressed_str, position\u001b[39m=\u001b[39mall_atoms_coord)\n\u001b[1;32m      4\u001b[0m write(\u001b[39m\"\u001b[39m\u001b[39mtemp_mol.xyz\u001b[39m\u001b[39m\"\u001b[39m, ase_mol, \u001b[39mformat\u001b[39m\u001b[39m=\u001b[39m\u001b[39m'\u001b[39m\u001b[39mxyz\u001b[39m\u001b[39m'\u001b[39m)\n",
      "File \u001b[0;32m~/Quantum_machine_learning/[2]_ANM_with_coronene/main_code/../../helper_code/util.py:186\u001b[0m, in \u001b[0;36mcharge_arr_to_str\u001b[0;34m(charge_arr)\u001b[0m\n\u001b[1;32m    184\u001b[0m mapping \u001b[39m=\u001b[39m {\u001b[39m1\u001b[39m: \u001b[39m'\u001b[39m\u001b[39mH\u001b[39m\u001b[39m'\u001b[39m, \u001b[39m5\u001b[39m: \u001b[39m'\u001b[39m\u001b[39mB\u001b[39m\u001b[39m'\u001b[39m, \u001b[39m6\u001b[39m: \u001b[39m'\u001b[39m\u001b[39mC\u001b[39m\u001b[39m'\u001b[39m, \u001b[39m7\u001b[39m: \u001b[39m'\u001b[39m\u001b[39mN\u001b[39m\u001b[39m'\u001b[39m}\n\u001b[1;32m    185\u001b[0m string_arr \u001b[39m=\u001b[39m [mapping\u001b[39m.\u001b[39mget(integer, \u001b[39m'\u001b[39m\u001b[39m'\u001b[39m) \u001b[39mfor\u001b[39;00m integer \u001b[39min\u001b[39;00m charge_arr]\n\u001b[0;32m--> 186\u001b[0m compressed_str \u001b[39m=\u001b[39m compress_str_arrays(string_arr)\n\u001b[1;32m    187\u001b[0m \u001b[39mreturn\u001b[39;00m compressed_str\n",
      "File \u001b[0;32m~/Quantum_machine_learning/[2]_ANM_with_coronene/main_code/../../helper_code/util.py:173\u001b[0m, in \u001b[0;36mcompress_str_arrays\u001b[0;34m(str_array)\u001b[0m\n\u001b[1;32m    172\u001b[0m \u001b[39mdef\u001b[39;00m \u001b[39mcompress_str_arrays\u001b[39m(str_array):\n\u001b[0;32m--> 173\u001b[0m     \u001b[39mreturn\u001b[39;00m [compress_string(str_arr\u001b[39m.\u001b[39mtolist()) \u001b[39mfor\u001b[39;00m str_arr \u001b[39min\u001b[39;00m str_array]\n",
      "File \u001b[0;32m~/Quantum_machine_learning/[2]_ANM_with_coronene/main_code/../../helper_code/util.py:173\u001b[0m, in \u001b[0;36m<listcomp>\u001b[0;34m(.0)\u001b[0m\n\u001b[1;32m    172\u001b[0m \u001b[39mdef\u001b[39;00m \u001b[39mcompress_str_arrays\u001b[39m(str_array):\n\u001b[0;32m--> 173\u001b[0m     \u001b[39mreturn\u001b[39;00m [compress_string(str_arr\u001b[39m.\u001b[39;49mtolist()) \u001b[39mfor\u001b[39;00m str_arr \u001b[39min\u001b[39;00m str_array]\n",
      "\u001b[0;31mAttributeError\u001b[0m: 'str' object has no attribute 'tolist'"
     ]
    }
   ],
   "source": [
    "sample_charge_arr = coronene_energy_data['charges'][0]\n",
    "compressed_str = charge_arr_to_str(sample_charge_arr)\n",
    "ase_mol = Atoms(symbol=compressed_str, position=all_atoms_coord)\n",
    "write(\"temp_mol.xyz\", ase_mol, format='xyz')\n",
    "mol = qml.Compound(xyz=\"temp_mol.xyz\")\n",
    "mol.generate_coulomb_matrix(size=36, sorting=\"row-norm\")\n",
    "CM_rep = mol.representation\n",
    "print(CM_rep)\n",
    "os.remove(\"temp_mol.xyz\")"
   ]
  }
 ],
 "metadata": {
  "kernelspec": {
   "display_name": "Python 3",
   "language": "python",
   "name": "python3"
  },
  "language_info": {
   "codemirror_mode": {
    "name": "ipython",
    "version": 3
   },
   "file_extension": ".py",
   "mimetype": "text/x-python",
   "name": "python",
   "nbconvert_exporter": "python",
   "pygments_lexer": "ipython3",
   "version": "3.10.6"
  },
  "orig_nbformat": 4
 },
 "nbformat": 4,
 "nbformat_minor": 2
}
