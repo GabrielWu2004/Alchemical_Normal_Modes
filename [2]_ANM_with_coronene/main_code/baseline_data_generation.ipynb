{
 "cells": [
  {
   "cell_type": "code",
   "execution_count": 4,
   "metadata": {},
   "outputs": [],
   "source": [
    "import sys\n",
    "sys.path.append('../..')\n",
    "sys.path.append('../../APDFT')\n",
    "sys.path.append('../../helper_code')\n",
    "sys.path.append('../data')\n",
    "\n",
    "import numpy as np\n",
    "import pandas as pd\n",
    "import matplotlib.pyplot as plt\n",
    "import matplotlib.ticker as ticker\n",
    "from copy import deepcopy\n",
    "from IPython.display import display\n",
    "# from qml.representations import generate_coulomb_matrix, generate_fchl_acsf, generate_bob\n",
    "from helper_code.util import charge_arr_to_str\n",
    "from helper_code.MBDF import generate_mbdf, generate_df"
   ]
  },
  {
   "cell_type": "code",
   "execution_count": 5,
   "metadata": {},
   "outputs": [
    {
     "name": "stdout",
     "output_type": "stream",
     "text": [
      "2043\n"
     ]
    }
   ],
   "source": [
    "coronene_energy_raw_data = np.load(\"../data/coronene_raw_data/coronene_mutants_pbe_pcx2_corrected3.npz\", allow_pickle=True)\n",
    "charges, total_energy = coronene_energy_raw_data['charges'], coronene_energy_raw_data['energies']\n",
    "\n",
    "num_mol = charges.shape[0]\n",
    "print(num_mol)"
   ]
  },
  {
   "cell_type": "code",
   "execution_count": 6,
   "metadata": {},
   "outputs": [],
   "source": [
    "xyz_file = '../data/coronene_raw_data/coronene_opt_pbe0_pcX2.xyz'\n",
    "with open(xyz_file, 'r') as f:\n",
    "    lines = f.readlines()[2:]  # Skip the first two lines (atom count and comment)\n",
    "    atoms = [line.split() for line in lines]\n",
    "\n",
    "# Extract atomic symbols and coordinates\n",
    "symbols = [atom[0] for atom in atoms]\n",
    "all_atoms_coord = [[float(atom[1]), float(atom[2]), float(atom[3])] for atom in atoms]\n",
    "coordinates = np.tile(np.array(all_atoms_coord), (num_mol, 1, 1))"
   ]
  },
  {
   "cell_type": "code",
   "execution_count": 7,
   "metadata": {},
   "outputs": [
    {
     "name": "stdout",
     "output_type": "stream",
     "text": [
      "(2043, 36, 3)\n"
     ]
    }
   ],
   "source": [
    "print(coordinates.shape)"
   ]
  },
  {
   "cell_type": "markdown",
   "metadata": {},
   "source": [
    "## CM, BOB, FCHL ##"
   ]
  },
  {
   "cell_type": "code",
   "execution_count": 16,
   "metadata": {},
   "outputs": [],
   "source": [
    "# cm = np.array([generate_coulomb_matrix(q, r, size=36) for q, r, in zip(charges, coordinates)])\n",
    "# bob = np.array([generate_bob(q, r, atomtypes=['C', 'N', 'B', 'H'], asize={\"C\":24, \"N\":12, \"B\":12, \"H\":12}) for q, r, in zip(charges, coordinates)])"
   ]
  },
  {
   "cell_type": "code",
   "execution_count": 17,
   "metadata": {},
   "outputs": [
    {
     "name": "stdout",
     "output_type": "stream",
     "text": [
      "(2400, 666)\n",
      "(2400, 1830)\n",
      "(2400, 36, 496)\n"
     ]
    }
   ],
   "source": [
    "# print(cm.shape)\n",
    "# print(bob.shape)"
   ]
  },
  {
   "cell_type": "code",
   "execution_count": 19,
   "metadata": {},
   "outputs": [],
   "source": [
    "# np.savetxt(\"../data/coronene_training_data/CM.csv\", cm, delimiter=',')\n",
    "# np.savetxt(\"../data/coronene_training_data/BOB.csv\", bob, delimiter=',')"
   ]
  },
  {
   "cell_type": "markdown",
   "metadata": {},
   "source": [
    "## MBDF ##"
   ]
  },
  {
   "cell_type": "code",
   "execution_count": 8,
   "metadata": {},
   "outputs": [
    {
     "name": "stdout",
     "output_type": "stream",
     "text": [
      "(2043, 36, 6)\n"
     ]
    }
   ],
   "source": [
    "mbdf = generate_mbdf(charges, coordinates, local=True)\n",
    "print(mbdf.shape) # (2043, 36, 6)"
   ]
  },
  {
   "cell_type": "code",
   "execution_count": 9,
   "metadata": {},
   "outputs": [
    {
     "name": "stdout",
     "output_type": "stream",
     "text": [
      "(2043, 2400)\n"
     ]
    }
   ],
   "source": [
    "df = generate_df(mbdf, charges)\n",
    "print(df.shape) # (2043, 2400)"
   ]
  },
  {
   "cell_type": "code",
   "execution_count": 10,
   "metadata": {},
   "outputs": [],
   "source": [
    "mbdf_flatten = mbdf.reshape((mbdf.shape[0], -1))\n",
    "np.savetxt(\"../data/coronene_training_data/MBDF.csv\", mbdf_flatten, delimiter=',')\n",
    "np.savetxt(\"../data/coronene_training_data/DF.csv\", df, delimiter=',')"
   ]
  }
 ],
 "metadata": {
  "kernelspec": {
   "display_name": "Python 3",
   "language": "python",
   "name": "python3"
  },
  "language_info": {
   "codemirror_mode": {
    "name": "ipython",
    "version": 3
   },
   "file_extension": ".py",
   "mimetype": "text/x-python",
   "name": "python",
   "nbconvert_exporter": "python",
   "pygments_lexer": "ipython3",
   "version": "3.10.6"
  },
  "orig_nbformat": 4
 },
 "nbformat": 4,
 "nbformat_minor": 2
}
