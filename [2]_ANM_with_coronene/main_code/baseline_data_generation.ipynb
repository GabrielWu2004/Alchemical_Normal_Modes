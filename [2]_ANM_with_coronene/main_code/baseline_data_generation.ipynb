{
 "cells": [
  {
   "cell_type": "code",
   "execution_count": 11,
   "metadata": {},
   "outputs": [
    {
     "name": "stdout",
     "output_type": "stream",
     "text": [
      "The autoreload extension is already loaded. To reload it, use:\n",
      "  %reload_ext autoreload\n"
     ]
    }
   ],
   "source": [
    "import sys\n",
    "sys.path.append('../..')\n",
    "sys.path.append('../../APDFT')\n",
    "sys.path.append('../../helper_code')\n",
    "sys.path.append('../data')\n",
    "\n",
    "import pickle\n",
    "from pyscf import gto, scf, dft, cc\n",
    "from ase import Atoms\n",
    "import numpy as np\n",
    "import pandas as pd\n",
    "import pyscf\n",
    "import matplotlib.pyplot as plt\n",
    "import matplotlib.ticker as ticker\n",
    "import basis_set_exchange as bse\n",
    "from APDFT.FcMole import *\n",
    "import os\n",
    "import ast\n",
    "from copy import deepcopy\n",
    "from IPython.display import display\n",
    "from helper_code.data_processing import *\n",
    "import qml\n",
    "from qml.representations import generate_coulomb_matrix, generate_fchl_acsf, generate_bob\n",
    "from helper_code.util import charge_arr_to_str\n",
    "from ase import Atoms\n",
    "from ase.io import write\n",
    "from helper_code.MBDF import generate_mbdf\n",
    "\n",
    "%load_ext autoreload\n",
    "%autoreload 2\n",
    "from APDFT.AP_class import APDFT_perturbator as AP"
   ]
  },
  {
   "cell_type": "code",
   "execution_count": 2,
   "metadata": {},
   "outputs": [
    {
     "data": {
      "text/html": [
       "<div>\n",
       "<style scoped>\n",
       "    .dataframe tbody tr th:only-of-type {\n",
       "        vertical-align: middle;\n",
       "    }\n",
       "\n",
       "    .dataframe tbody tr th {\n",
       "        vertical-align: top;\n",
       "    }\n",
       "\n",
       "    .dataframe thead th {\n",
       "        text-align: right;\n",
       "    }\n",
       "</style>\n",
       "<table border=\"1\" class=\"dataframe\">\n",
       "  <thead>\n",
       "    <tr style=\"text-align: right;\">\n",
       "      <th></th>\n",
       "      <th>charges</th>\n",
       "      <th>total energy</th>\n",
       "      <th>delta total energy</th>\n",
       "    </tr>\n",
       "  </thead>\n",
       "  <tbody>\n",
       "    <tr>\n",
       "      <th>0</th>\n",
       "      <td>[7, 5, 5, 5, 5, 7, 5, 7, 5, 5, 7, 7, 5, 7, 6, ...</td>\n",
       "      <td>-946.036986</td>\n",
       "      <td>36.315051</td>\n",
       "    </tr>\n",
       "    <tr>\n",
       "      <th>1</th>\n",
       "      <td>[6, 5, 7, 6, 6, 6, 6, 6, 6, 6, 5, 7, 6, 5, 7, ...</td>\n",
       "      <td>-929.442623</td>\n",
       "      <td>19.720687</td>\n",
       "    </tr>\n",
       "    <tr>\n",
       "      <th>2</th>\n",
       "      <td>[6, 5, 7, 5, 5, 5, 7, 5, 5, 6, 5, 7, 7, 5, 6, ...</td>\n",
       "      <td>-942.508112</td>\n",
       "      <td>32.786177</td>\n",
       "    </tr>\n",
       "  </tbody>\n",
       "</table>\n",
       "</div>"
      ],
      "text/plain": [
       "                                             charges  total energy   \n",
       "0  [7, 5, 5, 5, 5, 7, 5, 7, 5, 5, 7, 7, 5, 7, 6, ...   -946.036986  \\\n",
       "1  [6, 5, 7, 6, 6, 6, 6, 6, 6, 6, 5, 7, 6, 5, 7, ...   -929.442623   \n",
       "2  [6, 5, 7, 5, 5, 5, 7, 5, 5, 6, 5, 7, 7, 5, 6, ...   -942.508112   \n",
       "\n",
       "   delta total energy  \n",
       "0           36.315051  \n",
       "1           19.720687  \n",
       "2           32.786177  "
      ]
     },
     "metadata": {},
     "output_type": "display_data"
    }
   ],
   "source": [
    "coronene_energy_raw_data = np.load(\"../data/coronene_raw_data/coronene_mutants_pbe0_pcx2.npz\", allow_pickle=True)\n",
    "charges, total_energy = coronene_energy_raw_data['charges'], coronene_energy_raw_data['energies']\n",
    "\n",
    "columns = ['charges', 'total energy']\n",
    "coronene_energy_data = pd.DataFrame(columns=columns)\n",
    "coronene_energy_data['charges'] = charges.tolist()\n",
    "coronene_energy_data['total energy'] = total_energy.tolist()\n",
    "\n",
    "CORONENE_REF_ENERGY = -909.721935153841\n",
    "coronene_energy_data['delta total energy'] = coronene_energy_data['total energy'].apply(lambda x: CORONENE_REF_ENERGY-x)\n",
    "\n",
    "display(coronene_energy_data.head(3))"
   ]
  },
  {
   "cell_type": "code",
   "execution_count": 4,
   "metadata": {},
   "outputs": [],
   "source": [
    "xyz_file = '../data/coronene_raw_data/coronene_opt_pbe0_pcX2.xyz'\n",
    "with open(xyz_file, 'r') as f:\n",
    "    lines = f.readlines()[2:]  # Skip the first two lines (atom count and comment)\n",
    "    atoms = [line.split() for line in lines]\n",
    "\n",
    "# Extract atomic symbols and coordinates\n",
    "symbols = [atom[0] for atom in atoms]\n",
    "all_atoms_coord = [[float(atom[1]), float(atom[2]), float(atom[3])] for atom in atoms]\n",
    "coordinates = np.tile(np.array(all_atoms_coord), (2400, 1, 1))"
   ]
  },
  {
   "cell_type": "markdown",
   "metadata": {},
   "source": [
    "## CM, BOB, FCHL ##"
   ]
  },
  {
   "cell_type": "code",
   "execution_count": 16,
   "metadata": {},
   "outputs": [],
   "source": [
    "cm = np.array([generate_coulomb_matrix(q, r, size=36) for q, r, in zip(charges, coordinates)])\n",
    "bob = np.array([generate_bob(q, r, atomtypes=['C', 'N', 'B', 'H'], asize={\"C\":24, \"N\":12, \"B\":12, \"H\":12}) for q, r, in zip(charges, coordinates)])\n",
    "fchl = np.array([generate_fchl_acsf(q, r, elements=np.unique(np.concatenate(charges)), pad=36) for q, r, in zip(charges, coordinates)])"
   ]
  },
  {
   "cell_type": "code",
   "execution_count": 17,
   "metadata": {},
   "outputs": [
    {
     "name": "stdout",
     "output_type": "stream",
     "text": [
      "(2400, 666)\n",
      "(2400, 1830)\n",
      "(2400, 36, 496)\n"
     ]
    }
   ],
   "source": [
    "print(cm.shape)\n",
    "print(bob.shape)\n",
    "print(fchl.shape)"
   ]
  },
  {
   "cell_type": "code",
   "execution_count": 19,
   "metadata": {},
   "outputs": [],
   "source": [
    "np.savetxt(\"../data/coronene_training_data/CM.csv\", cm, delimiter=',')\n",
    "np.savetxt(\"../data/coronene_training_data/BOB.csv\", bob, delimiter=',')"
   ]
  },
  {
   "cell_type": "code",
   "execution_count": 20,
   "metadata": {},
   "outputs": [],
   "source": [
    "fchl_flatten = fchl.reshape((fchl.shape[0], -1))\n",
    "np.savetxt(\"../data/coronene_training_data/FCHL.csv\", fchl_flatten, delimiter=',')"
   ]
  },
  {
   "cell_type": "markdown",
   "metadata": {},
   "source": [
    "## MBDF ##"
   ]
  },
  {
   "cell_type": "code",
   "execution_count": 21,
   "metadata": {},
   "outputs": [
    {
     "name": "stdout",
     "output_type": "stream",
     "text": [
      "(2400, 36, 6)\n"
     ]
    }
   ],
   "source": [
    "mbdf = generate_mbdf(charges, coordinates, local=True)\n",
    "print(mbdf.shape)"
   ]
  },
  {
   "cell_type": "code",
   "execution_count": 22,
   "metadata": {},
   "outputs": [],
   "source": [
    "mbdf_flatten = mbdf.reshape((mbdf.shape[0], -1))\n",
    "np.savetxt(\"../data/coronene_training_data/MBDF.csv\", mbdf_flatten, delimiter=',')"
   ]
  }
 ],
 "metadata": {
  "kernelspec": {
   "display_name": "Python 3",
   "language": "python",
   "name": "python3"
  },
  "language_info": {
   "codemirror_mode": {
    "name": "ipython",
    "version": 3
   },
   "file_extension": ".py",
   "mimetype": "text/x-python",
   "name": "python",
   "nbconvert_exporter": "python",
   "pygments_lexer": "ipython3",
   "version": "3.10.6"
  },
  "orig_nbformat": 4
 },
 "nbformat": 4,
 "nbformat_minor": 2
}
