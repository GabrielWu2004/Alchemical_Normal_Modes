{
 "cells": [
  {
   "cell_type": "code",
   "execution_count": 1,
   "metadata": {},
   "outputs": [],
   "source": [
    "import sys\n",
    "sys.path.append('../..')\n",
    "sys.path.append('../data')\n",
    "sys.path.append('../../helper_code')\n",
    "\n",
    "from sklearn.kernel_ridge import KernelRidge\n",
    "from sklearn.model_selection import cross_val_score, KFold, GridSearchCV, RandomizedSearchCV\n",
    "from sklearn.metrics import mean_squared_error\n",
    "import warnings\n",
    "import numpy as np\n",
    "import pandas as pd\n",
    "from IPython.display import display\n",
    "import copy\n",
    "\n",
    "from helper_code.custom_kernel import *"
   ]
  },
  {
   "cell_type": "code",
   "execution_count": 2,
   "metadata": {},
   "outputs": [],
   "source": [
    "input_dataset = ['c', 'c_lexi', 'CSE', 'CSE_lexi']\n",
    "dataset_dict = {}\n",
    "\n",
    "for data in input_dataset:\n",
    "    dataset_dict[data] = pd.read_csv(f'../data/coronene_training_data/{data}.csv')\n",
    "\n",
    "delta_total_energy = pd.read_csv(f'../data/coronene_training_data/delta_total_energy.csv')\n",
    "delta_delta_total_energy = pd.read_csv(f'../data/coronene_training_data/delta_delta_total_energy.csv')"
   ]
  },
  {
   "cell_type": "code",
   "execution_count": 8,
   "metadata": {},
   "outputs": [
    {
     "name": "stdout",
     "output_type": "stream",
     "text": [
      "Best Hyperparameters: {'kernel': 'rbf', 'gamma': 3.9810717055349776e-08, 'alpha': 1e-10}\n",
      "Best Root Mean Squared Error: 0.1489627308333547\n"
     ]
    }
   ],
   "source": [
    "X_train = dataset_dict['CSE_lexi'].to_numpy()\n",
    "y_train = delta_delta_total_energy\n",
    "\n",
    "param_grid = {\n",
    "    'alpha': np.logspace(np.log10(1e-13), np.log10(1e-3), num=101),  \n",
    "    'gamma': np.logspace(np.log10(1e-13), np.log10(1e-3), num=101),  \n",
    "    'kernel': ['rbf']\n",
    "}\n",
    "\n",
    "model = KernelRidge()\n",
    "kfold = KFold(n_splits=2, shuffle=True, random_state=42)\n",
    "\n",
    "with warnings.catch_warnings():\n",
    "    warnings.filterwarnings('ignore')\n",
    "    grid_search = RandomizedSearchCV(model, param_grid, n_iter=500, scoring='neg_mean_squared_error', cv=kfold)\n",
    "    grid_search.fit(X_train, y_train)\n",
    "\n",
    "best_params = grid_search.best_params_\n",
    "best_score = np.sqrt(-grid_search.best_score_)\n",
    "\n",
    "print(\"Best Hyperparameters:\", best_params)\n",
    "print(\"Best Root Mean Squared Error:\", best_score)"
   ]
  },
  {
   "cell_type": "code",
   "execution_count": 9,
   "metadata": {},
   "outputs": [
    {
     "name": "stdout",
     "output_type": "stream",
     "text": [
      "Best Hyperparameters: {'alpha': 1e-09, 'gamma': 1e-09, 'kernel': 'rbf'}\n",
      "Best Root Mean Squared Error: 0.15033871067431506\n"
     ]
    }
   ],
   "source": [
    "X_train = dataset_dict['CSE_lexi'].to_numpy()\n",
    "y_train = delta_delta_total_energy\n",
    "\n",
    "param_grid = {\n",
    "    'alpha': np.logspace(np.log10(1e-9), np.log10(1e-7), num=21),  \n",
    "    'gamma': np.logspace(np.log10(1e-11), np.log10(1e-9), num=21),  \n",
    "    'kernel': ['rbf']\n",
    "}\n",
    "\n",
    "model = KernelRidge()\n",
    "kfold = KFold(n_splits=2, shuffle=True, random_state=42)\n",
    "\n",
    "with warnings.catch_warnings():\n",
    "    warnings.filterwarnings('ignore')\n",
    "    grid_search = GridSearchCV(model, param_grid, scoring='neg_mean_squared_error', cv=kfold)\n",
    "    grid_search.fit(X_train, y_train)\n",
    "\n",
    "best_params = grid_search.best_params_\n",
    "best_score = np.sqrt(-grid_search.best_score_)\n",
    "\n",
    "print(\"Best Hyperparameters:\", best_params)\n",
    "print(\"Best Root Mean Squared Error:\", best_score)"
   ]
  },
  {
   "cell_type": "code",
   "execution_count": 10,
   "metadata": {},
   "outputs": [
    {
     "name": "stdout",
     "output_type": "stream",
     "text": [
      "Best Hyperparameters: {'alpha': 2.5118864315095823e-11, 'gamma': 1.9952623149688786e-08, 'kernel': 'rbf'}\n",
      "Best Root Mean Squared Error: 0.14895567868685927\n"
     ]
    }
   ],
   "source": [
    "X_train = dataset_dict['CSE_lexi'].to_numpy()\n",
    "y_train = delta_delta_total_energy\n",
    "\n",
    "param_grid = {\n",
    "    'alpha': np.logspace(np.log10(1e-11), np.log10(1e-9), num=21),  \n",
    "    'gamma': np.logspace(np.log10(1e-9), np.log10(1e-7), num=21),  \n",
    "    'kernel': ['rbf']\n",
    "}\n",
    "\n",
    "model = KernelRidge()\n",
    "kfold = KFold(n_splits=2, shuffle=True, random_state=42)\n",
    "\n",
    "with warnings.catch_warnings():\n",
    "    warnings.filterwarnings('ignore')\n",
    "    grid_search = GridSearchCV(model, param_grid, scoring='neg_mean_squared_error', cv=kfold)\n",
    "    grid_search.fit(X_train, y_train)\n",
    "\n",
    "best_params = grid_search.best_params_\n",
    "best_score = np.sqrt(-grid_search.best_score_)\n",
    "\n",
    "print(\"Best Hyperparameters:\", best_params)\n",
    "print(\"Best Root Mean Squared Error:\", best_score)"
   ]
  },
  {
   "cell_type": "code",
   "execution_count": 11,
   "metadata": {},
   "outputs": [
    {
     "name": "stdout",
     "output_type": "stream",
     "text": [
      "Best Hyperparameters: {'alpha': 4.6e-11, 'gamma': 2.8000000000000003e-08, 'kernel': 'rbf'}\n",
      "Best Root Mean Squared Error: 0.14895286776797315\n"
     ]
    }
   ],
   "source": [
    "X_train = dataset_dict['CSE_lexi'].to_numpy()\n",
    "y_train = delta_delta_total_energy\n",
    "\n",
    "param_grid = {\n",
    "    'alpha': np.linspace(1e-11, 5e-11, num=21),  \n",
    "    'gamma': np.linspace(1e-8, 5e-8, num=21),  \n",
    "    'kernel': ['rbf']\n",
    "}\n",
    "\n",
    "model = KernelRidge()\n",
    "kfold = KFold(n_splits=2, shuffle=True, random_state=42)\n",
    "\n",
    "with warnings.catch_warnings():\n",
    "    warnings.filterwarnings('ignore')\n",
    "    grid_search = GridSearchCV(model, param_grid, scoring='neg_mean_squared_error', cv=kfold)\n",
    "    grid_search.fit(X_train, y_train)\n",
    "\n",
    "best_params = grid_search.best_params_\n",
    "best_score = np.sqrt(-grid_search.best_score_)\n",
    "\n",
    "print(\"Best Hyperparameters:\", best_params)\n",
    "print(\"Best Root Mean Squared Error:\", best_score)"
   ]
  }
 ],
 "metadata": {
  "kernelspec": {
   "display_name": "Python 3",
   "language": "python",
   "name": "python3"
  },
  "language_info": {
   "codemirror_mode": {
    "name": "ipython",
    "version": 3
   },
   "file_extension": ".py",
   "mimetype": "text/x-python",
   "name": "python",
   "nbconvert_exporter": "python",
   "pygments_lexer": "ipython3",
   "version": "3.10.6"
  },
  "orig_nbformat": 4
 },
 "nbformat": 4,
 "nbformat_minor": 2
}
