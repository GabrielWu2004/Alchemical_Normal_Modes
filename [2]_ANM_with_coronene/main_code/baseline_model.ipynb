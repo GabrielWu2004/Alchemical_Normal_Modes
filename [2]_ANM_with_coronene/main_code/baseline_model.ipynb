{
 "cells": [
  {
   "cell_type": "code",
   "execution_count": 20,
   "metadata": {},
   "outputs": [],
   "source": [
    "import sys\n",
    "sys.path.append('../..')\n",
    "sys.path.append('../data')\n",
    "sys.path.append('../../helper_code')\n",
    "\n",
    "from sklearn.kernel_ridge import KernelRidge\n",
    "from helper_code.QML_KernelRidge import KRR_local, KRR_global, GridSearchCV, GridSearchCV_local\n",
    "from sklearn.model_selection import cross_val_score, KFold, train_test_split\n",
    "from sklearn.metrics import mean_absolute_error\n",
    "import warnings\n",
    "import numpy as np\n",
    "import pandas as pd\n",
    "from IPython.display import display\n",
    "from hyperopt import fmin, tpe, hp, STATUS_OK, Trials\n",
    "# from helper_code.util import evaluate_performance_local, evaluate_performance, evaluate_performance_global"
   ]
  },
  {
   "cell_type": "code",
   "execution_count": 2,
   "metadata": {},
   "outputs": [],
   "source": [
    "# cm = np.genfromtxt(\"../data/coronene_training_data/CM.csv\", delimiter=',')\n",
    "# bob = np.genfromtxt(\"../data/coronene_training_data/BOB.csv\", delimiter=',')\n",
    "mbdf = np.genfromtxt(\"../data/coronene_training_data/MBDF.csv\", delimiter=',').reshape((-1, 36, 6))\n",
    "df = np.genfromtxt(\"../data/coronene_training_data/DF.csv\", delimiter=',')\n",
    "\n",
    "D_etot = pd.read_csv(f'../data/coronene_training_data/delta_total_energy.csv').to_numpy()\n",
    "DD_etot = pd.read_csv(f'../data/coronene_training_data/DD_e_tot.csv').to_numpy()"
   ]
  },
  {
   "cell_type": "code",
   "execution_count": 3,
   "metadata": {},
   "outputs": [],
   "source": [
    "coronene_energy_raw_data = np.load(\"../data/coronene_raw_data/coronene_mutants_pbe_pcx2_corrected3.npz\", allow_pickle=True)\n",
    "charges = coronene_energy_raw_data['charges']"
   ]
  },
  {
   "cell_type": "markdown",
   "metadata": {},
   "source": [
    "# Model #"
   ]
  },
  {
   "cell_type": "markdown",
   "metadata": {},
   "source": [
    "## MBDF Global ##"
   ]
  },
  {
   "cell_type": "markdown",
   "metadata": {},
   "source": [
    "### DD_etot ###"
   ]
  },
  {
   "cell_type": "code",
   "execution_count": 23,
   "metadata": {},
   "outputs": [
    {
     "name": "stdout",
     "output_type": "stream",
     "text": [
      "fold 1: mae = 0.09511458513863061\n",
      "fold 2: mae = 0.11314163461048717\n",
      "Average mae: 0.1041281098745589\n"
     ]
    }
   ],
   "source": [
    "X =df\n",
    "y = DD_etot\n",
    "Q = charges\n",
    "mae_scores = []\n",
    "\n",
    "param_grid = {'lambda':[1e-3,1e-6,1e-9,1e-12],\n",
    "            'length':[10**i for i in range(-2,4)]} \n",
    "\n",
    "kfold = KFold(n_splits=2, shuffle=True, random_state=42)\n",
    "for fold, (train_index, test_index) in enumerate(kfold.split(X)):\n",
    "    X_train, X_test = X[train_index], X[test_index]\n",
    "    y_train, y_test = y[train_index], y[test_index]\n",
    "    Q_train, Q_test = Q[train_index], Q[test_index]\n",
    "    best_params = GridSearchCV(X_train, y_train, param_grid, cv = 4)\n",
    "    preds = KRR_global(X_train, y_train, X_test, best_params=best_params, kernel='gaussian', norm=2) # norm = L2\n",
    "    score = mean_absolute_error(preds.reshape(-1, 1), y_test)\n",
    "    mae_scores.append(score)\n",
    "    print(f\"fold {fold+1}: mae = {score}\")\n",
    "\n",
    "print(f\"Average mae: {np.array(mae_scores).mean()}\")"
   ]
  },
  {
   "cell_type": "code",
   "execution_count": 24,
   "metadata": {},
   "outputs": [
    {
     "name": "stdout",
     "output_type": "stream",
     "text": [
      "{'mae': 0.11600178809628667, 'lambda': 0.001, 'length': 1000}\n"
     ]
    }
   ],
   "source": [
    "print(best_params)"
   ]
  },
  {
   "cell_type": "code",
   "execution_count": 9,
   "metadata": {},
   "outputs": [
    {
     "name": "stdout",
     "output_type": "stream",
     "text": [
      "fold 1: mae = 0.10955891518598214\n",
      "fold 2: mae = 0.10749169273507639\n",
      "Average mae: 0.10852530396052926\n"
     ]
    }
   ],
   "source": [
    "X = df\n",
    "y = DD_etot\n",
    "Q = charges\n",
    "params = {'lambda': 0.9971429677217133, 'length': 7.1730768859490714}\n",
    "mae_scores = []\n",
    "\n",
    "kfold = KFold(n_splits=2, shuffle=True, random_state=42)\n",
    "for fold, (train_index, test_index) in enumerate(kfold.split(X)):\n",
    "    X_train, X_test = X[train_index], X[test_index]\n",
    "    y_train, y_test = y[train_index], y[test_index]\n",
    "    Q_train, Q_test = Q[train_index], Q[test_index]\n",
    "    \n",
    "    preds = KRR_global(X_train, y_train, X_test, best_params=params, kernel='gaussian', norm=2) # norm = L2\n",
    "    score = mean_absolute_error(preds.reshape(-1, 1), y_test)\n",
    "    mae_scores.append(score)\n",
    "    print(f\"fold {fold+1}: mae = {score}\")\n",
    "\n",
    "print(f\"Average mae: {np.array(mae_scores).mean()}\")"
   ]
  },
  {
   "cell_type": "code",
   "execution_count": 8,
   "metadata": {},
   "outputs": [
    {
     "name": "stdout",
     "output_type": "stream",
     "text": [
      "100%|██████████| 100/100 [02:29<00:00,  1.50s/trial, best loss: 0.10852530396052926]\n",
      "MBDF\n",
      "Best hyperparameters: {'lambda': 0.9971429677217133, 'length': 7.1730768859490714}\n",
      "Loss: 0.10852530396052926\n"
     ]
    }
   ],
   "source": [
    "# Tuning\n",
    "\n",
    "X = df\n",
    "y = DD_etot\n",
    "\n",
    "def objective(params):\n",
    "    mae_scores = []\n",
    "    kfold = KFold(n_splits=2, shuffle=True, random_state=42)\n",
    "    for fold, (train_index, test_index) in enumerate(kfold.split(X)):\n",
    "        X_train, X_test = X[train_index], X[test_index]\n",
    "        y_train, y_test = y[train_index], y[test_index]\n",
    "        Q_train, Q_test = charges[train_index], charges[test_index]\n",
    "        preds = KRR_global(X_train, y_train, X_test, best_params=params, kernel='gaussian', norm=2)\n",
    "        if type(preds) is str:\n",
    "            return np.inf\n",
    "        score = mean_absolute_error(preds.reshape(-1, 1), y_test)\n",
    "        mae_scores.append(score)\n",
    "    return np.array(mae_scores).mean()\n",
    "\n",
    "space = {\n",
    "    'lambda': hp.loguniform('lambda', -30, 0), \n",
    "    'length': hp.loguniform('length', -5, 2)\n",
    "}\n",
    "\n",
    "trials = Trials()\n",
    "with warnings.catch_warnings():\n",
    "    warnings.filterwarnings('ignore')\n",
    "    best = fmin(fn=objective,\n",
    "                space=space,\n",
    "                algo=tpe.suggest, # tree parzen estimator\n",
    "                max_evals=100,\n",
    "                trials=trials)\n",
    "\n",
    "print(\"Best hyperparameters:\", best)\n",
    "print(\"Loss:\", trials.best_trial['result']['loss'])"
   ]
  },
  {
   "cell_type": "markdown",
   "metadata": {},
   "source": [
    "## MBDF Local ##"
   ]
  },
  {
   "cell_type": "markdown",
   "metadata": {},
   "source": [
    "### DD_etot ###"
   ]
  },
  {
   "cell_type": "code",
   "execution_count": 6,
   "metadata": {},
   "outputs": [
    {
     "name": "stdout",
     "output_type": "stream",
     "text": [
      "fold 1: mae = 0.09305628346319726\n",
      "fold 2: mae = 0.1115939887598628\n",
      "Average mae: 0.10232513611153003\n"
     ]
    }
   ],
   "source": [
    "# lambda: regularization\n",
    "# length: kernel length\n",
    "\n",
    "X = mbdf\n",
    "y = DD_etot\n",
    "\n",
    "params = {'lambda': 0.9700293111914039, 'length': 6.720858507072239}\n",
    "mae_scores = []\n",
    "\n",
    "kfold = KFold(n_splits=2, shuffle=True, random_state=42)\n",
    "for fold, (train_index, test_index) in enumerate(kfold.split(X)):\n",
    "    X_train, X_test = X[train_index], X[test_index]\n",
    "    y_train, y_test = y[train_index], y[test_index]\n",
    "    Q_train, Q_test = charges[train_index], charges[test_index]\n",
    "    preds = KRR_local(X_train, Q_train, y_train, X_test, Q_test, best_params=params, kernel='mbdf')\n",
    "    score = mean_absolute_error(preds.reshape(-1, 1), y_test)\n",
    "    mae_scores.append(score)\n",
    "    print(f\"fold {fold+1}: mae = {score}\")\n",
    "\n",
    "print(f\"Average mae: {np.array(mae_scores).mean()}\")"
   ]
  },
  {
   "cell_type": "code",
   "execution_count": 5,
   "metadata": {},
   "outputs": [
    {
     "name": "stdout",
     "output_type": "stream",
     "text": [
      "100%|██████████| 100/100 [01:49<00:00,  1.10s/trial, best loss: 0.10018734438910065]\n",
      "Best hyperparameters: {'lambda': 0.9700293111914039, 'length': 6.720858507072239}\n",
      "Loss: 0.10018734438910065\n"
     ]
    }
   ],
   "source": [
    "# Tuning \n",
    "\n",
    "X = mbdf\n",
    "y = DD_etot\n",
    "\n",
    "def objective(params):\n",
    "    mae_scores = []\n",
    "    kfold = KFold(n_splits=2, shuffle=True, random_state=42)\n",
    "    for fold, (train_index, test_index) in enumerate(kfold.split(X)):\n",
    "        X_train, X_test = X[train_index], X[test_index]\n",
    "        y_train, y_test = y[train_index], y[test_index]\n",
    "        Q_train, Q_test = charges[train_index], charges[test_index]\n",
    "        preds = KRR_local(X_train, Q_train, y_train, X_test, Q_test, best_params=params, kernel='Gaussian')\n",
    "        if type(preds) is str:\n",
    "            return np.inf\n",
    "        score = mean_absolute_error(preds.reshape(-1, 1), y_test)\n",
    "        mae_scores.append(score)\n",
    "    return np.array(mae_scores).mean()\n",
    "\n",
    "space = {\n",
    "    'lambda': hp.loguniform('lambda', -30, 0), \n",
    "    'length': hp.loguniform('length', -2, 2)\n",
    "}\n",
    "\n",
    "trials = Trials()\n",
    "with warnings.catch_warnings():\n",
    "    warnings.filterwarnings('ignore')\n",
    "    best = fmin(fn=objective,\n",
    "                space=space,\n",
    "                algo=tpe.suggest, # tree parzen estimator\n",
    "                max_evals=100,\n",
    "                trials=trials)\n",
    "\n",
    "print(\"Best hyperparameters:\", best)\n",
    "print(\"Loss:\", trials.best_trial['result']['loss'])"
   ]
  },
  {
   "cell_type": "markdown",
   "metadata": {},
   "source": [
    "# Learning #"
   ]
  },
  {
   "cell_type": "code",
   "execution_count": 10,
   "metadata": {},
   "outputs": [],
   "source": [
    "performance_summary = {}"
   ]
  },
  {
   "cell_type": "code",
   "execution_count": 7,
   "metadata": {},
   "outputs": [],
   "source": [
    "def evaluate_performance_global(params, X, y, num_training_sample, num_trials):\n",
    "\n",
    "    errors = []\n",
    "    test_size = 1.0 - num_training_sample/X.shape[0]\n",
    "\n",
    "    for i in range(num_trials):\n",
    "        train_indices, test_indices = train_test_split(range(X.shape[0]), test_size=test_size, shuffle=True, random_state=i)\n",
    "        X_train, X_test = X[train_indices], X[test_indices]\n",
    "        y_train, y_test = y[train_indices], y[test_indices]\n",
    "        preds = KRR_global(X_train, y_train, X_test, best_params=params, kernel='Gaussian')\n",
    "        error = mean_absolute_error(preds.reshape(-1, 1), y_test)\n",
    "        errors.append(error)\n",
    "    \n",
    "    average_error = np.mean(errors)\n",
    "    std_dev_error = np.std(errors)/np.sqrt(num_trials)\n",
    "    return average_error, std_dev_error\n",
    "\n",
    "\n",
    "\n",
    "def evaluate_performance_local(params, X, y, Q, num_training_sample, num_trials):\n",
    "\n",
    "    errors = []\n",
    "    test_size = 1.0 - num_training_sample/X.shape[0]\n",
    "\n",
    "    for i in range(num_trials):\n",
    "        train_indices, test_indices = train_test_split(range(X.shape[0]), test_size=test_size, shuffle=True, random_state=i)\n",
    "        X_train, X_test = X[train_indices], X[test_indices]\n",
    "        y_train, y_test = y[train_indices], y[test_indices]\n",
    "        Q_train, Q_test = Q[train_indices], Q[test_indices]\n",
    "        preds = KRR_local(X_train, Q_train, y_train, X_test, Q_test, best_params=params, kernel='Gaussian')\n",
    "        error = mean_absolute_error(preds.reshape(-1, 1), y_test)\n",
    "        errors.append(error)\n",
    "    \n",
    "    average_error = np.mean(errors)\n",
    "    std_dev_error = np.std(errors)/np.sqrt(num_trials)\n",
    "    return average_error, std_dev_error"
   ]
  },
  {
   "cell_type": "markdown",
   "metadata": {},
   "source": [
    "## MBDF Global ##"
   ]
  },
  {
   "cell_type": "code",
   "execution_count": 25,
   "metadata": {},
   "outputs": [
    {
     "data": {
      "text/html": [
       "<div>\n",
       "<style scoped>\n",
       "    .dataframe tbody tr th:only-of-type {\n",
       "        vertical-align: middle;\n",
       "    }\n",
       "\n",
       "    .dataframe tbody tr th {\n",
       "        vertical-align: top;\n",
       "    }\n",
       "\n",
       "    .dataframe thead th {\n",
       "        text-align: right;\n",
       "    }\n",
       "</style>\n",
       "<table border=\"1\" class=\"dataframe\">\n",
       "  <thead>\n",
       "    <tr style=\"text-align: right;\">\n",
       "      <th></th>\n",
       "      <th>training size</th>\n",
       "      <th>average MAE (mHa)</th>\n",
       "      <th>standard deviation (mHa)</th>\n",
       "    </tr>\n",
       "  </thead>\n",
       "  <tbody>\n",
       "    <tr>\n",
       "      <th>1</th>\n",
       "      <td>64</td>\n",
       "      <td>94.87069</td>\n",
       "      <td>1.95914</td>\n",
       "    </tr>\n",
       "    <tr>\n",
       "      <th>2</th>\n",
       "      <td>128</td>\n",
       "      <td>97.726285</td>\n",
       "      <td>5.403965</td>\n",
       "    </tr>\n",
       "    <tr>\n",
       "      <th>3</th>\n",
       "      <td>256</td>\n",
       "      <td>108.099702</td>\n",
       "      <td>10.861729</td>\n",
       "    </tr>\n",
       "    <tr>\n",
       "      <th>4</th>\n",
       "      <td>512</td>\n",
       "      <td>110.319929</td>\n",
       "      <td>6.442153</td>\n",
       "    </tr>\n",
       "    <tr>\n",
       "      <th>5</th>\n",
       "      <td>1024</td>\n",
       "      <td>103.079877</td>\n",
       "      <td>1.698074</td>\n",
       "    </tr>\n",
       "  </tbody>\n",
       "</table>\n",
       "</div>"
      ],
      "text/plain": [
       "  training size average MAE (mHa) standard deviation (mHa)\n",
       "1            64          94.87069                  1.95914\n",
       "2           128         97.726285                 5.403965\n",
       "3           256        108.099702                10.861729\n",
       "4           512        110.319929                 6.442153\n",
       "5          1024        103.079877                 1.698074"
      ]
     },
     "metadata": {},
     "output_type": "display_data"
    }
   ],
   "source": [
    "X = df\n",
    "y = DD_etot\n",
    "\n",
    "best_params = {'lambda': 0.001, 'length': 1000}\n",
    "\n",
    "columns = ['training size', 'average MAE (mHa)', 'standard deviation (mHa)']\n",
    "model_performance = pd.DataFrame(columns=columns)\n",
    "\n",
    "training_size = [2**i for i in range(6, 11)]\n",
    "num_trials = 5\n",
    "\n",
    "with warnings.catch_warnings():\n",
    "    for index, num_training_sample in enumerate(training_size):\n",
    "        warnings.filterwarnings(\"ignore\")\n",
    "        index = index + 1\n",
    "        average_error, std_dev_error = evaluate_performance_global(best_params, X, y, num_training_sample, num_trials)\n",
    "        model_performance.at[index, 'training size'] = num_training_sample\n",
    "        model_performance.at[index, 'average MAE (mHa)'] = average_error * 1000\n",
    "        model_performance.at[index, 'standard deviation (mHa)'] = std_dev_error * 1000\n",
    "\n",
    "performance_summary['MBDF_global'] = model_performance\n",
    "\n",
    "display(model_performance)"
   ]
  },
  {
   "cell_type": "markdown",
   "metadata": {},
   "source": [
    "## MBDF Local ##"
   ]
  },
  {
   "cell_type": "code",
   "execution_count": 14,
   "metadata": {},
   "outputs": [
    {
     "data": {
      "text/html": [
       "<div>\n",
       "<style scoped>\n",
       "    .dataframe tbody tr th:only-of-type {\n",
       "        vertical-align: middle;\n",
       "    }\n",
       "\n",
       "    .dataframe tbody tr th {\n",
       "        vertical-align: top;\n",
       "    }\n",
       "\n",
       "    .dataframe thead th {\n",
       "        text-align: right;\n",
       "    }\n",
       "</style>\n",
       "<table border=\"1\" class=\"dataframe\">\n",
       "  <thead>\n",
       "    <tr style=\"text-align: right;\">\n",
       "      <th></th>\n",
       "      <th>training size</th>\n",
       "      <th>average MAE (mHa)</th>\n",
       "      <th>standard deviation (mHa)</th>\n",
       "    </tr>\n",
       "  </thead>\n",
       "  <tbody>\n",
       "    <tr>\n",
       "      <th>1</th>\n",
       "      <td>64</td>\n",
       "      <td>96.380101</td>\n",
       "      <td>1.443536</td>\n",
       "    </tr>\n",
       "    <tr>\n",
       "      <th>2</th>\n",
       "      <td>128</td>\n",
       "      <td>99.391411</td>\n",
       "      <td>4.045516</td>\n",
       "    </tr>\n",
       "    <tr>\n",
       "      <th>3</th>\n",
       "      <td>256</td>\n",
       "      <td>106.968097</td>\n",
       "      <td>9.488595</td>\n",
       "    </tr>\n",
       "    <tr>\n",
       "      <th>4</th>\n",
       "      <td>512</td>\n",
       "      <td>104.948378</td>\n",
       "      <td>4.274618</td>\n",
       "    </tr>\n",
       "    <tr>\n",
       "      <th>5</th>\n",
       "      <td>1024</td>\n",
       "      <td>101.642879</td>\n",
       "      <td>1.426623</td>\n",
       "    </tr>\n",
       "  </tbody>\n",
       "</table>\n",
       "</div>"
      ],
      "text/plain": [
       "  training size average MAE (mHa) standard deviation (mHa)\n",
       "1            64         96.380101                 1.443536\n",
       "2           128         99.391411                 4.045516\n",
       "3           256        106.968097                 9.488595\n",
       "4           512        104.948378                 4.274618\n",
       "5          1024        101.642879                 1.426623"
      ]
     },
     "metadata": {},
     "output_type": "display_data"
    }
   ],
   "source": [
    "X = mbdf\n",
    "y = DD_etot\n",
    "best_params = {'lambda': 0.9700293111914039, 'length': 6.720858507072239}\n",
    "\n",
    "columns = ['training size', 'average MAE (mHa)', 'standard deviation (mHa)']\n",
    "model_performance = pd.DataFrame(columns=columns)\n",
    "\n",
    "training_size = [2**i for i in range(6, 11)]\n",
    "num_trials = 5\n",
    "\n",
    "with warnings.catch_warnings():\n",
    "    for index, num_training_sample in enumerate(training_size):\n",
    "        warnings.filterwarnings(\"ignore\")\n",
    "        index = index + 1\n",
    "        average_error, std_dev_error = evaluate_performance_local(best_params, X, y, charges, num_training_sample, num_trials)\n",
    "        model_performance.at[index, 'training size'] = num_training_sample\n",
    "        model_performance.at[index, 'average MAE (mHa)'] = average_error * 1000\n",
    "        model_performance.at[index, 'standard deviation (mHa)'] = std_dev_error * 1000\n",
    "\n",
    "performance_summary['MBDF_local'] = model_performance\n",
    "\n",
    "display(model_performance)"
   ]
  },
  {
   "cell_type": "code",
   "execution_count": 16,
   "metadata": {},
   "outputs": [
    {
     "name": "stdout",
     "output_type": "stream",
     "text": [
      "MBDF Global: [116.96369128659252, 112.42365228241572, 112.54209316496006, 109.97006810335796, 109.31274397167526]\n",
      "MBDF Local: [96.38010111496062, 99.39141128888097, 106.96809661973175, 104.9483784734266, 101.64287891483133]\n"
     ]
    }
   ],
   "source": [
    "learning_curve_data = {}\n",
    "for key, value in performance_summary.items():\n",
    "    # display(value)\n",
    "    learning_curve_data[key] = value['average MAE (mHa)'].tolist()\n",
    "\n",
    "print(f\"MBDF Global: {learning_curve_data['MBDF_global']}\")\n",
    "print(f\"MBDF Local: {learning_curve_data['MBDF_local']}\")"
   ]
  }
 ],
 "metadata": {
  "kernelspec": {
   "display_name": "Python 3",
   "language": "python",
   "name": "python3"
  },
  "language_info": {
   "codemirror_mode": {
    "name": "ipython",
    "version": 3
   },
   "file_extension": ".py",
   "mimetype": "text/x-python",
   "name": "python",
   "nbconvert_exporter": "python",
   "pygments_lexer": "ipython3",
   "version": "3.10.12"
  },
  "orig_nbformat": 4
 },
 "nbformat": 4,
 "nbformat_minor": 2
}
