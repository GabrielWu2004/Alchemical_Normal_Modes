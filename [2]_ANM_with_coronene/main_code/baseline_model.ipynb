{
 "cells": [
  {
   "cell_type": "code",
   "execution_count": 1,
   "metadata": {},
   "outputs": [],
   "source": [
    "import sys\n",
    "sys.path.append('../..')\n",
    "sys.path.append('../data')\n",
    "sys.path.append('../../helper_code')\n",
    "\n",
    "from sklearn.kernel_ridge import KernelRidge\n",
    "from helper_code.QML_KernelRidge import KRR_local, KRR_global\n",
    "from sklearn.model_selection import cross_val_score, KFold, train_test_split\n",
    "from sklearn.metrics import mean_absolute_error\n",
    "import warnings\n",
    "import numpy as np\n",
    "import pandas as pd\n",
    "from IPython.display import display\n",
    "from hyperopt import fmin, tpe, hp, STATUS_OK, Trials\n",
    "from helper_code.util import evaluate_performance_local, evaluate_performance, evaluate_performance_global"
   ]
  },
  {
   "cell_type": "code",
   "execution_count": 2,
   "metadata": {},
   "outputs": [],
   "source": [
    "cm = np.genfromtxt(\"../data/coronene_training_data/CM.csv\", delimiter=',')\n",
    "bob = np.genfromtxt(\"../data/coronene_training_data/BOB.csv\", delimiter=',')\n",
    "mbdf = np.genfromtxt(\"../data/coronene_training_data/MBDF.csv\", delimiter=',').reshape((2400, 36, 6))\n",
    "mbdf_global = np.genfromtxt(\"../data/coronene_training_data/MBDF_global.csv\", delimiter=',')\n",
    "\n",
    "delta_total_energy = pd.read_csv(f'../data/coronene_training_data/delta_total_energy.csv').to_numpy()\n",
    "delta_delta_total_energy = pd.read_csv(f'../data/coronene_training_data/delta_delta_total_energy.csv').to_numpy()"
   ]
  },
  {
   "cell_type": "code",
   "execution_count": 3,
   "metadata": {},
   "outputs": [],
   "source": [
    "coronene_energy_raw_data = np.load(\"../data/coronene_raw_data/coronene_mutants_pbe0_pcx2.npz\", allow_pickle=True)\n",
    "charges = coronene_energy_raw_data['charges']"
   ]
  },
  {
   "cell_type": "markdown",
   "metadata": {},
   "source": [
    "# Model #"
   ]
  },
  {
   "cell_type": "markdown",
   "metadata": {},
   "source": [
    "## CM and BOB ##"
   ]
  },
  {
   "cell_type": "code",
   "execution_count": 4,
   "metadata": {},
   "outputs": [
    {
     "name": "stdout",
     "output_type": "stream",
     "text": [
      "fold 0: mae = 0.2808084523387788\n",
      "fold 1: mae = 0.2702182586139559\n",
      "Average mae: 0.27551335547636735\n"
     ]
    }
   ],
   "source": [
    "X_train = cm\n",
    "y_train = delta_delta_total_energy\n",
    "\n",
    "params = {'alpha': 1.170259798512603e-5, 'gamma': 1.3945814234136684e-05, 'kernel': 'rbf'}\n",
    "model = KernelRidge(**params)\n",
    "\n",
    "neg_mae_scores = cross_val_score(model, X_train, y_train, scoring='neg_mean_absolute_error', cv=2)\n",
    "mae_scores = -neg_mae_scores\n",
    "mean_mae_score = mae_scores.mean()\n",
    "\n",
    "for fold, score in enumerate(mae_scores):\n",
    "    print(f\"fold {fold}: mae = {score}\")\n",
    "\n",
    "print(f\"Average mae: {mean_mae_score}\")"
   ]
  },
  {
   "cell_type": "code",
   "execution_count": 18,
   "metadata": {},
   "outputs": [
    {
     "name": "stdout",
     "output_type": "stream",
     "text": [
      "fold 0: mae = 0.11510892550103852\n",
      "fold 1: mae = 0.11288140512332326\n",
      "Average mae: 0.11399516531218089\n"
     ]
    }
   ],
   "source": [
    "X_train = bob\n",
    "y_train = delta_delta_total_energy\n",
    "\n",
    "params = {'alpha': 0.000536679384502507, 'gamma': 7.91857911110305e-06, 'kernel': 'rbf'}\n",
    "model = KernelRidge(**params)\n",
    "\n",
    "neg_mae_scores = cross_val_score(model, X_train, y_train, scoring='neg_mean_absolute_error', cv=2)\n",
    "mae_scores = -neg_mae_scores\n",
    "mean_mae_score = mae_scores.mean()\n",
    "\n",
    "for fold, score in enumerate(mae_scores):\n",
    "    print(f\"fold {fold}: mae = {score}\")\n",
    "print(f\"Average mae: {mean_mae_score}\")"
   ]
  },
  {
   "cell_type": "markdown",
   "metadata": {},
   "source": [
    "## MBDF Global ##"
   ]
  },
  {
   "cell_type": "code",
   "execution_count": 13,
   "metadata": {},
   "outputs": [
    {
     "name": "stdout",
     "output_type": "stream",
     "text": [
      "fold 1: mae = 0.18957617377857966\n",
      "fold 2: mae = 0.18537690086523664\n",
      "Average mae: 0.18747653732190817\n"
     ]
    }
   ],
   "source": [
    "X = mbdf_global\n",
    "y = delta_delta_total_energy\n",
    "\n",
    "params = {'lambda': 6.032339645975787e-11, 'length': 1.0912415337720986}\n",
    "mae_scores = []\n",
    "\n",
    "kfold = KFold(n_splits=2, shuffle=True, random_state=42)\n",
    "for fold, (train_index, test_index) in enumerate(kfold.split(X)):\n",
    "    X_train, X_test = X[train_index], X[test_index]\n",
    "    y_train, y_test = y[train_index], y[test_index]\n",
    "    Q_train, Q_test = charges[train_index], charges[test_index]\n",
    "    \n",
    "    preds = KRR_global(X_train, y_train, X_test, best_params=params, kernel='gaussian', norm=2) # norm = L2\n",
    "    score = mean_absolute_error(preds.reshape(-1, 1), y_test)\n",
    "    mae_scores.append(score)\n",
    "    print(f\"fold {fold+1}: mae = {score}\")\n",
    "\n",
    "print(f\"Average mae: {np.array(mae_scores).mean()}\")"
   ]
  },
  {
   "cell_type": "markdown",
   "metadata": {},
   "source": [
    "## MBDF Local ##"
   ]
  },
  {
   "cell_type": "code",
   "execution_count": 7,
   "metadata": {},
   "outputs": [
    {
     "name": "stdout",
     "output_type": "stream",
     "text": [
      "fold 1: mae = 0.04134639014627312\n",
      "fold 2: mae = 0.0423741454675655\n",
      "Average mae: 0.041860267806919316\n"
     ]
    }
   ],
   "source": [
    "# lambda: regularization\n",
    "# length: kernel length\n",
    "\n",
    "X = mbdf\n",
    "y = delta_delta_total_energy\n",
    "\n",
    "params = {'lambda': 6.032339645975787e-11, 'length': 1.0912415337720986}\n",
    "mae_scores = []\n",
    "\n",
    "kfold = KFold(n_splits=2, shuffle=True, random_state=42)\n",
    "for fold, (train_index, test_index) in enumerate(kfold.split(X)):\n",
    "    X_train, X_test = X[train_index], X[test_index]\n",
    "    y_train, y_test = y[train_index], y[test_index]\n",
    "    Q_train, Q_test = charges[train_index], charges[test_index]\n",
    "    preds = KRR_local(X_train, Q_train, y_train, X_test, Q_test, best_params=params, kernel='mbdf')\n",
    "    score = mean_absolute_error(preds.reshape(-1, 1), y_test)\n",
    "    mae_scores.append(score)\n",
    "    print(f\"fold {fold+1}: mae = {score}\")\n",
    "\n",
    "print(f\"Average mae: {np.array(mae_scores).mean()}\")"
   ]
  },
  {
   "cell_type": "markdown",
   "metadata": {},
   "source": [
    "# Optimization #"
   ]
  },
  {
   "cell_type": "markdown",
   "metadata": {},
   "source": [
    "## CM ##"
   ]
  },
  {
   "cell_type": "code",
   "execution_count": 12,
   "metadata": {},
   "outputs": [
    {
     "name": "stdout",
     "output_type": "stream",
     "text": [
      "100%|██████████| 50/50 [00:25<00:00,  1.94trial/s, best loss: 0.27463351776855316]\n",
      "CM\n",
      "Best hyperparameters: {'alpha': 1.170259798512603e-13, 'gamma': 1.3945814234136684e-05}\n",
      "Loss: 0.27463351776855316\n"
     ]
    }
   ],
   "source": [
    "X_train = cm\n",
    "y_train = delta_delta_total_energy\n",
    "\n",
    "def objective(params):\n",
    "    params['kernel'] = 'rbf'\n",
    "    model = KernelRidge(**params)\n",
    "    neg_mae_scores = cross_val_score(model, X_train, y_train, scoring='neg_mean_absolute_error', cv=2)\n",
    "    return {'loss': -neg_mae_scores.mean(), 'status': STATUS_OK}\n",
    "\n",
    "space = {\n",
    "    'alpha': hp.loguniform('alpha', -30, 0),\n",
    "    'gamma': hp.loguniform('gamma', -30, 0),\n",
    "}\n",
    "\n",
    "trials = Trials()\n",
    "with warnings.catch_warnings():\n",
    "    warnings.filterwarnings('ignore')\n",
    "    best = fmin(fn=objective,\n",
    "                space=space,\n",
    "                algo=tpe.suggest, # tree parzen estimator\n",
    "                max_evals=50,\n",
    "                trials=trials)\n",
    "\n",
    "print(\"CM\")\n",
    "print(\"Best hyperparameters:\", best)\n",
    "print(\"Loss:\", trials.best_trial['result']['loss'])"
   ]
  },
  {
   "cell_type": "markdown",
   "metadata": {},
   "source": [
    "## BOB ##"
   ]
  },
  {
   "cell_type": "code",
   "execution_count": 8,
   "metadata": {},
   "outputs": [
    {
     "name": "stdout",
     "output_type": "stream",
     "text": [
      "100%|██████████| 50/50 [00:37<00:00,  1.32trial/s, best loss: 0.11399516531218089]\n",
      "BOB\n",
      "Best hyperparameters: {'alpha': 0.000536679384502507, 'gamma': 7.91857911110305e-06}\n",
      "Loss: 0.11399516531218089\n"
     ]
    }
   ],
   "source": [
    "X_train = bob\n",
    "y_train = delta_delta_total_energy\n",
    "\n",
    "def objective(params):\n",
    "    params['kernel'] = 'rbf'\n",
    "    model = KernelRidge(**params)\n",
    "    neg_mae_scores = cross_val_score(model, X_train, y_train, scoring='neg_mean_absolute_error', cv=2)\n",
    "    return {'loss': -neg_mae_scores.mean(), 'status': STATUS_OK}\n",
    "\n",
    "space = {\n",
    "    'alpha': hp.loguniform('alpha', -30, 0),\n",
    "    'gamma': hp.loguniform('gamma', -30, 0),\n",
    "}\n",
    "\n",
    "trials = Trials()\n",
    "with warnings.catch_warnings():\n",
    "    warnings.filterwarnings('ignore')\n",
    "    best = fmin(fn=objective,\n",
    "                space=space,\n",
    "                algo=tpe.suggest, # tree parzen estimator\n",
    "                max_evals=50,\n",
    "                trials=trials)\n",
    "\n",
    "print(\"BOB\")\n",
    "print(\"Best hyperparameters:\", best)\n",
    "print(\"Loss:\", trials.best_trial['result']['loss'])"
   ]
  },
  {
   "cell_type": "markdown",
   "metadata": {},
   "source": [
    "## MBDF Global ##"
   ]
  },
  {
   "cell_type": "code",
   "execution_count": 23,
   "metadata": {},
   "outputs": [
    {
     "name": "stdout",
     "output_type": "stream",
     "text": [
      "100%|██████████| 100/100 [01:45<00:00,  1.06s/trial, best loss: 0.11815085708492293]\n",
      "MBDF\n",
      "Best hyperparameters: {'lambda': 2.3061561318708763e-05, 'length': 7.318069540459371}\n",
      "Loss: 0.11815085708492293\n"
     ]
    }
   ],
   "source": [
    "X = mbdf_global\n",
    "y = delta_delta_total_energy\n",
    "\n",
    "def objective(params):\n",
    "    mae_scores = []\n",
    "    kfold = KFold(n_splits=2, shuffle=True, random_state=42)\n",
    "    for fold, (train_index, test_index) in enumerate(kfold.split(X)):\n",
    "        X_train, X_test = X[train_index], X[test_index]\n",
    "        y_train, y_test = y[train_index], y[test_index]\n",
    "        Q_train, Q_test = charges[train_index], charges[test_index]\n",
    "        preds = KRR_global(X_train, y_train, X_test, best_params=params, kernel='gaussian', norm=2)\n",
    "        if type(preds) is str:\n",
    "            return np.inf\n",
    "        score = mean_absolute_error(preds.reshape(-1, 1), y_test)\n",
    "        mae_scores.append(score)\n",
    "    return np.array(mae_scores).mean()\n",
    "\n",
    "space = {\n",
    "    'lambda': hp.loguniform('lambda', -30, 0), \n",
    "    'length': hp.loguniform('length', -5, 2)\n",
    "}\n",
    "\n",
    "trials = Trials()\n",
    "with warnings.catch_warnings():\n",
    "    warnings.filterwarnings('ignore')\n",
    "    best = fmin(fn=objective,\n",
    "                space=space,\n",
    "                algo=tpe.suggest, # tree parzen estimator\n",
    "                max_evals=100,\n",
    "                trials=trials)\n",
    "\n",
    "print(\"MBDF\")\n",
    "print(\"Best hyperparameters:\", best)\n",
    "print(\"Loss:\", trials.best_trial['result']['loss'])"
   ]
  },
  {
   "cell_type": "markdown",
   "metadata": {},
   "source": [
    "## MBDF Local ##"
   ]
  },
  {
   "cell_type": "code",
   "execution_count": 21,
   "metadata": {},
   "outputs": [
    {
     "name": "stdout",
     "output_type": "stream",
     "text": [
      "  0%|          | 0/50 [00:00<?, ?trial/s, best loss=?]"
     ]
    },
    {
     "name": "stdout",
     "output_type": "stream",
     "text": [
      "100%|██████████| 50/50 [07:15<00:00,  8.70s/trial, best loss: 0.017366191436974845]\n",
      "MBDF\n",
      "Best hyperparameters: {'lambda': 1.4686180686107973e-10, 'length': 1.1322665811269628}\n",
      "Loss: 0.017366191436974845\n"
     ]
    }
   ],
   "source": [
    "X = mbdf\n",
    "y = delta_delta_total_energy\n",
    "\n",
    "def objective(params):\n",
    "    mae_scores = []\n",
    "    kfold = KFold(n_splits=2, shuffle=True, random_state=42)\n",
    "    for fold, (train_index, test_index) in enumerate(kfold.split(X)):\n",
    "        X_train, X_test = X[train_index], X[test_index]\n",
    "        y_train, y_test = y[train_index], y[test_index]\n",
    "        Q_train, Q_test = charges[train_index], charges[test_index]\n",
    "        preds = KRR_local(X_train, Q_train, y_train, X_test, Q_test, best_params=params, kernel='Gaussian')\n",
    "        if type(preds) is str:\n",
    "            return np.inf\n",
    "        score = mean_absolute_error(preds.reshape(-1, 1), y_test)\n",
    "        mae_scores.append(score)\n",
    "    return np.array(mae_scores).mean()\n",
    "\n",
    "space = {\n",
    "    'lambda': hp.loguniform('lambda', -30, 0), \n",
    "    'length': hp.loguniform('length', -2, 2)\n",
    "}\n",
    "\n",
    "trials = Trials()\n",
    "with warnings.catch_warnings():\n",
    "    warnings.filterwarnings('ignore')\n",
    "    best = fmin(fn=objective,\n",
    "                space=space,\n",
    "                algo=tpe.suggest, # tree parzen estimator\n",
    "                max_evals=50,\n",
    "                trials=trials)\n",
    "\n",
    "print(\"MBDF\")\n",
    "print(\"Best hyperparameters:\", best)\n",
    "print(\"Loss:\", trials.best_trial['result']['loss'])"
   ]
  },
  {
   "cell_type": "markdown",
   "metadata": {},
   "source": [
    "# Learning #"
   ]
  },
  {
   "cell_type": "code",
   "execution_count": 5,
   "metadata": {},
   "outputs": [],
   "source": [
    "performance_summary = {}"
   ]
  },
  {
   "cell_type": "markdown",
   "metadata": {},
   "source": [
    "## CM ##"
   ]
  },
  {
   "cell_type": "code",
   "execution_count": 18,
   "metadata": {},
   "outputs": [
    {
     "data": {
      "text/html": [
       "<div>\n",
       "<style scoped>\n",
       "    .dataframe tbody tr th:only-of-type {\n",
       "        vertical-align: middle;\n",
       "    }\n",
       "\n",
       "    .dataframe tbody tr th {\n",
       "        vertical-align: top;\n",
       "    }\n",
       "\n",
       "    .dataframe thead th {\n",
       "        text-align: right;\n",
       "    }\n",
       "</style>\n",
       "<table border=\"1\" class=\"dataframe\">\n",
       "  <thead>\n",
       "    <tr style=\"text-align: right;\">\n",
       "      <th></th>\n",
       "      <th>training size</th>\n",
       "      <th>average MAE (mHa)</th>\n",
       "      <th>standard deviation (mHa)</th>\n",
       "    </tr>\n",
       "  </thead>\n",
       "  <tbody>\n",
       "    <tr>\n",
       "      <th>1</th>\n",
       "      <td>64</td>\n",
       "      <td>648.552735</td>\n",
       "      <td>21.061938</td>\n",
       "    </tr>\n",
       "    <tr>\n",
       "      <th>2</th>\n",
       "      <td>128</td>\n",
       "      <td>537.698569</td>\n",
       "      <td>5.162775</td>\n",
       "    </tr>\n",
       "    <tr>\n",
       "      <th>3</th>\n",
       "      <td>256</td>\n",
       "      <td>461.018088</td>\n",
       "      <td>6.458496</td>\n",
       "    </tr>\n",
       "    <tr>\n",
       "      <th>4</th>\n",
       "      <td>512</td>\n",
       "      <td>379.985854</td>\n",
       "      <td>4.161769</td>\n",
       "    </tr>\n",
       "    <tr>\n",
       "      <th>5</th>\n",
       "      <td>1024</td>\n",
       "      <td>293.843897</td>\n",
       "      <td>2.392848</td>\n",
       "    </tr>\n",
       "    <tr>\n",
       "      <th>6</th>\n",
       "      <td>2048</td>\n",
       "      <td>241.825781</td>\n",
       "      <td>6.267924</td>\n",
       "    </tr>\n",
       "  </tbody>\n",
       "</table>\n",
       "</div>"
      ],
      "text/plain": [
       "  training size average MAE (mHa) standard deviation (mHa)\n",
       "1            64        648.552735                21.061938\n",
       "2           128        537.698569                 5.162775\n",
       "3           256        461.018088                 6.458496\n",
       "4           512        379.985854                 4.161769\n",
       "5          1024        293.843897                 2.392848\n",
       "6          2048        241.825781                 6.267924"
      ]
     },
     "metadata": {},
     "output_type": "display_data"
    }
   ],
   "source": [
    "X = cm\n",
    "y = delta_delta_total_energy\n",
    "\n",
    "best_params = {'alpha': 1.170259798512603e-5, 'gamma': 1.3945814234136684e-05, 'kernel': 'rbf'}\n",
    "model = KernelRidge(**best_params)\n",
    "\n",
    "columns = ['training size', 'average MAE (mHa)', 'standard deviation (mHa)']\n",
    "model_performance = pd.DataFrame(columns=columns)\n",
    "\n",
    "training_size = [2**i for i in range(6, 12)]\n",
    "num_trials = 5\n",
    "\n",
    "with warnings.catch_warnings():\n",
    "    for index, num_training_sample in enumerate(training_size):\n",
    "        warnings.filterwarnings(\"ignore\")\n",
    "        index = index + 1\n",
    "        average_error, std_dev_error = evaluate_performance(model, X, y, num_training_sample, num_trials)\n",
    "        model_performance.at[index, 'training size'] = num_training_sample\n",
    "        model_performance.at[index, 'average MAE (mHa)'] = average_error * 1000\n",
    "        model_performance.at[index, 'standard deviation (mHa)'] = std_dev_error * 1000\n",
    "\n",
    "performance_summary['CM'] = model_performance\n",
    "\n",
    "display(model_performance)"
   ]
  },
  {
   "cell_type": "markdown",
   "metadata": {},
   "source": [
    "## BOB ##"
   ]
  },
  {
   "cell_type": "code",
   "execution_count": 7,
   "metadata": {},
   "outputs": [
    {
     "data": {
      "text/html": [
       "<div>\n",
       "<style scoped>\n",
       "    .dataframe tbody tr th:only-of-type {\n",
       "        vertical-align: middle;\n",
       "    }\n",
       "\n",
       "    .dataframe tbody tr th {\n",
       "        vertical-align: top;\n",
       "    }\n",
       "\n",
       "    .dataframe thead th {\n",
       "        text-align: right;\n",
       "    }\n",
       "</style>\n",
       "<table border=\"1\" class=\"dataframe\">\n",
       "  <thead>\n",
       "    <tr style=\"text-align: right;\">\n",
       "      <th></th>\n",
       "      <th>training size</th>\n",
       "      <th>average MAE (mHa)</th>\n",
       "      <th>standard deviation (mHa)</th>\n",
       "    </tr>\n",
       "  </thead>\n",
       "  <tbody>\n",
       "    <tr>\n",
       "      <th>1</th>\n",
       "      <td>64</td>\n",
       "      <td>237.41251</td>\n",
       "      <td>6.115812</td>\n",
       "    </tr>\n",
       "    <tr>\n",
       "      <th>2</th>\n",
       "      <td>128</td>\n",
       "      <td>175.25626</td>\n",
       "      <td>3.951001</td>\n",
       "    </tr>\n",
       "    <tr>\n",
       "      <th>3</th>\n",
       "      <td>256</td>\n",
       "      <td>151.710951</td>\n",
       "      <td>2.826987</td>\n",
       "    </tr>\n",
       "    <tr>\n",
       "      <th>4</th>\n",
       "      <td>512</td>\n",
       "      <td>138.198604</td>\n",
       "      <td>2.084982</td>\n",
       "    </tr>\n",
       "    <tr>\n",
       "      <th>5</th>\n",
       "      <td>1024</td>\n",
       "      <td>119.947453</td>\n",
       "      <td>0.880823</td>\n",
       "    </tr>\n",
       "    <tr>\n",
       "      <th>6</th>\n",
       "      <td>2048</td>\n",
       "      <td>104.376199</td>\n",
       "      <td>2.593178</td>\n",
       "    </tr>\n",
       "  </tbody>\n",
       "</table>\n",
       "</div>"
      ],
      "text/plain": [
       "  training size average MAE (mHa) standard deviation (mHa)\n",
       "1            64         237.41251                 6.115812\n",
       "2           128         175.25626                 3.951001\n",
       "3           256        151.710951                 2.826987\n",
       "4           512        138.198604                 2.084982\n",
       "5          1024        119.947453                 0.880823\n",
       "6          2048        104.376199                 2.593178"
      ]
     },
     "metadata": {},
     "output_type": "display_data"
    }
   ],
   "source": [
    "X = bob\n",
    "y = delta_delta_total_energy\n",
    "\n",
    "best_params = {'alpha': 0.000536679384502507, 'gamma': 7.91857911110305e-06, 'kernel': 'rbf'}\n",
    "model = KernelRidge(**best_params)\n",
    "\n",
    "columns = ['training size', 'average MAE (mHa)', 'standard deviation (mHa)']\n",
    "model_performance = pd.DataFrame(columns=columns)\n",
    "\n",
    "training_size = [2**i for i in range(6, 12)]\n",
    "num_trials = 5\n",
    "\n",
    "with warnings.catch_warnings():\n",
    "    for index, num_training_sample in enumerate(training_size):\n",
    "        warnings.filterwarnings(\"ignore\")\n",
    "        index = index + 1\n",
    "        average_error, std_dev_error = evaluate_performance(model, X, y, num_training_sample, num_trials)\n",
    "        model_performance.at[index, 'training size'] = num_training_sample\n",
    "        model_performance.at[index, 'average MAE (mHa)'] = average_error * 1000\n",
    "        model_performance.at[index, 'standard deviation (mHa)'] = std_dev_error * 1000\n",
    "\n",
    "performance_summary['BOB'] = model_performance\n",
    "\n",
    "display(model_performance)"
   ]
  },
  {
   "cell_type": "markdown",
   "metadata": {},
   "source": [
    "## MBDF Global ##"
   ]
  },
  {
   "cell_type": "code",
   "execution_count": 9,
   "metadata": {},
   "outputs": [
    {
     "data": {
      "text/html": [
       "<div>\n",
       "<style scoped>\n",
       "    .dataframe tbody tr th:only-of-type {\n",
       "        vertical-align: middle;\n",
       "    }\n",
       "\n",
       "    .dataframe tbody tr th {\n",
       "        vertical-align: top;\n",
       "    }\n",
       "\n",
       "    .dataframe thead th {\n",
       "        text-align: right;\n",
       "    }\n",
       "</style>\n",
       "<table border=\"1\" class=\"dataframe\">\n",
       "  <thead>\n",
       "    <tr style=\"text-align: right;\">\n",
       "      <th></th>\n",
       "      <th>training size</th>\n",
       "      <th>average MAE (mHa)</th>\n",
       "      <th>standard deviation (mHa)</th>\n",
       "    </tr>\n",
       "  </thead>\n",
       "  <tbody>\n",
       "    <tr>\n",
       "      <th>1</th>\n",
       "      <td>64</td>\n",
       "      <td>274.402932</td>\n",
       "      <td>14.142826</td>\n",
       "    </tr>\n",
       "    <tr>\n",
       "      <th>2</th>\n",
       "      <td>128</td>\n",
       "      <td>198.342542</td>\n",
       "      <td>3.855854</td>\n",
       "    </tr>\n",
       "    <tr>\n",
       "      <th>3</th>\n",
       "      <td>256</td>\n",
       "      <td>183.233907</td>\n",
       "      <td>2.906295</td>\n",
       "    </tr>\n",
       "    <tr>\n",
       "      <th>4</th>\n",
       "      <td>512</td>\n",
       "      <td>164.291803</td>\n",
       "      <td>1.082699</td>\n",
       "    </tr>\n",
       "    <tr>\n",
       "      <th>5</th>\n",
       "      <td>1024</td>\n",
       "      <td>126.449388</td>\n",
       "      <td>1.504096</td>\n",
       "    </tr>\n",
       "    <tr>\n",
       "      <th>6</th>\n",
       "      <td>2048</td>\n",
       "      <td>93.926692</td>\n",
       "      <td>2.538377</td>\n",
       "    </tr>\n",
       "  </tbody>\n",
       "</table>\n",
       "</div>"
      ],
      "text/plain": [
       "  training size average MAE (mHa) standard deviation (mHa)\n",
       "1            64        274.402932                14.142826\n",
       "2           128        198.342542                 3.855854\n",
       "3           256        183.233907                 2.906295\n",
       "4           512        164.291803                 1.082699\n",
       "5          1024        126.449388                 1.504096\n",
       "6          2048         93.926692                 2.538377"
      ]
     },
     "metadata": {},
     "output_type": "display_data"
    }
   ],
   "source": [
    "X = mbdf_global\n",
    "y = delta_delta_total_energy\n",
    "best_params = {'lambda': 2.3061561318708763e-05, 'length': 7.318069540459371}\n",
    "\n",
    "columns = ['training size', 'average MAE (mHa)', 'standard deviation (mHa)']\n",
    "model_performance = pd.DataFrame(columns=columns)\n",
    "\n",
    "training_size = [2**i for i in range(6, 12)]\n",
    "num_trials = 5\n",
    "\n",
    "with warnings.catch_warnings():\n",
    "    for index, num_training_sample in enumerate(training_size):\n",
    "        warnings.filterwarnings(\"ignore\")\n",
    "        index = index + 1\n",
    "        average_error, std_dev_error = evaluate_performance_global(best_params, X, y, num_training_sample, num_trials)\n",
    "        model_performance.at[index, 'training size'] = num_training_sample\n",
    "        model_performance.at[index, 'average MAE (mHa)'] = average_error * 1000\n",
    "        model_performance.at[index, 'standard deviation (mHa)'] = std_dev_error * 1000\n",
    "\n",
    "performance_summary['MBDF_global'] = model_performance\n",
    "\n",
    "display(model_performance)"
   ]
  },
  {
   "cell_type": "markdown",
   "metadata": {},
   "source": [
    "## MBDF Local ##"
   ]
  },
  {
   "cell_type": "code",
   "execution_count": 10,
   "metadata": {},
   "outputs": [
    {
     "data": {
      "text/html": [
       "<div>\n",
       "<style scoped>\n",
       "    .dataframe tbody tr th:only-of-type {\n",
       "        vertical-align: middle;\n",
       "    }\n",
       "\n",
       "    .dataframe tbody tr th {\n",
       "        vertical-align: top;\n",
       "    }\n",
       "\n",
       "    .dataframe thead th {\n",
       "        text-align: right;\n",
       "    }\n",
       "</style>\n",
       "<table border=\"1\" class=\"dataframe\">\n",
       "  <thead>\n",
       "    <tr style=\"text-align: right;\">\n",
       "      <th></th>\n",
       "      <th>training size</th>\n",
       "      <th>average MAE (mHa)</th>\n",
       "      <th>standard deviation (mHa)</th>\n",
       "    </tr>\n",
       "  </thead>\n",
       "  <tbody>\n",
       "    <tr>\n",
       "      <th>1</th>\n",
       "      <td>64</td>\n",
       "      <td>91.459782</td>\n",
       "      <td>5.688672</td>\n",
       "    </tr>\n",
       "    <tr>\n",
       "      <th>2</th>\n",
       "      <td>128</td>\n",
       "      <td>61.880635</td>\n",
       "      <td>3.044494</td>\n",
       "    </tr>\n",
       "    <tr>\n",
       "      <th>3</th>\n",
       "      <td>256</td>\n",
       "      <td>45.05742</td>\n",
       "      <td>0.727712</td>\n",
       "    </tr>\n",
       "    <tr>\n",
       "      <th>4</th>\n",
       "      <td>512</td>\n",
       "      <td>27.131326</td>\n",
       "      <td>1.126055</td>\n",
       "    </tr>\n",
       "    <tr>\n",
       "      <th>5</th>\n",
       "      <td>1024</td>\n",
       "      <td>18.965722</td>\n",
       "      <td>0.476984</td>\n",
       "    </tr>\n",
       "    <tr>\n",
       "      <th>6</th>\n",
       "      <td>2048</td>\n",
       "      <td>15.459664</td>\n",
       "      <td>0.314807</td>\n",
       "    </tr>\n",
       "  </tbody>\n",
       "</table>\n",
       "</div>"
      ],
      "text/plain": [
       "  training size average MAE (mHa) standard deviation (mHa)\n",
       "1            64         91.459782                 5.688672\n",
       "2           128         61.880635                 3.044494\n",
       "3           256          45.05742                 0.727712\n",
       "4           512         27.131326                 1.126055\n",
       "5          1024         18.965722                 0.476984\n",
       "6          2048         15.459664                 0.314807"
      ]
     },
     "metadata": {},
     "output_type": "display_data"
    }
   ],
   "source": [
    "X = mbdf\n",
    "y = delta_delta_total_energy\n",
    "best_params = {'lambda': 6.032339645975787e-11, 'length': 1.0912415337720986}\n",
    "\n",
    "columns = ['training size', 'average MAE (mHa)', 'standard deviation (mHa)']\n",
    "model_performance = pd.DataFrame(columns=columns)\n",
    "\n",
    "training_size = [2**i for i in range(6, 12)]\n",
    "num_trials = 5\n",
    "\n",
    "with warnings.catch_warnings():\n",
    "    for index, num_training_sample in enumerate(training_size):\n",
    "        warnings.filterwarnings(\"ignore\")\n",
    "        index = index + 1\n",
    "        average_error, std_dev_error = evaluate_performance_local(best_params, X, y, charges, num_training_sample, num_trials)\n",
    "        model_performance.at[index, 'training size'] = num_training_sample\n",
    "        model_performance.at[index, 'average MAE (mHa)'] = average_error * 1000\n",
    "        model_performance.at[index, 'standard deviation (mHa)'] = std_dev_error * 1000\n",
    "\n",
    "performance_summary['MBDF_local'] = model_performance\n",
    "\n",
    "display(model_performance)"
   ]
  },
  {
   "cell_type": "code",
   "execution_count": 19,
   "metadata": {},
   "outputs": [
    {
     "name": "stdout",
     "output_type": "stream",
     "text": [
      "{'CM': [648.5527354673592, 537.6985692537448, 461.0180882987335, 379.9858538857778, 293.8438973546341, 241.82578139489823], 'BOB': [237.41250993141233, 175.25626039916506, 151.71095095761646, 138.19860398430035, 119.94745348162638, 104.37619882451854], 'MBDF_local': [91.45978157923743, 61.880635092542924, 45.05741969642941, 27.131326474704487, 18.96572152685743, 15.459664235069118], 'MBDF_global': [274.40293174604693, 198.34254220451777, 183.23390683681885, 164.29180299704285, 126.44938842117904, 93.92669161271573]}\n"
     ]
    }
   ],
   "source": [
    "learning_curve_data = {}\n",
    "for key, value in performance_summary.items():\n",
    "    # display(value)\n",
    "    learning_curve_data[key] = value['average MAE (mHa)'].tolist()\n",
    "\n",
    "print(learning_curve_data)"
   ]
  }
 ],
 "metadata": {
  "kernelspec": {
   "display_name": "Python 3",
   "language": "python",
   "name": "python3"
  },
  "language_info": {
   "codemirror_mode": {
    "name": "ipython",
    "version": 3
   },
   "file_extension": ".py",
   "mimetype": "text/x-python",
   "name": "python",
   "nbconvert_exporter": "python",
   "pygments_lexer": "ipython3",
   "version": "3.10.6"
  },
  "orig_nbformat": 4
 },
 "nbformat": 4,
 "nbformat_minor": 2
}
