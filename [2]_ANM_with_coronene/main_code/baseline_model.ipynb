{
 "cells": [
  {
   "cell_type": "code",
   "execution_count": 1,
   "metadata": {},
   "outputs": [],
   "source": [
    "import sys\n",
    "sys.path.append('../..')\n",
    "sys.path.append('../data')\n",
    "sys.path.append('../../helper_code')\n",
    "\n",
    "from sklearn.kernel_ridge import KernelRidge\n",
    "from helper_code.QML_KernelRidge import KRR_local, KRR_global, GridSearchCV, GridSearchCV_local\n",
    "from sklearn.model_selection import cross_val_score, KFold, train_test_split\n",
    "from sklearn.metrics import mean_absolute_error\n",
    "import warnings\n",
    "import numpy as np\n",
    "import pandas as pd\n",
    "from IPython.display import display\n",
    "from hyperopt import fmin, tpe, hp, STATUS_OK, Trials\n",
    "from helper_code.util import evaluate_performance_local_v2, evaluate_performance_global_v2"
   ]
  },
  {
   "cell_type": "code",
   "execution_count": 2,
   "metadata": {},
   "outputs": [],
   "source": [
    "# cm = np.genfromtxt(\"../data/coronene_training_data/CM.csv\", delimiter=',')\n",
    "# bob = np.genfromtxt(\"../data/coronene_training_data/BOB.csv\", delimiter=',')\n",
    "mbdf = np.genfromtxt(\"../data/coronene_training_data/MBDF.csv\", delimiter=',').reshape((-1, 36, 6))\n",
    "df = np.genfromtxt(\"../data/coronene_training_data/DF.csv\", delimiter=',')\n",
    "\n",
    "D_e_tot = pd.read_csv(f'../data/coronene_training_data/D_e_tot.csv').to_numpy()\n",
    "D_e_elec = pd.read_csv(f'../data/coronene_training_data/D_e_elec.csv').to_numpy()\n",
    "D_e_atom = pd.read_csv(f'../data/coronene_training_data/D_e_atom.csv').to_numpy()"
   ]
  },
  {
   "cell_type": "code",
   "execution_count": 3,
   "metadata": {},
   "outputs": [],
   "source": [
    "coronene_energy_raw_data = np.load(\"../data/coronene_raw_data/coronene_mutants_pbe_pcx2_corrected3.npz\", allow_pickle=True)\n",
    "charges = coronene_energy_raw_data['charges']"
   ]
  },
  {
   "cell_type": "markdown",
   "metadata": {},
   "source": [
    "# Model #"
   ]
  },
  {
   "cell_type": "markdown",
   "metadata": {},
   "source": [
    "## MBDF Global ##"
   ]
  },
  {
   "cell_type": "markdown",
   "metadata": {},
   "source": [
    "### D_etot ###"
   ]
  },
  {
   "cell_type": "code",
   "execution_count": 8,
   "metadata": {},
   "outputs": [
    {
     "name": "stdout",
     "output_type": "stream",
     "text": [
      "fold 1: mae = 0.10963196047060059\n",
      "fold 2: mae = 0.13274455639545224\n",
      "Average mae: 0.12118825843302641\n"
     ]
    }
   ],
   "source": [
    "X =df\n",
    "y = D_etot\n",
    "Q = charges\n",
    "mae_scores = []\n",
    "\n",
    "param_grid = {'lambda':[1e-3,1e-6,1e-9,1e-12],\n",
    "            'length':[10**i for i in range(-2,4)]} \n",
    "\n",
    "kfold = KFold(n_splits=2, shuffle=True, random_state=42)\n",
    "for fold, (train_index, test_index) in enumerate(kfold.split(X)):\n",
    "    X_train, X_test = X[train_index], X[test_index]\n",
    "    y_train, y_test = y[train_index], y[test_index]\n",
    "    Q_train, Q_test = Q[train_index], Q[test_index]\n",
    "    best_params = GridSearchCV(X_train, y_train, param_grid, cv = 4)\n",
    "    preds = KRR_global(X_train, y_train, X_test, best_params=best_params, kernel='gaussian', norm=2) # norm = L2\n",
    "    score = mean_absolute_error(preds.reshape(-1, 1), y_test)\n",
    "    mae_scores.append(score)\n",
    "    print(f\"fold {fold+1}: mae = {score}\")\n",
    "\n",
    "print(f\"Average mae: {np.array(mae_scores).mean()}\")"
   ]
  },
  {
   "cell_type": "code",
   "execution_count": 9,
   "metadata": {},
   "outputs": [
    {
     "name": "stdout",
     "output_type": "stream",
     "text": [
      "{'mae': 0.14329455888445342, 'lambda': 1e-06, 'length': 1000}\n"
     ]
    }
   ],
   "source": [
    "print(best_params)"
   ]
  },
  {
   "cell_type": "markdown",
   "metadata": {},
   "source": [
    "### DD_etot ###"
   ]
  },
  {
   "cell_type": "code",
   "execution_count": 23,
   "metadata": {},
   "outputs": [
    {
     "name": "stdout",
     "output_type": "stream",
     "text": [
      "fold 1: mae = 0.09511458513863061\n",
      "fold 2: mae = 0.11314163461048717\n",
      "Average mae: 0.1041281098745589\n"
     ]
    }
   ],
   "source": [
    "X =df\n",
    "y = DD_etot\n",
    "Q = charges\n",
    "mae_scores = []\n",
    "\n",
    "param_grid = {'lambda':[1e-3,1e-6,1e-9,1e-12],\n",
    "            'length':[10**i for i in range(-2,4)]} \n",
    "\n",
    "kfold = KFold(n_splits=2, shuffle=True, random_state=42)\n",
    "for fold, (train_index, test_index) in enumerate(kfold.split(X)):\n",
    "    X_train, X_test = X[train_index], X[test_index]\n",
    "    y_train, y_test = y[train_index], y[test_index]\n",
    "    Q_train, Q_test = Q[train_index], Q[test_index]\n",
    "    best_params = GridSearchCV(X_train, y_train, param_grid, cv = 4)\n",
    "    preds = KRR_global(X_train, y_train, X_test, best_params=best_params, kernel='gaussian', norm=2) # norm = L2\n",
    "    score = mean_absolute_error(preds.reshape(-1, 1), y_test)\n",
    "    mae_scores.append(score)\n",
    "    print(f\"fold {fold+1}: mae = {score}\")\n",
    "\n",
    "print(f\"Average mae: {np.array(mae_scores).mean()}\")"
   ]
  },
  {
   "cell_type": "code",
   "execution_count": 24,
   "metadata": {},
   "outputs": [
    {
     "name": "stdout",
     "output_type": "stream",
     "text": [
      "{'mae': 0.11600178809628667, 'lambda': 0.001, 'length': 1000}\n"
     ]
    }
   ],
   "source": [
    "print(best_params)"
   ]
  },
  {
   "cell_type": "code",
   "execution_count": 9,
   "metadata": {},
   "outputs": [
    {
     "name": "stdout",
     "output_type": "stream",
     "text": [
      "fold 1: mae = 0.10955891518598214\n",
      "fold 2: mae = 0.10749169273507639\n",
      "Average mae: 0.10852530396052926\n"
     ]
    }
   ],
   "source": [
    "X = df\n",
    "y = DD_etot\n",
    "Q = charges\n",
    "params = {'lambda': 0.9971429677217133, 'length': 7.1730768859490714}\n",
    "mae_scores = []\n",
    "\n",
    "kfold = KFold(n_splits=2, shuffle=True, random_state=42)\n",
    "for fold, (train_index, test_index) in enumerate(kfold.split(X)):\n",
    "    X_train, X_test = X[train_index], X[test_index]\n",
    "    y_train, y_test = y[train_index], y[test_index]\n",
    "    Q_train, Q_test = Q[train_index], Q[test_index]\n",
    "    \n",
    "    preds = KRR_global(X_train, y_train, X_test, best_params=params, kernel='gaussian', norm=2) # norm = L2\n",
    "    score = mean_absolute_error(preds.reshape(-1, 1), y_test)\n",
    "    mae_scores.append(score)\n",
    "    print(f\"fold {fold+1}: mae = {score}\")\n",
    "\n",
    "print(f\"Average mae: {np.array(mae_scores).mean()}\")"
   ]
  },
  {
   "cell_type": "markdown",
   "metadata": {},
   "source": [
    "### Bayesian Tuning ###"
   ]
  },
  {
   "cell_type": "code",
   "execution_count": 7,
   "metadata": {},
   "outputs": [
    {
     "name": "stdout",
     "output_type": "stream",
     "text": [
      "100%|██████████| 100/100 [02:27<00:00,  1.47s/trial, best loss: 0.14355348556589315]\n",
      "Best hyperparameters: {'lambda': 0.0031724934215629635, 'length': 49.705747731572686}\n",
      "Loss: 0.14355348556589315\n"
     ]
    }
   ],
   "source": [
    "# Global\n",
    "\n",
    "X = df\n",
    "y = D_e_tot\n",
    "\n",
    "def objective(params):\n",
    "    mae_scores = []\n",
    "    kfold = KFold(n_splits=2, shuffle=True, random_state=42)\n",
    "    for fold, (train_index, test_index) in enumerate(kfold.split(X)):\n",
    "        X_train, X_test = X[train_index], X[test_index]\n",
    "        y_train, y_test = y[train_index], y[test_index]\n",
    "        Q_train, Q_test = charges[train_index], charges[test_index]\n",
    "        preds = KRR_global(X_train, y_train, X_test, best_params=params, kernel='gaussian', norm=2)\n",
    "        if type(preds) is str:\n",
    "            return np.inf\n",
    "        score = mean_absolute_error(preds.reshape(-1, 1), y_test)\n",
    "        mae_scores.append(score)\n",
    "    return np.array(mae_scores).mean()\n",
    "\n",
    "space = {\n",
    "    'lambda': hp.loguniform('lambda', -7, 3), \n",
    "    'length': hp.loguniform('length', 0, 4)\n",
    "}\n",
    "\n",
    "trials = Trials()\n",
    "with warnings.catch_warnings():\n",
    "    warnings.filterwarnings('ignore')\n",
    "    best = fmin(fn=objective,\n",
    "                space=space,\n",
    "                algo=tpe.suggest, # tree parzen estimator\n",
    "                max_evals=100,\n",
    "                trials=trials)\n",
    "\n",
    "print(\"Best hyperparameters:\", best)\n",
    "print(\"Loss:\", trials.best_trial['result']['loss'])"
   ]
  },
  {
   "cell_type": "code",
   "execution_count": null,
   "metadata": {},
   "outputs": [],
   "source": [
    "# Tuning \n",
    "\n",
    "X = mbdf\n",
    "y = D_e_tot\n",
    "\n",
    "def objective(params):\n",
    "    mae_scores = []\n",
    "    kfold = KFold(n_splits=2, shuffle=True, random_state=42)\n",
    "    for fold, (train_index, test_index) in enumerate(kfold.split(X)):\n",
    "        X_train, X_test = X[train_index], X[test_index]\n",
    "        y_train, y_test = y[train_index], y[test_index]\n",
    "        Q_train, Q_test = charges[train_index], charges[test_index]\n",
    "        preds = KRR_local(X_train, Q_train, y_train, X_test, Q_test, best_params=params, kernel='Gaussian')\n",
    "        if type(preds) is str:\n",
    "            return np.inf\n",
    "        score = mean_absolute_error(preds.reshape(-1, 1), y_test)\n",
    "        mae_scores.append(score)\n",
    "    return np.array(mae_scores).mean()\n",
    "\n",
    "space = {\n",
    "    'lambda': hp.loguniform('lambda', -30, 0), \n",
    "    'length': hp.loguniform('length', -2, 2)\n",
    "}\n",
    "\n",
    "trials = Trials()\n",
    "with warnings.catch_warnings():\n",
    "    warnings.filterwarnings('ignore')\n",
    "    best = fmin(fn=objective,\n",
    "                space=space,\n",
    "                algo=tpe.suggest, # tree parzen estimator\n",
    "                max_evals=100,\n",
    "                trials=trials)\n",
    "\n",
    "print(\"Best hyperparameters:\", best)\n",
    "print(\"Loss:\", trials.best_trial['result']['loss'])"
   ]
  },
  {
   "cell_type": "markdown",
   "metadata": {},
   "source": [
    "### Evaluation ###"
   ]
  },
  {
   "cell_type": "code",
   "execution_count": 11,
   "metadata": {},
   "outputs": [
    {
     "name": "stdout",
     "output_type": "stream",
     "text": [
      "[254.11500261976727, 238.1328641186009, 186.90563407277568, 145.4709306551047, 128.47104308013488]\n",
      "[206.2575899882402, 161.13352877773576, 79.08474648056563, 34.55066444458538, 14.854541057841024]\n"
     ]
    },
    {
     "data": {
      "text/html": [
       "<div>\n",
       "<style scoped>\n",
       "    .dataframe tbody tr th:only-of-type {\n",
       "        vertical-align: middle;\n",
       "    }\n",
       "\n",
       "    .dataframe tbody tr th {\n",
       "        vertical-align: top;\n",
       "    }\n",
       "\n",
       "    .dataframe thead th {\n",
       "        text-align: right;\n",
       "    }\n",
       "</style>\n",
       "<table border=\"1\" class=\"dataframe\">\n",
       "  <thead>\n",
       "    <tr style=\"text-align: right;\">\n",
       "      <th></th>\n",
       "      <th>training size</th>\n",
       "      <th>average MAE (mHa)</th>\n",
       "      <th>standard deviation (mHa)</th>\n",
       "    </tr>\n",
       "  </thead>\n",
       "  <tbody>\n",
       "    <tr>\n",
       "      <th>1</th>\n",
       "      <td>80</td>\n",
       "      <td>254.115003</td>\n",
       "      <td>206.25759</td>\n",
       "    </tr>\n",
       "    <tr>\n",
       "      <th>2</th>\n",
       "      <td>160</td>\n",
       "      <td>238.132864</td>\n",
       "      <td>161.133529</td>\n",
       "    </tr>\n",
       "    <tr>\n",
       "      <th>3</th>\n",
       "      <td>320</td>\n",
       "      <td>186.905634</td>\n",
       "      <td>79.084746</td>\n",
       "    </tr>\n",
       "    <tr>\n",
       "      <th>4</th>\n",
       "      <td>640</td>\n",
       "      <td>145.470931</td>\n",
       "      <td>34.550664</td>\n",
       "    </tr>\n",
       "    <tr>\n",
       "      <th>5</th>\n",
       "      <td>1280</td>\n",
       "      <td>128.471043</td>\n",
       "      <td>14.854541</td>\n",
       "    </tr>\n",
       "  </tbody>\n",
       "</table>\n",
       "</div>"
      ],
      "text/plain": [
       "  training size average MAE (mHa) standard deviation (mHa)\n",
       "1            80        254.115003                206.25759\n",
       "2           160        238.132864               161.133529\n",
       "3           320        186.905634                79.084746\n",
       "4           640        145.470931                34.550664\n",
       "5          1280        128.471043                14.854541"
      ]
     },
     "metadata": {},
     "output_type": "display_data"
    }
   ],
   "source": [
    "X = df\n",
    "y = D_e_atom\n",
    "\n",
    "best_params = {'lambda': 1e-06, 'length': 1000}\n",
    "\n",
    "columns = ['training size', 'average MAE (mHa)', 'standard deviation (mHa)']\n",
    "model_performance = pd.DataFrame(columns=columns)\n",
    "\n",
    "training_size = [80, 160, 320, 640, 1280]\n",
    "num_trials = 5\n",
    "\n",
    "with warnings.catch_warnings():\n",
    "    for index, num_training_sample in enumerate(training_size):\n",
    "        warnings.filterwarnings(\"ignore\")\n",
    "        index = index + 1\n",
    "        average_error, std_dev_error = evaluate_performance_global_v2(best_params, X, y, num_training_sample, num_trials)\n",
    "        model_performance.at[index, 'training size'] = num_training_sample\n",
    "        model_performance.at[index, 'average MAE (mHa)'] = average_error * 1000\n",
    "        model_performance.at[index, 'standard deviation (mHa)'] = std_dev_error * 1000\n",
    "\n",
    "print(model_performance['average MAE (mHa)'].tolist())\n",
    "print(model_performance['standard deviation (mHa)'].tolist())\n",
    "display(model_performance)"
   ]
  },
  {
   "cell_type": "code",
   "execution_count": 12,
   "metadata": {},
   "outputs": [
    {
     "name": "stdout",
     "output_type": "stream",
     "text": [
      "[158.77594153128908, 152.8608612484898, 132.2585742647864, 112.99252974548612, 108.77644891667948]\n",
      "[21.751947186430073, 27.32525593239945, 17.940957537298825, 9.27640555356414, 5.661382258208243]\n"
     ]
    },
    {
     "data": {
      "text/html": [
       "<div>\n",
       "<style scoped>\n",
       "    .dataframe tbody tr th:only-of-type {\n",
       "        vertical-align: middle;\n",
       "    }\n",
       "\n",
       "    .dataframe tbody tr th {\n",
       "        vertical-align: top;\n",
       "    }\n",
       "\n",
       "    .dataframe thead th {\n",
       "        text-align: right;\n",
       "    }\n",
       "</style>\n",
       "<table border=\"1\" class=\"dataframe\">\n",
       "  <thead>\n",
       "    <tr style=\"text-align: right;\">\n",
       "      <th></th>\n",
       "      <th>training size</th>\n",
       "      <th>average MAE (mHa)</th>\n",
       "      <th>standard deviation (mHa)</th>\n",
       "    </tr>\n",
       "  </thead>\n",
       "  <tbody>\n",
       "    <tr>\n",
       "      <th>1</th>\n",
       "      <td>80</td>\n",
       "      <td>158.775942</td>\n",
       "      <td>21.751947</td>\n",
       "    </tr>\n",
       "    <tr>\n",
       "      <th>2</th>\n",
       "      <td>160</td>\n",
       "      <td>152.860861</td>\n",
       "      <td>27.325256</td>\n",
       "    </tr>\n",
       "    <tr>\n",
       "      <th>3</th>\n",
       "      <td>320</td>\n",
       "      <td>132.258574</td>\n",
       "      <td>17.940958</td>\n",
       "    </tr>\n",
       "    <tr>\n",
       "      <th>4</th>\n",
       "      <td>640</td>\n",
       "      <td>112.99253</td>\n",
       "      <td>9.276406</td>\n",
       "    </tr>\n",
       "    <tr>\n",
       "      <th>5</th>\n",
       "      <td>1280</td>\n",
       "      <td>108.776449</td>\n",
       "      <td>5.661382</td>\n",
       "    </tr>\n",
       "  </tbody>\n",
       "</table>\n",
       "</div>"
      ],
      "text/plain": [
       "  training size average MAE (mHa) standard deviation (mHa)\n",
       "1            80        158.775942                21.751947\n",
       "2           160        152.860861                27.325256\n",
       "3           320        132.258574                17.940958\n",
       "4           640         112.99253                 9.276406\n",
       "5          1280        108.776449                 5.661382"
      ]
     },
     "metadata": {},
     "output_type": "display_data"
    }
   ],
   "source": [
    "X = mbdf\n",
    "y = D_e_atom\n",
    "best_params = {'lambda': 0.001, 'length': 100}\n",
    "\n",
    "columns = ['training size', 'average MAE (mHa)', 'standard deviation (mHa)']\n",
    "model_performance = pd.DataFrame(columns=columns)\n",
    "\n",
    "training_size = [80, 160, 320, 640, 1280]\n",
    "num_trials = 5\n",
    "\n",
    "with warnings.catch_warnings():\n",
    "    for index, num_training_sample in enumerate(training_size):\n",
    "        warnings.filterwarnings(\"ignore\")\n",
    "        index = index + 1\n",
    "        average_error, std_dev_error = evaluate_performance_local_v2(best_params, X, y, charges, num_training_sample, num_trials)\n",
    "        model_performance.at[index, 'training size'] = num_training_sample\n",
    "        model_performance.at[index, 'average MAE (mHa)'] = average_error * 1000\n",
    "        model_performance.at[index, 'standard deviation (mHa)'] = std_dev_error * 1000\n",
    "\n",
    "print(model_performance['average MAE (mHa)'].tolist())\n",
    "print(model_performance['standard deviation (mHa)'].tolist())\n",
    "display(model_performance)"
   ]
  },
  {
   "cell_type": "markdown",
   "metadata": {},
   "source": [
    "## MBDF Local ##"
   ]
  },
  {
   "cell_type": "markdown",
   "metadata": {},
   "source": [
    "### D_etot ###"
   ]
  },
  {
   "cell_type": "code",
   "execution_count": 6,
   "metadata": {},
   "outputs": [
    {
     "name": "stdout",
     "output_type": "stream",
     "text": [
      "fold 1: mae = 0.09786804547787652\n",
      "fold 2: mae = 0.11421316526373111\n",
      "Average mae: 0.10604060537080381\n"
     ]
    }
   ],
   "source": [
    "X = mbdf\n",
    "y = D_etot\n",
    "\n",
    "param_grid={'lambda':[1e-3,1e-6,1e-9,1e-12],\n",
    "            'length':[10**i for i in range(-2,4)]}\n",
    "mae_scores = []\n",
    "\n",
    "kfold = KFold(n_splits=2, shuffle=True, random_state=42)\n",
    "for fold, (train_index, test_index) in enumerate(kfold.split(X)):\n",
    "    X_train, X_test = X[train_index], X[test_index]\n",
    "    y_train, y_test = y[train_index], y[test_index]\n",
    "    Q_train, Q_test = charges[train_index], charges[test_index]\n",
    "    best_params = GridSearchCV_local(X_train, Q_train, y_train, param_grid, cv = 4)\n",
    "    preds = KRR_local(X_train, Q_train, y_train, X_test, Q_test, best_params=best_params, kernel='mbdf')\n",
    "    score = mean_absolute_error(preds.reshape(-1, 1), y_test)\n",
    "    mae_scores.append(score)\n",
    "    print(f\"fold {fold+1}: mae = {score}\")\n",
    "\n",
    "print(f\"Average mae: {np.array(mae_scores).mean()}\")"
   ]
  },
  {
   "cell_type": "code",
   "execution_count": 7,
   "metadata": {},
   "outputs": [
    {
     "name": "stdout",
     "output_type": "stream",
     "text": [
      "{'mae': 0.11420059134960384, 'lambda': 0.001, 'length': 100}\n"
     ]
    }
   ],
   "source": [
    "print(best_params)"
   ]
  },
  {
   "cell_type": "markdown",
   "metadata": {},
   "source": [
    "### DD_etot ###"
   ]
  },
  {
   "cell_type": "code",
   "execution_count": 6,
   "metadata": {},
   "outputs": [
    {
     "name": "stdout",
     "output_type": "stream",
     "text": [
      "fold 1: mae = 0.09305628346319726\n",
      "fold 2: mae = 0.1115939887598628\n",
      "Average mae: 0.10232513611153003\n"
     ]
    }
   ],
   "source": [
    "# lambda: regularization\n",
    "# length: kernel length\n",
    "\n",
    "X = mbdf\n",
    "y = DD_etot\n",
    "\n",
    "params = {'lambda': 0.9700293111914039, 'length': 6.720858507072239}\n",
    "mae_scores = []\n",
    "\n",
    "kfold = KFold(n_splits=2, shuffle=True, random_state=42)\n",
    "for fold, (train_index, test_index) in enumerate(kfold.split(X)):\n",
    "    X_train, X_test = X[train_index], X[test_index]\n",
    "    y_train, y_test = y[train_index], y[test_index]\n",
    "    Q_train, Q_test = charges[train_index], charges[test_index]\n",
    "    preds = KRR_local(X_train, Q_train, y_train, X_test, Q_test, best_params=params, kernel='mbdf')\n",
    "    score = mean_absolute_error(preds.reshape(-1, 1), y_test)\n",
    "    mae_scores.append(score)\n",
    "    print(f\"fold {fold+1}: mae = {score}\")\n",
    "\n",
    "print(f\"Average mae: {np.array(mae_scores).mean()}\")"
   ]
  },
  {
   "cell_type": "code",
   "execution_count": 5,
   "metadata": {},
   "outputs": [
    {
     "name": "stdout",
     "output_type": "stream",
     "text": [
      "100%|██████████| 100/100 [01:49<00:00,  1.10s/trial, best loss: 0.10018734438910065]\n",
      "Best hyperparameters: {'lambda': 0.9700293111914039, 'length': 6.720858507072239}\n",
      "Loss: 0.10018734438910065\n"
     ]
    }
   ],
   "source": [
    "# Tuning \n",
    "\n",
    "X = mbdf\n",
    "y = D_e_tot\n",
    "\n",
    "def objective(params):\n",
    "    mae_scores = []\n",
    "    kfold = KFold(n_splits=2, shuffle=True, random_state=42)\n",
    "    for fold, (train_index, test_index) in enumerate(kfold.split(X)):\n",
    "        X_train, X_test = X[train_index], X[test_index]\n",
    "        y_train, y_test = y[train_index], y[test_index]\n",
    "        Q_train, Q_test = charges[train_index], charges[test_index]\n",
    "        preds = KRR_local(X_train, Q_train, y_train, X_test, Q_test, best_params=params, kernel='Gaussian')\n",
    "        if type(preds) is str:\n",
    "            return np.inf\n",
    "        score = mean_absolute_error(preds.reshape(-1, 1), y_test)\n",
    "        mae_scores.append(score)\n",
    "    return np.array(mae_scores).mean()\n",
    "\n",
    "space = {\n",
    "    'lambda': hp.loguniform('lambda', -30, 0), \n",
    "    'length': hp.loguniform('length', -2, 2)\n",
    "}\n",
    "\n",
    "trials = Trials()\n",
    "with warnings.catch_warnings():\n",
    "    warnings.filterwarnings('ignore')\n",
    "    best = fmin(fn=objective,\n",
    "                space=space,\n",
    "                algo=tpe.suggest, # tree parzen estimator\n",
    "                max_evals=100,\n",
    "                trials=trials)\n",
    "\n",
    "print(\"Best hyperparameters:\", best)\n",
    "print(\"Loss:\", trials.best_trial['result']['loss'])"
   ]
  },
  {
   "cell_type": "markdown",
   "metadata": {},
   "source": [
    "# Learning #"
   ]
  },
  {
   "cell_type": "code",
   "execution_count": 4,
   "metadata": {},
   "outputs": [],
   "source": [
    "performance_summary = {}"
   ]
  },
  {
   "cell_type": "code",
   "execution_count": 12,
   "metadata": {},
   "outputs": [],
   "source": [
    "def evaluate_performance_global(params, X, y, num_training_sample, num_trials):\n",
    "\n",
    "    errors = []\n",
    "    test_size = 1.0 - num_training_sample/X.shape[0]\n",
    "\n",
    "    for i in range(num_trials):\n",
    "        train_indices, test_indices = train_test_split(range(X.shape[0]), test_size=test_size, shuffle=True, random_state=i)\n",
    "        X_train, X_test = X[train_indices], X[test_indices]\n",
    "        y_train, y_test = y[train_indices], y[test_indices]\n",
    "        preds = KRR_global(X_train, y_train, X_test, best_params=params, kernel='Gaussian')\n",
    "        error = mean_absolute_error(preds.reshape(-1, 1), y_test)\n",
    "        errors.append(error)\n",
    "    \n",
    "    average_error = np.mean(errors)\n",
    "    std_dev_error = np.std(errors)/np.sqrt(num_trials)\n",
    "    return average_error, std_dev_error\n",
    "\n",
    "\n",
    "\n",
    "def evaluate_performance_local(params, X, y, Q, num_training_sample, num_trials):\n",
    "\n",
    "    errors = []\n",
    "    test_size = 1.0 - num_training_sample/X.shape[0]\n",
    "\n",
    "    for i in range(num_trials):\n",
    "        train_indices, test_indices = train_test_split(range(X.shape[0]), test_size=test_size, shuffle=True, random_state=i)\n",
    "        X_train, X_test = X[train_indices], X[test_indices]\n",
    "        y_train, y_test = y[train_indices], y[test_indices]\n",
    "        Q_train, Q_test = Q[train_indices], Q[test_indices]\n",
    "        preds = KRR_local(X_train, Q_train, y_train, X_test, Q_test, best_params=params, kernel='Gaussian')\n",
    "        error = mean_absolute_error(preds.reshape(-1, 1), y_test)\n",
    "        errors.append(error)\n",
    "    \n",
    "    average_error = np.mean(errors)\n",
    "    std_dev_error = np.std(errors)/np.sqrt(num_trials)\n",
    "    return average_error, std_dev_error"
   ]
  },
  {
   "cell_type": "markdown",
   "metadata": {},
   "source": [
    "## MBDF Global ##"
   ]
  },
  {
   "cell_type": "code",
   "execution_count": 5,
   "metadata": {},
   "outputs": [
    {
     "data": {
      "text/html": [
       "<div>\n",
       "<style scoped>\n",
       "    .dataframe tbody tr th:only-of-type {\n",
       "        vertical-align: middle;\n",
       "    }\n",
       "\n",
       "    .dataframe tbody tr th {\n",
       "        vertical-align: top;\n",
       "    }\n",
       "\n",
       "    .dataframe thead th {\n",
       "        text-align: right;\n",
       "    }\n",
       "</style>\n",
       "<table border=\"1\" class=\"dataframe\">\n",
       "  <thead>\n",
       "    <tr style=\"text-align: right;\">\n",
       "      <th></th>\n",
       "      <th>training size</th>\n",
       "      <th>average MAE (mHa)</th>\n",
       "      <th>standard deviation (mHa)</th>\n",
       "    </tr>\n",
       "  </thead>\n",
       "  <tbody>\n",
       "    <tr>\n",
       "      <th>1</th>\n",
       "      <td>10</td>\n",
       "      <td>267.348668</td>\n",
       "      <td>48.281552</td>\n",
       "    </tr>\n",
       "    <tr>\n",
       "      <th>2</th>\n",
       "      <td>20</td>\n",
       "      <td>173.770549</td>\n",
       "      <td>29.208821</td>\n",
       "    </tr>\n",
       "    <tr>\n",
       "      <th>3</th>\n",
       "      <td>40</td>\n",
       "      <td>132.61813</td>\n",
       "      <td>29.620547</td>\n",
       "    </tr>\n",
       "    <tr>\n",
       "      <th>4</th>\n",
       "      <td>80</td>\n",
       "      <td>255.81756</td>\n",
       "      <td>201.60466</td>\n",
       "    </tr>\n",
       "    <tr>\n",
       "      <th>5</th>\n",
       "      <td>160</td>\n",
       "      <td>238.311073</td>\n",
       "      <td>160.749926</td>\n",
       "    </tr>\n",
       "    <tr>\n",
       "      <th>6</th>\n",
       "      <td>320</td>\n",
       "      <td>187.045221</td>\n",
       "      <td>79.03926</td>\n",
       "    </tr>\n",
       "    <tr>\n",
       "      <th>7</th>\n",
       "      <td>640</td>\n",
       "      <td>145.877099</td>\n",
       "      <td>34.74895</td>\n",
       "    </tr>\n",
       "    <tr>\n",
       "      <th>8</th>\n",
       "      <td>1280</td>\n",
       "      <td>128.871766</td>\n",
       "      <td>15.174768</td>\n",
       "    </tr>\n",
       "  </tbody>\n",
       "</table>\n",
       "</div>"
      ],
      "text/plain": [
       "  training size average MAE (mHa) standard deviation (mHa)\n",
       "1            10        267.348668                48.281552\n",
       "2            20        173.770549                29.208821\n",
       "3            40         132.61813                29.620547\n",
       "4            80         255.81756                201.60466\n",
       "5           160        238.311073               160.749926\n",
       "6           320        187.045221                 79.03926\n",
       "7           640        145.877099                 34.74895\n",
       "8          1280        128.871766                15.174768"
      ]
     },
     "metadata": {},
     "output_type": "display_data"
    }
   ],
   "source": [
    "X = df\n",
    "y = D_etot\n",
    "\n",
    "best_params = {'lambda': 1e-06, 'length': 1000}\n",
    "\n",
    "columns = ['training size', 'average MAE (mHa)', 'standard deviation (mHa)']\n",
    "model_performance = pd.DataFrame(columns=columns)\n",
    "\n",
    "training_size = [10, 20, 40, 80, 160, 320, 640, 1280]\n",
    "num_trials = 5\n",
    "\n",
    "with warnings.catch_warnings():\n",
    "    for index, num_training_sample in enumerate(training_size):\n",
    "        warnings.filterwarnings(\"ignore\")\n",
    "        index = index + 1\n",
    "        average_error, std_dev_error = evaluate_performance_global_v2(best_params, X, y, num_training_sample, num_trials)\n",
    "        model_performance.at[index, 'training size'] = num_training_sample\n",
    "        model_performance.at[index, 'average MAE (mHa)'] = average_error * 1000\n",
    "        model_performance.at[index, 'standard deviation (mHa)'] = std_dev_error * 1000\n",
    "\n",
    "performance_summary['MBDF_global'] = model_performance\n",
    "\n",
    "display(model_performance)"
   ]
  },
  {
   "cell_type": "code",
   "execution_count": 14,
   "metadata": {},
   "outputs": [
    {
     "data": {
      "text/html": [
       "<div>\n",
       "<style scoped>\n",
       "    .dataframe tbody tr th:only-of-type {\n",
       "        vertical-align: middle;\n",
       "    }\n",
       "\n",
       "    .dataframe tbody tr th {\n",
       "        vertical-align: top;\n",
       "    }\n",
       "\n",
       "    .dataframe thead th {\n",
       "        text-align: right;\n",
       "    }\n",
       "</style>\n",
       "<table border=\"1\" class=\"dataframe\">\n",
       "  <thead>\n",
       "    <tr style=\"text-align: right;\">\n",
       "      <th></th>\n",
       "      <th>training size</th>\n",
       "      <th>average MAE (mHa)</th>\n",
       "      <th>standard deviation (mHa)</th>\n",
       "    </tr>\n",
       "  </thead>\n",
       "  <tbody>\n",
       "    <tr>\n",
       "      <th>1</th>\n",
       "      <td>64</td>\n",
       "      <td>94.87069</td>\n",
       "      <td>1.95914</td>\n",
       "    </tr>\n",
       "    <tr>\n",
       "      <th>2</th>\n",
       "      <td>128</td>\n",
       "      <td>97.726285</td>\n",
       "      <td>5.403965</td>\n",
       "    </tr>\n",
       "    <tr>\n",
       "      <th>3</th>\n",
       "      <td>256</td>\n",
       "      <td>108.099702</td>\n",
       "      <td>10.861729</td>\n",
       "    </tr>\n",
       "    <tr>\n",
       "      <th>4</th>\n",
       "      <td>512</td>\n",
       "      <td>110.319929</td>\n",
       "      <td>6.442153</td>\n",
       "    </tr>\n",
       "    <tr>\n",
       "      <th>5</th>\n",
       "      <td>1024</td>\n",
       "      <td>103.079877</td>\n",
       "      <td>1.698074</td>\n",
       "    </tr>\n",
       "  </tbody>\n",
       "</table>\n",
       "</div>"
      ],
      "text/plain": [
       "  training size average MAE (mHa) standard deviation (mHa)\n",
       "1            64          94.87069                  1.95914\n",
       "2           128         97.726285                 5.403965\n",
       "3           256        108.099702                10.861729\n",
       "4           512        110.319929                 6.442153\n",
       "5          1024        103.079877                 1.698074"
      ]
     },
     "metadata": {},
     "output_type": "display_data"
    }
   ],
   "source": [
    "X = df\n",
    "y = DD_etot\n",
    "\n",
    "best_params = {'lambda': 0.001, 'length': 1000}\n",
    "\n",
    "columns = ['training size', 'average MAE (mHa)', 'standard deviation (mHa)']\n",
    "model_performance = pd.DataFrame(columns=columns)\n",
    "\n",
    "training_size = [2**i for i in range(6, 11)]\n",
    "num_trials = 5\n",
    "\n",
    "with warnings.catch_warnings():\n",
    "    for index, num_training_sample in enumerate(training_size):\n",
    "        warnings.filterwarnings(\"ignore\")\n",
    "        index = index + 1\n",
    "        average_error, std_dev_error = evaluate_performance_global(best_params, X, y, num_training_sample, num_trials)\n",
    "        model_performance.at[index, 'training size'] = num_training_sample\n",
    "        model_performance.at[index, 'average MAE (mHa)'] = average_error * 1000\n",
    "        model_performance.at[index, 'standard deviation (mHa)'] = std_dev_error * 1000\n",
    "\n",
    "performance_summary['MBDF_global (delta)'] = model_performance\n",
    "\n",
    "display(model_performance)"
   ]
  },
  {
   "cell_type": "markdown",
   "metadata": {},
   "source": [
    "## MBDF Local ##"
   ]
  },
  {
   "cell_type": "code",
   "execution_count": 7,
   "metadata": {},
   "outputs": [
    {
     "data": {
      "text/html": [
       "<div>\n",
       "<style scoped>\n",
       "    .dataframe tbody tr th:only-of-type {\n",
       "        vertical-align: middle;\n",
       "    }\n",
       "\n",
       "    .dataframe tbody tr th {\n",
       "        vertical-align: top;\n",
       "    }\n",
       "\n",
       "    .dataframe thead th {\n",
       "        text-align: right;\n",
       "    }\n",
       "</style>\n",
       "<table border=\"1\" class=\"dataframe\">\n",
       "  <thead>\n",
       "    <tr style=\"text-align: right;\">\n",
       "      <th></th>\n",
       "      <th>training size</th>\n",
       "      <th>average MAE (mHa)</th>\n",
       "      <th>standard deviation (mHa)</th>\n",
       "    </tr>\n",
       "  </thead>\n",
       "  <tbody>\n",
       "    <tr>\n",
       "      <th>1</th>\n",
       "      <td>10</td>\n",
       "      <td>184.597845</td>\n",
       "      <td>12.380999</td>\n",
       "    </tr>\n",
       "    <tr>\n",
       "      <th>2</th>\n",
       "      <td>20</td>\n",
       "      <td>164.222805</td>\n",
       "      <td>8.040528</td>\n",
       "    </tr>\n",
       "    <tr>\n",
       "      <th>3</th>\n",
       "      <td>40</td>\n",
       "      <td>146.571214</td>\n",
       "      <td>10.754663</td>\n",
       "    </tr>\n",
       "    <tr>\n",
       "      <th>4</th>\n",
       "      <td>80</td>\n",
       "      <td>158.776434</td>\n",
       "      <td>21.75193</td>\n",
       "    </tr>\n",
       "    <tr>\n",
       "      <th>5</th>\n",
       "      <td>160</td>\n",
       "      <td>152.861298</td>\n",
       "      <td>27.325309</td>\n",
       "    </tr>\n",
       "    <tr>\n",
       "      <th>6</th>\n",
       "      <td>320</td>\n",
       "      <td>132.259076</td>\n",
       "      <td>17.940817</td>\n",
       "    </tr>\n",
       "    <tr>\n",
       "      <th>7</th>\n",
       "      <td>640</td>\n",
       "      <td>112.993119</td>\n",
       "      <td>9.276311</td>\n",
       "    </tr>\n",
       "    <tr>\n",
       "      <th>8</th>\n",
       "      <td>1280</td>\n",
       "      <td>108.777003</td>\n",
       "      <td>5.661415</td>\n",
       "    </tr>\n",
       "  </tbody>\n",
       "</table>\n",
       "</div>"
      ],
      "text/plain": [
       "  training size average MAE (mHa) standard deviation (mHa)\n",
       "1            10        184.597845                12.380999\n",
       "2            20        164.222805                 8.040528\n",
       "3            40        146.571214                10.754663\n",
       "4            80        158.776434                 21.75193\n",
       "5           160        152.861298                27.325309\n",
       "6           320        132.259076                17.940817\n",
       "7           640        112.993119                 9.276311\n",
       "8          1280        108.777003                 5.661415"
      ]
     },
     "metadata": {},
     "output_type": "display_data"
    }
   ],
   "source": [
    "X = mbdf\n",
    "y = D_etot\n",
    "best_params = {'lambda': 0.001, 'length': 100}\n",
    "\n",
    "columns = ['training size', 'average MAE (mHa)', 'standard deviation (mHa)']\n",
    "model_performance = pd.DataFrame(columns=columns)\n",
    "\n",
    "training_size = [10, 20, 40, 80, 160, 320, 640, 1280]\n",
    "num_trials = 5\n",
    "\n",
    "with warnings.catch_warnings():\n",
    "    for index, num_training_sample in enumerate(training_size):\n",
    "        warnings.filterwarnings(\"ignore\")\n",
    "        index = index + 1\n",
    "        average_error, std_dev_error = evaluate_performance_local_v2(best_params, X, y, charges, num_training_sample, num_trials)\n",
    "        model_performance.at[index, 'training size'] = num_training_sample\n",
    "        model_performance.at[index, 'average MAE (mHa)'] = average_error * 1000\n",
    "        model_performance.at[index, 'standard deviation (mHa)'] = std_dev_error * 1000\n",
    "\n",
    "performance_summary['MBDF_local'] = model_performance\n",
    "\n",
    "display(model_performance)"
   ]
  },
  {
   "cell_type": "code",
   "execution_count": 18,
   "metadata": {},
   "outputs": [
    {
     "data": {
      "text/html": [
       "<div>\n",
       "<style scoped>\n",
       "    .dataframe tbody tr th:only-of-type {\n",
       "        vertical-align: middle;\n",
       "    }\n",
       "\n",
       "    .dataframe tbody tr th {\n",
       "        vertical-align: top;\n",
       "    }\n",
       "\n",
       "    .dataframe thead th {\n",
       "        text-align: right;\n",
       "    }\n",
       "</style>\n",
       "<table border=\"1\" class=\"dataframe\">\n",
       "  <thead>\n",
       "    <tr style=\"text-align: right;\">\n",
       "      <th></th>\n",
       "      <th>training size</th>\n",
       "      <th>average MAE (mHa)</th>\n",
       "      <th>standard deviation (mHa)</th>\n",
       "    </tr>\n",
       "  </thead>\n",
       "  <tbody>\n",
       "    <tr>\n",
       "      <th>1</th>\n",
       "      <td>64</td>\n",
       "      <td>96.380101</td>\n",
       "      <td>1.443536</td>\n",
       "    </tr>\n",
       "    <tr>\n",
       "      <th>2</th>\n",
       "      <td>128</td>\n",
       "      <td>99.391411</td>\n",
       "      <td>4.045516</td>\n",
       "    </tr>\n",
       "    <tr>\n",
       "      <th>3</th>\n",
       "      <td>256</td>\n",
       "      <td>106.968097</td>\n",
       "      <td>9.488595</td>\n",
       "    </tr>\n",
       "    <tr>\n",
       "      <th>4</th>\n",
       "      <td>512</td>\n",
       "      <td>104.948378</td>\n",
       "      <td>4.274618</td>\n",
       "    </tr>\n",
       "    <tr>\n",
       "      <th>5</th>\n",
       "      <td>1024</td>\n",
       "      <td>101.642879</td>\n",
       "      <td>1.426623</td>\n",
       "    </tr>\n",
       "  </tbody>\n",
       "</table>\n",
       "</div>"
      ],
      "text/plain": [
       "  training size average MAE (mHa) standard deviation (mHa)\n",
       "1            64         96.380101                 1.443536\n",
       "2           128         99.391411                 4.045516\n",
       "3           256        106.968097                 9.488595\n",
       "4           512        104.948378                 4.274618\n",
       "5          1024        101.642879                 1.426623"
      ]
     },
     "metadata": {},
     "output_type": "display_data"
    }
   ],
   "source": [
    "X = mbdf\n",
    "y = DD_etot\n",
    "best_params = {'lambda': 0.9700293111914039, 'length': 6.720858507072239}\n",
    "\n",
    "columns = ['training size', 'average MAE (mHa)', 'standard deviation (mHa)']\n",
    "model_performance = pd.DataFrame(columns=columns)\n",
    "\n",
    "training_size = [2**i for i in range(6, 11)]\n",
    "num_trials = 5\n",
    "\n",
    "with warnings.catch_warnings():\n",
    "    for index, num_training_sample in enumerate(training_size):\n",
    "        warnings.filterwarnings(\"ignore\")\n",
    "        index = index + 1\n",
    "        average_error, std_dev_error = evaluate_performance_local(best_params, X, y, charges, num_training_sample, num_trials)\n",
    "        model_performance.at[index, 'training size'] = num_training_sample\n",
    "        model_performance.at[index, 'average MAE (mHa)'] = average_error * 1000\n",
    "        model_performance.at[index, 'standard deviation (mHa)'] = std_dev_error * 1000\n",
    "\n",
    "performance_summary['MBDF_local (delta)'] = model_performance\n",
    "\n",
    "display(model_performance)"
   ]
  },
  {
   "cell_type": "code",
   "execution_count": 8,
   "metadata": {},
   "outputs": [
    {
     "name": "stdout",
     "output_type": "stream",
     "text": [
      "MBDF Global: [267.34866751435857, 173.77054851163828, 132.61813037056365, 255.81756044130967, 238.3110725198692, 187.04522095157284, 145.8770986733163, 128.87176623964308]\n",
      "MBDF Local: [184.59784535648154, 164.22280452583243, 146.57121401836062, 158.77643399968196, 152.8612979610525, 132.25907572913226, 112.99311945723645, 108.77700270516728]\n"
     ]
    }
   ],
   "source": [
    "learning_curve_data = {}\n",
    "for key, value in performance_summary.items():\n",
    "    # display(value)\n",
    "    learning_curve_data[key] = value['average MAE (mHa)'].tolist()\n",
    "\n",
    "print(f\"MBDF Global: {learning_curve_data['MBDF_global']}\")\n",
    "print(f\"MBDF Local: {learning_curve_data['MBDF_local']}\")\n",
    "# print(f\"MBDF Global (delta): {learning_curve_data['MBDF_global (delta)']}\")\n",
    "# print(f\"MBDF Local (delta): {learning_curve_data['MBDF_local (delta)']}\")"
   ]
  }
 ],
 "metadata": {
  "kernelspec": {
   "display_name": "Python 3",
   "language": "python",
   "name": "python3"
  },
  "language_info": {
   "codemirror_mode": {
    "name": "ipython",
    "version": 3
   },
   "file_extension": ".py",
   "mimetype": "text/x-python",
   "name": "python",
   "nbconvert_exporter": "python",
   "pygments_lexer": "ipython3",
   "version": "3.10.12"
  },
  "orig_nbformat": 4
 },
 "nbformat": 4,
 "nbformat_minor": 2
}
