{
 "cells": [
  {
   "cell_type": "code",
   "execution_count": 1,
   "metadata": {},
   "outputs": [],
   "source": [
    "import sys\n",
    "sys.path.append('../..')\n",
    "sys.path.append('../../APDFT')\n",
    "sys.path.append('../../helper_code')\n",
    "sys.path.append('../Data')\n",
    "\n",
    "import pickle\n",
    "from pyscf import gto, scf, dft, cc\n",
    "import numpy as np\n",
    "import pandas as pd\n",
    "import pyscf\n",
    "import matplotlib.pyplot as plt\n",
    "import matplotlib.ticker as ticker\n",
    "import basis_set_exchange as bse\n",
    "from APDFT.FcMole import *\n",
    "import os\n",
    "import ast\n",
    "from copy import deepcopy\n",
    "from IPython.display import display\n",
    "from helper_code.data_processing import *\n",
    "\n",
    "\n",
    "%load_ext autoreload\n",
    "%autoreload 2\n",
    "from APDFT.AP_class import APDFT_perturbator as AP"
   ]
  },
  {
   "attachments": {},
   "cell_type": "markdown",
   "metadata": {},
   "source": [
    "## Load Dataset ##"
   ]
  },
  {
   "cell_type": "code",
   "execution_count": 2,
   "metadata": {},
   "outputs": [],
   "source": [
    "coronene_atom = \"\"\"\n",
    "C        1.02559207      -3.63123345      -0.00000000\n",
    "C        2.25864795      -3.02257024      -0.00000004\n",
    "C        2.38243776      -1.59070223       0.00000001\n",
    "C        1.19669491      -0.79904388       0.00000001\n",
    "C       -0.09357741      -1.43595331      -0.00000003\n",
    "C       -0.18628682      -2.85866989      -0.00000002\n",
    "C       -1.48823293      -3.46741915       0.00000006\n",
    "C       -2.63182057      -2.70389221      -0.00000001\n",
    "C       -2.56872591      -1.26805944      -0.00000005\n",
    "C       -1.29025590      -0.63698042      -0.00000004\n",
    "C       -1.19669715       0.79886895      -0.00000003\n",
    "C       -2.38243735       1.59053206      -0.00000010\n",
    "C       -3.65743830       0.92722391       0.00000002\n",
    "C       -3.74684719      -0.44495256      -0.00000001\n",
    "C       -2.25864027       3.02239662      -0.00000008\n",
    "C       -1.02558026       3.63105875      -0.00000009\n",
    "C        0.18629225       2.85849513      -0.00000001\n",
    "C        0.09357535       1.43577833       0.00000001\n",
    "C        1.29025258       0.63680458       0.00000002\n",
    "C        2.56871742       1.26789623      -0.00000004\n",
    "C        3.74683463       0.44479444      -0.00000003\n",
    "C        3.65742920      -0.92738538      -0.00000004\n",
    "C        2.63181870       2.70373227       0.00000003\n",
    "C        1.48823680       3.46725735       0.00000009\n",
    "H        0.94770675      -4.72429028       0.00000003\n",
    "H        3.17370895      -3.62548407       0.00000000\n",
    "H       -1.55279282      -4.56134681       0.00000003\n",
    "H       -3.61740441      -3.18291867       0.00000006\n",
    "H       -4.56511975       1.54119766       0.00000009\n",
    "H       -4.72651664      -0.93596671       0.00000001\n",
    "H       -3.17369776       3.62531592       0.00000001\n",
    "H       -0.94769291       4.72411558       0.00000002\n",
    "H        4.72650482       0.93580817       0.00000006\n",
    "H        4.56511650      -1.54134951      -0.00000004\n",
    "H        3.61740413       3.18275567       0.00000004\n",
    "H        1.55279359       4.56118658       0.00000004\n",
    "\"\"\""
   ]
  },
  {
   "cell_type": "code",
   "execution_count": 3,
   "metadata": {},
   "outputs": [],
   "source": [
    "basis_pcx2={\"H\": \"pc-2\", \n",
    "            'C': bse.get_basis(\"pcX-2\",fmt=\"nwchem\",elements=[6])}"
   ]
  },
  {
   "cell_type": "code",
   "execution_count": 4,
   "metadata": {},
   "outputs": [
    {
     "ename": "",
     "evalue": "",
     "output_type": "error",
     "traceback": [
      "\u001b[1;31mCannot execute code, session has been disposed. Please try restarting the Kernel."
     ]
    },
    {
     "ename": "",
     "evalue": "",
     "output_type": "error",
     "traceback": [
      "\u001b[1;31mThe Kernel crashed while executing code in the the current cell or a previous cell. Please review the code in the cell(s) to identify a possible cause of the failure. Click <a href='https://aka.ms/vscodeJupyterKernelCrash'>here</a> for more info. View Jupyter <a href='command:jupyter.viewOutput'>log</a> for further details."
     ]
    }
   ],
   "source": [
    "mol = gto.M(atom=coronene_atom, basis=basis_pcx2, unit='Angstrom')\n",
    "mol_DFT = scf.RKS(mol)\n",
    "mol_DFT.xc = \"PBE0\" # specify the exchange-correlation functional used for DFT\n",
    "mol_DFT.kernel() # run self-consistent field calculation\n",
    "mol_total_energy = mol_DFT.energy_tot()\n",
    "mol_electronic_energy = mol_DFT.energy_elec()"
   ]
  },
  {
   "cell_type": "code",
   "execution_count": 6,
   "metadata": {},
   "outputs": [
    {
     "name": "stdout",
     "output_type": "stream",
     "text": [
      "No exisiting dataset. Start running calculations.\n",
      "Unpacking raw data ... complete!\n",
      "Running DFT Calculation ... "
     ]
    },
    {
     "ename": "",
     "evalue": "",
     "output_type": "error",
     "traceback": [
      "\u001b[1;31mCannot execute code, session has been disposed. Please try restarting the Kernel."
     ]
    },
    {
     "ename": "",
     "evalue": "",
     "output_type": "error",
     "traceback": [
      "\u001b[1;31mThe Kernel crashed while executing code in the the current cell or a previous cell. Please review the code in the cell(s) to identify a possible cause of the failure. Click <a href='https://aka.ms/vscodeJupyterKernelCrash'>here</a> for more info. View Jupyter <a href='command:jupyter.viewOutput'>log</a> for further details."
     ]
    }
   ],
   "source": [
    "dest_csv_path = \"../Data/coronene_processed_data/coronene_energy_data.csv\"\n",
    "raw_tot_energy_path = \"../Data/coronene_raw_data/coronene_mutants_pbe0_pcx2.npz\"\n",
    "coronene_energy_data = load_data(coronene_atom, basis_pcx2, dest_csv_path, raw_tot_energy_path, raw_tot_energy_path)"
   ]
  },
  {
   "cell_type": "code",
   "execution_count": 22,
   "metadata": {},
   "outputs": [
    {
     "name": "stdout",
     "output_type": "stream",
     "text": [
      "[[ 1.02559207e+00 -3.63123345e+00 -0.00000000e+00]\n",
      " [ 2.25864795e+00 -3.02257024e+00 -4.00000000e-08]\n",
      " [ 2.38243776e+00 -1.59070223e+00  1.00000000e-08]\n",
      " [ 1.19669491e+00 -7.99043880e-01  1.00000000e-08]\n",
      " [-9.35774100e-02 -1.43595331e+00 -3.00000000e-08]\n",
      " [-1.86286820e-01 -2.85866989e+00 -2.00000000e-08]\n",
      " [-1.48823293e+00 -3.46741915e+00  6.00000000e-08]\n",
      " [-2.63182057e+00 -2.70389221e+00 -1.00000000e-08]\n",
      " [-2.56872591e+00 -1.26805944e+00 -5.00000000e-08]\n",
      " [-1.29025590e+00 -6.36980420e-01 -4.00000000e-08]\n",
      " [-1.19669715e+00  7.98868950e-01 -3.00000000e-08]\n",
      " [-2.38243735e+00  1.59053206e+00 -1.00000000e-07]\n",
      " [-3.65743830e+00  9.27223910e-01  2.00000000e-08]\n",
      " [-3.74684719e+00 -4.44952560e-01 -1.00000000e-08]\n",
      " [-2.25864027e+00  3.02239662e+00 -8.00000000e-08]\n",
      " [-1.02558026e+00  3.63105875e+00 -9.00000000e-08]\n",
      " [ 1.86292250e-01  2.85849513e+00 -1.00000000e-08]\n",
      " [ 9.35753500e-02  1.43577833e+00  1.00000000e-08]\n",
      " [ 1.29025258e+00  6.36804580e-01  2.00000000e-08]\n",
      " [ 2.56871742e+00  1.26789623e+00 -4.00000000e-08]\n",
      " [ 3.74683463e+00  4.44794440e-01 -3.00000000e-08]\n",
      " [ 3.65742920e+00 -9.27385380e-01 -4.00000000e-08]\n",
      " [ 2.63181870e+00  2.70373227e+00  3.00000000e-08]\n",
      " [ 1.48823680e+00  3.46725735e+00  9.00000000e-08]\n",
      " [ 9.47706750e-01 -4.72429028e+00  3.00000000e-08]\n",
      " [ 3.17370895e+00 -3.62548407e+00  0.00000000e+00]\n",
      " [-1.55279282e+00 -4.56134681e+00  3.00000000e-08]\n",
      " [-3.61740441e+00 -3.18291867e+00  6.00000000e-08]\n",
      " [-4.56511975e+00  1.54119766e+00  9.00000000e-08]\n",
      " [-4.72651664e+00 -9.35966710e-01  1.00000000e-08]\n",
      " [-3.17369776e+00  3.62531592e+00  1.00000000e-08]\n",
      " [-9.47692910e-01  4.72411558e+00  2.00000000e-08]\n",
      " [ 4.72650482e+00  9.35808170e-01  6.00000000e-08]\n",
      " [ 4.56511650e+00 -1.54134951e+00 -4.00000000e-08]\n",
      " [ 3.61740413e+00  3.18275567e+00  4.00000000e-08]\n",
      " [ 1.55279359e+00  4.56118658e+00  4.00000000e-08]]\n"
     ]
    }
   ],
   "source": []
  }
 ],
 "metadata": {
  "kernelspec": {
   "display_name": "Python 3",
   "language": "python",
   "name": "python3"
  },
  "language_info": {
   "codemirror_mode": {
    "name": "ipython",
    "version": 3
   },
   "file_extension": ".py",
   "mimetype": "text/x-python",
   "name": "python",
   "nbconvert_exporter": "python",
   "pygments_lexer": "ipython3",
   "version": "3.10.6"
  },
  "orig_nbformat": 4
 },
 "nbformat": 4,
 "nbformat_minor": 2
}
