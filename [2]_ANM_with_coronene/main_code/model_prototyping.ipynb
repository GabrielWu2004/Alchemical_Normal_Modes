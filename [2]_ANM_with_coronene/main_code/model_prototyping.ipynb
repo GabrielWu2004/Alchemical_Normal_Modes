{
 "cells": [
  {
   "cell_type": "code",
   "execution_count": 5,
   "metadata": {},
   "outputs": [],
   "source": [
    "import sys\n",
    "sys.path.append('../..')\n",
    "sys.path.append('../data')\n",
    "sys.path.append('../../helper_code')\n",
    "\n",
    "from sklearn.linear_model import Ridge\n",
    "from sklearn.kernel_ridge import KernelRidge\n",
    "from sklearn.model_selection import cross_val_score, KFold, GridSearchCV, train_test_split\n",
    "from sklearn.metrics import mean_squared_error\n",
    "import warnings\n",
    "import numpy as np\n",
    "import pandas as pd\n",
    "from IPython.display import display\n",
    "import copy\n",
    "\n",
    "from helper_code.custom_kernel import *"
   ]
  },
  {
   "cell_type": "code",
   "execution_count": 2,
   "metadata": {},
   "outputs": [],
   "source": [
    "input_dataset = ['c', 'c_lexi', 'c_lexi_nd', 'CE', 'CE_lexi', 'CE_lexi_nd', \n",
    "            'CSE', 'CSE_lexi', 'CSE_lexi_nd', 'CSEV', 'CSEV_lexi']\n",
    "dataset_dict = {}\n",
    "\n",
    "for data in input_dataset:\n",
    "    dataset_dict[data] = pd.read_csv(f'../data/coronene_training_data/{data}.csv')\n",
    "\n",
    "delta_total_energy = pd.read_csv(f'../data/coronene_training_data/delta_total_energy.csv')\n",
    "delta_delta_total_energy = pd.read_csv(f'../data/coronene_training_data/delta_delta_total_energy.csv')"
   ]
  },
  {
   "cell_type": "markdown",
   "metadata": {},
   "source": [
    "## CSE with Gaussian Kernel ##"
   ]
  },
  {
   "cell_type": "code",
   "execution_count": 4,
   "metadata": {},
   "outputs": [
    {
     "name": "stdout",
     "output_type": "stream",
     "text": [
      "fold 0: rmse = 0.1488226861196492\n",
      "fold 1: rmse = 0.1490829357396042\n",
      "Average rmse: 0.1489528109296267\n"
     ]
    }
   ],
   "source": [
    "X_train = dataset_dict['CSE_lexi'].to_numpy()\n",
    "y_train = delta_delta_total_energy\n",
    "\n",
    "params = {'alpha': 4.6e-11, 'gamma': 2.8e-08, 'kernel': 'rbf'}\n",
    "model = KernelRidge(**params)\n",
    "\n",
    "kfold = KFold(n_splits=2, shuffle=True, random_state=42)\n",
    "neg_mse_scores = cross_val_score(model, X_train, y_train, scoring='neg_mean_squared_error', cv=kfold)\n",
    "rmse_scores = np.sqrt(-neg_mse_scores)\n",
    "mean_rmse_score = rmse_scores.mean()\n",
    "\n",
    "for fold, score in enumerate(rmse_scores):\n",
    "    print(f\"fold {fold}: rmse = {score}\")\n",
    "\n",
    "print(f\"Average rmse: {mean_rmse_score}\")"
   ]
  },
  {
   "cell_type": "code",
   "execution_count": 9,
   "metadata": {},
   "outputs": [
    {
     "name": "stdout",
     "output_type": "stream",
     "text": [
      "fold 0: rmse = 0.7333172896586568\n",
      "fold 1: rmse = 0.70772046532868\n",
      "Average rmse: 0.7205188774936684\n"
     ]
    }
   ],
   "source": [
    "X_train = dataset_dict['CSE'].to_numpy()\n",
    "y_train = delta_delta_total_energy\n",
    "\n",
    "params = {'alpha': 4.6e-11, 'gamma': 2.8e-08, 'kernel': 'rbf'}\n",
    "model = KernelRidge(**params)\n",
    "\n",
    "kfold = KFold(n_splits=2, shuffle=True, random_state=42)\n",
    "neg_mse_scores = cross_val_score(model, X_train, y_train, scoring='neg_mean_squared_error', cv=kfold)\n",
    "rmse_scores = np.sqrt(-neg_mse_scores)\n",
    "mean_rmse_score = rmse_scores.mean()\n",
    "\n",
    "for fold, score in enumerate(rmse_scores):\n",
    "    print(f\"fold {fold}: rmse = {score}\")\n",
    "\n",
    "print(f\"Average rmse: {mean_rmse_score}\")"
   ]
  },
  {
   "cell_type": "markdown",
   "metadata": {},
   "source": [
    "## CSEV with Gaussian ##"
   ]
  },
  {
   "cell_type": "code",
   "execution_count": 3,
   "metadata": {},
   "outputs": [
    {
     "name": "stdout",
     "output_type": "stream",
     "text": [
      "fold 0: rmse = 0.14882387494178065\n",
      "fold 1: rmse = 0.14908403206426624\n",
      "Average rmse: 0.14895395350302343\n"
     ]
    }
   ],
   "source": [
    "X_train = dataset_dict['CSEV_lexi'].to_numpy()\n",
    "y_train = delta_delta_total_energy\n",
    "\n",
    "params = {'alpha': 4.6e-11, 'gamma': 2.8e-08, 'kernel': 'rbf'}\n",
    "model = KernelRidge(**params)\n",
    "\n",
    "kfold = KFold(n_splits=2, shuffle=True, random_state=42)\n",
    "neg_mse_scores = cross_val_score(model, X_train, y_train, scoring='neg_mean_squared_error', cv=kfold)\n",
    "rmse_scores = np.sqrt(-neg_mse_scores)\n",
    "mean_rmse_score = rmse_scores.mean()\n",
    "\n",
    "for fold, score in enumerate(rmse_scores):\n",
    "    print(f\"fold {fold}: rmse = {score}\")\n",
    "\n",
    "print(f\"Average rmse: {mean_rmse_score}\")"
   ]
  },
  {
   "cell_type": "markdown",
   "metadata": {},
   "source": [
    "## Pure Extended Gaussian ##"
   ]
  },
  {
   "cell_type": "code",
   "execution_count": 9,
   "metadata": {},
   "outputs": [
    {
     "ename": "TypeError",
     "evalue": "vectorized_similarity_matrix() got an unexpected keyword argument 'chunk_size'",
     "output_type": "error",
     "traceback": [
      "\u001b[0;31m---------------------------------------------------------------------------\u001b[0m",
      "\u001b[0;31mTypeError\u001b[0m                                 Traceback (most recent call last)",
      "Cell \u001b[0;32mIn[9], line 7\u001b[0m\n\u001b[1;32m      4\u001b[0m params \u001b[39m=\u001b[39m {\u001b[39m'\u001b[39m\u001b[39mgamma\u001b[39m\u001b[39m'\u001b[39m: \u001b[39m1e-8\u001b[39m, \u001b[39m'\u001b[39m\u001b[39mepsilon\u001b[39m\u001b[39m'\u001b[39m: \u001b[39m4e-4\u001b[39m, \u001b[39m'\u001b[39m\u001b[39mbeta\u001b[39m\u001b[39m'\u001b[39m: \u001b[39m2e-07\u001b[39m, \u001b[39m'\u001b[39m\u001b[39malpha\u001b[39m\u001b[39m'\u001b[39m: \u001b[39m1e-10\u001b[39m}\n\u001b[1;32m      5\u001b[0m alpha \u001b[39m=\u001b[39m params[\u001b[39m'\u001b[39m\u001b[39malpha\u001b[39m\u001b[39m'\u001b[39m]\n\u001b[0;32m----> 7\u001b[0m similarity_matrix \u001b[39m=\u001b[39m vectorized_similarity_matrix(X_train, X_train, vectorized_extended_gaussian_kernel, params, chunk_size\u001b[39m=\u001b[39;49m\u001b[39m500\u001b[39;49m)\n\u001b[1;32m      8\u001b[0m \u001b[39mprint\u001b[39m(similarity_matrix\u001b[39m.\u001b[39mshape)\n\u001b[1;32m      9\u001b[0m \u001b[39m# krr_model = KernelRidge(kernel='precomputed', alpha=alpha)\u001b[39;00m\n\u001b[1;32m     10\u001b[0m \u001b[39m# kfold = KFold(n_splits=2, shuffle=True, random_state=42)\u001b[39;00m\n\u001b[1;32m     11\u001b[0m \n\u001b[0;32m   (...)\u001b[0m\n\u001b[1;32m     19\u001b[0m \u001b[39m#     print(f\"Fold {fold+1}: RMSE = {rmse}\")\u001b[39;00m\n\u001b[1;32m     20\u001b[0m \u001b[39m# print(f\"Average RMSE across all folds: {avg_rmse}\")\u001b[39;00m\n",
      "\u001b[0;31mTypeError\u001b[0m: vectorized_similarity_matrix() got an unexpected keyword argument 'chunk_size'"
     ]
    }
   ],
   "source": [
    "X_train = dataset_dict['c_lexi'].to_numpy()\n",
    "y_train = delta_delta_total_energy.to_numpy()\n",
    "\n",
    "params = {'gamma': 1e-8, 'epsilon': 4e-4, 'beta': 2e-07, 'alpha': 1e-10}\n",
    "alpha = params['alpha']\n",
    "\n",
    "similarity_matrix = vectorized_similarity_matrix(X_train, X_train, vectorized_extended_gaussian_kernel, params, chunk_size=500)\n",
    "print(similarity_matrix.shape)\n",
    "# krr_model = KernelRidge(kernel='precomputed', alpha=alpha)\n",
    "# kfold = KFold(n_splits=2, shuffle=True, random_state=42)\n",
    "\n",
    "# with warnings.catch_warnings():\n",
    "#     warnings.filterwarnings('ignore')\n",
    "#     mse_scores = cross_val_score(krr_model, similarity_matrix, y_train, scoring='neg_mean_squared_error', cv=kfold)\n",
    "#     rmse_scores = np.sqrt(-mse_scores)\n",
    "#     avg_rmse = rmse_scores.mean()\n",
    "\n",
    "# for fold, rmse in enumerate(rmse_scores):\n",
    "#     print(f\"Fold {fold+1}: RMSE = {rmse}\")\n",
    "# print(f\"Average RMSE across all folds: {avg_rmse}\")"
   ]
  },
  {
   "cell_type": "code",
   "execution_count": null,
   "metadata": {},
   "outputs": [],
   "source": []
  }
 ],
 "metadata": {
  "kernelspec": {
   "display_name": "Python 3",
   "language": "python",
   "name": "python3"
  },
  "language_info": {
   "codemirror_mode": {
    "name": "ipython",
    "version": 3
   },
   "file_extension": ".py",
   "mimetype": "text/x-python",
   "name": "python",
   "nbconvert_exporter": "python",
   "pygments_lexer": "ipython3",
   "version": "3.10.6"
  },
  "orig_nbformat": 4
 },
 "nbformat": 4,
 "nbformat_minor": 2
}
