{
 "cells": [
  {
   "cell_type": "code",
   "execution_count": 1,
   "metadata": {},
   "outputs": [],
   "source": [
    "import sys\n",
    "sys.path.append('../..')\n",
    "sys.path.append('../data')\n",
    "sys.path.append('../../helper_code')\n",
    "\n",
    "from sklearn.linear_model import Ridge\n",
    "from sklearn.kernel_ridge import KernelRidge\n",
    "from sklearn.model_selection import cross_val_score, KFold, GridSearchCV, train_test_split\n",
    "from sklearn.metrics import mean_squared_error\n",
    "import warnings\n",
    "import numpy as np\n",
    "import pandas as pd\n",
    "from IPython.display import display\n",
    "import copy\n",
    "\n",
    "from helper_code.custom_kernel import *"
   ]
  },
  {
   "cell_type": "code",
   "execution_count": 2,
   "metadata": {},
   "outputs": [],
   "source": [
    "input_dataset = ['c', 'c_lexi', 'CE', 'CE_lexi', 'CSE', 'CSE_lexi']\n",
    "dataset_dict = {}\n",
    "\n",
    "for data in input_dataset:\n",
    "    dataset_dict[data] = pd.read_csv(f'../data/coronene_training_data/{data}.csv')\n",
    "\n",
    "delta_total_energy = pd.read_csv(f'../data/coronene_training_data/delta_total_energy.csv')\n",
    "delta_delta_total_energy = pd.read_csv(f'../data/coronene_training_data/delta_delta_total_energy.csv')"
   ]
  },
  {
   "cell_type": "markdown",
   "metadata": {},
   "source": [
    "## CSE with Gaussian Kernel ##"
   ]
  },
  {
   "cell_type": "code",
   "execution_count": 3,
   "metadata": {},
   "outputs": [
    {
     "name": "stdout",
     "output_type": "stream",
     "text": [
      "fold 0: rmse = 0.1838424237771659\n",
      "fold 1: rmse = 0.17609685438675657\n",
      "Average rmse: 0.17996963908196123\n"
     ]
    }
   ],
   "source": [
    "X_train = dataset_dict['CSE_lexi'].to_numpy()\n",
    "y_train = delta_delta_total_energy\n",
    "\n",
    "params = {'alpha': 1.5306122448979593e-9, 'gamma': 2.2857142857142856e-06, 'kernel': 'rbf'}\n",
    "model = KernelRidge(**params)\n",
    "\n",
    "kfold = KFold(n_splits=2, shuffle=True, random_state=42)\n",
    "neg_mse_scores = cross_val_score(model, X_train, y_train, scoring='neg_mean_squared_error', cv=kfold)\n",
    "rmse_scores = np.sqrt(-neg_mse_scores)\n",
    "mean_rmse_score = rmse_scores.mean()\n",
    "\n",
    "for fold, score in enumerate(rmse_scores):\n",
    "    print(f\"fold {fold}: rmse = {score}\")\n",
    "\n",
    "print(f\"Average rmse: {mean_rmse_score}\")"
   ]
  },
  {
   "cell_type": "markdown",
   "metadata": {},
   "source": [
    "## Pure Extended Gaussian ##"
   ]
  },
  {
   "cell_type": "code",
   "execution_count": 5,
   "metadata": {},
   "outputs": [
    {
     "ename": "",
     "evalue": "",
     "output_type": "error",
     "traceback": [
      "\u001b[1;31mCannot execute code, session has been disposed. Please try restarting the Kernel."
     ]
    },
    {
     "ename": "",
     "evalue": "",
     "output_type": "error",
     "traceback": [
      "\u001b[1;31mThe Kernel crashed while executing code in the the current cell or a previous cell. Please review the code in the cell(s) to identify a possible cause of the failure. Click <a href='https://aka.ms/vscodeJupyterKernelCrash'>here</a> for more info. View Jupyter <a href='command:jupyter.viewOutput'>log</a> for further details."
     ]
    }
   ],
   "source": [
    "X_train = dataset_dict['c_lexi'].to_numpy()\n",
    "y_train = delta_delta_total_energy.to_numpy()\n",
    "\n",
    "params = {'gamma': 1e-8, 'epsilon': 4e-4, 'beta': 2e-07, 'alpha': 1e-10}\n",
    "alpha = params['alpha']\n",
    "\n",
    "similarity_matrix = vectorized_extended_gaussian_kernel(X_train, X_train, params)\n",
    "print(similarity_matrix.shape)\n",
    "# krr_model = KernelRidge(kernel='precomputed', alpha=alpha)\n",
    "# kfold = KFold(n_splits=2, shuffle=True, random_state=42)\n",
    "\n",
    "# with warnings.catch_warnings():\n",
    "#     warnings.filterwarnings('ignore')\n",
    "#     mse_scores = cross_val_score(krr_model, similarity_matrix, y_train, scoring='neg_mean_squared_error', cv=kfold)\n",
    "#     rmse_scores = np.sqrt(-mse_scores)\n",
    "#     avg_rmse = rmse_scores.mean()\n",
    "\n",
    "# for fold, rmse in enumerate(rmse_scores):\n",
    "#     print(f\"Fold {fold+1}: RMSE = {rmse}\")\n",
    "# print(f\"Average RMSE across all folds: {avg_rmse}\")"
   ]
  },
  {
   "cell_type": "code",
   "execution_count": null,
   "metadata": {},
   "outputs": [],
   "source": []
  }
 ],
 "metadata": {
  "kernelspec": {
   "display_name": "Python 3",
   "language": "python",
   "name": "python3"
  },
  "language_info": {
   "codemirror_mode": {
    "name": "ipython",
    "version": 3
   },
   "file_extension": ".py",
   "mimetype": "text/x-python",
   "name": "python",
   "nbconvert_exporter": "python",
   "pygments_lexer": "ipython3",
   "version": "3.10.6"
  },
  "orig_nbformat": 4
 },
 "nbformat": 4,
 "nbformat_minor": 2
}
