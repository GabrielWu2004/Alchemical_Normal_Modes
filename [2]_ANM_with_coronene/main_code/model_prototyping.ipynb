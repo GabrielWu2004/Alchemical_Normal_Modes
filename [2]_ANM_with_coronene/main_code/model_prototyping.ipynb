{
 "cells": [
  {
   "cell_type": "code",
   "execution_count": 1,
   "metadata": {},
   "outputs": [],
   "source": [
    "import sys\n",
    "sys.path.append('../..')\n",
    "sys.path.append('../data')\n",
    "sys.path.append('../../helper_code')\n",
    "\n",
    "from sklearn.linear_model import Ridge\n",
    "from sklearn.kernel_ridge import KernelRidge\n",
    "from sklearn.model_selection import cross_val_score, KFold, GridSearchCV, train_test_split\n",
    "from sklearn.metrics import mean_squared_error\n",
    "import xgboost as xgb\n",
    "import warnings\n",
    "import numpy as np\n",
    "import pandas as pd\n",
    "from IPython.display import display\n",
    "import copy\n",
    "\n",
    "from helper_code.custom_kernel import *"
   ]
  },
  {
   "cell_type": "code",
   "execution_count": 2,
   "metadata": {},
   "outputs": [],
   "source": [
    "input_dataset = ['c', 'c_lexi', 'c_lexi_nd', 'CE', 'CE_lexi', 'CE_lexi_nd', \n",
    "            'CSE', 'CSE_lexi', 'CSE_lexi_nd']\n",
    "dataset_dict = {}\n",
    "\n",
    "for data in input_dataset:\n",
    "    dataset_dict[data] = pd.read_csv(f'../data/coronene_training_data/{data}.csv')\n",
    "\n",
    "delta_total_energy = pd.read_csv(f'../data/coronene_training_data/delta_total_energy.csv')\n",
    "delta_delta_total_energy = pd.read_csv(f'../data/coronene_training_data/delta_delta_total_energy.csv')"
   ]
  },
  {
   "cell_type": "markdown",
   "metadata": {},
   "source": [
    "## CSE with Gaussian Kernel ##"
   ]
  },
  {
   "cell_type": "code",
   "execution_count": 3,
   "metadata": {},
   "outputs": [
    {
     "name": "stdout",
     "output_type": "stream",
     "text": [
      "fold 0: rmse = 0.0474685996451559\n",
      "fold 1: rmse = 0.047235484854125674\n",
      "Average rmse: 0.04735204224964079\n"
     ]
    }
   ],
   "source": [
    "X_train = dataset_dict['CSE'].to_numpy()\n",
    "y_train = delta_total_energy\n",
    "\n",
    "params = {'alpha': 4.6e-11, 'gamma': 2.8e-08, 'kernel': 'rbf'}\n",
    "model = KernelRidge(**params)\n",
    "\n",
    "kfold = KFold(n_splits=2, shuffle=True, random_state=42)\n",
    "neg_mse_scores = cross_val_score(model, X_train, y_train, scoring='neg_mean_squared_error', cv=kfold)\n",
    "rmse_scores = np.sqrt(-neg_mse_scores)\n",
    "mean_rmse_score = rmse_scores.mean()\n",
    "\n",
    "for fold, score in enumerate(rmse_scores):\n",
    "    print(f\"fold {fold}: rmse = {score}\")\n",
    "\n",
    "print(f\"Average rmse: {mean_rmse_score}\")"
   ]
  },
  {
   "cell_type": "code",
   "execution_count": 5,
   "metadata": {},
   "outputs": [
    {
     "name": "stdout",
     "output_type": "stream",
     "text": [
      "fold 0: rmse = 0.7333172896586568\n",
      "fold 1: rmse = 0.70772046532868\n",
      "Average rmse: 0.7205188774936684\n"
     ]
    }
   ],
   "source": [
    "X_train = dataset_dict['CSE'].to_numpy()\n",
    "y_train = delta_delta_total_energy\n",
    "\n",
    "params = {'alpha': 4.6e-11, 'gamma': 2.8e-08, 'kernel': 'rbf'}\n",
    "model = KernelRidge(**params)\n",
    "\n",
    "kfold = KFold(n_splits=2, shuffle=True, random_state=42)\n",
    "neg_mse_scores = cross_val_score(model, X_train, y_train, scoring='neg_mean_squared_error', cv=kfold)\n",
    "rmse_scores = np.sqrt(-neg_mse_scores)\n",
    "mean_rmse_score = rmse_scores.mean()\n",
    "\n",
    "for fold, score in enumerate(rmse_scores):\n",
    "    print(f\"fold {fold}: rmse = {score}\")\n",
    "\n",
    "print(f\"Average rmse: {mean_rmse_score}\")"
   ]
  },
  {
   "cell_type": "markdown",
   "metadata": {},
   "source": [
    "## CSE with XGB Regressor ##"
   ]
  },
  {
   "cell_type": "code",
   "execution_count": 3,
   "metadata": {},
   "outputs": [
    {
     "name": "stdout",
     "output_type": "stream",
     "text": [
      "fold 0: mae = 0.6651837469360321\n",
      "fold 1: mae = 0.6597344131515078\n",
      "Average mae: -0.66245908004377\n"
     ]
    }
   ],
   "source": [
    "X_train = dataset_dict['CSE'].to_numpy()\n",
    "y_train = delta_delta_total_energy\n",
    "\n",
    "params = {'objective': 'reg:squarederror', \n",
    "          'n_estimators': 1000, \n",
    "          'learning_rate': 0.01, \n",
    "          'max_depth': 10,\n",
    "          'gamma': 0.1,\n",
    "          'alpha': 0.1}\n",
    "model = xgb.XGBRegressor(**params)\n",
    "\n",
    "neg_mae_scores = cross_val_score(model, X_train, y_train, scoring='neg_mean_absolute_error', cv=2)\n",
    "mae_scores = -neg_mae_scores\n",
    "mean_mae_score = mae_scores.mean()\n",
    "\n",
    "for fold, score in enumerate(mae_scores):\n",
    "    print(f\"fold {fold}: mae = {score}\")\n",
    "print(f\"Average mae: {mean_mae_score}\")"
   ]
  },
  {
   "cell_type": "markdown",
   "metadata": {},
   "source": [
    "## Pure Extended Gaussian ##"
   ]
  },
  {
   "cell_type": "code",
   "execution_count": 9,
   "metadata": {},
   "outputs": [
    {
     "name": "stdout",
     "output_type": "stream",
     "text": [
      "Fold 1: RMSE = 0.14857817086135547\n",
      "Fold 2: RMSE = 0.14786487793440367\n",
      "Average RMSE across all folds: 0.14822152439787956\n"
     ]
    }
   ],
   "source": [
    "X_train = dataset_dict['CSE_lexi'].to_numpy()\n",
    "y_train = delta_delta_total_energy.to_numpy()\n",
    "\n",
    "params = {'alpha': 5.948688011403127e-11, 'beta': 2.8505311767038538e-12, 'epsilon': 4.727331943165293e-07, 'gamma': 5.298346661430054e-10}\n",
    "alpha = params['alpha']\n",
    "\n",
    "similarity_matrix = vectorized_similarity_matrix(X_train, X_train, vectorized_extended_gaussian_kernel, params)\n",
    "# print(similarity_matrix.shape)\n",
    "krr_model = KernelRidge(kernel='precomputed', alpha=alpha)\n",
    "kfold = KFold(n_splits=2, shuffle=True, random_state=42)\n",
    "\n",
    "with warnings.catch_warnings():\n",
    "    warnings.filterwarnings('ignore')\n",
    "    mse_scores = cross_val_score(krr_model, similarity_matrix, y_train, scoring='neg_mean_squared_error', cv=kfold)\n",
    "    rmse_scores = np.sqrt(-mse_scores)\n",
    "    avg_rmse = rmse_scores.mean()\n",
    "\n",
    "for fold, rmse in enumerate(rmse_scores):\n",
    "    print(f\"Fold {fold+1}: RMSE = {rmse}\")\n",
    "print(f\"Average RMSE across all folds: {avg_rmse}\")"
   ]
  },
  {
   "cell_type": "markdown",
   "metadata": {},
   "source": [
    "## Coulombic Matrix ##"
   ]
  },
  {
   "cell_type": "code",
   "execution_count": 10,
   "metadata": {},
   "outputs": [
    {
     "data": {
      "text/html": [
       "<div>\n",
       "<style scoped>\n",
       "    .dataframe tbody tr th:only-of-type {\n",
       "        vertical-align: middle;\n",
       "    }\n",
       "\n",
       "    .dataframe tbody tr th {\n",
       "        vertical-align: top;\n",
       "    }\n",
       "\n",
       "    .dataframe thead th {\n",
       "        text-align: right;\n",
       "    }\n",
       "</style>\n",
       "<table border=\"1\" class=\"dataframe\">\n",
       "  <thead>\n",
       "    <tr style=\"text-align: right;\">\n",
       "      <th></th>\n",
       "      <th>coord0</th>\n",
       "      <th>coord1</th>\n",
       "      <th>coord2</th>\n",
       "      <th>coord3</th>\n",
       "      <th>coord4</th>\n",
       "      <th>coord5</th>\n",
       "      <th>coord6</th>\n",
       "      <th>coord7</th>\n",
       "      <th>coord8</th>\n",
       "      <th>coord9</th>\n",
       "      <th>...</th>\n",
       "      <th>coord656</th>\n",
       "      <th>coord657</th>\n",
       "      <th>coord658</th>\n",
       "      <th>coord659</th>\n",
       "      <th>coord660</th>\n",
       "      <th>coord661</th>\n",
       "      <th>coord662</th>\n",
       "      <th>coord663</th>\n",
       "      <th>coord664</th>\n",
       "      <th>coord665</th>\n",
       "    </tr>\n",
       "  </thead>\n",
       "  <tbody>\n",
       "    <tr>\n",
       "      <th>0</th>\n",
       "      <td>53.358707</td>\n",
       "      <td>34.053598</td>\n",
       "      <td>53.358707</td>\n",
       "      <td>34.368323</td>\n",
       "      <td>19.751342</td>\n",
       "      <td>53.358707</td>\n",
       "      <td>12.913381</td>\n",
       "      <td>19.751462</td>\n",
       "      <td>9.875736</td>\n",
       "      <td>53.358707</td>\n",
       "      <td>...</td>\n",
       "      <td>0.402831</td>\n",
       "      <td>0.119825</td>\n",
       "      <td>0.399055</td>\n",
       "      <td>0.146940</td>\n",
       "      <td>0.103771</td>\n",
       "      <td>0.207540</td>\n",
       "      <td>0.107468</td>\n",
       "      <td>0.207544</td>\n",
       "      <td>0.119824</td>\n",
       "      <td>0.5</td>\n",
       "    </tr>\n",
       "    <tr>\n",
       "      <th>1</th>\n",
       "      <td>53.358707</td>\n",
       "      <td>19.751342</td>\n",
       "      <td>53.358707</td>\n",
       "      <td>12.913317</td>\n",
       "      <td>8.552605</td>\n",
       "      <td>53.358707</td>\n",
       "      <td>19.885231</td>\n",
       "      <td>11.390971</td>\n",
       "      <td>9.539765</td>\n",
       "      <td>53.358707</td>\n",
       "      <td>...</td>\n",
       "      <td>0.399079</td>\n",
       "      <td>0.107396</td>\n",
       "      <td>0.119824</td>\n",
       "      <td>0.402834</td>\n",
       "      <td>0.107468</td>\n",
       "      <td>0.146938</td>\n",
       "      <td>0.146572</td>\n",
       "      <td>0.207540</td>\n",
       "      <td>0.103772</td>\n",
       "      <td>0.5</td>\n",
       "    </tr>\n",
       "    <tr>\n",
       "      <th>2</th>\n",
       "      <td>53.358707</td>\n",
       "      <td>34.368245</td>\n",
       "      <td>53.358707</td>\n",
       "      <td>19.751462</td>\n",
       "      <td>17.105333</td>\n",
       "      <td>53.358707</td>\n",
       "      <td>19.751342</td>\n",
       "      <td>17.105179</td>\n",
       "      <td>9.875736</td>\n",
       "      <td>53.358707</td>\n",
       "      <td>...</td>\n",
       "      <td>0.207545</td>\n",
       "      <td>0.119824</td>\n",
       "      <td>0.146570</td>\n",
       "      <td>0.402824</td>\n",
       "      <td>0.107395</td>\n",
       "      <td>0.107468</td>\n",
       "      <td>0.207542</td>\n",
       "      <td>0.146940</td>\n",
       "      <td>0.399078</td>\n",
       "      <td>0.5</td>\n",
       "    </tr>\n",
       "  </tbody>\n",
       "</table>\n",
       "<p>3 rows × 666 columns</p>\n",
       "</div>"
      ],
      "text/plain": [
       "      coord0     coord1     coord2     coord3     coord4     coord5   \n",
       "0  53.358707  34.053598  53.358707  34.368323  19.751342  53.358707  \\\n",
       "1  53.358707  19.751342  53.358707  12.913317   8.552605  53.358707   \n",
       "2  53.358707  34.368245  53.358707  19.751462  17.105333  53.358707   \n",
       "\n",
       "      coord6     coord7    coord8     coord9  ...  coord656  coord657   \n",
       "0  12.913381  19.751462  9.875736  53.358707  ...  0.402831  0.119825  \\\n",
       "1  19.885231  11.390971  9.539765  53.358707  ...  0.399079  0.107396   \n",
       "2  19.751342  17.105179  9.875736  53.358707  ...  0.207545  0.119824   \n",
       "\n",
       "   coord658  coord659  coord660  coord661  coord662  coord663  coord664   \n",
       "0  0.399055  0.146940  0.103771  0.207540  0.107468  0.207544  0.119824  \\\n",
       "1  0.119824  0.402834  0.107468  0.146938  0.146572  0.207540  0.103772   \n",
       "2  0.146570  0.402824  0.107395  0.107468  0.207542  0.146940  0.399078   \n",
       "\n",
       "   coord665  \n",
       "0       0.5  \n",
       "1       0.5  \n",
       "2       0.5  \n",
       "\n",
       "[3 rows x 666 columns]"
      ]
     },
     "metadata": {},
     "output_type": "display_data"
    }
   ],
   "source": [
    "CM_rep = pd.read_csv(\"../data/coronene_training_data/CM_rep.csv\")\n",
    "display(CM_rep.head(3))"
   ]
  },
  {
   "cell_type": "code",
   "execution_count": 11,
   "metadata": {},
   "outputs": [
    {
     "name": "stdout",
     "output_type": "stream",
     "text": [
      "fold 0: rmse = 1.0627929185395568\n",
      "fold 1: rmse = 1.0286874440862068\n",
      "Average rmse: 1.045740181312882\n"
     ]
    }
   ],
   "source": [
    "X_train = CM_rep.to_numpy()\n",
    "y_train = delta_delta_total_energy\n",
    "\n",
    "params = {'alpha': 4.6e-11, 'gamma': 2.8e-08, 'kernel': 'rbf'}\n",
    "model = KernelRidge(**params)\n",
    "\n",
    "neg_mse_scores = cross_val_score(model, X_train, y_train, scoring='neg_mean_squared_error', cv=2)\n",
    "rmse_scores = np.sqrt(-neg_mse_scores)\n",
    "mean_rmse_score = rmse_scores.mean()\n",
    "\n",
    "for fold, score in enumerate(rmse_scores):\n",
    "    print(f\"fold {fold}: rmse = {score}\")\n",
    "\n",
    "print(f\"Average rmse: {mean_rmse_score}\")"
   ]
  },
  {
   "cell_type": "markdown",
   "metadata": {},
   "source": [
    "## MBDF ##"
   ]
  },
  {
   "cell_type": "code",
   "execution_count": 6,
   "metadata": {},
   "outputs": [
    {
     "name": "stdout",
     "output_type": "stream",
     "text": [
      "fold 0: rmse = 0.22988854923839755\n",
      "fold 1: rmse = 0.22332026844768935\n",
      "Average rmse: 0.22660440884304345\n"
     ]
    },
    {
     "name": "stderr",
     "output_type": "stream",
     "text": [
      "/usr/local/lib/python3.10/dist-packages/sklearn/linear_model/_ridge.py:253: LinAlgWarning: Ill-conditioned matrix (rcond=7.96887e-17): result may not be accurate.\n",
      "  dual_coef = linalg.solve(K, y, assume_a=\"pos\", overwrite_a=False)\n",
      "/usr/local/lib/python3.10/dist-packages/sklearn/linear_model/_ridge.py:253: LinAlgWarning: Ill-conditioned matrix (rcond=7.67816e-17): result may not be accurate.\n",
      "  dual_coef = linalg.solve(K, y, assume_a=\"pos\", overwrite_a=False)\n"
     ]
    }
   ],
   "source": [
    "X_train = np.genfromtxt(\"../data/coronene_training_data/MBDF.csv\", delimiter=',')\n",
    "y_train = delta_total_energy\n",
    "\n",
    "params = {'alpha': 5.300500381866468e-13, 'gamma': 9.287160666894478e-05, 'kernel': 'rbf'}\n",
    "model = KernelRidge(**params)\n",
    "\n",
    "with warnings.catch_warnings():\n",
    "    warnings.filterwarnings('ignore')\n",
    "    neg_mse_scores = cross_val_score(model, X_train, y_train, scoring='neg_mean_squared_error', cv=2)\n",
    "    rmse_scores = np.sqrt(-neg_mse_scores)\n",
    "    mean_rmse_score = rmse_scores.mean()\n",
    "\n",
    "for fold, score in enumerate(rmse_scores):\n",
    "    print(f\"fold {fold}: rmse = {score}\")\n",
    "\n",
    "print(f\"Average rmse: {mean_rmse_score}\")"
   ]
  },
  {
   "cell_type": "code",
   "execution_count": null,
   "metadata": {},
   "outputs": [],
   "source": []
  }
 ],
 "metadata": {
  "kernelspec": {
   "display_name": "Python 3",
   "language": "python",
   "name": "python3"
  },
  "language_info": {
   "codemirror_mode": {
    "name": "ipython",
    "version": 3
   },
   "file_extension": ".py",
   "mimetype": "text/x-python",
   "name": "python",
   "nbconvert_exporter": "python",
   "pygments_lexer": "ipython3",
   "version": "3.10.6"
  },
  "orig_nbformat": 4
 },
 "nbformat": 4,
 "nbformat_minor": 2
}
