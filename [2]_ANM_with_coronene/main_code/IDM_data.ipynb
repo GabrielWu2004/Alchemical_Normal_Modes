{
 "cells": [
  {
   "cell_type": "code",
   "execution_count": 1,
   "metadata": {},
   "outputs": [],
   "source": [
    "import sys\n",
    "sys.path.append('../..')\n",
    "sys.path.append('../../APDFT')\n",
    "sys.path.append('../../helper_code')\n",
    "sys.path.append('../data')\n",
    "\n",
    "import pickle\n",
    "from pyscf import gto, scf, dft, cc\n",
    "from ase import Atoms\n",
    "from ase.io import write\n",
    "from ase.visualize import view\n",
    "import numpy as np\n",
    "import pandas as pd\n",
    "import pyscf\n",
    "import matplotlib.pyplot as plt\n",
    "import matplotlib.ticker as ticker\n",
    "import basis_set_exchange as bse\n",
    "from APDFT.FcMole import *\n",
    "import os\n",
    "import ast\n",
    "from copy import deepcopy\n",
    "from IPython.display import display\n",
    "from helper_code.data_processing import *\n",
    "from helper_code.util import charge_arr_to_str\n",
    "\n",
    "%load_ext autoreload\n",
    "%autoreload 2\n",
    "from APDFT.AP_class import APDFT_perturbator as AP"
   ]
  },
  {
   "cell_type": "markdown",
   "metadata": {},
   "source": [
    "## Set up ##"
   ]
  },
  {
   "cell_type": "code",
   "execution_count": 2,
   "metadata": {},
   "outputs": [
    {
     "name": "stdout",
     "output_type": "stream",
     "text": [
      "(2043, 36)\n",
      "(2043,)\n"
     ]
    }
   ],
   "source": [
    "coronene_energy_raw_data = np.load(\"../data/coronene_raw_data/coronene_mutants_pbe_pcx2_corrected3.npz\", allow_pickle=True)\n",
    "charges, total_energy = coronene_energy_raw_data['charges'], coronene_energy_raw_data['energies']\n",
    "num_mol = charges.shape[0]\n",
    "\n",
    "xyz_file = '../data/coronene_raw_data/coronene_opt_pbe0_pcX2.xyz'\n",
    "with open(xyz_file, 'r') as f:\n",
    "    lines = f.readlines()[2:]  # Skip the first two lines (atom count and comment)\n",
    "    atoms = [line.split() for line in lines]\n",
    "\n",
    "# Extract atomic symbols and coordinates\n",
    "symbols = [atom[0] for atom in atoms]\n",
    "all_atoms_coord = [[float(atom[1]), float(atom[2]), float(atom[3])] for atom in atoms]\n",
    "coordinates = np.tile(np.array(all_atoms_coord), (num_mol, 1, 1))\n",
    "\n",
    "print(charges.shape)\n",
    "print(total_energy.shape)"
   ]
  },
  {
   "cell_type": "code",
   "execution_count": 6,
   "metadata": {},
   "outputs": [
    {
     "name": "stdout",
     "output_type": "stream",
     "text": [
      "(24, 24)\n",
      "[ 8.04766557  2.71957365  2.71961208  1.3213949   1.46824254  1.46823411\n",
      "  0.94975959  0.85080608  0.76852506  0.76850603  0.59986358  0.5998329\n",
      " -0.04001478  0.01639216  0.01638804  0.1217896   0.29444385  0.29442023\n",
      "  0.09569998  0.09570227  0.19075144  0.19311639  0.21965206  0.21964266]\n"
     ]
    }
   ],
   "source": [
    "IDM = get_inv_dist_M(coordinates[0], 24)\n",
    "IDM_eigval, Q = np.linalg.eig(IDM)\n",
    "print(Q.shape)\n",
    "print(IDM_eigval)"
   ]
  },
  {
   "cell_type": "markdown",
   "metadata": {},
   "source": [
    "## Process Data ##"
   ]
  },
  {
   "cell_type": "code",
   "execution_count": 12,
   "metadata": {},
   "outputs": [],
   "source": [
    "rotation_mapping = {0:21, 21:22, 22:15, 15:12, 12:7, 7:0, \n",
    "                    1:20, 20:23, 23:14, 14:13, 13:6, 6:1,\n",
    "                    2:19, 19:16, 16:11, 11:8, 8:5, 5:2,\n",
    "                    3:18, 18:17, 17:10, 10:9, 9:4, 4:3}\n",
    "\n",
    "reflection_mapping1 = {0:6, 6:0, 7:1, 1:7, 5:5, \n",
    "                       8:2, 2:8, 4:4, 13:21, 21:13,\n",
    "                       9:3, 3:9, 12:20, 20:12, 10:18, 18:10,\n",
    "                       11:19, 19:11, 17:17, 14:22, 22:14, 16:16,\n",
    "                       15:23, 23:15}\n",
    "\n",
    "reflection_mapping2 = {0:1, 1:0, 6:21, 21:6, 5:2, 2:5,\n",
    "                       7:20, 20:7, 4:3, 3:4, 8:19, 19:8,\n",
    "                       9:18, 18:9, 13:22, 22:13, 10:17, 17:10,\n",
    "                       12:23, 23:12, 11:16, 16:11, 14:15, 15:14}"
   ]
  },
  {
   "cell_type": "code",
   "execution_count": 10,
   "metadata": {},
   "outputs": [
    {
     "data": {
      "text/html": [
       "<div>\n",
       "<style scoped>\n",
       "    .dataframe tbody tr th:only-of-type {\n",
       "        vertical-align: middle;\n",
       "    }\n",
       "\n",
       "    .dataframe tbody tr th {\n",
       "        vertical-align: top;\n",
       "    }\n",
       "\n",
       "    .dataframe thead th {\n",
       "        text-align: right;\n",
       "    }\n",
       "</style>\n",
       "<table border=\"1\" class=\"dataframe\">\n",
       "  <thead>\n",
       "    <tr style=\"text-align: right;\">\n",
       "      <th></th>\n",
       "      <th>charges</th>\n",
       "      <th>dx</th>\n",
       "    </tr>\n",
       "  </thead>\n",
       "  <tbody>\n",
       "    <tr>\n",
       "      <th>0</th>\n",
       "      <td>[7, 6, 5, 6, 7, 7, 6, 7, 7, 5, 6, 7, 6, 6, 6, ...</td>\n",
       "      <td>[1, 0, -1, 0, 1, 1, 0, 1, 1, -1, 0, 1, 0, 0, 0...</td>\n",
       "    </tr>\n",
       "    <tr>\n",
       "      <th>1</th>\n",
       "      <td>[5, 5, 7, 5, 5, 7, 5, 5, 7, 7, 7, 7, 5, 7, 5, ...</td>\n",
       "      <td>[-1, -1, 1, -1, -1, 1, -1, -1, 1, 1, 1, 1, -1,...</td>\n",
       "    </tr>\n",
       "    <tr>\n",
       "      <th>2</th>\n",
       "      <td>[5, 6, 6, 7, 7, 6, 7, 6, 5, 6, 5, 5, 7, 7, 5, ...</td>\n",
       "      <td>[-1, 0, 0, 1, 1, 0, 1, 0, -1, 0, -1, -1, 1, 1,...</td>\n",
       "    </tr>\n",
       "  </tbody>\n",
       "</table>\n",
       "</div>"
      ],
      "text/plain": [
       "                                             charges   \n",
       "0  [7, 6, 5, 6, 7, 7, 6, 7, 7, 5, 6, 7, 6, 6, 6, ...  \\\n",
       "1  [5, 5, 7, 5, 5, 7, 5, 5, 7, 7, 7, 7, 5, 7, 5, ...   \n",
       "2  [5, 6, 6, 7, 7, 6, 7, 6, 5, 6, 5, 5, 7, 7, 5, ...   \n",
       "\n",
       "                                                  dx  \n",
       "0  [1, 0, -1, 0, 1, 1, 0, 1, 1, -1, 0, 1, 0, 0, 0...  \n",
       "1  [-1, -1, 1, -1, -1, 1, -1, -1, 1, 1, 1, 1, -1,...  \n",
       "2  [-1, 0, 0, 1, 1, 0, 1, 0, -1, 0, -1, -1, 1, 1,...  "
      ]
     },
     "metadata": {},
     "output_type": "display_data"
    }
   ],
   "source": [
    "coronene_energy_data = pd.DataFrame()\n",
    "coronene_energy_data['charges'] = charges.tolist()\n",
    "coronene_energy_data['dx'] = None\n",
    "for index, row in coronene_energy_data.iterrows():\n",
    "    ref_charge = np.full(24, 6)\n",
    "    dx = np.array(row['charges'][:24]) - ref_charge\n",
    "    coronene_energy_data.at[index, 'dx'] = dx\n",
    "\n",
    "display(coronene_energy_data.head(3))"
   ]
  },
  {
   "cell_type": "code",
   "execution_count": 13,
   "metadata": {},
   "outputs": [],
   "source": [
    "coronene_energy_data['dx_lexi'] = coronene_energy_data['dx'].apply(\n",
    "    lambda arr: coronene_lexi(arr.tolist(), rotation_mapping, reflection_mapping1, reflection_mapping2))\n",
    "\n",
    "coronene_energy_data['c'] = coronene_energy_data['dx'].apply(\n",
    "    lambda arr: (arr.reshape(1, 24)@Q).reshape(24,).tolist()) # column vector view: c = Q_inv @ dx\n",
    "\n",
    "coronene_energy_data['c_lexi'] = coronene_energy_data['dx_lexi'].apply(\n",
    "    lambda arr: (arr.reshape(1, 24)@Q).reshape(24,).tolist())\n",
    "\n",
    "coronene_energy_data['CE'] = coronene_energy_data['c'].apply(\n",
    "    lambda arr: compute_lambda_c(arr, IDM_eigval))\n",
    "\n",
    "coronene_energy_data['CE_lexi'] = coronene_energy_data['c_lexi'].apply(\n",
    "    lambda arr: compute_lambda_c(arr, IDM_eigval))\n",
    "\n",
    "coronene_energy_data['CSE'] = coronene_energy_data['c'].apply(\n",
    "    lambda arr: compute_lambda_c_square(arr, IDM_eigval))\n",
    "\n",
    "coronene_energy_data['CSE_lexi'] = coronene_energy_data['c_lexi'].apply(\n",
    "    lambda arr: compute_lambda_c_square(arr, IDM_eigval))"
   ]
  },
  {
   "cell_type": "markdown",
   "metadata": {},
   "source": [
    "## Export ##"
   ]
  },
  {
   "cell_type": "code",
   "execution_count": 14,
   "metadata": {},
   "outputs": [],
   "source": [
    "datasets = ['c', 'c_lexi', 'CE', 'CE_lexi', 'CSE', 'CSE_lexi']\n",
    "columns = [f\"coord{i}\" for i in range(24)]\n",
    "\n",
    "dataset_dict = {}\n",
    "for data in datasets:\n",
    "    dataset_dict[data] = pd.DataFrame(columns=columns)\n",
    "    for i in range(24):\n",
    "        dataset_dict[data][f\"coord{i}\"] = coronene_energy_data[data].apply(lambda arr: arr[i])"
   ]
  },
  {
   "cell_type": "code",
   "execution_count": 15,
   "metadata": {},
   "outputs": [],
   "source": [
    "for key, dataframe in dataset_dict.items():\n",
    "    dataframe.to_csv(f'../data/coronene_training_data/[IDM]{key}.csv', index=False)"
   ]
  }
 ],
 "metadata": {
  "kernelspec": {
   "display_name": "Python 3",
   "language": "python",
   "name": "python3"
  },
  "language_info": {
   "codemirror_mode": {
    "name": "ipython",
    "version": 3
   },
   "file_extension": ".py",
   "mimetype": "text/x-python",
   "name": "python",
   "nbconvert_exporter": "python",
   "pygments_lexer": "ipython3",
   "version": "3.10.12"
  },
  "orig_nbformat": 4
 },
 "nbformat": 4,
 "nbformat_minor": 2
}
