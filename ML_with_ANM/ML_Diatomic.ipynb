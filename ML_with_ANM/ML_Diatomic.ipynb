{
 "cells": [
  {
   "attachments": {},
   "cell_type": "markdown",
   "metadata": {},
   "source": [
    "Code source: Tutorial by Giorgio Domenichini"
   ]
  },
  {
   "attachments": {},
   "cell_type": "markdown",
   "metadata": {},
   "source": [
    "CPHF: CPHF (Coupled Perturbed Hartree-Fock) alchemical derivatives are quantities used in computational chemistry and quantum chemistry to calculate the change in molecular properties with respect to changes in the nuclear positions or atomic charges."
   ]
  },
  {
   "attachments": {},
   "cell_type": "markdown",
   "metadata": {},
   "source": [
    "Gaussian-type orbitals (GTOs) are mathematical functions commonly used to represent atomic orbitals in quantum chemistry calculations. They are named after the Gaussian distribution function that describes their radial behavior. GTOs provide a flexible and efficient basis for approximating the wavefunctions of electrons in molecules."
   ]
  },
  {
   "attachments": {},
   "cell_type": "markdown",
   "metadata": {},
   "source": [
    "Basis sets are a set of mathematical functions that are used to approximate the wave functions of electrons in molecules"
   ]
  },
  {
   "cell_type": "code",
   "execution_count": 2,
   "metadata": {},
   "outputs": [
    {
     "name": "stdout",
     "output_type": "stream",
     "text": [
      "The autoreload extension is already loaded. To reload it, use:\n",
      "  %reload_ext autoreload\n"
     ]
    }
   ],
   "source": [
    "from pyscf import gto,scf\n",
    "import numpy as np\n",
    "import pandas as pd\n",
    "import pyscf\n",
    "import matplotlib.pyplot as plt\n",
    "import basis_set_exchange as bse\n",
    "from FcMole import FcM, FcM_like\n",
    "import os\n",
    "import ast\n",
    "\n",
    "%load_ext autoreload\n",
    "%autoreload 2\n",
    "from AP_class import APDFT_perturbator as AP"
   ]
  },
  {
   "cell_type": "code",
   "execution_count": 8,
   "metadata": {},
   "outputs": [],
   "source": [
    "# mol_NN = gto.M(atom= \"N 0 0 0; N 0 0 2.1\",\n",
    "#                unit=\"Bohr\",\n",
    "#                basis=\"unc-cc-pvdz\")"
   ]
  },
  {
   "cell_type": "code",
   "execution_count": 9,
   "metadata": {},
   "outputs": [
    {
     "name": "stdout",
     "output_type": "stream",
     "text": [
      "converged SCF energy = -109.415080022349\n"
     ]
    }
   ],
   "source": [
    "# mf = scf.RKS(mol_NN) # create a restricted Kohn-Sham (RKS) mean-field object used for electronic structure calculation\n",
    "# mf.xc = \"PBE0\" # sets the exchange-correlation (XC) functional to \"PBE0\"\n",
    "# energy = mf.scf()"
   ]
  },
  {
   "cell_type": "code",
   "execution_count": 10,
   "metadata": {},
   "outputs": [
    {
     "name": "stdout",
     "output_type": "stream",
     "text": [
      "[[-3.26630067  0.50149887]\n",
      " [ 0.50149887 -3.26630067]]\n"
     ]
    }
   ],
   "source": [
    "# ap_nn=AP(mf,sites=[0,1]) # prepare to perform alchemical perturbing DFT calculations\n",
    "# H = ap_nn.build_hessian()\n",
    "# print(H)"
   ]
  },
  {
   "attachments": {},
   "cell_type": "markdown",
   "metadata": {},
   "source": [
    "## Calculating Hessian ##"
   ]
  },
  {
   "cell_type": "code",
   "execution_count": 11,
   "metadata": {},
   "outputs": [],
   "source": [
    "# create the NN molecule\n",
    "mol_NN_pcX2=gto.M(atom= \"N 0 0 0; N 0 0 2.1\",\n",
    "                  unit=\"Bohr\",\n",
    "                  basis=bse.get_basis('pcX-2',fmt=\"nwchem\",elements=[6,7,8]))\n",
    "\n",
    "# the unit corresponds the length unit used when specifying atomic positions\n",
    "# the pcX-2 basis set is a specialized basis set for systems containing C, N, and O"
   ]
  },
  {
   "cell_type": "code",
   "execution_count": 12,
   "metadata": {},
   "outputs": [],
   "source": [
    "def get_energy_DFT(mol):\n",
    "    \"\"\" \n",
    "    Compute the total energy of a given molecule, in a.u., using DFT calculation\n",
    "\n",
    "    Args:\n",
    "        mol (pyscf.gto.mole.Mole): a PySCF Gaussian-type orbital (GTO) molecule object \n",
    "    \n",
    "    Returns:\n",
    "        mf (pyscf.dft.rks.RKS): the mean-field object for the molecule (used for other DFT related calculations) \n",
    "        energy (float): the total energy of the molecule\n",
    "    \"\"\"\n",
    "\n",
    "    mf = scf.RKS(mol) # create a restricted Kohn-Sham (RKS) mean-field object used for electronic structure calculation\n",
    "    mf.xc = \"PBE0\" # sets the exchange-correlation (XC) functional to \"PBE0\"\n",
    "    energy = mf.scf() # performs self-consistent field (SCF) calculations\n",
    "\n",
    "    return energy, mf"
   ]
  },
  {
   "cell_type": "code",
   "execution_count": 13,
   "metadata": {},
   "outputs": [],
   "source": [
    "def get_energy_HF(mol):\n",
    "    \"\"\" \n",
    "    Compute the total energy of a given molecule, in a.u., using DFT calculation\n",
    "\n",
    "    Args:\n",
    "        mol (pyscf.gto.mole.Mole): a PySCF Gaussian-type orbital (GTO) molecule object \n",
    "    \n",
    "    Returns:\n",
    "        mf (pyscf.dft.rks.RKS): the mean-field object for the molecule (used for other DFT related calculations) \n",
    "        energy (float): the total energy of the molecule\n",
    "    \"\"\"\n",
    "\n",
    "    mf = scf.RHF(mol) # create a restricted Hartree-Fock (RHF) mean-field object used for electronic structure calculation\n",
    "    energy = mf.scf() # performs self-consistent field (SCF) calculations\n",
    "\n",
    "    return energy, mf"
   ]
  },
  {
   "cell_type": "code",
   "execution_count": 14,
   "metadata": {},
   "outputs": [
    {
     "name": "stdout",
     "output_type": "stream",
     "text": [
      "converged SCF energy = -109.444276410408\n",
      "[[-3.30695508  0.47774726]\n",
      " [ 0.47774726 -3.30695508]]\n"
     ]
    }
   ],
   "source": [
    "# Calculate the energy and the Hessian\n",
    "\n",
    "energy_nn, mf_nn = get_energy_DFT(mol_NN_pcX2)\n",
    "ap_nn=AP(mf_nn,sites=[0,1]) # prepare to perform alchemical perturbing DFT calculations\n",
    "H = ap_nn.build_hessian()\n",
    "print(H)"
   ]
  },
  {
   "cell_type": "code",
   "execution_count": 16,
   "metadata": {},
   "outputs": [
    {
     "name": "stdout",
     "output_type": "stream",
     "text": [
      "[[ 0.70710678  0.70710678]\n",
      " [-0.70710678  0.70710678]]\n"
     ]
    }
   ],
   "source": [
    "# compute the diagnalization matrix (of eigenvectors) Q\n",
    "\n",
    "epsilon, Q = np.linalg.eig(H)\n",
    "Q_inv = np.linalg.inv(Q)\n",
    "print(Q_inv)"
   ]
  },
  {
   "attachments": {},
   "cell_type": "markdown",
   "metadata": {},
   "source": [
    "## Import Training Data ##"
   ]
  },
  {
   "cell_type": "code",
   "execution_count": 17,
   "metadata": {},
   "outputs": [],
   "source": [
    "def get_diatomic_data(ap_mol):\n",
    "    \"\"\" \n",
    "    Get the diatomic molecule data and store them in pandas dataframe\n",
    "    If there exist a file with pre-calculated diatomic energy, directly open it.\n",
    "    If not, calculate the energy for each molecule and store the data as a separate file\n",
    "\n",
    "    Args:\n",
    "        ap_mol (APDFT_perturbator): the reference molecule (used for APDFT calculations)\n",
    "    \n",
    "    Returns:\n",
    "        diatomic_data (pandas dataframe): dataframe containing the perturbation vector and the energy of each molecule\n",
    "    \"\"\"\n",
    "    \n",
    "    if os.path.isfile('diatomic_data_w_energy.csv'):\n",
    "        diatomic_data = pd.read_csv('diatomic_data_w_energy.csv', header = 0)\n",
    "        diatomic_data['dx'] = diatomic_data['dx'].apply(lambda x: ast.literal_eval(x))\n",
    "    \n",
    "    elif os.path.isfile('diatomic_data.csv'):\n",
    "        diatomic_data = pd.read_csv('diatomic_data.csv', header = 0)\n",
    "        \n",
    "        # creating the dx column and calculate the total energy of each molecule\n",
    "        diatomic_data['dx'] = None\n",
    "        diatomic_data['energy'] = None\n",
    "\n",
    "        for index, row in diatomic_data.iterrows():\n",
    "            dx = [row['charge_1'] - 7, row['charge_2'] - 7] # calculates the dx vector from the charge of each atom\n",
    "            \n",
    "            # target_mol = FcM_like(mol, fcs=dx) # build target molecule from specified perturbation\n",
    "            target_energy = ap_mol.target_energy(dx)\n",
    "\n",
    "            diatomic_data.at[index, 'dx'] = dx\n",
    "            diatomic_data.at[index, 'energy'] = target_energy\n",
    "            diatomic_data.to_csv('diatomic_data_w_energy.csv')\n",
    "    \n",
    "    return diatomic_data"
   ]
  },
  {
   "cell_type": "code",
   "execution_count": 19,
   "metadata": {},
   "outputs": [
    {
     "name": "stdout",
     "output_type": "stream",
     "text": [
      "    Unnamed: 0   Name  charge_1  charge_2        dx      energy\n",
      "0            0     N2         7         7    [0, 0] -108.982443\n",
      "1            1   NO +         7         8    [0, 1] -128.950506\n",
      "2            2   CN -         6         7   [-1, 0]  -92.335593\n",
      "3            3   NC -         7         6   [0, -1]  -92.335593\n",
      "4            4   ON +         8         7    [1, 0] -128.950506\n",
      "5            5  O2 2+         8         8    [1, 1] -148.301451\n",
      "6            6  NF 2+         7         9    [0, 2] -152.508900\n",
      "7            7     CO         6         8   [-1, 1] -112.786392\n",
      "8            8  BN 2-         5         7   [-2, 0]  -78.809317\n",
      "9            9  C2 2-         6         6  [-1, -1]  -75.324778\n",
      "10          10  NB 2-         7         5   [0, -2]  -78.809316\n",
      "11          11     OC         8         6   [1, -1] -112.786392\n",
      "12          12  FN 2+         9         7    [2, 0] -152.508900\n",
      "13          13  OF 3+         8         9    [1, 2] -171.142720\n",
      "14          14   CF +         6         9   [-1, 2] -136.911335\n",
      "15          15   BO -         5         8   [-2, 1]  -99.589669\n",
      "16          16  BC 3-         5         6  [-2, -1]  -61.607983\n",
      "17          17  CB 3-         6         5  [-1, -2]  -61.607984\n",
      "18          18   OB -         8         5   [1, -2]  -99.589670\n",
      "19          19   FC +         9         6   [2, -1] -136.911335\n",
      "20          20  FO 3+         9         8    [2, 1] -171.142720\n"
     ]
    }
   ],
   "source": [
    "diatomic_data = get_diatomic_data(ap_nn)\n",
    "print(diatomic_data)\n",
    "# print(diatomic_data['dx'].dtype)"
   ]
  },
  {
   "cell_type": "code",
   "execution_count": null,
   "metadata": {},
   "outputs": [],
   "source": [
    "# creating the dx column and calculate the total energy of each molecule\n",
    "\n",
    "# diatomic_data['dx'] = None\n",
    "# diatomic_data['energy'] = None\n",
    "\n",
    "# for index, row in diatomic_data.iterrows():\n",
    "#     dx = [row['charge_1'] - 7, row['charge_2'] - 7] # calculates the dx vector from the charge of each atom\n",
    "#     energy = ap_nn.target_energy(dx) # calculates the energy of the molecule\n",
    "#     diatomic_data.at[index, 'dx'] = dx\n",
    "#     diatomic_data.at[index, 'energy'] = energy\n",
    "# print(diatomic_data)"
   ]
  },
  {
   "cell_type": "code",
   "execution_count": null,
   "metadata": {},
   "outputs": [],
   "source": [
    "# diatomic_data.to_csv('diatomic_data_w_energy.csv', index=False)"
   ]
  },
  {
   "cell_type": "code",
   "execution_count": 20,
   "metadata": {},
   "outputs": [
    {
     "name": "stdout",
     "output_type": "stream",
     "text": [
      "    Unnamed: 0   Name  charge_1  charge_2        dx      energy   \n",
      "0            0     N2         7         7    [0, 0] -108.982443  \\\n",
      "1            1   NO +         7         8    [0, 1] -128.950506   \n",
      "2            2   CN -         6         7   [-1, 0]  -92.335593   \n",
      "3            3   NC -         7         6   [0, -1]  -92.335593   \n",
      "4            4   ON +         8         7    [1, 0] -128.950506   \n",
      "5            5  O2 2+         8         8    [1, 1] -148.301451   \n",
      "6            6  NF 2+         7         9    [0, 2] -152.508900   \n",
      "7            7     CO         6         8   [-1, 1] -112.786392   \n",
      "8            8  BN 2-         5         7   [-2, 0]  -78.809317   \n",
      "9            9  C2 2-         6         6  [-1, -1]  -75.324778   \n",
      "10          10  NB 2-         7         5   [0, -2]  -78.809316   \n",
      "11          11     OC         8         6   [1, -1] -112.786392   \n",
      "12          12  FN 2+         9         7    [2, 0] -152.508900   \n",
      "13          13  OF 3+         8         9    [1, 2] -171.142720   \n",
      "14          14   CF +         6         9   [-1, 2] -136.911335   \n",
      "15          15   BO -         5         8   [-2, 1]  -99.589669   \n",
      "16          16  BC 3-         5         6  [-2, -1]  -61.607983   \n",
      "17          17  CB 3-         6         5  [-1, -2]  -61.607984   \n",
      "18          18   OB -         8         5   [1, -2]  -99.589670   \n",
      "19          19   FC +         9         6   [2, -1] -136.911335   \n",
      "20          20  FO 3+         9         8    [2, 1] -171.142720   \n",
      "\n",
      "                                               c       coord_0       coord_1  \n",
      "0                                     [0.0, 0.0]  0.000000e+00  0.000000e+00  \n",
      "1       [0.7071067811532804, 0.7071067812198146]  7.071068e-01  7.071068e-01  \n",
      "2      [-0.7071067812198146, 0.7071067811532804] -7.071068e-01  7.071068e-01  \n",
      "3     [-0.7071067811532804, -0.7071067812198146] -7.071068e-01 -7.071068e-01  \n",
      "4      [0.7071067812198146, -0.7071067811532804]  7.071068e-01 -7.071068e-01  \n",
      "5     [1.414213562373095, 6.653422257585362e-11]  1.414214e+00  6.653422e-11  \n",
      "6       [1.4142135623065608, 1.4142135624396293]  1.414214e+00  1.414214e+00  \n",
      "7    [-6.653422257585362e-11, 1.414213562373095] -6.653422e-11  1.414214e+00  \n",
      "8      [-1.4142135624396293, 1.4142135623065608] -1.414214e+00  1.414214e+00  \n",
      "9   [-1.414213562373095, -6.653422257585362e-11] -1.414214e+00 -6.653422e-11  \n",
      "10    [-1.4142135623065608, -1.4142135624396293] -1.414214e+00 -1.414214e+00  \n",
      "11   [6.653422257585362e-11, -1.414213562373095]  6.653422e-11 -1.414214e+00  \n",
      "12     [1.4142135624396293, -1.4142135623065608]  1.414214e+00 -1.414214e+00  \n",
      "13       [2.121320343526375, 0.7071067812863489]  2.121320e+00  7.071068e-01  \n",
      "14      [0.7071067810867462, 2.1213203435929096]  7.071068e-01  2.121320e+00  \n",
      "15      [-0.7071067812863489, 2.121320343526375] -7.071068e-01  2.121320e+00  \n",
      "16     [-2.1213203435929096, 0.7071067810867462] -2.121320e+00  7.071068e-01  \n",
      "17     [-2.121320343526375, -0.7071067812863489] -2.121320e+00 -7.071068e-01  \n",
      "18    [-0.7071067810867462, -2.1213203435929096] -7.071068e-01 -2.121320e+00  \n",
      "19      [0.7071067812863489, -2.121320343526375]  7.071068e-01 -2.121320e+00  \n",
      "20     [2.1213203435929096, -0.7071067810867462]  2.121320e+00 -7.071068e-01  \n"
     ]
    }
   ],
   "source": [
    "# express each molecule using the ANM basis\n",
    "# i.e. c = Q_inv @ dx\n",
    "\n",
    "dx_array = np.array(diatomic_data['dx'].tolist())\n",
    "# print(dx_array)\n",
    "\n",
    "c_array = (Q_inv @ dx_array.T).T\n",
    "# print(c_array)\n",
    "\n",
    "# print(c_array.tolist())\n",
    "\n",
    "diatomic_data['c'] = c_array.tolist()\n",
    "diatomic_data['coord_0'] = diatomic_data['c'].apply(lambda x: x[0])\n",
    "diatomic_data['coord_1'] = diatomic_data['c'].apply(lambda x: x[1])\n",
    "\n",
    "print(diatomic_data)"
   ]
  },
  {
   "attachments": {},
   "cell_type": "markdown",
   "metadata": {},
   "source": [
    "## Kernel Ridge Regression ##"
   ]
  },
  {
   "cell_type": "code",
   "execution_count": 21,
   "metadata": {},
   "outputs": [],
   "source": [
    "from sklearn.kernel_ridge import KernelRidge\n",
    "from sklearn.model_selection import cross_val_score, KFold, GridSearchCV, train_test_split\n",
    "from sklearn.metrics import mean_squared_error"
   ]
  },
  {
   "cell_type": "code",
   "execution_count": null,
   "metadata": {},
   "outputs": [],
   "source": [
    "X = diatomic_data[['coord_0', 'coord_1']]\n",
    "y = diatomic_data['energy']"
   ]
  },
  {
   "cell_type": "code",
   "execution_count": 22,
   "metadata": {},
   "outputs": [
    {
     "name": "stdout",
     "output_type": "stream",
     "text": [
      "Fold 1: MSE = 35.43271127260019\n",
      "Fold 2: MSE = 16.070377138394026\n",
      "Fold 3: MSE = 37.07656197835707\n",
      "Fold 4: MSE = 81.23406968636036\n",
      "Fold 5: MSE = 85.44062013399831\n",
      "Average MSE across all folds: 51.05086804194199\n"
     ]
    }
   ],
   "source": [
    "# Gaussian kernel\n",
    "\n",
    "gaussian_KRR = KernelRidge(kernel='rbf', gamma=0.05, alpha = 0.05)\n",
    "\n",
    "k_fold = KFold(n_splits=5, shuffle=True, random_state=42)\n",
    "mse_scores = cross_val_score(gaussian_KRR, X, y, scoring='neg_mean_squared_error', cv=k_fold)\n",
    "mse_scores = -mse_scores  # Convert negative MSE scores to positive\n",
    "\n",
    "# Calculate the average error across all folds\n",
    "avg_mse = mse_scores.mean()\n",
    "\n",
    "# Print the mean squared error for each fold\n",
    "for fold, mse in enumerate(mse_scores):\n",
    "    print(f\"Fold {fold+1}: MSE = {mse}\")\n",
    "\n",
    "# Print the average mean squared error\n",
    "print(f\"Average MSE across all folds: {avg_mse}\")"
   ]
  },
  {
   "cell_type": "code",
   "execution_count": 23,
   "metadata": {},
   "outputs": [
    {
     "name": "stdout",
     "output_type": "stream",
     "text": [
      "Fold 1: MSE = 0.14559210190953176\n",
      "Fold 2: MSE = 0.06559608057629548\n",
      "Fold 3: MSE = 0.038410377354150385\n",
      "Fold 4: MSE = 0.037797165459715495\n",
      "Fold 5: MSE = 0.07577509843613081\n",
      "Average MSE across all folds: 0.0726341647471648\n"
     ]
    }
   ],
   "source": [
    "# Polynomial Kernel\n",
    "\n",
    "poly_KRR = KernelRidge(kernel='polynomial', degree=3, alpha = 0.01)\n",
    "\n",
    "k_fold = KFold(n_splits=5, shuffle=True, random_state=42)\n",
    "mse_scores = cross_val_score(poly_KRR, X, y, scoring='neg_mean_squared_error', cv=k_fold)\n",
    "mse_scores = -mse_scores  # Convert negative MSE scores to positive\n",
    "\n",
    "# Calculate the average error across all folds\n",
    "avg_mse = mse_scores.mean()\n",
    "\n",
    "# Print the mean squared error for each fold\n",
    "for fold, mse in enumerate(mse_scores):\n",
    "    print(f\"Fold {fold+1}: MSE = {mse}\")\n",
    "\n",
    "# Print the average mean squared error\n",
    "print(f\"Average MSE across all folds: {avg_mse}\")"
   ]
  },
  {
   "attachments": {},
   "cell_type": "markdown",
   "metadata": {},
   "source": [
    "At first glance, polynomial kernels appear more promising. "
   ]
  },
  {
   "attachments": {},
   "cell_type": "markdown",
   "metadata": {},
   "source": []
  },
  {
   "attachments": {},
   "cell_type": "markdown",
   "metadata": {},
   "source": [
    "## Hyperparameter Tuning ##"
   ]
  },
  {
   "cell_type": "code",
   "execution_count": null,
   "metadata": {},
   "outputs": [],
   "source": [
    "# Hyperparam tuning\n",
    "# Grid search round 1\n",
    "\n",
    "# param_grid = {\n",
    "#     'alpha': [0.005, 0.01, 0.05, 0.1, 0.5],\n",
    "#     'kernel': ['poly'],  \n",
    "#     'degree': [1, 2, 3, 4], \n",
    "#     'coef0': [0.0, 0.5, 1.0, 2.0], \n",
    "# }\n",
    "\n",
    "# poly_KRR = KernelRidge()\n",
    "\n",
    "# k_fold = KFold(n_splits=5, shuffle=True, random_state=42)\n",
    "# grid_search = GridSearchCV(poly_KRR, param_grid, scoring='neg_mean_squared_error', cv=k_fold)\n",
    "# grid_search.fit(X, y)\n",
    "\n",
    "# best_params = grid_search.best_params_\n",
    "# best_score = -grid_search.best_score_\n",
    "\n",
    "# # Print the best hyperparameters and score\n",
    "# print(\"Best Hyperparameters:\", best_params)\n",
    "# print(\"Best Mean Squared Error:\", best_score)"
   ]
  },
  {
   "cell_type": "code",
   "execution_count": null,
   "metadata": {},
   "outputs": [],
   "source": [
    "# Hyperparam tuning\n",
    "# Grid search round 2\n",
    "\n",
    "# param_grid = {\n",
    "#     'alpha': np.linspace(0.004, 0.006, 10),\n",
    "#     'kernel': ['poly'],  \n",
    "#     'degree': [3], \n",
    "#     'coef0': np.linspace(1.8, 2.2, 10), \n",
    "# }\n",
    "\n",
    "# poly_KRR = KernelRidge()\n",
    "\n",
    "# k_fold = KFold(n_splits=5, shuffle=True, random_state=42)\n",
    "# grid_search = GridSearchCV(poly_KRR, param_grid, scoring='neg_mean_squared_error', cv=k_fold)\n",
    "# grid_search.fit(X, y)\n",
    "\n",
    "# best_params = grid_search.best_params_\n",
    "# best_score = -grid_search.best_score_\n",
    "\n",
    "# # Print the best hyperparameters and score\n",
    "# print(\"Best Hyperparameters:\", best_params)\n",
    "# print(\"Best Mean Squared Error:\", best_score)"
   ]
  },
  {
   "cell_type": "code",
   "execution_count": null,
   "metadata": {},
   "outputs": [],
   "source": [
    "# Hyperparam tuning\n",
    "# Grid search round 3\n",
    "\n",
    "# param_grid = {\n",
    "#     'alpha': np.linspace(0.002, 0.004, 10, endpoint=True),\n",
    "#     'kernel': ['poly'],  \n",
    "#     'degree': [3], \n",
    "#     'coef0': np.linspace(2.2, 2.4, 10, endpoint=True), \n",
    "# }\n",
    "\n",
    "# poly_KRR = KernelRidge()\n",
    "\n",
    "# k_fold = KFold(n_splits=5, shuffle=True, random_state=42)\n",
    "# grid_search = GridSearchCV(poly_KRR, param_grid, scoring='neg_mean_squared_error', cv=k_fold)\n",
    "# grid_search.fit(X, y)\n",
    "\n",
    "# best_params = grid_search.best_params_\n",
    "# best_score = -grid_search.best_score_\n",
    "\n",
    "# # Print the best hyperparameters and score\n",
    "# print(\"Best Hyperparameters:\", best_params)\n",
    "# print(\"Best Mean Squared Error:\", best_score)"
   ]
  },
  {
   "cell_type": "code",
   "execution_count": null,
   "metadata": {},
   "outputs": [],
   "source": [
    "# Hyperparam tuning\n",
    "# Grid search round 4\n",
    "\n",
    "# param_grid = {\n",
    "#     'alpha': np.linspace(0.001, 0.002, 10, endpoint=True),\n",
    "#     'kernel': ['poly'],  \n",
    "#     'degree': [3], \n",
    "#     'coef0': np.linspace(2.4, 2.6, 10, endpoint=True), \n",
    "# }\n",
    "\n",
    "# poly_KRR = KernelRidge()\n",
    "\n",
    "# k_fold = KFold(n_splits=5, shuffle=True, random_state=42)\n",
    "# grid_search = GridSearchCV(poly_KRR, param_grid, scoring='neg_mean_squared_error', cv=k_fold)\n",
    "# grid_search.fit(X, y)\n",
    "\n",
    "# best_params = grid_search.best_params_\n",
    "# best_score = -grid_search.best_score_\n",
    "\n",
    "# # Print the best hyperparameters and score\n",
    "# print(\"Best Hyperparameters:\", best_params)\n",
    "# print(\"Best Mean Squared Error:\", best_score)"
   ]
  },
  {
   "cell_type": "code",
   "execution_count": null,
   "metadata": {},
   "outputs": [],
   "source": [
    "# Hyperparam tuning\n",
    "# Grid search round 5\n",
    "\n",
    "# param_grid = {\n",
    "#     'alpha': np.linspace(0.0001, 0.001, num=10, endpoint=True),\n",
    "#     'kernel': ['poly'],  \n",
    "#     'degree': [3], \n",
    "#     'coef0': np.linspace(2.6, 5, num=10, endpoint=True), \n",
    "# }\n",
    "\n",
    "# poly_KRR = KernelRidge()\n",
    "\n",
    "# k_fold = KFold(n_splits=5, shuffle=True, random_state=42)\n",
    "# grid_search = GridSearchCV(poly_KRR, param_grid, scoring='neg_mean_squared_error', cv=k_fold)\n",
    "# grid_search.fit(X, y)\n",
    "\n",
    "# best_params = grid_search.best_params_\n",
    "# best_score = -grid_search.best_score_\n",
    "\n",
    "# # Print the best hyperparameters and score\n",
    "# print(\"Best Hyperparameters:\", best_params)\n",
    "# print(\"Best Mean Squared Error:\", best_score)"
   ]
  },
  {
   "cell_type": "code",
   "execution_count": null,
   "metadata": {},
   "outputs": [],
   "source": [
    "# Hyperparam tuning\n",
    "# Grid search round 6\n",
    "\n",
    "# param_grid = {\n",
    "#     'alpha': np.linspace(0.00001, 0.0001, num=10, endpoint=True),\n",
    "#     'kernel': ['poly'],  \n",
    "#     'degree': [3], \n",
    "#     'coef0': np.linspace(5, 20, num=10, endpoint=True), \n",
    "# }\n",
    "\n",
    "# poly_KRR = KernelRidge()\n",
    "\n",
    "# k_fold = KFold(n_splits=5, shuffle=True, random_state=42)\n",
    "# grid_search = GridSearchCV(poly_KRR, param_grid, scoring='neg_mean_squared_error', cv=k_fold)\n",
    "# grid_search.fit(X, y)\n",
    "\n",
    "# best_params = grid_search.best_params_\n",
    "# best_score = -grid_search.best_score_\n",
    "\n",
    "# # Print the best hyperparameters and score\n",
    "# print(\"Best Hyperparameters:\", best_params)\n",
    "# print(\"Best Mean Squared Error:\", best_score)"
   ]
  },
  {
   "attachments": {},
   "cell_type": "markdown",
   "metadata": {},
   "source": [
    "## Learning Curve ##"
   ]
  },
  {
   "cell_type": "code",
   "execution_count": 24,
   "metadata": {},
   "outputs": [],
   "source": [
    "def evaluate_performance(model, X, y, num_training_sample, num_trials):\n",
    "\n",
    "    \"\"\" \n",
    "    Given the number of training samples used, \n",
    "    calculate the average and standard deviation of MSE across a certain number of trials.\n",
    "    For each trial, a specified number of training examples is used to train the model, \n",
    "    which is then evaluated on the rest of the data set.\n",
    "\n",
    "    Args:\n",
    "        X (ndarray): training data; size (N, m) where N is the number of training examples and m is the number of features\n",
    "        y (ndarray): target data; size (N, 1)\n",
    "        num_training_sample (int): the number of samples used for training\n",
    "        num_trials: the number of trials \n",
    "    \n",
    "    Returns:\n",
    "        average_error: the average MSE across all trials\n",
    "        std_dev_error: standard deviation of the error across all trials\n",
    "    \"\"\"\n",
    "\n",
    "    errors = []\n",
    "    test_size = 1.0 - num_training_sample/X.shape[0]\n",
    "\n",
    "    for i in range(num_trials):\n",
    "        X_train, X_val, y_train, y_val = train_test_split(X, y, test_size=test_size, shuffle=True, random_state=i)\n",
    "        model.fit(X_train, y_train)\n",
    "        y_pred = model.predict(X_val)\n",
    "        error = np.sqrt(mean_squared_error(y_val, y_pred)) # Root mean squared error\n",
    "        errors.append(error)\n",
    "    \n",
    "    average_error = np.mean(errors)\n",
    "    std_dev_error = np.std(errors)\n",
    "    return average_error, std_dev_error"
   ]
  },
  {
   "cell_type": "code",
   "execution_count": 25,
   "metadata": {},
   "outputs": [
    {
     "name": "stdout",
     "output_type": "stream",
     "text": [
      "Training size: 1. Average RMSE: 53.95298972522943\n",
      "Training size: 2. Average RMSE: 37.699425463588575\n",
      "Training size: 3. Average RMSE: 10.894674506768222\n",
      "Training size: 4. Average RMSE: 5.927539426657742\n",
      "Training size: 5. Average RMSE: 3.2741701880733274\n",
      "Training size: 6. Average RMSE: 0.6220215906517907\n",
      "Training size: 7. Average RMSE: 0.6220215906517907\n",
      "Training size: 8. Average RMSE: 0.33134374426799723\n",
      "Training size: 9. Average RMSE: 0.1972089139593638\n",
      "Training size: 10. Average RMSE: 0.12203524441055583\n",
      "Training size: 11. Average RMSE: 0.07685340324050646\n",
      "Training size: 12. Average RMSE: 0.049536118016594306\n",
      "Training size: 13. Average RMSE: 0.05073943503761004\n",
      "Training size: 14. Average RMSE: 0.05073943503761004\n",
      "Training size: 15. Average RMSE: 0.028913205425347088\n",
      "Training size: 16. Average RMSE: 0.028913205425347088\n",
      "Training size: 17. Average RMSE: 0.021053772211740644\n",
      "Training size: 18. Average RMSE: 0.021053772211740644\n",
      "Training size: 19. Average RMSE: 0.019464197650977004\n",
      "Training size: 20. Average RMSE: 0.019464197650977004\n"
     ]
    }
   ],
   "source": [
    "best_params = {'alpha': 0.0001, 'coef0': 20.0, 'degree': 3, 'kernel': 'poly'}\n",
    "poly_KRR = KernelRidge(**best_params)\n",
    "\n",
    "columns = ['training size', 'average RMSE', 'standard deviation']\n",
    "model_performance = pd.DataFrame(columns=columns)\n",
    "\n",
    "training_size = [i for i in range(1, 21)]\n",
    "num_trials = 20\n",
    "\n",
    "for num_training_sample in training_size:\n",
    "    index = num_training_sample - 1\n",
    "    average_error, std_dev_error = evaluate_performance(poly_KRR, X, y, num_training_sample, num_trials)\n",
    "    model_performance.at[index, 'training size'] = num_training_sample\n",
    "    model_performance.at[index, 'average RMSE'] = average_error\n",
    "    model_performance.at[index, 'standard deviation'] = std_dev_error\n",
    "    print(f\"Training size: {num_training_sample}. Average RMSE: {average_error}\")"
   ]
  },
  {
   "cell_type": "code",
   "execution_count": 26,
   "metadata": {},
   "outputs": [
    {
     "data": {
      "image/png": "[encoded data removed]",
      "text/plain": [
       "<Figure size 1000x600 with 1 Axes>"
      ]
     },
     "metadata": {},
     "output_type": "display_data"
    }
   ],
   "source": [
    "# graphing\n",
    "\n",
    "graph_x = model_performance['training size']\n",
    "graph_y = model_performance['average RMSE']\n",
    "graph_error = model_performance['standard deviation']\n",
    "\n",
    "# Set figure size\n",
    "plt.figure(figsize=(10, 6))\n",
    "\n",
    "# Create line plot with error bars\n",
    "plt.errorbar(graph_x, graph_y, yerr=graph_error, marker='o', linestyle='-', capsize=4)\n",
    "\n",
    "# Set axis labels and title\n",
    "plt.xlabel('Training Size')\n",
    "plt.ylabel('Average RMSE')\n",
    "plt.title('Learning curve for diatomic molecule energy prediction using polynomial KNN')\n",
    "\n",
    "plt.xscale('log')\n",
    "plt.yscale('log')\n",
    "\n",
    "\n",
    "# Save the figure as a PNG image\n",
    "plt.savefig('learning_curve_20_points.png', dpi=300)\n",
    "plt.show()"
   ]
  },
  {
   "cell_type": "code",
   "execution_count": 27,
   "metadata": {},
   "outputs": [
    {
     "data": {
      "image/png": "[encoded data removed]",
      "text/plain": [
       "<Figure size 1000x600 with 1 Axes>"
      ]
     },
     "metadata": {},
     "output_type": "display_data"
    }
   ],
   "source": [
    "# a version without error bar\n",
    "\n",
    "plt.figure(figsize=(10, 6))\n",
    "\n",
    "plt.plot(graph_x, graph_y, marker='o', linestyle='-')\n",
    "\n",
    "plt.xlabel('Training Size')\n",
    "plt.ylabel('Average RMSE')\n",
    "plt.title('Learning curve for diatomic molecule energy prediction using polynomial KNN')\n",
    "\n",
    "plt.xscale('log')\n",
    "plt.yscale('log')\n",
    "\n",
    "\n",
    "# Save the figure as a PNG image\n",
    "plt.savefig('learning_curve_20_points_no_err_bar.png', dpi=300)\n",
    "plt.show()"
   ]
  },
  {
   "cell_type": "code",
   "execution_count": null,
   "metadata": {},
   "outputs": [],
   "source": [
    "# learning_data = pd.Series(error, index=training_size)\n",
    "\n",
    "# ax = learning_data.plot(kind='line')\n",
    "# ax.set_yscale('log')\n",
    "# # ax.set_xscale('log')\n",
    "\n",
    "# plt.xlabel('NUmber of training samples')\n",
    "# plt.ylabel('MSE [Ha]')\n",
    "# plt.title('Learning curve for diatomic molecule energy prediction using polynomial KNN')\n",
    "\n",
    "# plt.savefig('learning_curve_2.png')\n"
   ]
  },
  {
   "cell_type": "code",
   "execution_count": null,
   "metadata": {},
   "outputs": [],
   "source": [
    "# best_params = {'alpha': 0.0001, 'coef0': 20.0, 'degree': 3, 'kernel': 'poly'}\n",
    "# poly_KRR = KernelRidge(**best_params)\n",
    "\n",
    "# total_num_train = X.shape[0]\n",
    "# error = []\n",
    "# training_size = []\n",
    "# num_folds = [2, 3, 5, 21]\n",
    "\n",
    "# for n in num_folds:\n",
    "#     k_fold = KFold(n_splits=n, shuffle=True, random_state=42)\n",
    "#     mse_scores = cross_val_score(poly_KRR, X, y, scoring='neg_mean_squared_error', cv=k_fold)\n",
    "#     mse_scores = -mse_scores\n",
    "#     avg_mse = mse_scores.mean()\n",
    "    \n",
    "#     error.append(avg_mse)\n",
    "#     cur_training_size = int(np.round(total_num_train * (1 - 1/n)))\n",
    "#     training_size.append(cur_training_size)\n",
    "\n",
    "#     print(f\"Training size: {cur_training_size}. MSE = {avg_mse}\")"
   ]
  }
 ],
 "metadata": {
  "kernelspec": {
   "display_name": "Python 3",
   "language": "python",
   "name": "python3"
  },
  "language_info": {
   "codemirror_mode": {
    "name": "ipython",
    "version": 3
   },
   "file_extension": ".py",
   "mimetype": "text/x-python",
   "name": "python",
   "nbconvert_exporter": "python",
   "pygments_lexer": "ipython3",
   "version": "3.10.6"
  },
  "orig_nbformat": 4
 },
 "nbformat": 4,
 "nbformat_minor": 2
}
