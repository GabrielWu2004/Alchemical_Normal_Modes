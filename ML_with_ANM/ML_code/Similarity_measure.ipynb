{
 "cells": [
  {
   "cell_type": "code",
   "execution_count": 52,
   "metadata": {},
   "outputs": [],
   "source": [
    "from sklearn.linear_model import Ridge\n",
    "from sklearn.kernel_ridge import KernelRidge\n",
    "from sklearn.model_selection import cross_val_score, KFold, GridSearchCV, train_test_split\n",
    "from sklearn.metrics import mean_squared_error\n",
    "import warnings\n",
    "import numpy as np\n",
    "import pandas as pd\n",
    "from IPython.display import display\n",
    "import copy\n",
    "\n",
    "\n",
    "import sys\n",
    "sys.path.append('../Data')"
   ]
  },
  {
   "attachments": {},
   "cell_type": "markdown",
   "metadata": {},
   "source": [
    "## Load Dataset ##"
   ]
  },
  {
   "cell_type": "code",
   "execution_count": 2,
   "metadata": {},
   "outputs": [],
   "source": [
    "# Load Data\n",
    "\n",
    "X = pd.read_csv('../Data/[Benz] X.csv')\n",
    "X_lexi = pd.read_csv('../Data/[Benz] X_lexi.csv')\n",
    "X_lexi_nd = pd.read_csv('../Data/[Benz] X_lexi_nd.csv')\n",
    "X_sorted = pd.read_csv('../Data/[Benz] X_sorted.csv')\n",
    "X_concat = pd.read_csv('../Data/[Benz] X_concat.csv')\n",
    "X_coulomb = pd.read_csv('../Data/[Benz] X_coulomb.csv')\n",
    "\n",
    "y_energy = pd.read_csv(\"../Data/[Benz] y_energy.csv\")\n",
    "y_elec = pd.read_csv(\"../Data/[Benz] y_elec.csv\")\n",
    "y_delta_energy = pd.read_csv(\"../Data/[Benz] y_delta_energy.csv\")\n",
    "y_delta_elec = pd.read_csv(\"../Data/[Benz] y_delta_elec.csv\")"
   ]
  },
  {
   "cell_type": "code",
   "execution_count": 43,
   "metadata": {},
   "outputs": [
    {
     "name": "stdout",
     "output_type": "stream",
     "text": [
      "    delta total energy\n",
      "0             2.576317\n",
      "1             2.515439\n",
      "2             2.520922\n",
      "3             5.759256\n",
      "4             5.796641\n",
      "5             5.872848\n",
      "6             5.683093\n",
      "7             5.962955\n",
      "8             5.901222\n",
      "9             5.781881\n",
      "10            5.883617\n",
      "11            5.896423\n",
      "12            5.857989\n",
      "13            5.897367\n",
      "14            8.980319\n",
      "15            9.212556\n",
      "16            9.402806\n"
     ]
    }
   ],
   "source": [
    "print(y_delta_energy)"
   ]
  },
  {
   "attachments": {},
   "cell_type": "markdown",
   "metadata": {},
   "source": [
    "## Define Kernel ##"
   ]
  },
  {
   "cell_type": "code",
   "execution_count": 47,
   "metadata": {},
   "outputs": [],
   "source": [
    "def extended_gaussian_kernel(x, y, params):\n",
    "    \"\"\"\n",
    "    Calculates the similarity between two vectors using an extended gaussian kernel.\n",
    "    The kernel takes into account distance between vectors, norm difference, and angular difference\n",
    "\n",
    "    Args:\n",
    "        x (numpy.ndarray): Input vector x.\n",
    "        y (numpy.ndarray): Input vector y.\n",
    "        params (dict): Dictionary of hyperparameters:\n",
    "        - gamma (float): Hyperparameter for the distance term.\n",
    "        - epsilon (float): Hyperparameter for the norm difference term.\n",
    "        - beta (float): Hyperparameter for the angular difference term.\n",
    "\n",
    "    Returns:\n",
    "        float: Similarity value between the input vectors.\n",
    "\n",
    "    \"\"\"\n",
    "    gamma = params['gamma']\n",
    "    epsilon = params['epsilon']\n",
    "    beta = params['beta']\n",
    "\n",
    "    x_norm = np.linalg.norm(x)\n",
    "    y_norm = np.linalg.norm(y)\n",
    "    cos_theta = np.dot(x, y) / (x_norm * y_norm)\n",
    "    distance = np.linalg.norm(x - y)\n",
    "    \n",
    "    phi = np.exp(-gamma * (distance**2)/2 - epsilon * (x_norm - y_norm)**2 - beta * (1 - cos_theta**2))\n",
    "    return phi\n"
   ]
  },
  {
   "attachments": {},
   "cell_type": "markdown",
   "metadata": {},
   "source": [
    "## Build Model ##"
   ]
  },
  {
   "attachments": {},
   "cell_type": "markdown",
   "metadata": {},
   "source": [
    "### Extended Gaussian Kernel ###"
   ]
  },
  {
   "cell_type": "code",
   "execution_count": 45,
   "metadata": {},
   "outputs": [],
   "source": [
    "def create_similarity_matrix(X_ref, X_query, similarity_kernel, params):\n",
    "    \"\"\"\n",
    "    Create a similarity matrix using a specified similarity kernel.\n",
    "\n",
    "    Args:\n",
    "        X_ref (numpy.ndarray): Reference training examples.\n",
    "        X_quary (numpy.ndarray): Query input data to be compared with X_ref\n",
    "        similarity_kernel (function): Function to calculate similarity between two vectors.\n",
    "        params (dict): Dictionary of hyperparameters for the similarity kernel.\n",
    "\n",
    "    Returns:\n",
    "        numpy.ndarray: Similarity matrix.\n",
    "\n",
    "    \"\"\"\n",
    "    similarity_matrix = np.zeros((X_ref.shape[0], X_query.shape[0]))\n",
    "    for i in range(X_ref.shape[0]):\n",
    "        for j in range(X_query.shape[0]):\n",
    "            similarity_matrix[i, j] = similarity_kernel(X_ref[i], X_query[j], params)\n",
    "    return similarity_matrix"
   ]
  },
  {
   "cell_type": "code",
   "execution_count": 50,
   "metadata": {},
   "outputs": [
    {
     "name": "stdout",
     "output_type": "stream",
     "text": [
      "Fold 1: RMSE = 0.05034591040032604\n",
      "Fold 2: RMSE = 0.057066123436842815\n",
      "Fold 3: RMSE = 0.09413115436032296\n",
      "Fold 4: RMSE = 0.03467978678400804\n",
      "Fold 5: RMSE = 0.026288322577963315\n",
      "Average RMSE across all folds: 0.052502259511892635\n"
     ]
    }
   ],
   "source": [
    "# Convert data to numpy arrays\n",
    "X_train = X.to_numpy()\n",
    "y_train = y_delta_energy.to_numpy()\n",
    "\n",
    "# Define the hyperparameters for the specialized kernel\n",
    "params = {'gamma': 1e-6, 'epsilon': 0.005, 'beta': 0.005}\n",
    "\n",
    "similarity_matrix = create_similarity_matrix(X_train, X_train, extended_gaussian_kernel, params)\n",
    "\n",
    "# Create an instance of KernelRidge with your specialized kernel\n",
    "krr_model = KernelRidge(kernel='precomputed', alpha=1e-8)\n",
    "\n",
    "# Create a KFold object for 5-fold cross-validation\n",
    "kf = KFold(n_splits=5, shuffle=True, random_state=42)\n",
    "\n",
    "# Perform cross-validation and get the mean R^2 score\n",
    "mse_scores = cross_val_score(krr_model, similarity_matrix, y_train, scoring='neg_mean_squared_error', cv=kf)\n",
    "rmse_scores = np.sqrt(-mse_scores)\n",
    "\n",
    "# Calculate the average error across all folds\n",
    "avg_rmse = rmse_scores.mean()\n",
    "\n",
    "# Print the mean squared error for each fold\n",
    "for fold, rmse in enumerate(rmse_scores):\n",
    "    print(f\"Fold {fold+1}: RMSE = {rmse}\")\n",
    "\n",
    "# Print the average mean squared error\n",
    "print(f\"Average RMSE across all folds: {avg_rmse}\")\n"
   ]
  },
  {
   "attachments": {},
   "cell_type": "markdown",
   "metadata": {},
   "source": [
    "### Normal Gaussian Kernel ###"
   ]
  },
  {
   "cell_type": "code",
   "execution_count": 48,
   "metadata": {},
   "outputs": [
    {
     "name": "stdout",
     "output_type": "stream",
     "text": [
      "Polynomial KRR:\n",
      "Fold 1: RMSE = 3.4261441483305215\n",
      "Fold 2: RMSE = 2.9072305118664477\n",
      "Average MSE across all folds: 3.1666873300984846\n"
     ]
    }
   ],
   "source": [
    "X_train = X.to_numpy()\n",
    "y_train = y_delta_energy.to_numpy()\n",
    "\n",
    "params = {'alpha': 1.5306122448979593e-09, 'gamma': 2.2857142857142856e-06, 'kernel': 'rbf'}\n",
    "KRR_model = KernelRidge(**params)\n",
    "\n",
    "k_fold = KFold(n_splits=2, shuffle=True, random_state=42)\n",
    "mse_scores = cross_val_score(KRR_model, X_train, y_train, scoring='neg_mean_squared_error', cv=k_fold)\n",
    "rmse_scores = np.sqrt(-mse_scores)\n",
    "\n",
    "# Calculate the average error across all folds\n",
    "avg_rmse = rmse_scores.mean()\n",
    "\n",
    "# Print the mean squared error for each fold\n",
    "print(\"Polynomial KRR:\")\n",
    "for fold, rmse in enumerate(rmse_scores):\n",
    "    print(f\"Fold {fold+1}: RMSE = {rmse}\")\n",
    "\n",
    "# Print the average mean squared error\n",
    "print(f\"Average MSE across all folds: {avg_rmse}\")"
   ]
  },
  {
   "attachments": {},
   "cell_type": "markdown",
   "metadata": {},
   "source": [
    "## Tuning ##"
   ]
  },
  {
   "cell_type": "code",
   "execution_count": 32,
   "metadata": {},
   "outputs": [
    {
     "name": "stdout",
     "output_type": "stream",
     "text": [
      "{'gamma': 0.1, 'epsilon': 0.2, 'alpha': 0.1}\n",
      "{'gamma': 0.1, 'epsilon': 0.2, 'alpha': 0.5}\n",
      "{'gamma': 0.1, 'epsilon': 0.2, 'alpha': 1.0}\n",
      "{'gamma': 0.1, 'epsilon': 0.4, 'alpha': 0.1}\n",
      "{'gamma': 0.1, 'epsilon': 0.4, 'alpha': 0.5}\n",
      "{'gamma': 0.1, 'epsilon': 0.4, 'alpha': 1.0}\n",
      "{'gamma': 0.1, 'epsilon': 0.6, 'alpha': 0.1}\n",
      "{'gamma': 0.1, 'epsilon': 0.6, 'alpha': 0.5}\n",
      "{'gamma': 0.1, 'epsilon': 0.6, 'alpha': 1.0}\n",
      "{'gamma': 0.5, 'epsilon': 0.2, 'alpha': 0.1}\n",
      "{'gamma': 0.5, 'epsilon': 0.2, 'alpha': 0.5}\n",
      "{'gamma': 0.5, 'epsilon': 0.2, 'alpha': 1.0}\n",
      "{'gamma': 0.5, 'epsilon': 0.4, 'alpha': 0.1}\n",
      "{'gamma': 0.5, 'epsilon': 0.4, 'alpha': 0.5}\n",
      "{'gamma': 0.5, 'epsilon': 0.4, 'alpha': 1.0}\n",
      "{'gamma': 0.5, 'epsilon': 0.6, 'alpha': 0.1}\n",
      "{'gamma': 0.5, 'epsilon': 0.6, 'alpha': 0.5}\n",
      "{'gamma': 0.5, 'epsilon': 0.6, 'alpha': 1.0}\n",
      "{'gamma': 1.0, 'epsilon': 0.2, 'alpha': 0.1}\n",
      "{'gamma': 1.0, 'epsilon': 0.2, 'alpha': 0.5}\n",
      "{'gamma': 1.0, 'epsilon': 0.2, 'alpha': 1.0}\n",
      "{'gamma': 1.0, 'epsilon': 0.4, 'alpha': 0.1}\n",
      "{'gamma': 1.0, 'epsilon': 0.4, 'alpha': 0.5}\n",
      "{'gamma': 1.0, 'epsilon': 0.4, 'alpha': 1.0}\n",
      "{'gamma': 1.0, 'epsilon': 0.6, 'alpha': 0.1}\n",
      "{'gamma': 1.0, 'epsilon': 0.6, 'alpha': 0.5}\n",
      "{'gamma': 1.0, 'epsilon': 0.6, 'alpha': 1.0}\n"
     ]
    }
   ],
   "source": [
    "from itertools import product\n",
    "\n",
    "def generate_parameter_combinations(param_grid):\n",
    "    \"\"\" \n",
    "    Generate all possible parameter combinations:\n",
    "    - Iterate over combinations of parameter values using 'product(*values)'\n",
    "    - For each combination, zip the parameter names ('keys') with the values\n",
    "      and create a dictionary using 'dict(zip(keys, combination))'\n",
    "    - Collect all dictionaries in a list comprehension\n",
    "\n",
    "    Parameters:\n",
    "        param_grid (dict): Dictionary of parameters and their possible values.\n",
    "\n",
    "    Returns:\n",
    "        list: A list of dictionaries representing all possible parameter combinations.\n",
    "    \"\"\"\n",
    "\n",
    "    keys = param_grid.keys()     # type is dict_keys\n",
    "    values = param_grid.values() # type is dict_values\n",
    "    return [dict(zip(keys, combination)) for combination in product(*values)] \n",
    "\n",
    "# Example usage\n",
    "param_grid = {\n",
    "    'gamma': [0.1, 0.5, 1.0],\n",
    "    'epsilon': [0.2, 0.4, 0.6],\n",
    "    'alpha': [0.1, 0.5, 1.0]\n",
    "}\n",
    "\n",
    "parameter_combinations = generate_parameter_combinations(param_grid)\n",
    "for params in parameter_combinations:\n",
    "    print(params)"
   ]
  },
  {
   "cell_type": "code",
   "execution_count": null,
   "metadata": {},
   "outputs": [],
   "source": [
    "np.logspace(np.log10(1e-7), np.log10(1e-3), num=9)"
   ]
  },
  {
   "cell_type": "code",
   "execution_count": 54,
   "metadata": {},
   "outputs": [
    {
     "name": "stdout",
     "output_type": "stream",
     "text": [
      "Best params: {'gamma': 1e-06, 'epsilon': 0.005, 'beta': 0.001, 'alpha': 1e-09}\n",
      "Best score: 0.045494072588321555\n"
     ]
    }
   ],
   "source": [
    "# Convert the pandas DataFrame and Series to numpy arrays\n",
    "X_train = X.to_numpy()\n",
    "y_train = y_delta_energy.to_numpy()\n",
    "\n",
    "# Define the hyperparameter grid\n",
    "param_grid = {\n",
    "    'gamma': [1e-7, 5e-7, 1e-6, 5e-6, 1e-5, 5e-5, 1e-4],\n",
    "    'epsilon': [1e-3, 5e-3, 1e-2, 5e-2, 1e-1, 5e-1, 1], \n",
    "    'beta': [1e-3, 5e-3, 1e-2, 5e-2, 1e-1, 5e-1, 1], \n",
    "    'alpha': [1e-9, 5e-9, 1e-8, 5e-8, 1e-7, 5e-7, 1e-6] \n",
    "}\n",
    "\n",
    "#########################################################################################################\n",
    "\n",
    "parameter_combinations = generate_parameter_combinations(param_grid)\n",
    "best_mean_score = np.inf\n",
    "best_params = None\n",
    "\n",
    "# Iterate through every parameter combination\n",
    "for params in parameter_combinations:\n",
    "    \n",
    "    # Make a copy of the parameters\n",
    "    param_copy = copy.deepcopy(params)\n",
    "\n",
    "    alpha = params.pop('alpha') # the params passed into the kernel doesn't include regularzation\n",
    "    similarity_matrix = create_similarity_matrix(X_train, X_train, extended_gaussian_kernel, params)\n",
    "    krr_model = KernelRidge(kernel='precomputed', alpha=alpha)\n",
    "    \n",
    "    kf = KFold(n_splits=5, shuffle=True, random_state=42)\n",
    "    mse_scores = cross_val_score(krr_model, similarity_matrix, y_train, scoring='neg_mean_squared_error', cv=kf)\n",
    "    rmse_scores = np.sqrt(-mse_scores)\n",
    "    avg_rmse = rmse_scores.mean()\n",
    "\n",
    "    if avg_rmse < best_mean_score:\n",
    "        best_mean_score = avg_rmse\n",
    "        best_params = param_copy\n",
    "\n",
    "print(f\"Best params: {best_params}\")\n",
    "print(f\"Best score: {best_mean_score}\")\n"
   ]
  },
  {
   "cell_type": "code",
   "execution_count": 55,
   "metadata": {},
   "outputs": [
    {
     "name": "stdout",
     "output_type": "stream",
     "text": [
      "{'gamma': 5e-07, 'epsilon': 0.0013894954943731374, 'beta': 0.00017782794100389227, 'alpha': 1e-11}\n",
      "0.03948174530461561\n"
     ]
    }
   ],
   "source": [
    "# Define the hyperparameter grid\n",
    "param_grid = {\n",
    "    'gamma': np.logspace(np.log10(5e-7), np.log10(2e-6), num=8),\n",
    "    'epsilon': np.logspace(np.log10(1e-3), np.log10(1e-2), num=8), \n",
    "    'beta': np.logspace(np.log10(1e-5), np.log10(1e-3), num=9), \n",
    "    'alpha': np.logspace(np.log10(1e-11), np.log10(1e-9), num=9)\n",
    "}\n",
    "\n",
    "#########################################################################################################\n",
    "\n",
    "parameter_combinations = generate_parameter_combinations(param_grid)\n",
    "best_mean_score = np.inf\n",
    "best_param = None\n",
    "\n",
    "# Iterate through every parameter combination\n",
    "for params in parameter_combinations:\n",
    "    \n",
    "    # Make a copy of the parameters\n",
    "    param_copy = copy.deepcopy(params)\n",
    "\n",
    "    alpha = params.pop('alpha') # the params passed into the kernel doesn't include regularzation\n",
    "    similarity_matrix = create_similarity_matrix(X_train, X_train, extended_gaussian_kernel, params)\n",
    "    krr_model = KernelRidge(kernel='precomputed', alpha=alpha)\n",
    "    \n",
    "    kf = KFold(n_splits=5, shuffle=True, random_state=42)\n",
    "    mse_scores = cross_val_score(krr_model, similarity_matrix, y_train, scoring='neg_mean_squared_error', cv=kf)\n",
    "    rmse_scores = np.sqrt(-mse_scores)\n",
    "    avg_rmse = rmse_scores.mean()\n",
    "\n",
    "    if avg_rmse < best_mean_score:\n",
    "        best_mean_score = avg_rmse\n",
    "        best_param = param_copy\n",
    "\n",
    "print(best_param)\n",
    "print(best_mean_score)\n"
   ]
  },
  {
   "cell_type": "code",
   "execution_count": 56,
   "metadata": {},
   "outputs": [
    {
     "name": "stdout",
     "output_type": "stream",
     "text": [
      "{'gamma': 1e-07, 'epsilon': 0.0009653488644416247, 'beta': 4.9999999999999996e-05, 'alpha': 1e-13}\n",
      "0.03803322661897801\n"
     ]
    }
   ],
   "source": [
    "# Define the hyperparameter grid\n",
    "param_grid = {\n",
    "    'gamma': np.logspace(np.log10(1e-7), np.log10(1e-6), num=8),\n",
    "    'epsilon': np.logspace(np.log10(5e-4), np.log10(5e-3), num=8), \n",
    "    'beta': np.logspace(np.log10(5e-5), np.log10(5e-4), num=8),\n",
    "    'alpha': np.logspace(np.log10(1e-13), np.log10(1e-11), num=9)\n",
    "}\n",
    "\n",
    "#########################################################################################################\n",
    "\n",
    "parameter_combinations = generate_parameter_combinations(param_grid)\n",
    "best_mean_score = np.inf\n",
    "best_param = None\n",
    "\n",
    "# Iterate through every parameter combination\n",
    "for params in parameter_combinations:\n",
    "    \n",
    "    # Make a copy of the parameters\n",
    "    param_copy = copy.deepcopy(params)\n",
    "\n",
    "    alpha = params.pop('alpha') # the params passed into the kernel doesn't include regularzation\n",
    "    similarity_matrix = create_similarity_matrix(X_train, X_train, extended_gaussian_kernel, params)\n",
    "    krr_model = KernelRidge(kernel='precomputed', alpha=alpha)\n",
    "    \n",
    "    kf = KFold(n_splits=5, shuffle=True, random_state=42)\n",
    "    mse_scores = cross_val_score(krr_model, similarity_matrix, y_train, scoring='neg_mean_squared_error', cv=kf)\n",
    "    rmse_scores = np.sqrt(-mse_scores)\n",
    "    avg_rmse = rmse_scores.mean()\n",
    "\n",
    "    if avg_rmse < best_mean_score:\n",
    "        best_mean_score = avg_rmse\n",
    "        best_param = param_copy\n",
    "\n",
    "print(best_param)\n",
    "print(best_mean_score)"
   ]
  },
  {
   "cell_type": "code",
   "execution_count": 57,
   "metadata": {},
   "outputs": [
    {
     "name": "stdout",
     "output_type": "stream",
     "text": [
      "{'gamma': 1.9306977288832496e-08, 'epsilon': 0.0007000000000000001, 'beta': 1e-05, 'alpha': 1e-15}\n",
      "0.03745582905523383\n"
     ]
    }
   ],
   "source": [
    "# Define the hyperparameter grid\n",
    "param_grid = {\n",
    "    'gamma': np.logspace(np.log10(1e-8), np.log10(1e-7), num=8),\n",
    "    'epsilon': np.logspace(np.log10(7e-4), np.log10(3e-3), num=8), \n",
    "    'beta': np.logspace(np.log10(1e-5), np.log10(1e-4), num=8),\n",
    "    'alpha': np.logspace(np.log10(1e-15), np.log10(1e-13), num=9)\n",
    "}\n",
    "\n",
    "#########################################################################################################\n",
    "\n",
    "parameter_combinations = generate_parameter_combinations(param_grid)\n",
    "best_mean_score = np.inf\n",
    "best_param = None\n",
    "\n",
    "# Iterate through every parameter combination\n",
    "for params in parameter_combinations:\n",
    "    \n",
    "    # Make a copy of the parameters\n",
    "    param_copy = copy.deepcopy(params)\n",
    "\n",
    "    alpha = params.pop('alpha') # the params passed into the kernel doesn't include regularzation\n",
    "    similarity_matrix = create_similarity_matrix(X_train, X_train, extended_gaussian_kernel, params)\n",
    "    krr_model = KernelRidge(kernel='precomputed', alpha=alpha)\n",
    "    \n",
    "    kf = KFold(n_splits=5, shuffle=True, random_state=42)\n",
    "    mse_scores = cross_val_score(krr_model, similarity_matrix, y_train, scoring='neg_mean_squared_error', cv=kf)\n",
    "    rmse_scores = np.sqrt(-mse_scores)\n",
    "    avg_rmse = rmse_scores.mean()\n",
    "\n",
    "    if avg_rmse < best_mean_score:\n",
    "        best_mean_score = avg_rmse\n",
    "        best_param = param_copy\n",
    "\n",
    "print(best_param)\n",
    "print(best_mean_score)"
   ]
  },
  {
   "cell_type": "code",
   "execution_count": 58,
   "metadata": {},
   "outputs": [
    {
     "name": "stdout",
     "output_type": "stream",
     "text": [
      "{'gamma': 1e-08, 'epsilon': 0.0005520447568369063, 'beta': 5.179474679231212e-06, 'alpha': 1e-15}\n",
      "0.03732612247579326\n"
     ]
    }
   ],
   "source": [
    "# Define the hyperparameter grid\n",
    "param_grid = {\n",
    "    'gamma': np.logspace(np.log10(1e-8), np.log10(3e-8), num=8),\n",
    "    'epsilon': np.logspace(np.log10(5e-4), np.log10(1e-3), num=8), \n",
    "    'beta': np.logspace(np.log10(1e-6), np.log10(1e-5), num=8),\n",
    "    'alpha': np.logspace(np.log10(1e-15), np.log10(1e-13), num=9)\n",
    "}\n",
    "\n",
    "#########################################################################################################\n",
    "\n",
    "parameter_combinations = generate_parameter_combinations(param_grid)\n",
    "best_mean_score = np.inf\n",
    "best_param = None\n",
    "\n",
    "# Iterate through every parameter combination\n",
    "for params in parameter_combinations:\n",
    "    \n",
    "    # Make a copy of the parameters\n",
    "    param_copy = copy.deepcopy(params)\n",
    "\n",
    "    alpha = params.pop('alpha') # the params passed into the kernel doesn't include regularzation\n",
    "    similarity_matrix = create_similarity_matrix(X_train, X_train, extended_gaussian_kernel, params)\n",
    "    krr_model = KernelRidge(kernel='precomputed', alpha=alpha)\n",
    "    \n",
    "    kf = KFold(n_splits=5, shuffle=True, random_state=42)\n",
    "    mse_scores = cross_val_score(krr_model, similarity_matrix, y_train, scoring='neg_mean_squared_error', cv=kf)\n",
    "    rmse_scores = np.sqrt(-mse_scores)\n",
    "    avg_rmse = rmse_scores.mean()\n",
    "\n",
    "    if avg_rmse < best_mean_score:\n",
    "        best_mean_score = avg_rmse\n",
    "        best_param = param_copy\n",
    "\n",
    "print(best_param)\n",
    "print(best_mean_score)"
   ]
  },
  {
   "cell_type": "code",
   "execution_count": 59,
   "metadata": {},
   "outputs": [
    {
     "name": "stdout",
     "output_type": "stream",
     "text": [
      "{'gamma': 4.999999999999999e-09, 'epsilon': 0.0005285714285714286, 'beta': 3e-06, 'alpha': 1e-15}\n",
      "0.03724886643349343\n"
     ]
    }
   ],
   "source": [
    "# Define the hyperparameter grid\n",
    "param_grid = {\n",
    "    'gamma': np.logspace(np.log10(5e-9), np.log10(3e-8), num=8),\n",
    "    'epsilon': np.linspace(3e-4, 7e-4, num=8), \n",
    "    'beta': np.linspace(3e-6, 7e-6, num=8),\n",
    "    'alpha': np.logspace(np.log10(1e-15), np.log10(1e-13), num=9)\n",
    "}\n",
    "\n",
    "#########################################################################################################\n",
    "\n",
    "parameter_combinations = generate_parameter_combinations(param_grid)\n",
    "best_mean_score = np.inf\n",
    "best_param = None\n",
    "\n",
    "# Iterate through every parameter combination\n",
    "for params in parameter_combinations:\n",
    "    \n",
    "    # Make a copy of the parameters\n",
    "    param_copy = copy.deepcopy(params)\n",
    "\n",
    "    alpha = params.pop('alpha') # the params passed into the kernel doesn't include regularzation\n",
    "    similarity_matrix = create_similarity_matrix(X_train, X_train, extended_gaussian_kernel, params)\n",
    "    krr_model = KernelRidge(kernel='precomputed', alpha=alpha)\n",
    "    \n",
    "    kf = KFold(n_splits=5, shuffle=True, random_state=42)\n",
    "    mse_scores = cross_val_score(krr_model, similarity_matrix, y_train, scoring='neg_mean_squared_error', cv=kf)\n",
    "    rmse_scores = np.sqrt(-mse_scores)\n",
    "    avg_rmse = rmse_scores.mean()\n",
    "\n",
    "    if avg_rmse < best_mean_score:\n",
    "        best_mean_score = avg_rmse\n",
    "        best_param = param_copy\n",
    "\n",
    "print(best_param)\n",
    "print(best_mean_score)"
   ]
  },
  {
   "cell_type": "code",
   "execution_count": 61,
   "metadata": {},
   "outputs": [
    {
     "name": "stdout",
     "output_type": "stream",
     "text": [
      "{'gamma': 9.164903554162186e-10, 'epsilon': 0.0004210526315789474, 'beta': 5e-07, 'alpha': 1e-15}\n",
      "0.037144847328403036\n"
     ]
    }
   ],
   "source": [
    "# Define the hyperparameter grid\n",
    "param_grid = {\n",
    "    'gamma': np.logspace(np.log10(5e-10), np.log10(5e-9), num=20),\n",
    "    'epsilon': np.linspace(4e-4, 6e-4, num=20), \n",
    "    'beta': np.logspace(np.log10(5e-7), np.log10(5e-6), num=20),\n",
    "    'alpha': [1e-15]\n",
    "}\n",
    "\n",
    "#########################################################################################################\n",
    "\n",
    "parameter_combinations = generate_parameter_combinations(param_grid)\n",
    "best_mean_score = np.inf\n",
    "best_param = None\n",
    "\n",
    "# Iterate through every parameter combination\n",
    "for params in parameter_combinations:\n",
    "    \n",
    "    # Make a copy of the parameters\n",
    "    param_copy = copy.deepcopy(params)\n",
    "\n",
    "    alpha = params.pop('alpha') # the params passed into the kernel doesn't include regularzation\n",
    "    similarity_matrix = create_similarity_matrix(X_train, X_train, extended_gaussian_kernel, params)\n",
    "    krr_model = KernelRidge(kernel='precomputed', alpha=alpha)\n",
    "    \n",
    "    kf = KFold(n_splits=5, shuffle=True, random_state=42)\n",
    "    mse_scores = cross_val_score(krr_model, similarity_matrix, y_train, scoring='neg_mean_squared_error', cv=kf)\n",
    "    rmse_scores = np.sqrt(-mse_scores)\n",
    "    avg_rmse = rmse_scores.mean()\n",
    "\n",
    "    if avg_rmse < best_mean_score:\n",
    "        best_mean_score = avg_rmse\n",
    "        best_param = param_copy\n",
    "\n",
    "print(best_param)\n",
    "print(best_mean_score)"
   ]
  },
  {
   "cell_type": "code",
   "execution_count": 62,
   "metadata": {},
   "outputs": [
    {
     "name": "stdout",
     "output_type": "stream",
     "text": [
      "{'gamma': 7.000000000000002e-10, 'epsilon': 0.0004222222222222222, 'beta': 3.923799851757303e-07, 'alpha': 1e-15}\n",
      "0.03713331563664969\n"
     ]
    }
   ],
   "source": [
    "# Define the hyperparameter grid\n",
    "param_grid = {\n",
    "    'gamma': np.logspace(np.log10(7e-10), np.log10(3e-9), num=20),\n",
    "    'epsilon': np.linspace(4e-4, 6e-4, num=10), \n",
    "    'beta': np.logspace(np.log10(5e-8), np.log10(5e-7), num=20),\n",
    "    'alpha': [1e-15]\n",
    "}\n",
    "\n",
    "#########################################################################################################\n",
    "\n",
    "parameter_combinations = generate_parameter_combinations(param_grid)\n",
    "best_mean_score = np.inf\n",
    "best_param = None\n",
    "\n",
    "# Iterate through every parameter combination\n",
    "for params in parameter_combinations:\n",
    "    \n",
    "    # Make a copy of the parameters\n",
    "    param_copy = copy.deepcopy(params)\n",
    "\n",
    "    alpha = params.pop('alpha') # the params passed into the kernel doesn't include regularzation\n",
    "    similarity_matrix = create_similarity_matrix(X_train, X_train, extended_gaussian_kernel, params)\n",
    "    krr_model = KernelRidge(kernel='precomputed', alpha=alpha)\n",
    "    \n",
    "    kf = KFold(n_splits=5, shuffle=True, random_state=42)\n",
    "    mse_scores = cross_val_score(krr_model, similarity_matrix, y_train, scoring='neg_mean_squared_error', cv=kf)\n",
    "    rmse_scores = np.sqrt(-mse_scores)\n",
    "    avg_rmse = rmse_scores.mean()\n",
    "\n",
    "    if avg_rmse < best_mean_score:\n",
    "        best_mean_score = avg_rmse\n",
    "        best_param = param_copy\n",
    "\n",
    "print(best_param)\n",
    "print(best_mean_score)"
   ]
  },
  {
   "cell_type": "code",
   "execution_count": 63,
   "metadata": {},
   "outputs": [
    {
     "name": "stdout",
     "output_type": "stream",
     "text": [
      "{'gamma': 4.0000000000000007e-10, 'epsilon': 0.0004, 'beta': 2.333333333333333e-07, 'alpha': 1e-15}\n",
      "0.03712437931741687\n"
     ]
    }
   ],
   "source": [
    "# Define the hyperparameter grid\n",
    "param_grid = {\n",
    "    'gamma': np.linspace(1e-10, 1e-9, num=10),\n",
    "    'epsilon': np.linspace(4e-4, 6e-4, num=10), \n",
    "    'beta': np.linspace(1e-7, 5e-7, num=10),\n",
    "    'alpha': [1e-15]\n",
    "}\n",
    "\n",
    "#########################################################################################################\n",
    "\n",
    "parameter_combinations = generate_parameter_combinations(param_grid)\n",
    "best_mean_score = np.inf\n",
    "best_param = None\n",
    "\n",
    "# Iterate through every parameter combination\n",
    "for params in parameter_combinations:\n",
    "    \n",
    "    # Make a copy of the parameters\n",
    "    param_copy = copy.deepcopy(params)\n",
    "\n",
    "    alpha = params.pop('alpha') # the params passed into the kernel doesn't include regularzation\n",
    "    similarity_matrix = create_similarity_matrix(X_train, X_train, extended_gaussian_kernel, params)\n",
    "    krr_model = KernelRidge(kernel='precomputed', alpha=alpha)\n",
    "    \n",
    "    kf = KFold(n_splits=5, shuffle=True, random_state=42)\n",
    "    mse_scores = cross_val_score(krr_model, similarity_matrix, y_train, scoring='neg_mean_squared_error', cv=kf)\n",
    "    rmse_scores = np.sqrt(-mse_scores)\n",
    "    avg_rmse = rmse_scores.mean()\n",
    "\n",
    "    if avg_rmse < best_mean_score:\n",
    "        best_mean_score = avg_rmse\n",
    "        best_param = param_copy\n",
    "\n",
    "print(best_param)\n",
    "print(best_mean_score)"
   ]
  },
  {
   "attachments": {},
   "cell_type": "markdown",
   "metadata": {},
   "source": [
    "## Evaluation ##"
   ]
  }
 ],
 "metadata": {
  "kernelspec": {
   "display_name": "Python 3",
   "language": "python",
   "name": "python3"
  },
  "language_info": {
   "codemirror_mode": {
    "name": "ipython",
    "version": 3
   },
   "file_extension": ".py",
   "mimetype": "text/x-python",
   "name": "python",
   "nbconvert_exporter": "python",
   "pygments_lexer": "ipython3",
   "version": "3.10.6"
  },
  "orig_nbformat": 4
 },
 "nbformat": 4,
 "nbformat_minor": 2
}
