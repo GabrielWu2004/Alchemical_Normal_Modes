{
 "cells": [
  {
   "cell_type": "code",
   "execution_count": 1,
   "metadata": {},
   "outputs": [],
   "source": [
    "from sklearn.linear_model import Ridge\n",
    "from sklearn.kernel_ridge import KernelRidge\n",
    "from sklearn.model_selection import cross_val_score, KFold, GridSearchCV, train_test_split\n",
    "from sklearn.metrics import mean_squared_error\n",
    "import warnings\n",
    "import numpy as np\n",
    "import pandas as pd\n",
    "from IPython.display import display\n",
    "\n",
    "import sys\n",
    "sys.path.append('../Data')"
   ]
  },
  {
   "attachments": {},
   "cell_type": "markdown",
   "metadata": {},
   "source": [
    "## Load Data ##"
   ]
  },
  {
   "cell_type": "code",
   "execution_count": 2,
   "metadata": {},
   "outputs": [],
   "source": [
    "# Load Data\n",
    "\n",
    "X_lexi = pd.read_csv('../Data/[Benz] X_lexi.csv')\n",
    "X_lexi_nd = pd.read_csv('../Data/[Benz] X_lexi_nd.csv')\n",
    "X_sorted = pd.read_csv('../Data/[Benz] X_sorted.csv')\n",
    "X_concat = pd.read_csv('../Data/[Benz] X_concat.csv')\n",
    "X_coulomb = pd.read_csv('../Data/[Benz] X_coulomb.csv')\n",
    "\n",
    "y_energy = pd.read_csv(\"../Data/[Benz] y_energy.csv\")\n",
    "y_elec = pd.read_csv(\"../Data/[Benz] y_elec.csv\")\n",
    "y_delta_elec = pd.read_csv(\"../Data/[Benz] y_delta_elec.csv\")\n",
    "y_delta_energy = pd.read_csv(\"../Data/[Benz] y_delta_energy.csv\")"
   ]
  },
  {
   "attachments": {},
   "cell_type": "markdown",
   "metadata": {},
   "source": [
    "## Polynomial Kernel ##"
   ]
  },
  {
   "attachments": {},
   "cell_type": "markdown",
   "metadata": {},
   "source": [
    "### Poly_lexi_delta_tot ###"
   ]
  },
  {
   "cell_type": "code",
   "execution_count": null,
   "metadata": {},
   "outputs": [],
   "source": [
    "# Small alpha, small coef0\n",
    "\n",
    "param_grid = {\n",
    "    'alpha': np.logspace(np.log10(1e-7), np.log10(1e-3), num=40),\n",
    "    'kernel': ['poly'],  \n",
    "    'degree': [2, 3, 4], \n",
    "    'coef0': np.logspace(np.log10(1e-5), np.log10(1e-1), num=40), \n",
    "}\n",
    "\n",
    "poly_KRR = KernelRidge()\n",
    "\n",
    "k_fold = KFold(n_splits=5, shuffle=True, random_state=10)\n",
    "\n",
    "with warnings.catch_warnings():\n",
    "    warnings.filterwarnings(\"ignore\")\n",
    "    grid_search = GridSearchCV(poly_KRR, param_grid, scoring='neg_mean_squared_error', cv=k_fold)\n",
    "    grid_search.fit(X_lexi, y_delta_energy)\n",
    "\n",
    "best_params = grid_search.best_params_\n",
    "best_score = np.sqrt(-grid_search.best_score_)\n",
    "\n",
    "print(\"Best Hyperparameters:\", best_params)\n",
    "print(\"Best RMSE:\", best_score)"
   ]
  },
  {
   "cell_type": "code",
   "execution_count": null,
   "metadata": {},
   "outputs": [],
   "source": [
    "# Small alpha, large coef0\n",
    "\n",
    "param_grid = {\n",
    "    'alpha': np.logspace(np.log10(1e-7), np.log10(1e-3), num=40),\n",
    "    'kernel': ['poly'],  \n",
    "    'degree': [2, 3, 4], \n",
    "    'coef0': np.logspace(np.log10(1e-1), np.log10(1e3), num=40), \n",
    "}\n",
    "\n",
    "poly_KRR = KernelRidge()\n",
    "\n",
    "k_fold = KFold(n_splits=5, shuffle=True, random_state=10)\n",
    "\n",
    "with warnings.catch_warnings():\n",
    "    warnings.filterwarnings(\"ignore\")\n",
    "    grid_search = GridSearchCV(poly_KRR, param_grid, scoring='neg_mean_squared_error', cv=k_fold)\n",
    "    grid_search.fit(X_lexi, y_delta_energy)\n",
    "\n",
    "best_params = grid_search.best_params_\n",
    "best_score = np.sqrt(-grid_search.best_score_)\n",
    "\n",
    "print(\"Best Hyperparameters:\", best_params)\n",
    "print(\"Best RMSE:\", best_score)"
   ]
  },
  {
   "cell_type": "code",
   "execution_count": null,
   "metadata": {},
   "outputs": [],
   "source": [
    "# large alpha, small coef0\n",
    "\n",
    "param_grid = {\n",
    "    'alpha': np.logspace(np.log10(1e-3), np.log10(1e1), num=40),\n",
    "    'kernel': ['poly'],  \n",
    "    'degree': [2, 3, 4], \n",
    "    'coef0': np.logspace(np.log10(1e-5), np.log10(1e-1), num=40), \n",
    "}\n",
    "\n",
    "poly_KRR = KernelRidge()\n",
    "\n",
    "k_fold = KFold(n_splits=5, shuffle=True, random_state=10)\n",
    "\n",
    "with warnings.catch_warnings():\n",
    "    warnings.filterwarnings(\"ignore\")\n",
    "    grid_search = GridSearchCV(poly_KRR, param_grid, scoring='neg_mean_squared_error', cv=k_fold)\n",
    "    grid_search.fit(X_lexi, y_delta_energy)\n",
    "\n",
    "best_params = grid_search.best_params_\n",
    "best_score = np.sqrt(-grid_search.best_score_)\n",
    "\n",
    "print(\"Best Hyperparameters:\", best_params)\n",
    "print(\"Best RMSE:\", best_score)"
   ]
  },
  {
   "cell_type": "code",
   "execution_count": null,
   "metadata": {},
   "outputs": [],
   "source": [
    "# large alpha, large coef0\n",
    "\n",
    "param_grid = {\n",
    "    'alpha': np.logspace(np.log10(1e-3), np.log10(1e1), num=40),\n",
    "    'kernel': ['poly'],  \n",
    "    'degree': [2, 3, 4], \n",
    "    'coef0': np.logspace(np.log10(1e-1), np.log10(1e3), num=40), \n",
    "}\n",
    "\n",
    "poly_KRR = KernelRidge()\n",
    "\n",
    "k_fold = KFold(n_splits=5, shuffle=True, random_state=10)\n",
    "\n",
    "with warnings.catch_warnings():\n",
    "    warnings.filterwarnings(\"ignore\")\n",
    "    grid_search = GridSearchCV(poly_KRR, param_grid, scoring='neg_mean_squared_error', cv=k_fold)\n",
    "    grid_search.fit(X_lexi, y_delta_energy)\n",
    "\n",
    "best_params = grid_search.best_params_\n",
    "best_score = np.sqrt(-grid_search.best_score_)\n",
    "\n",
    "print(\"Best Hyperparameters:\", best_params)\n",
    "print(\"Best RMSE:\", best_score)"
   ]
  },
  {
   "cell_type": "code",
   "execution_count": null,
   "metadata": {},
   "outputs": [],
   "source": [
    "param_grid = {\n",
    "    'alpha': np.linspace(1e-8, 1e-6, num=40),\n",
    "    'kernel': ['poly'],  \n",
    "    'degree': [2], \n",
    "    'coef0': np.linspace(1e-6, 1e-4, num=40), \n",
    "}\n",
    "\n",
    "poly_KRR = KernelRidge()\n",
    "\n",
    "k_fold = KFold(n_splits=5, shuffle=True, random_state=10)\n",
    "\n",
    "with warnings.catch_warnings():\n",
    "    warnings.filterwarnings(\"ignore\")\n",
    "    grid_search = GridSearchCV(poly_KRR, param_grid, scoring='neg_mean_squared_error', cv=k_fold)\n",
    "    grid_search.fit(X_lexi, y_delta_energy)\n",
    "\n",
    "best_params = grid_search.best_params_\n",
    "best_score = np.sqrt(-grid_search.best_score_)\n",
    "\n",
    "print(\"Best Hyperparameters:\", best_params)\n",
    "print(\"Best RMSE:\", best_score)"
   ]
  },
  {
   "cell_type": "code",
   "execution_count": null,
   "metadata": {},
   "outputs": [],
   "source": [
    "param_grid = {\n",
    "    'alpha': np.linspace(1e-10, 1e-8, num=40),\n",
    "    'kernel': ['poly'],  \n",
    "    'degree': [2], \n",
    "    'coef0': np.linspace(1e-8, 1e-6, num=40), \n",
    "}\n",
    "\n",
    "poly_KRR = KernelRidge()\n",
    "\n",
    "k_fold = KFold(n_splits=5, shuffle=True, random_state=10)\n",
    "\n",
    "with warnings.catch_warnings():\n",
    "    warnings.filterwarnings(\"ignore\")\n",
    "    grid_search = GridSearchCV(poly_KRR, param_grid, scoring='neg_mean_squared_error', cv=k_fold)\n",
    "    grid_search.fit(X_lexi, y_delta_energy)\n",
    "\n",
    "best_params = grid_search.best_params_\n",
    "best_score = np.sqrt(-grid_search.best_score_)\n",
    "\n",
    "print(\"Best Hyperparameters:\", best_params)\n",
    "print(\"Best RMSE:\", best_score)"
   ]
  },
  {
   "cell_type": "code",
   "execution_count": null,
   "metadata": {},
   "outputs": [],
   "source": [
    "param_grid = {\n",
    "    'alpha': np.linspace(1e-10, 1e-8, num=40),\n",
    "    'kernel': ['poly'],  \n",
    "    'degree': [2], \n",
    "    'coef0': np.linspace(1e-6, 1e-4, num=40), \n",
    "}\n",
    "\n",
    "poly_KRR = KernelRidge()\n",
    "\n",
    "k_fold = KFold(n_splits=5, shuffle=True, random_state=10)\n",
    "\n",
    "with warnings.catch_warnings():\n",
    "    warnings.filterwarnings(\"ignore\")\n",
    "    grid_search = GridSearchCV(poly_KRR, param_grid, scoring='neg_mean_squared_error', cv=k_fold)\n",
    "    grid_search.fit(X_lexi, y_delta_energy)\n",
    "\n",
    "best_params = grid_search.best_params_\n",
    "best_score = np.sqrt(-grid_search.best_score_)\n",
    "\n",
    "print(\"Best Hyperparameters:\", best_params)\n",
    "print(\"Best RMSE:\", best_score)"
   ]
  },
  {
   "cell_type": "code",
   "execution_count": null,
   "metadata": {},
   "outputs": [],
   "source": [
    "param_grid = {\n",
    "    'alpha': np.linspace(1e-8, 1e-6, num=40),\n",
    "    'kernel': ['poly'],  \n",
    "    'degree': [2], \n",
    "    'coef0': np.linspace(1e-8, 1e-6, num=40), \n",
    "}\n",
    "\n",
    "poly_KRR = KernelRidge()\n",
    "\n",
    "k_fold = KFold(n_splits=5, shuffle=True, random_state=10)\n",
    "\n",
    "with warnings.catch_warnings():\n",
    "    warnings.filterwarnings(\"ignore\")\n",
    "    grid_search = GridSearchCV(poly_KRR, param_grid, scoring='neg_mean_squared_error', cv=k_fold)\n",
    "    grid_search.fit(X_lexi, y_delta_energy)\n",
    "\n",
    "best_params = grid_search.best_params_\n",
    "best_score = np.sqrt(-grid_search.best_score_)\n",
    "\n",
    "print(\"Best Hyperparameters:\", best_params)\n",
    "print(\"Best RMSE:\", best_score)"
   ]
  },
  {
   "cell_type": "code",
   "execution_count": null,
   "metadata": {},
   "outputs": [],
   "source": [
    "param_grid = {\n",
    "    'alpha': np.linspace(1e-12, 1e-10, num=40),\n",
    "    'kernel': ['poly'],  \n",
    "    'degree': [2], \n",
    "    'coef0': np.linspace(1e-8, 1e-4, num=80), \n",
    "}\n",
    "\n",
    "poly_KRR = KernelRidge()\n",
    "\n",
    "k_fold = KFold(n_splits=5, shuffle=True, random_state=10)\n",
    "\n",
    "with warnings.catch_warnings():\n",
    "    warnings.filterwarnings(\"ignore\")\n",
    "    grid_search = GridSearchCV(poly_KRR, param_grid, scoring='neg_mean_squared_error', cv=k_fold)\n",
    "    grid_search.fit(X_lexi, y_delta_energy)\n",
    "\n",
    "best_params = grid_search.best_params_\n",
    "best_score = np.sqrt(-grid_search.best_score_)\n",
    "\n",
    "print(\"Best Hyperparameters:\", best_params)\n",
    "print(\"Best RMSE:\", best_score)"
   ]
  },
  {
   "cell_type": "code",
   "execution_count": null,
   "metadata": {},
   "outputs": [],
   "source": [
    "param_grid = {\n",
    "    'alpha': np.linspace(1e-14, 1e-12, num=80),\n",
    "    'kernel': ['poly'],  \n",
    "    'degree': [2], \n",
    "    'coef0': np.linspace(1e-8, 1e-2, num=120), \n",
    "}\n",
    "\n",
    "poly_KRR = KernelRidge()\n",
    "\n",
    "k_fold = KFold(n_splits=5, shuffle=True, random_state=10)\n",
    "\n",
    "with warnings.catch_warnings():\n",
    "    warnings.filterwarnings(\"ignore\")\n",
    "    grid_search = GridSearchCV(poly_KRR, param_grid, scoring='neg_mean_squared_error', cv=k_fold)\n",
    "    grid_search.fit(X_lexi, y_delta_energy)\n",
    "\n",
    "best_params = grid_search.best_params_\n",
    "best_score = np.sqrt(-grid_search.best_score_)\n",
    "\n",
    "print(\"Best Hyperparameters:\", best_params)\n",
    "print(\"Best RMSE:\", best_score)"
   ]
  },
  {
   "cell_type": "code",
   "execution_count": null,
   "metadata": {},
   "outputs": [],
   "source": [
    "param_grid = {\n",
    "    'alpha': np.linspace(1e-13, 1e-12, num=50),\n",
    "    'kernel': ['poly'],  \n",
    "    'degree': [2], \n",
    "    'coef0': np.linspace(0.001, 0.01, num=50), \n",
    "}\n",
    "\n",
    "poly_KRR = KernelRidge()\n",
    "\n",
    "k_fold = KFold(n_splits=5, shuffle=True, random_state=10)\n",
    "\n",
    "with warnings.catch_warnings():\n",
    "    warnings.filterwarnings(\"ignore\")\n",
    "    grid_search = GridSearchCV(poly_KRR, param_grid, scoring='neg_mean_squared_error', cv=k_fold)\n",
    "    grid_search.fit(X_lexi, y_delta_energy)\n",
    "\n",
    "best_params = grid_search.best_params_\n",
    "best_score = np.sqrt(-grid_search.best_score_)\n",
    "\n",
    "print(\"Best Hyperparameters:\", best_params)\n",
    "print(\"Best RMSE:\", best_score)"
   ]
  },
  {
   "cell_type": "code",
   "execution_count": null,
   "metadata": {},
   "outputs": [],
   "source": [
    "param_grid = {\n",
    "    'alpha': np.linspace(2e-13, 5e-13, num=50),\n",
    "    'kernel': ['poly'],  \n",
    "    'degree': [2], \n",
    "    'coef0': np.linspace(0.001, 0.01, num=100), \n",
    "}\n",
    "\n",
    "poly_KRR = KernelRidge()\n",
    "\n",
    "k_fold = KFold(n_splits=5, shuffle=True, random_state=10)\n",
    "\n",
    "with warnings.catch_warnings():\n",
    "    warnings.filterwarnings(\"ignore\")\n",
    "    grid_search = GridSearchCV(poly_KRR, param_grid, scoring='neg_mean_squared_error', cv=k_fold)\n",
    "    grid_search.fit(X_lexi, y_delta_energy)\n",
    "\n",
    "best_params = grid_search.best_params_\n",
    "best_score = np.sqrt(-grid_search.best_score_)\n",
    "\n",
    "print(\"Best Hyperparameters:\", best_params)\n",
    "print(\"Best RMSE:\", best_score)"
   ]
  },
  {
   "cell_type": "code",
   "execution_count": null,
   "metadata": {},
   "outputs": [],
   "source": [
    "param_grid = {\n",
    "    'alpha': np.linspace(3e-13, 4e-13, num=50),\n",
    "    'kernel': ['poly'],  \n",
    "    'degree': [2], \n",
    "    'coef0': np.linspace(0.002, 0.003, num=50), \n",
    "}\n",
    "\n",
    "poly_KRR = KernelRidge()\n",
    "\n",
    "k_fold = KFold(n_splits=5, shuffle=True, random_state=10)\n",
    "\n",
    "with warnings.catch_warnings():\n",
    "    warnings.filterwarnings(\"ignore\")\n",
    "    grid_search = GridSearchCV(poly_KRR, param_grid, scoring='neg_mean_squared_error', cv=k_fold)\n",
    "    grid_search.fit(X_lexi, y_delta_energy)\n",
    "\n",
    "best_params = grid_search.best_params_\n",
    "best_score = np.sqrt(-grid_search.best_score_)\n",
    "\n",
    "print(\"Best Hyperparameters:\", best_params)\n",
    "print(\"Best RMSE:\", best_score)"
   ]
  },
  {
   "attachments": {},
   "cell_type": "markdown",
   "metadata": {},
   "source": [
    "### Poly_lexi_nd_delta_tot ###"
   ]
  },
  {
   "cell_type": "code",
   "execution_count": null,
   "metadata": {},
   "outputs": [],
   "source": [
    "param_grid = {\n",
    "    'alpha': np.logspace(np.log10(1e-7), np.log10(1e-3), num=50),\n",
    "    'kernel': ['poly'],  \n",
    "    'degree': [2, 3, 4], \n",
    "    'coef0': np.logspace(np.log10(1e-5), np.log10(1e-1), num=50), \n",
    "}\n",
    "\n",
    "poly_KRR = KernelRidge()\n",
    "\n",
    "k_fold = KFold(n_splits=5, shuffle=True, random_state=10)\n",
    "\n",
    "with warnings.catch_warnings():\n",
    "    warnings.filterwarnings(\"ignore\")\n",
    "    grid_search = GridSearchCV(poly_KRR, param_grid, scoring='neg_mean_squared_error', cv=k_fold)\n",
    "    grid_search.fit(X_lexi_nd, y_delta_energy)\n",
    "\n",
    "best_params = grid_search.best_params_\n",
    "best_score = np.sqrt(-grid_search.best_score_)\n",
    "\n",
    "print(\"Best Hyperparameters:\", best_params)\n",
    "print(\"Best RMSE:\", best_score)"
   ]
  },
  {
   "cell_type": "code",
   "execution_count": null,
   "metadata": {},
   "outputs": [],
   "source": [
    "param_grid = {\n",
    "    'alpha': np.linspace(1e-9, 1e-7, num=51, endpoint=True),\n",
    "    'kernel': ['poly'],  \n",
    "    'degree': [2], \n",
    "    'coef0': np.linspace(1e-7, 1e-5, num=51, endpoint=True), \n",
    "}\n",
    "\n",
    "poly_KRR = KernelRidge()\n",
    "\n",
    "k_fold = KFold(n_splits=5, shuffle=True, random_state=10)\n",
    "\n",
    "with warnings.catch_warnings():\n",
    "    warnings.filterwarnings(\"ignore\")\n",
    "    grid_search = GridSearchCV(poly_KRR, param_grid, scoring='neg_mean_squared_error', cv=k_fold)\n",
    "    grid_search.fit(X_lexi_nd, y_delta_energy)\n",
    "\n",
    "best_params = grid_search.best_params_\n",
    "best_score = np.sqrt(-grid_search.best_score_)\n",
    "\n",
    "print(\"Best Hyperparameters:\", best_params)\n",
    "print(\"Best RMSE:\", best_score)"
   ]
  },
  {
   "cell_type": "code",
   "execution_count": null,
   "metadata": {},
   "outputs": [],
   "source": [
    "param_grid = {\n",
    "    'alpha': np.linspace(1e-11, 1e-9, num=51, endpoint=True),\n",
    "    'kernel': ['poly'],  \n",
    "    'degree': [2], \n",
    "    'coef0': np.linspace(1e-6, 2e-6, num=51, endpoint=True), \n",
    "}\n",
    "\n",
    "poly_KRR = KernelRidge()\n",
    "\n",
    "k_fold = KFold(n_splits=5, shuffle=True, random_state=10)\n",
    "\n",
    "with warnings.catch_warnings():\n",
    "    warnings.filterwarnings(\"ignore\")\n",
    "    grid_search = GridSearchCV(poly_KRR, param_grid, scoring='neg_mean_squared_error', cv=k_fold)\n",
    "    grid_search.fit(X_lexi_nd, y_delta_energy)\n",
    "\n",
    "best_params = grid_search.best_params_\n",
    "best_score = np.sqrt(-grid_search.best_score_)\n",
    "\n",
    "print(\"Best Hyperparameters:\", best_params)\n",
    "print(\"Best RMSE:\", best_score)"
   ]
  },
  {
   "cell_type": "code",
   "execution_count": null,
   "metadata": {},
   "outputs": [],
   "source": [
    "param_grid = {\n",
    "    'alpha': np.linspace(1e-13, 1e-11, num=51, endpoint=True),\n",
    "    'kernel': ['poly'],  \n",
    "    'degree': [2], \n",
    "    'coef0': np.linspace(1e-7, 1e-5, num=51, endpoint=True), \n",
    "}\n",
    "\n",
    "poly_KRR = KernelRidge()\n",
    "\n",
    "k_fold = KFold(n_splits=5, shuffle=True, random_state=10)\n",
    "\n",
    "with warnings.catch_warnings():\n",
    "    warnings.filterwarnings(\"ignore\")\n",
    "    grid_search = GridSearchCV(poly_KRR, param_grid, scoring='neg_mean_squared_error', cv=k_fold)\n",
    "    grid_search.fit(X_lexi_nd, y_delta_energy)\n",
    "\n",
    "best_params = grid_search.best_params_\n",
    "best_score = np.sqrt(-grid_search.best_score_)\n",
    "\n",
    "print(\"Best Hyperparameters:\", best_params)\n",
    "print(\"Best RMSE:\", best_score)"
   ]
  },
  {
   "cell_type": "code",
   "execution_count": null,
   "metadata": {},
   "outputs": [],
   "source": [
    "param_grid = {\n",
    "    'alpha': np.linspace(1e-15, 1e-13, num=51, endpoint=True),\n",
    "    'kernel': ['poly'],  \n",
    "    'degree': [2], \n",
    "    'coef0': np.linspace(1e-7, 1e-5, num=51, endpoint=True), \n",
    "}\n",
    "\n",
    "poly_KRR = KernelRidge()\n",
    "\n",
    "k_fold = KFold(n_splits=5, shuffle=True, random_state=10)\n",
    "\n",
    "with warnings.catch_warnings():\n",
    "    warnings.filterwarnings(\"ignore\")\n",
    "    grid_search = GridSearchCV(poly_KRR, param_grid, scoring='neg_mean_squared_error', cv=k_fold)\n",
    "    grid_search.fit(X_lexi_nd, y_delta_energy)\n",
    "\n",
    "best_params = grid_search.best_params_\n",
    "best_score = np.sqrt(-grid_search.best_score_)\n",
    "\n",
    "print(\"Best Hyperparameters:\", best_params)\n",
    "print(\"Best RMSE:\", best_score)"
   ]
  },
  {
   "cell_type": "code",
   "execution_count": null,
   "metadata": {},
   "outputs": [],
   "source": [
    "param_grid = {\n",
    "    'alpha': np.linspace(1e-17, 1e-15, num=51, endpoint=True),\n",
    "    'kernel': ['poly'],  \n",
    "    'degree': [2], \n",
    "    'coef0': np.linspace(1e-6, 1e-5, num=51, endpoint=True), \n",
    "}\n",
    "\n",
    "poly_KRR = KernelRidge()\n",
    "\n",
    "k_fold = KFold(n_splits=5, shuffle=True, random_state=10)\n",
    "\n",
    "with warnings.catch_warnings():\n",
    "    warnings.filterwarnings(\"ignore\")\n",
    "    grid_search = GridSearchCV(poly_KRR, param_grid, scoring='neg_mean_squared_error', cv=k_fold)\n",
    "    grid_search.fit(X_lexi_nd, y_delta_energy)\n",
    "\n",
    "best_params = grid_search.best_params_\n",
    "best_score = np.sqrt(-grid_search.best_score_)\n",
    "\n",
    "print(\"Best Hyperparameters:\", best_params)\n",
    "print(\"Best RMSE:\", best_score)"
   ]
  },
  {
   "attachments": {},
   "cell_type": "markdown",
   "metadata": {},
   "source": [
    "### Poly_sorted_delta_tot ###"
   ]
  },
  {
   "cell_type": "code",
   "execution_count": null,
   "metadata": {},
   "outputs": [],
   "source": [
    "param_grid = {\n",
    "    'alpha': np.linspace(1e-8, 1e-6, num=40),\n",
    "    'kernel': ['poly'],  \n",
    "    'degree': [2], \n",
    "    'coef0': np.linspace(1e-6, 1e-4, num=40), \n",
    "}\n",
    "\n",
    "poly_KRR = KernelRidge()\n",
    "\n",
    "k_fold = KFold(n_splits=5, shuffle=True, random_state=10)\n",
    "\n",
    "with warnings.catch_warnings():\n",
    "    warnings.filterwarnings(\"ignore\")\n",
    "    grid_search = GridSearchCV(poly_KRR, param_grid, scoring='neg_mean_squared_error', cv=k_fold)\n",
    "    grid_search.fit(X_sorted, y_delta_energy)\n",
    "\n",
    "best_params = grid_search.best_params_\n",
    "best_score = np.sqrt(-grid_search.best_score_)\n",
    "\n",
    "print(\"Best Hyperparameters:\", best_params)\n",
    "print(\"Best RMSE:\", best_score)"
   ]
  },
  {
   "cell_type": "code",
   "execution_count": null,
   "metadata": {},
   "outputs": [],
   "source": [
    "param_grid = {\n",
    "    'alpha': np.linspace(1e-10, 1e-8, num=40),\n",
    "    'kernel': ['poly'],  \n",
    "    'degree': [2], \n",
    "    'coef0': np.linspace(1e-6, 1e-4, num=40), \n",
    "}\n",
    "\n",
    "poly_KRR = KernelRidge()\n",
    "\n",
    "k_fold = KFold(n_splits=5, shuffle=True, random_state=10)\n",
    "\n",
    "with warnings.catch_warnings():\n",
    "    warnings.filterwarnings(\"ignore\")\n",
    "    grid_search = GridSearchCV(poly_KRR, param_grid, scoring='neg_mean_squared_error', cv=k_fold)\n",
    "    grid_search.fit(X_sorted, y_delta_energy)\n",
    "\n",
    "best_params = grid_search.best_params_\n",
    "best_score = np.sqrt(-grid_search.best_score_)\n",
    "\n",
    "print(\"Best Hyperparameters:\", best_params)\n",
    "print(\"Best RMSE:\", best_score)"
   ]
  },
  {
   "cell_type": "code",
   "execution_count": null,
   "metadata": {},
   "outputs": [],
   "source": [
    "param_grid = {\n",
    "    'alpha': np.linspace(1e-12, 1e-10, num=40),\n",
    "    'kernel': ['poly'],  \n",
    "    'degree': [2], \n",
    "    'coef0': np.linspace(1e-6, 1e-4, num=40), \n",
    "}\n",
    "\n",
    "poly_KRR = KernelRidge()\n",
    "\n",
    "k_fold = KFold(n_splits=5, shuffle=True, random_state=10)\n",
    "\n",
    "with warnings.catch_warnings():\n",
    "    warnings.filterwarnings(\"ignore\")\n",
    "    grid_search = GridSearchCV(poly_KRR, param_grid, scoring='neg_mean_squared_error', cv=k_fold)\n",
    "    grid_search.fit(X_sorted, y_delta_energy)\n",
    "\n",
    "best_params = grid_search.best_params_\n",
    "best_score = np.sqrt(-grid_search.best_score_)\n",
    "\n",
    "print(\"Best Hyperparameters:\", best_params)\n",
    "print(\"Best RMSE:\", best_score)"
   ]
  },
  {
   "cell_type": "code",
   "execution_count": null,
   "metadata": {},
   "outputs": [],
   "source": [
    "param_grid = {\n",
    "    'alpha': np.linspace(1e-14, 1e-12, num=40),\n",
    "    'kernel': ['poly'],  \n",
    "    'degree': [2], \n",
    "    'coef0': np.linspace(1e-6, 1e-4, num=40), \n",
    "}\n",
    "\n",
    "poly_KRR = KernelRidge()\n",
    "\n",
    "k_fold = KFold(n_splits=5, shuffle=True, random_state=10)\n",
    "\n",
    "with warnings.catch_warnings():\n",
    "    warnings.filterwarnings(\"ignore\")\n",
    "    grid_search = GridSearchCV(poly_KRR, param_grid, scoring='neg_mean_squared_error', cv=k_fold)\n",
    "    grid_search.fit(X_sorted, y_delta_energy)\n",
    "\n",
    "best_params = grid_search.best_params_\n",
    "best_score = np.sqrt(-grid_search.best_score_)\n",
    "\n",
    "print(\"Best Hyperparameters:\", best_params)\n",
    "print(\"Best RMSE:\", best_score)"
   ]
  },
  {
   "cell_type": "code",
   "execution_count": null,
   "metadata": {},
   "outputs": [],
   "source": [
    "param_grid = {\n",
    "    'alpha': np.linspace(6e-13, 9e-13, num=40),\n",
    "    'kernel': ['poly'],  \n",
    "    'degree': [2], \n",
    "    'coef0': np.linspace(3e-5, 5e-5, num=40), \n",
    "}\n",
    "\n",
    "poly_KRR = KernelRidge()\n",
    "\n",
    "k_fold = KFold(n_splits=5, shuffle=True, random_state=10)\n",
    "\n",
    "with warnings.catch_warnings():\n",
    "    warnings.filterwarnings(\"ignore\")\n",
    "    grid_search = GridSearchCV(poly_KRR, param_grid, scoring='neg_mean_squared_error', cv=k_fold)\n",
    "    grid_search.fit(X_sorted, y_delta_energy)\n",
    "\n",
    "best_params = grid_search.best_params_\n",
    "best_score = np.sqrt(-grid_search.best_score_)\n",
    "\n",
    "print(\"Best Hyperparameters:\", best_params)\n",
    "print(\"Best RMSE:\", best_score)"
   ]
  },
  {
   "attachments": {},
   "cell_type": "markdown",
   "metadata": {},
   "source": [
    "### Poly_coulomb_delta_tot ###"
   ]
  },
  {
   "cell_type": "code",
   "execution_count": 9,
   "metadata": {},
   "outputs": [
    {
     "name": "stdout",
     "output_type": "stream",
     "text": [
      "Best Hyperparameters: {'alpha': 0.001, 'coef0': 0.002811768697974228, 'degree': 2, 'kernel': 'poly'}\n",
      "Best RMSE: 2.84221919442246\n"
     ]
    }
   ],
   "source": [
    "param_grid = {\n",
    "    'alpha': np.logspace(np.log10(1e-7), np.log10(1e-3), num=50),\n",
    "    'kernel': ['poly'],  \n",
    "    'degree': [2], \n",
    "    'coef0': np.logspace(np.log10(1e-5), np.log10(1e-1), num=50), \n",
    "}\n",
    "\n",
    "poly_KRR = KernelRidge()\n",
    "\n",
    "k_fold = KFold(n_splits=5, shuffle=True, random_state=10)\n",
    "\n",
    "with warnings.catch_warnings():\n",
    "    warnings.filterwarnings(\"ignore\")\n",
    "    grid_search = GridSearchCV(poly_KRR, param_grid, scoring='neg_mean_squared_error', cv=k_fold)\n",
    "    grid_search.fit(X_coulomb, y_delta_energy)\n",
    "\n",
    "best_params = grid_search.best_params_\n",
    "best_score = np.sqrt(-grid_search.best_score_)\n",
    "\n",
    "print(\"Best Hyperparameters:\", best_params)\n",
    "print(\"Best RMSE:\", best_score)"
   ]
  },
  {
   "cell_type": "code",
   "execution_count": 11,
   "metadata": {},
   "outputs": [
    {
     "name": "stdout",
     "output_type": "stream",
     "text": [
      "Best Hyperparameters: {'alpha': 0.1, 'coef0': 0.01, 'degree': 2, 'kernel': 'poly'}\n",
      "Best RMSE: 1.619107598810548\n"
     ]
    }
   ],
   "source": [
    "param_grid = {\n",
    "    'alpha': np.linspace(0.001, 0.1, num=50),\n",
    "    'kernel': ['poly'],  \n",
    "    'degree': [2], \n",
    "    'coef0': np.linspace(0.001, 0.01, num=50), \n",
    "}\n",
    "\n",
    "poly_KRR = KernelRidge()\n",
    "\n",
    "k_fold = KFold(n_splits=5, shuffle=True, random_state=10)\n",
    "\n",
    "with warnings.catch_warnings():\n",
    "    warnings.filterwarnings(\"ignore\")\n",
    "    grid_search = GridSearchCV(poly_KRR, param_grid, scoring='neg_mean_squared_error', cv=k_fold)\n",
    "    grid_search.fit(X_coulomb, y_delta_energy)\n",
    "\n",
    "best_params = grid_search.best_params_\n",
    "best_score = np.sqrt(-grid_search.best_score_)\n",
    "\n",
    "print(\"Best Hyperparameters:\", best_params)\n",
    "print(\"Best RMSE:\", best_score)"
   ]
  },
  {
   "cell_type": "code",
   "execution_count": 12,
   "metadata": {},
   "outputs": [
    {
     "name": "stdout",
     "output_type": "stream",
     "text": [
      "Best Hyperparameters: {'alpha': 0.11836734693877551, 'coef0': 0.1, 'degree': 2, 'kernel': 'poly'}\n",
      "Best RMSE: 1.6123157382172415\n"
     ]
    }
   ],
   "source": [
    "param_grid = {\n",
    "    'alpha': np.linspace(0.1, 1, num=50),\n",
    "    'kernel': ['poly'],  \n",
    "    'degree': [2], \n",
    "    'coef0': np.linspace(0.01, 0.1, num=50), \n",
    "}\n",
    "\n",
    "poly_KRR = KernelRidge()\n",
    "\n",
    "k_fold = KFold(n_splits=5, shuffle=True, random_state=10)\n",
    "\n",
    "with warnings.catch_warnings():\n",
    "    warnings.filterwarnings(\"ignore\")\n",
    "    grid_search = GridSearchCV(poly_KRR, param_grid, scoring='neg_mean_squared_error', cv=k_fold)\n",
    "    grid_search.fit(X_coulomb, y_delta_energy)\n",
    "\n",
    "best_params = grid_search.best_params_\n",
    "best_score = np.sqrt(-grid_search.best_score_)\n",
    "\n",
    "print(\"Best Hyperparameters:\", best_params)\n",
    "print(\"Best RMSE:\", best_score)"
   ]
  },
  {
   "cell_type": "code",
   "execution_count": 13,
   "metadata": {},
   "outputs": [
    {
     "name": "stdout",
     "output_type": "stream",
     "text": [
      "Best Hyperparameters: {'alpha': 0.14489795918367349, 'coef0': 1.0, 'degree': 2, 'kernel': 'poly'}\n",
      "Best RMSE: 1.5984905965248137\n"
     ]
    }
   ],
   "source": [
    "param_grid = {\n",
    "    'alpha': np.linspace(0.1, 0.2, num=50),\n",
    "    'kernel': ['poly'],  \n",
    "    'degree': [2], \n",
    "    'coef0': np.linspace(0.1, 1, num=50), \n",
    "}\n",
    "\n",
    "poly_KRR = KernelRidge()\n",
    "\n",
    "k_fold = KFold(n_splits=5, shuffle=True, random_state=10)\n",
    "\n",
    "with warnings.catch_warnings():\n",
    "    warnings.filterwarnings(\"ignore\")\n",
    "    grid_search = GridSearchCV(poly_KRR, param_grid, scoring='neg_mean_squared_error', cv=k_fold)\n",
    "    grid_search.fit(X_coulomb, y_delta_energy)\n",
    "\n",
    "best_params = grid_search.best_params_\n",
    "best_score = np.sqrt(-grid_search.best_score_)\n",
    "\n",
    "print(\"Best Hyperparameters:\", best_params)\n",
    "print(\"Best RMSE:\", best_score)"
   ]
  },
  {
   "cell_type": "code",
   "execution_count": 14,
   "metadata": {},
   "outputs": [
    {
     "name": "stdout",
     "output_type": "stream",
     "text": [
      "Best Hyperparameters: {'alpha': 0.1489795918367347, 'coef0': 1.183673469387755, 'degree': 2, 'kernel': 'poly'}\n",
      "Best RMSE: 1.5982699182575266\n"
     ]
    }
   ],
   "source": [
    "param_grid = {\n",
    "    'alpha': np.linspace(0.1, 0.2, num=50),\n",
    "    'kernel': ['poly'],  \n",
    "    'degree': [2], \n",
    "    'coef0': np.linspace(1, 10, num=50), \n",
    "}\n",
    "\n",
    "poly_KRR = KernelRidge()\n",
    "\n",
    "k_fold = KFold(n_splits=5, shuffle=True, random_state=10)\n",
    "\n",
    "with warnings.catch_warnings():\n",
    "    warnings.filterwarnings(\"ignore\")\n",
    "    grid_search = GridSearchCV(poly_KRR, param_grid, scoring='neg_mean_squared_error', cv=k_fold)\n",
    "    grid_search.fit(X_coulomb, y_delta_energy)\n",
    "\n",
    "best_params = grid_search.best_params_\n",
    "best_score = np.sqrt(-grid_search.best_score_)\n",
    "\n",
    "print(\"Best Hyperparameters:\", best_params)\n",
    "print(\"Best RMSE:\", best_score)"
   ]
  },
  {
   "attachments": {},
   "cell_type": "markdown",
   "metadata": {},
   "source": [
    "## Gaussian Kernel ##"
   ]
  },
  {
   "attachments": {},
   "cell_type": "markdown",
   "metadata": {},
   "source": [
    "### Gaussian_lexi_delta_tot"
   ]
  },
  {
   "cell_type": "code",
   "execution_count": null,
   "metadata": {},
   "outputs": [],
   "source": [
    "param_grid = {\n",
    "    'alpha': np.linspace(1e-15, 1e-13, num=50),  # Regularization parameter controlling the L2 regularization term\n",
    "    'gamma': np.linspace(1e-7, 1e-5, num=50),  # Parameter for the Gaussian kernel, controlling the width of the kernel\n",
    "    'kernel': ['rbf'],  # Specifies the kernel function to be used, in this case, the Gaussian (RBF) kernel\n",
    "}\n",
    "\n",
    "gaussian_KRR = KernelRidge()\n",
    "\n",
    "k_fold = KFold(n_splits=5, shuffle=True, random_state=42)\n",
    "\n",
    "with warnings.catch_warnings():\n",
    "    warnings.filterwarnings(\"ignore\")\n",
    "    grid_search = GridSearchCV(gaussian_KRR, param_grid, scoring='neg_mean_squared_error', cv=k_fold)\n",
    "    grid_search.fit(X_lexi, y_delta_energy)\n",
    "\n",
    "best_params = grid_search.best_params_\n",
    "best_score = np.sqrt(-grid_search.best_score_)\n",
    "\n",
    "# Print the best hyperparameters and score\n",
    "print(\"Best Hyperparameters:\", best_params)\n",
    "print(\"Best Root Mean Squared Error:\", best_score)"
   ]
  },
  {
   "cell_type": "code",
   "execution_count": null,
   "metadata": {},
   "outputs": [],
   "source": [
    "param_grid = {\n",
    "    'alpha': np.linspace(1e-17, 1e-15, num=50),  # Regularization parameter controlling the L2 regularization term\n",
    "    'gamma': np.linspace(2e-7, 4e-7, num=50),  # Parameter for the Gaussian kernel, controlling the width of the kernel\n",
    "    'kernel': ['rbf'],  # Specifies the kernel function to be used, in this case, the Gaussian (RBF) kernel\n",
    "}\n",
    "\n",
    "gaussian_KRR = KernelRidge()\n",
    "\n",
    "k_fold = KFold(n_splits=5, shuffle=True, random_state=42)\n",
    "\n",
    "with warnings.catch_warnings():\n",
    "    warnings.filterwarnings(\"ignore\")\n",
    "    grid_search = GridSearchCV(gaussian_KRR, param_grid, scoring='neg_mean_squared_error', cv=k_fold)\n",
    "    grid_search.fit(X_lexi, y_delta_energy)\n",
    "\n",
    "best_params = grid_search.best_params_\n",
    "best_score = np.sqrt(-grid_search.best_score_)\n",
    "\n",
    "# Print the best hyperparameters and score\n",
    "print(\"Best Hyperparameters:\", best_params)\n",
    "print(\"Best Root Mean Squared Error:\", best_score)"
   ]
  },
  {
   "attachments": {},
   "cell_type": "markdown",
   "metadata": {},
   "source": [
    "### Gaussian_lexi_nd_delta_tot ###"
   ]
  },
  {
   "cell_type": "code",
   "execution_count": 15,
   "metadata": {},
   "outputs": [
    {
     "name": "stdout",
     "output_type": "stream",
     "text": [
      "Best Hyperparameters: {'alpha': 3.556480306223129e-08, 'gamma': 1.6768329368110065e-06, 'kernel': 'rbf'}\n",
      "Best Root Mean Squared Error: 0.037437385101272584\n"
     ]
    }
   ],
   "source": [
    "# Small alpha, small gamma\n",
    "\n",
    "param_grid = {\n",
    "    'alpha': np.logspace(np.log10(1e-9), np.log10(1e-5), num=50),  # Regularization parameter controlling the L2 regularization term\n",
    "    'gamma': np.logspace(np.log10(1e-7), np.log10(1e-3), num=50),  # Parameter for the Gaussian kernel, controlling the width of the kernel\n",
    "    'kernel': ['rbf'],  # Specifies the kernel function to be used, in this case, the Gaussian (RBF) kernel\n",
    "}\n",
    "\n",
    "gaussian_KRR = KernelRidge()\n",
    "\n",
    "k_fold = KFold(n_splits=5, shuffle=True, random_state=42)\n",
    "\n",
    "with warnings.catch_warnings():\n",
    "    warnings.filterwarnings(\"ignore\")\n",
    "    grid_search = GridSearchCV(gaussian_KRR, param_grid, scoring='neg_mean_squared_error', cv=k_fold)\n",
    "    grid_search.fit(X_lexi_nd, y_delta_energy)\n",
    "\n",
    "best_params = grid_search.best_params_\n",
    "best_score = np.sqrt(-grid_search.best_score_)\n",
    "\n",
    "# Print the best hyperparameters and score\n",
    "print(\"Best Hyperparameters:\", best_params)\n",
    "print(\"Best Root Mean Squared Error:\", best_score)"
   ]
  },
  {
   "cell_type": "code",
   "execution_count": 16,
   "metadata": {},
   "outputs": [
    {
     "name": "stdout",
     "output_type": "stream",
     "text": [
      "Best Hyperparameters: {'alpha': 3.664000000000001e-08, 'gamma': 1.6839999999999999e-06, 'kernel': 'rbf'}\n",
      "Best Root Mean Squared Error: 0.03743709725344218\n"
     ]
    }
   ],
   "source": [
    "param_grid = {\n",
    "    'alpha': np.linspace(1e-9, 1e-7, num=51, endpoint=True),  # Regularization parameter controlling the L2 regularization term\n",
    "    'gamma': np.linspace(1e-7, 1e-5, num=51, endpoint=True),  # Parameter for the Gaussian kernel, controlling the width of the kernel\n",
    "    'kernel': ['rbf'],  # Specifies the kernel function to be used, in this case, the Gaussian (RBF) kernel\n",
    "}\n",
    "\n",
    "gaussian_KRR = KernelRidge()\n",
    "\n",
    "k_fold = KFold(n_splits=5, shuffle=True, random_state=42)\n",
    "\n",
    "with warnings.catch_warnings():\n",
    "    warnings.filterwarnings(\"ignore\")\n",
    "    grid_search = GridSearchCV(gaussian_KRR, param_grid, scoring='neg_mean_squared_error', cv=k_fold)\n",
    "    grid_search.fit(X_lexi_nd, y_delta_energy)\n",
    "\n",
    "best_params = grid_search.best_params_\n",
    "best_score = np.sqrt(-grid_search.best_score_)\n",
    "\n",
    "# Print the best hyperparameters and score\n",
    "print(\"Best Hyperparameters:\", best_params)\n",
    "print(\"Best Root Mean Squared Error:\", best_score)"
   ]
  },
  {
   "cell_type": "code",
   "execution_count": 17,
   "metadata": {},
   "outputs": [
    {
     "name": "stdout",
     "output_type": "stream",
     "text": [
      "Best Hyperparameters: {'alpha': 3.755102040816326e-08, 'gamma': 1.7346938775510206e-06, 'kernel': 'rbf'}\n",
      "Best Root Mean Squared Error: 0.03743287836529461\n"
     ]
    }
   ],
   "source": [
    "param_grid = {\n",
    "    'alpha': np.linspace(1e-8, 1e-7, num=50),  # Regularization parameter controlling the L2 regularization term\n",
    "    'gamma': np.linspace(1e-6, 5e-6, num=50),  # Parameter for the Gaussian kernel, controlling the width of the kernel\n",
    "    'kernel': ['rbf'],  # Specifies the kernel function to be used, in this case, the Gaussian (RBF) kernel\n",
    "}\n",
    "\n",
    "gaussian_KRR = KernelRidge()\n",
    "\n",
    "k_fold = KFold(n_splits=5, shuffle=True, random_state=42)\n",
    "\n",
    "with warnings.catch_warnings():\n",
    "    warnings.filterwarnings(\"ignore\")\n",
    "    grid_search = GridSearchCV(gaussian_KRR, param_grid, scoring='neg_mean_squared_error', cv=k_fold)\n",
    "    grid_search.fit(X_lexi_nd, y_delta_energy)\n",
    "\n",
    "best_params = grid_search.best_params_\n",
    "best_score = np.sqrt(-grid_search.best_score_)\n",
    "\n",
    "# Print the best hyperparameters and score\n",
    "print(\"Best Hyperparameters:\", best_params)\n",
    "print(\"Best Root Mean Squared Error:\", best_score)"
   ]
  },
  {
   "attachments": {},
   "cell_type": "markdown",
   "metadata": {},
   "source": [
    "### Gaussian_sorted_delta_tot ###"
   ]
  },
  {
   "cell_type": "code",
   "execution_count": null,
   "metadata": {},
   "outputs": [],
   "source": [
    "# Small alpha, small gamma\n",
    "\n",
    "param_grid = {\n",
    "    'alpha': np.logspace(np.log10(1e-9), np.log10(1e-5), num=50),  # Regularization parameter controlling the L2 regularization term\n",
    "    'gamma': np.logspace(np.log10(1e-7), np.log10(1e-3), num=50),  # Parameter for the Gaussian kernel, controlling the width of the kernel\n",
    "    'kernel': ['rbf'],  # Specifies the kernel function to be used, in this case, the Gaussian (RBF) kernel\n",
    "}\n",
    "\n",
    "gaussian_KRR = KernelRidge()\n",
    "\n",
    "k_fold = KFold(n_splits=5, shuffle=True, random_state=42)\n",
    "\n",
    "with warnings.catch_warnings():\n",
    "    warnings.filterwarnings(\"ignore\")\n",
    "    grid_search = GridSearchCV(gaussian_KRR, param_grid, scoring='neg_mean_squared_error', cv=k_fold)\n",
    "    grid_search.fit(X_sorted, y_delta_energy)\n",
    "\n",
    "best_params = grid_search.best_params_\n",
    "best_score = np.sqrt(-grid_search.best_score_)\n",
    "\n",
    "# Print the best hyperparameters and score\n",
    "print(\"Best Hyperparameters:\", best_params)\n",
    "print(\"Best Root Mean Squared Error:\", best_score)"
   ]
  },
  {
   "cell_type": "code",
   "execution_count": null,
   "metadata": {},
   "outputs": [],
   "source": [
    "param_grid = {\n",
    "    'alpha': np.linspace(1e-5, 1e-3, num=50),  # Regularization parameter controlling the L2 regularization term\n",
    "    'gamma': np.linspace(1e-6, 1e-4, num=50),  # Parameter for the Gaussian kernel, controlling the width of the kernel\n",
    "    'kernel': ['rbf'],  # Specifies the kernel function to be used, in this case, the Gaussian (RBF) kernel\n",
    "}\n",
    "\n",
    "gaussian_KRR = KernelRidge()\n",
    "\n",
    "k_fold = KFold(n_splits=5, shuffle=True, random_state=42)\n",
    "\n",
    "with warnings.catch_warnings():\n",
    "    warnings.filterwarnings(\"ignore\")\n",
    "    grid_search = GridSearchCV(gaussian_KRR, param_grid, scoring='neg_mean_squared_error', cv=k_fold)\n",
    "    grid_search.fit(X_sorted, y_delta_energy)\n",
    "\n",
    "best_params = grid_search.best_params_\n",
    "best_score = np.sqrt(-grid_search.best_score_)\n",
    "\n",
    "# Print the best hyperparameters and score\n",
    "print(\"Best Hyperparameters:\", best_params)\n",
    "print(\"Best Root Mean Squared Error:\", best_score)"
   ]
  },
  {
   "cell_type": "code",
   "execution_count": null,
   "metadata": {},
   "outputs": [],
   "source": [
    "param_grid = {\n",
    "    'alpha': np.linspace(4e-5, 6e-5, num=50),  # Regularization parameter controlling the L2 regularization term\n",
    "    'gamma': np.linspace(7e-5, 1e-4, num=50),  # Parameter for the Gaussian kernel, controlling the width of the kernel\n",
    "    'kernel': ['rbf'],  # Specifies the kernel function to be used, in this case, the Gaussian (RBF) kernel\n",
    "}\n",
    "\n",
    "gaussian_KRR = KernelRidge()\n",
    "\n",
    "k_fold = KFold(n_splits=5, shuffle=True, random_state=42)\n",
    "\n",
    "with warnings.catch_warnings():\n",
    "    warnings.filterwarnings(\"ignore\")\n",
    "    grid_search = GridSearchCV(gaussian_KRR, param_grid, scoring='neg_mean_squared_error', cv=k_fold)\n",
    "    grid_search.fit(X_sorted, y_delta_energy)\n",
    "\n",
    "best_params = grid_search.best_params_\n",
    "best_score = np.sqrt(-grid_search.best_score_)\n",
    "\n",
    "# Print the best hyperparameters and score\n",
    "print(\"Best Hyperparameters:\", best_params)\n",
    "print(\"Best Root Mean Squared Error:\", best_score)"
   ]
  },
  {
   "attachments": {},
   "cell_type": "markdown",
   "metadata": {},
   "source": [
    "### Gaussian_coulombic_delta_tot ###"
   ]
  },
  {
   "cell_type": "code",
   "execution_count": 5,
   "metadata": {},
   "outputs": [
    {
     "name": "stdout",
     "output_type": "stream",
     "text": [
      "Best Hyperparameters: {'alpha': 1e-09, 'gamma': 6.250551925273976e-06, 'kernel': 'rbf'}\n",
      "Best Root Mean Squared Error: 1.8380127173508423\n"
     ]
    }
   ],
   "source": [
    "param_grid = {\n",
    "    'alpha': np.logspace(np.log10(1e-9), np.log10(1e-5), num=50),  # Regularization parameter controlling the L2 regularization term\n",
    "    'gamma': np.logspace(np.log10(1e-7), np.log10(1e-3), num=50),  # Parameter for the Gaussian kernel, controlling the width of the kernel\n",
    "    'kernel': ['rbf'],  # Specifies the kernel function to be used, in this case, the Gaussian (RBF) kernel\n",
    "}\n",
    "\n",
    "gaussian_KRR = KernelRidge()\n",
    "\n",
    "k_fold = KFold(n_splits=5, shuffle=True, random_state=10)\n",
    "\n",
    "with warnings.catch_warnings():\n",
    "    warnings.filterwarnings(\"ignore\")\n",
    "    grid_search = GridSearchCV(gaussian_KRR, param_grid, scoring='neg_mean_squared_error', cv=k_fold)\n",
    "    grid_search.fit(X_coulomb, y_delta_energy)\n",
    "\n",
    "best_params = grid_search.best_params_\n",
    "best_score = np.sqrt(-grid_search.best_score_)\n",
    "\n",
    "# Print the best hyperparameters and score\n",
    "print(\"Best Hyperparameters:\", best_params)\n",
    "print(\"Best Root Mean Squared Error:\", best_score)"
   ]
  },
  {
   "cell_type": "code",
   "execution_count": 6,
   "metadata": {},
   "outputs": [
    {
     "name": "stdout",
     "output_type": "stream",
     "text": [
      "Best Hyperparameters: {'alpha': 1e-09, 'gamma': 7e-05, 'kernel': 'rbf'}\n",
      "Best Root Mean Squared Error: 3.2524862646881463\n"
     ]
    }
   ],
   "source": [
    "param_grid = {\n",
    "    'alpha': np.linspace(1e-10, 1e-9, num=50),  # Regularization parameter controlling the L2 regularization term\n",
    "    'gamma': np.linspace(7e-5, 5e-5, num=50),  # Parameter for the Gaussian kernel, controlling the width of the kernel\n",
    "    'kernel': ['rbf'],  # Specifies the kernel function to be used, in this case, the Gaussian (RBF) kernel\n",
    "}\n",
    "\n",
    "gaussian_KRR = KernelRidge()\n",
    "\n",
    "k_fold = KFold(n_splits=5, shuffle=True, random_state=42)\n",
    "\n",
    "with warnings.catch_warnings():\n",
    "    warnings.filterwarnings(\"ignore\")\n",
    "    grid_search = GridSearchCV(gaussian_KRR, param_grid, scoring='neg_mean_squared_error', cv=k_fold)\n",
    "    grid_search.fit(X_coulomb, y_delta_energy)\n",
    "\n",
    "best_params = grid_search.best_params_\n",
    "best_score = np.sqrt(-grid_search.best_score_)\n",
    "\n",
    "# Print the best hyperparameters and score\n",
    "print(\"Best Hyperparameters:\", best_params)\n",
    "print(\"Best Root Mean Squared Error:\", best_score)"
   ]
  },
  {
   "cell_type": "code",
   "execution_count": 8,
   "metadata": {},
   "outputs": [
    {
     "name": "stdout",
     "output_type": "stream",
     "text": [
      "Best Hyperparameters: {'alpha': 1e-10, 'gamma': 2.120408163265306e-06, 'kernel': 'rbf'}\n",
      "Best Root Mean Squared Error: 1.83574791846835\n"
     ]
    }
   ],
   "source": [
    "param_grid = {\n",
    "    'alpha': np.linspace(1e-10, 1e-9, num=50),  # Regularization parameter controlling the L2 regularization term\n",
    "    'gamma': np.linspace(1e-7, 1e-5, num=50),  # Parameter for the Gaussian kernel, controlling the width of the kernel\n",
    "    'kernel': ['rbf'],  # Specifies the kernel function to be used, in this case, the Gaussian (RBF) kernel\n",
    "}\n",
    "\n",
    "gaussian_KRR = KernelRidge()\n",
    "\n",
    "k_fold = KFold(n_splits=5, shuffle=True, random_state=10)\n",
    "\n",
    "with warnings.catch_warnings():\n",
    "    warnings.filterwarnings(\"ignore\")\n",
    "    grid_search = GridSearchCV(gaussian_KRR, param_grid, scoring='neg_mean_squared_error', cv=k_fold)\n",
    "    grid_search.fit(X_coulomb, y_delta_energy)\n",
    "\n",
    "best_params = grid_search.best_params_\n",
    "best_score = np.sqrt(-grid_search.best_score_)\n",
    "\n",
    "# Print the best hyperparameters and score\n",
    "print(\"Best Hyperparameters:\", best_params)\n",
    "print(\"Best Root Mean Squared Error:\", best_score)"
   ]
  },
  {
   "attachments": {},
   "cell_type": "markdown",
   "metadata": {},
   "source": [
    "## Linear ##"
   ]
  },
  {
   "attachments": {},
   "cell_type": "markdown",
   "metadata": {},
   "source": [
    "### Linear_lexi_nd_delta ###"
   ]
  },
  {
   "cell_type": "code",
   "execution_count": null,
   "metadata": {},
   "outputs": [],
   "source": [
    "linear_model = Ridge()\n",
    "\n",
    "# Define the hyperparameters to tune and their respective values\n",
    "param_grid = {\n",
    "    'alpha': np.logspace(np.log10(1e-7), np.log10(1e2), num=360),  # Regularization strength\n",
    "}\n",
    "\n",
    "k_fold = KFold(n_splits=5, shuffle=True, random_state=42)\n",
    "\n",
    "with warnings.catch_warnings():\n",
    "    warnings.filterwarnings(\"ignore\")\n",
    "    grid_search = GridSearchCV(linear_model, param_grid, scoring='neg_mean_squared_error', cv=k_fold)\n",
    "    grid_search.fit(X_lexi_nd, y_delta_energy)\n",
    "\n",
    "best_params = grid_search.best_params_\n",
    "best_score = np.sqrt(-grid_search.best_score_)\n",
    "\n",
    "# Print the best hyperparameters and score\n",
    "print(\"Best Hyperparameters:\", best_params)\n",
    "print(\"Best Root Mean Squared Error:\", best_score)"
   ]
  },
  {
   "cell_type": "code",
   "execution_count": null,
   "metadata": {},
   "outputs": [],
   "source": [
    "linear_model = Ridge()\n",
    "\n",
    "# Define the hyperparameters to tune and their respective values\n",
    "param_grid = {\n",
    "    'alpha': np.linspace(0.02, 0.05, num=100),  # Regularization strength\n",
    "}\n",
    "\n",
    "k_fold = KFold(n_splits=5, shuffle=True, random_state=42)\n",
    "\n",
    "with warnings.catch_warnings():\n",
    "    warnings.filterwarnings(\"ignore\")\n",
    "    grid_search = GridSearchCV(linear_model, param_grid, scoring='neg_mean_squared_error', cv=k_fold)\n",
    "    grid_search.fit(X_lexi_nd, y_delta_energy)\n",
    "\n",
    "best_params = grid_search.best_params_\n",
    "best_score = np.sqrt(-grid_search.best_score_)\n",
    "\n",
    "# Print the best hyperparameters and score\n",
    "print(\"Best Hyperparameters:\", best_params)\n",
    "print(\"Best Root Mean Squared Error:\", best_score)"
   ]
  }
 ],
 "metadata": {
  "kernelspec": {
   "display_name": "Python 3",
   "language": "python",
   "name": "python3"
  },
  "language_info": {
   "codemirror_mode": {
    "name": "ipython",
    "version": 3
   },
   "file_extension": ".py",
   "mimetype": "text/x-python",
   "name": "python",
   "nbconvert_exporter": "python",
   "pygments_lexer": "ipython3",
   "version": "3.10.6"
  },
  "orig_nbformat": 4
 },
 "nbformat": 4,
 "nbformat_minor": 2
}
