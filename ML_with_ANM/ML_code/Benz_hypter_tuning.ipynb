{
 "cells": [
  {
   "cell_type": "code",
   "execution_count": 7,
   "metadata": {},
   "outputs": [],
   "source": [
    "from sklearn.linear_model import Ridge\n",
    "from sklearn.kernel_ridge import KernelRidge\n",
    "from sklearn.model_selection import cross_val_score, KFold, GridSearchCV, train_test_split\n",
    "from sklearn.metrics import mean_squared_error\n",
    "import warnings\n",
    "import numpy as np\n",
    "import pandas as pd\n",
    "from IPython.display import display\n",
    "\n",
    "import sys\n",
    "sys.path.append('../Data')"
   ]
  },
  {
   "cell_type": "code",
   "execution_count": 9,
   "metadata": {},
   "outputs": [],
   "source": [
    "# Load Data\n",
    "\n",
    "X_lexi = pd.read_csv('../Data/[Benz] X_lexi.csv')\n",
    "X_lexi_opp = pd.read_csv(\"../Data/[Benz] X_lexi_opp.csv\")\n",
    "X_sorted = pd.read_csv(\"../Data/[Benz] X_sorted.csv\")\n",
    "\n",
    "y_energy = pd.read_csv(\"../Data/[Benz] y_energy.csv\")\n",
    "y_elec = pd.read_csv(\"../Data/[Benz] y_elec.csv\")\n",
    "y_delta_elec = pd.read_csv(\"../Data/[Benz] y_delta_elec.csv\")\n",
    "y_delta_energy = pd.read_csv(\"../Data/[Benz] y_delta_energy.csv\")"
   ]
  },
  {
   "attachments": {},
   "cell_type": "markdown",
   "metadata": {},
   "source": [
    "## Polynomial Kernel ##"
   ]
  },
  {
   "attachments": {},
   "cell_type": "markdown",
   "metadata": {},
   "source": [
    "### Lexi Mapping ###"
   ]
  },
  {
   "attachments": {},
   "cell_type": "markdown",
   "metadata": {},
   "source": [
    "#### y_delta_energy ####"
   ]
  },
  {
   "cell_type": "code",
   "execution_count": 13,
   "metadata": {},
   "outputs": [
    {
     "name": "stdout",
     "output_type": "stream",
     "text": [
      "Best Hyperparameters: {'alpha': 1e-07, 'coef0': 1e-05, 'degree': 2, 'kernel': 'poly'}\n",
      "Best RMSE: 0.4442300235346188\n"
     ]
    }
   ],
   "source": [
    "# Small alpha, small coef0\n",
    "\n",
    "param_grid = {\n",
    "    'alpha': np.logspace(np.log10(1e-7), np.log10(1e-3), num=40),\n",
    "    'kernel': ['poly'],  \n",
    "    'degree': [2, 3, 4], \n",
    "    'coef0': np.logspace(np.log10(1e-5), np.log10(1e-1), num=40), \n",
    "}\n",
    "\n",
    "poly_KRR = KernelRidge()\n",
    "\n",
    "k_fold = KFold(n_splits=5, shuffle=True, random_state=10)\n",
    "\n",
    "with warnings.catch_warnings():\n",
    "    warnings.filterwarnings(\"ignore\")\n",
    "    grid_search = GridSearchCV(poly_KRR, param_grid, scoring='neg_mean_squared_error', cv=k_fold)\n",
    "    grid_search.fit(X_lexi, y_delta_energy)\n",
    "\n",
    "best_params = grid_search.best_params_\n",
    "best_score = np.sqrt(-grid_search.best_score_)\n",
    "\n",
    "print(\"Best Hyperparameters:\", best_params)\n",
    "print(\"Best RMSE:\", best_score)"
   ]
  },
  {
   "cell_type": "code",
   "execution_count": 14,
   "metadata": {},
   "outputs": [
    {
     "name": "stdout",
     "output_type": "stream",
     "text": [
      "Best Hyperparameters: {'alpha': 1.2663801734674022e-07, 'coef0': 0.1, 'degree': 2, 'kernel': 'poly'}\n",
      "Best RMSE: 0.4453004441426715\n"
     ]
    }
   ],
   "source": [
    "# Small alpha, large coef0\n",
    "\n",
    "param_grid = {\n",
    "    'alpha': np.logspace(np.log10(1e-7), np.log10(1e-3), num=40),\n",
    "    'kernel': ['poly'],  \n",
    "    'degree': [2, 3, 4], \n",
    "    'coef0': np.logspace(np.log10(1e-1), np.log10(1e3), num=40), \n",
    "}\n",
    "\n",
    "poly_KRR = KernelRidge()\n",
    "\n",
    "k_fold = KFold(n_splits=5, shuffle=True, random_state=10)\n",
    "\n",
    "with warnings.catch_warnings():\n",
    "    warnings.filterwarnings(\"ignore\")\n",
    "    grid_search = GridSearchCV(poly_KRR, param_grid, scoring='neg_mean_squared_error', cv=k_fold)\n",
    "    grid_search.fit(X_lexi, y_delta_energy)\n",
    "\n",
    "best_params = grid_search.best_params_\n",
    "best_score = np.sqrt(-grid_search.best_score_)\n",
    "\n",
    "print(\"Best Hyperparameters:\", best_params)\n",
    "print(\"Best RMSE:\", best_score)"
   ]
  },
  {
   "cell_type": "code",
   "execution_count": 15,
   "metadata": {},
   "outputs": [
    {
     "name": "stdout",
     "output_type": "stream",
     "text": [
      "Best Hyperparameters: {'alpha': 0.001, 'coef0': 1e-05, 'degree': 2, 'kernel': 'poly'}\n",
      "Best RMSE: 0.44423376250340063\n"
     ]
    }
   ],
   "source": [
    "# large alpha, small coef0\n",
    "\n",
    "param_grid = {\n",
    "    'alpha': np.logspace(np.log10(1e-3), np.log10(1e1), num=40),\n",
    "    'kernel': ['poly'],  \n",
    "    'degree': [2, 3, 4], \n",
    "    'coef0': np.logspace(np.log10(1e-5), np.log10(1e-1), num=40), \n",
    "}\n",
    "\n",
    "poly_KRR = KernelRidge()\n",
    "\n",
    "k_fold = KFold(n_splits=5, shuffle=True, random_state=10)\n",
    "\n",
    "with warnings.catch_warnings():\n",
    "    warnings.filterwarnings(\"ignore\")\n",
    "    grid_search = GridSearchCV(poly_KRR, param_grid, scoring='neg_mean_squared_error', cv=k_fold)\n",
    "    grid_search.fit(X_lexi, y_delta_energy)\n",
    "\n",
    "best_params = grid_search.best_params_\n",
    "best_score = np.sqrt(-grid_search.best_score_)\n",
    "\n",
    "print(\"Best Hyperparameters:\", best_params)\n",
    "print(\"Best RMSE:\", best_score)"
   ]
  },
  {
   "cell_type": "code",
   "execution_count": 16,
   "metadata": {},
   "outputs": [
    {
     "name": "stdout",
     "output_type": "stream",
     "text": [
      "Best Hyperparameters: {'alpha': 0.001, 'coef0': 0.1, 'degree': 2, 'kernel': 'poly'}\n",
      "Best RMSE: 0.4453041728880147\n"
     ]
    }
   ],
   "source": [
    "# large alpha, large coef0\n",
    "\n",
    "param_grid = {\n",
    "    'alpha': np.logspace(np.log10(1e-3), np.log10(1e1), num=40),\n",
    "    'kernel': ['poly'],  \n",
    "    'degree': [2, 3, 4], \n",
    "    'coef0': np.logspace(np.log10(1e-1), np.log10(1e3), num=40), \n",
    "}\n",
    "\n",
    "poly_KRR = KernelRidge()\n",
    "\n",
    "k_fold = KFold(n_splits=5, shuffle=True, random_state=10)\n",
    "\n",
    "with warnings.catch_warnings():\n",
    "    warnings.filterwarnings(\"ignore\")\n",
    "    grid_search = GridSearchCV(poly_KRR, param_grid, scoring='neg_mean_squared_error', cv=k_fold)\n",
    "    grid_search.fit(X_lexi, y_delta_energy)\n",
    "\n",
    "best_params = grid_search.best_params_\n",
    "best_score = np.sqrt(-grid_search.best_score_)\n",
    "\n",
    "print(\"Best Hyperparameters:\", best_params)\n",
    "print(\"Best RMSE:\", best_score)"
   ]
  },
  {
   "cell_type": "code",
   "execution_count": 17,
   "metadata": {},
   "outputs": [
    {
     "name": "stdout",
     "output_type": "stream",
     "text": [
      "Best Hyperparameters: {'alpha': 1e-08, 'coef0': 1e-06, 'degree': 2, 'kernel': 'poly'}\n",
      "Best RMSE: 0.4442297841232004\n"
     ]
    }
   ],
   "source": [
    "param_grid = {\n",
    "    'alpha': np.linspace(1e-8, 1e-6, num=40),\n",
    "    'kernel': ['poly'],  \n",
    "    'degree': [2], \n",
    "    'coef0': np.linspace(1e-6, 1e-4, num=40), \n",
    "}\n",
    "\n",
    "poly_KRR = KernelRidge()\n",
    "\n",
    "k_fold = KFold(n_splits=5, shuffle=True, random_state=10)\n",
    "\n",
    "with warnings.catch_warnings():\n",
    "    warnings.filterwarnings(\"ignore\")\n",
    "    grid_search = GridSearchCV(poly_KRR, param_grid, scoring='neg_mean_squared_error', cv=k_fold)\n",
    "    grid_search.fit(X_lexi, y_delta_energy)\n",
    "\n",
    "best_params = grid_search.best_params_\n",
    "best_score = np.sqrt(-grid_search.best_score_)\n",
    "\n",
    "print(\"Best Hyperparameters:\", best_params)\n",
    "print(\"Best RMSE:\", best_score)"
   ]
  },
  {
   "cell_type": "code",
   "execution_count": 18,
   "metadata": {},
   "outputs": [
    {
     "name": "stdout",
     "output_type": "stream",
     "text": [
      "Best Hyperparameters: {'alpha': 1e-10, 'coef0': 1.1153846153846154e-07, 'degree': 2, 'kernel': 'poly'}\n",
      "Best RMSE: 0.4442033972799054\n"
     ]
    }
   ],
   "source": [
    "param_grid = {\n",
    "    'alpha': np.linspace(1e-10, 1e-8, num=40),\n",
    "    'kernel': ['poly'],  \n",
    "    'degree': [2], \n",
    "    'coef0': np.linspace(1e-8, 1e-6, num=40), \n",
    "}\n",
    "\n",
    "poly_KRR = KernelRidge()\n",
    "\n",
    "k_fold = KFold(n_splits=5, shuffle=True, random_state=10)\n",
    "\n",
    "with warnings.catch_warnings():\n",
    "    warnings.filterwarnings(\"ignore\")\n",
    "    grid_search = GridSearchCV(poly_KRR, param_grid, scoring='neg_mean_squared_error', cv=k_fold)\n",
    "    grid_search.fit(X_lexi, y_delta_energy)\n",
    "\n",
    "best_params = grid_search.best_params_\n",
    "best_score = np.sqrt(-grid_search.best_score_)\n",
    "\n",
    "print(\"Best Hyperparameters:\", best_params)\n",
    "print(\"Best RMSE:\", best_score)"
   ]
  },
  {
   "cell_type": "code",
   "execution_count": 19,
   "metadata": {},
   "outputs": [
    {
     "name": "stdout",
     "output_type": "stream",
     "text": [
      "Best Hyperparameters: {'alpha': 1e-10, 'coef0': 9.238461538461538e-05, 'degree': 2, 'kernel': 'poly'}\n",
      "Best RMSE: 0.4442023197670601\n"
     ]
    }
   ],
   "source": [
    "param_grid = {\n",
    "    'alpha': np.linspace(1e-10, 1e-8, num=40),\n",
    "    'kernel': ['poly'],  \n",
    "    'degree': [2], \n",
    "    'coef0': np.linspace(1e-6, 1e-4, num=40), \n",
    "}\n",
    "\n",
    "poly_KRR = KernelRidge()\n",
    "\n",
    "k_fold = KFold(n_splits=5, shuffle=True, random_state=10)\n",
    "\n",
    "with warnings.catch_warnings():\n",
    "    warnings.filterwarnings(\"ignore\")\n",
    "    grid_search = GridSearchCV(poly_KRR, param_grid, scoring='neg_mean_squared_error', cv=k_fold)\n",
    "    grid_search.fit(X_lexi, y_delta_energy)\n",
    "\n",
    "best_params = grid_search.best_params_\n",
    "best_score = np.sqrt(-grid_search.best_score_)\n",
    "\n",
    "print(\"Best Hyperparameters:\", best_params)\n",
    "print(\"Best RMSE:\", best_score)"
   ]
  },
  {
   "cell_type": "code",
   "execution_count": 20,
   "metadata": {},
   "outputs": [
    {
     "name": "stdout",
     "output_type": "stream",
     "text": [
      "Best Hyperparameters: {'alpha': 1e-08, 'coef0': 1.623076923076923e-07, 'degree': 2, 'kernel': 'poly'}\n",
      "Best RMSE: 0.4442296972350603\n"
     ]
    }
   ],
   "source": [
    "param_grid = {\n",
    "    'alpha': np.linspace(1e-8, 1e-6, num=40),\n",
    "    'kernel': ['poly'],  \n",
    "    'degree': [2], \n",
    "    'coef0': np.linspace(1e-8, 1e-6, num=40), \n",
    "}\n",
    "\n",
    "poly_KRR = KernelRidge()\n",
    "\n",
    "k_fold = KFold(n_splits=5, shuffle=True, random_state=10)\n",
    "\n",
    "with warnings.catch_warnings():\n",
    "    warnings.filterwarnings(\"ignore\")\n",
    "    grid_search = GridSearchCV(poly_KRR, param_grid, scoring='neg_mean_squared_error', cv=k_fold)\n",
    "    grid_search.fit(X_lexi, y_delta_energy)\n",
    "\n",
    "best_params = grid_search.best_params_\n",
    "best_score = np.sqrt(-grid_search.best_score_)\n",
    "\n",
    "print(\"Best Hyperparameters:\", best_params)\n",
    "print(\"Best RMSE:\", best_score)"
   ]
  },
  {
   "cell_type": "code",
   "execution_count": 21,
   "metadata": {},
   "outputs": [
    {
     "name": "stdout",
     "output_type": "stream",
     "text": [
      "Best Hyperparameters: {'alpha': 1e-12, 'coef0': 0.0001, 'degree': 2, 'kernel': 'poly'}\n",
      "Best RMSE: 0.43066847166021627\n"
     ]
    }
   ],
   "source": [
    "param_grid = {\n",
    "    'alpha': np.linspace(1e-12, 1e-10, num=40),\n",
    "    'kernel': ['poly'],  \n",
    "    'degree': [2], \n",
    "    'coef0': np.linspace(1e-8, 1e-4, num=80), \n",
    "}\n",
    "\n",
    "poly_KRR = KernelRidge()\n",
    "\n",
    "k_fold = KFold(n_splits=5, shuffle=True, random_state=10)\n",
    "\n",
    "with warnings.catch_warnings():\n",
    "    warnings.filterwarnings(\"ignore\")\n",
    "    grid_search = GridSearchCV(poly_KRR, param_grid, scoring='neg_mean_squared_error', cv=k_fold)\n",
    "    grid_search.fit(X_lexi, y_delta_energy)\n",
    "\n",
    "best_params = grid_search.best_params_\n",
    "best_score = np.sqrt(-grid_search.best_score_)\n",
    "\n",
    "print(\"Best Hyperparameters:\", best_params)\n",
    "print(\"Best RMSE:\", best_score)"
   ]
  },
  {
   "cell_type": "code",
   "execution_count": 22,
   "metadata": {},
   "outputs": [
    {
     "name": "stdout",
     "output_type": "stream",
     "text": [
      "Best Hyperparameters: {'alpha': 3.4835443037974683e-13, 'coef0': 0.0024369823529411766, 'degree': 2, 'kernel': 'poly'}\n",
      "Best RMSE: 0.4254779738326166\n"
     ]
    }
   ],
   "source": [
    "param_grid = {\n",
    "    'alpha': np.linspace(1e-14, 1e-12, num=80),\n",
    "    'kernel': ['poly'],  \n",
    "    'degree': [2], \n",
    "    'coef0': np.linspace(1e-8, 1e-2, num=120), \n",
    "}\n",
    "\n",
    "poly_KRR = KernelRidge()\n",
    "\n",
    "k_fold = KFold(n_splits=5, shuffle=True, random_state=10)\n",
    "\n",
    "with warnings.catch_warnings():\n",
    "    warnings.filterwarnings(\"ignore\")\n",
    "    grid_search = GridSearchCV(poly_KRR, param_grid, scoring='neg_mean_squared_error', cv=k_fold)\n",
    "    grid_search.fit(X_lexi, y_delta_energy)\n",
    "\n",
    "best_params = grid_search.best_params_\n",
    "best_score = np.sqrt(-grid_search.best_score_)\n",
    "\n",
    "print(\"Best Hyperparameters:\", best_params)\n",
    "print(\"Best RMSE:\", best_score)"
   ]
  },
  {
   "cell_type": "code",
   "execution_count": 25,
   "metadata": {},
   "outputs": [
    {
     "name": "stdout",
     "output_type": "stream",
     "text": [
      "Best Hyperparameters: {'alpha': 1.1836734693877552e-13, 'coef0': 0.007061224489795919, 'degree': 2, 'kernel': 'poly'}\n",
      "Best RMSE: 0.42661348517878667\n"
     ]
    }
   ],
   "source": [
    "param_grid = {\n",
    "    'alpha': np.linspace(1e-13, 1e-12, num=50),\n",
    "    'kernel': ['poly'],  \n",
    "    'degree': [2], \n",
    "    'coef0': np.linspace(0.001, 0.01, num=50), \n",
    "}\n",
    "\n",
    "poly_KRR = KernelRidge()\n",
    "\n",
    "k_fold = KFold(n_splits=5, shuffle=True, random_state=10)\n",
    "\n",
    "with warnings.catch_warnings():\n",
    "    warnings.filterwarnings(\"ignore\")\n",
    "    grid_search = GridSearchCV(poly_KRR, param_grid, scoring='neg_mean_squared_error', cv=k_fold)\n",
    "    grid_search.fit(X_lexi, y_delta_energy)\n",
    "\n",
    "best_params = grid_search.best_params_\n",
    "best_score = np.sqrt(-grid_search.best_score_)\n",
    "\n",
    "print(\"Best Hyperparameters:\", best_params)\n",
    "print(\"Best RMSE:\", best_score)"
   ]
  },
  {
   "cell_type": "code",
   "execution_count": 26,
   "metadata": {},
   "outputs": [
    {
     "name": "stdout",
     "output_type": "stream",
     "text": [
      "Best Hyperparameters: {'alpha': 2e-13, 'coef0': 0.005636363636363636, 'degree': 2, 'kernel': 'poly'}\n",
      "Best RMSE: 0.4257777435534395\n"
     ]
    }
   ],
   "source": [
    "param_grid = {\n",
    "    'alpha': np.linspace(2e-13, 5e-13, num=50),\n",
    "    'kernel': ['poly'],  \n",
    "    'degree': [2], \n",
    "    'coef0': np.linspace(0.001, 0.01, num=100), \n",
    "}\n",
    "\n",
    "poly_KRR = KernelRidge()\n",
    "\n",
    "k_fold = KFold(n_splits=5, shuffle=True, random_state=10)\n",
    "\n",
    "with warnings.catch_warnings():\n",
    "    warnings.filterwarnings(\"ignore\")\n",
    "    grid_search = GridSearchCV(poly_KRR, param_grid, scoring='neg_mean_squared_error', cv=k_fold)\n",
    "    grid_search.fit(X_lexi, y_delta_energy)\n",
    "\n",
    "best_params = grid_search.best_params_\n",
    "best_score = np.sqrt(-grid_search.best_score_)\n",
    "\n",
    "print(\"Best Hyperparameters:\", best_params)\n",
    "print(\"Best RMSE:\", best_score)"
   ]
  },
  {
   "cell_type": "code",
   "execution_count": 29,
   "metadata": {},
   "outputs": [
    {
     "name": "stdout",
     "output_type": "stream",
     "text": [
      "Best Hyperparameters: {'alpha': 3.428571428571428e-13, 'coef0': 0.002285714285714286, 'degree': 2, 'kernel': 'poly'}\n",
      "Best RMSE: 0.42964715235000245\n"
     ]
    }
   ],
   "source": [
    "param_grid = {\n",
    "    'alpha': np.linspace(3e-13, 4e-13, num=50),\n",
    "    'kernel': ['poly'],  \n",
    "    'degree': [2], \n",
    "    'coef0': np.linspace(0.002, 0.003, num=50), \n",
    "}\n",
    "\n",
    "poly_KRR = KernelRidge()\n",
    "\n",
    "k_fold = KFold(n_splits=5, shuffle=True, random_state=10)\n",
    "\n",
    "with warnings.catch_warnings():\n",
    "    warnings.filterwarnings(\"ignore\")\n",
    "    grid_search = GridSearchCV(poly_KRR, param_grid, scoring='neg_mean_squared_error', cv=k_fold)\n",
    "    grid_search.fit(X_lexi, y_delta_energy)\n",
    "\n",
    "best_params = grid_search.best_params_\n",
    "best_score = np.sqrt(-grid_search.best_score_)\n",
    "\n",
    "print(\"Best Hyperparameters:\", best_params)\n",
    "print(\"Best RMSE:\", best_score)"
   ]
  }
 ],
 "metadata": {
  "kernelspec": {
   "display_name": "Python 3",
   "language": "python",
   "name": "python3"
  },
  "language_info": {
   "codemirror_mode": {
    "name": "ipython",
    "version": 3
   },
   "file_extension": ".py",
   "mimetype": "text/x-python",
   "name": "python",
   "nbconvert_exporter": "python",
   "pygments_lexer": "ipython3",
   "version": "3.10.6"
  },
  "orig_nbformat": 4
 },
 "nbformat": 4,
 "nbformat_minor": 2
}
